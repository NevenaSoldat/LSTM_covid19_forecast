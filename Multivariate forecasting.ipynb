{
 "cells": [
  {
   "cell_type": "code",
   "execution_count": 109,
   "metadata": {},
   "outputs": [],
   "source": [
    "from statsmodels.tsa.arima_model import ARIMA\n",
    "from statsmodels.tsa.stattools import acf, pacf\n",
    "from statsmodels.graphics.tsaplots import plot_acf, plot_pacf\n",
    "import numpy as np\n",
    "import pandas as pd\n",
    "import matplotlib.pyplot as plt\n",
    "from keras.models import Sequential\n",
    "from keras.layers import LSTM, Dense, Dropout\n",
    "from keras.callbacks import ModelCheckpoint, ReduceLROnPlateau, EarlyStopping\n",
    "from tqdm import tqdm\n",
    "from datetime import datetime\n",
    "from sklearn.preprocessing import MinMaxScaler\n",
    "import math\n",
    "from sklearn.model_selection import train_test_split\n",
    "import os, multiprocessing\n",
    "from sklearn.metrics import mean_squared_error"
   ]
  },
  {
   "cell_type": "code",
   "execution_count": 110,
   "metadata": {},
   "outputs": [
    {
     "name": "stdout",
     "output_type": "stream",
     "text": [
      "Computer characteristics: \n",
      "RAM: 7.653069 GB\n",
      "CORES: 4\n"
     ]
    }
   ],
   "source": [
    "mem_bytes = os.sysconf('SC_PAGE_SIZE') * os.sysconf('SC_PHYS_PAGES')\n",
    "mem_gib = mem_bytes / (1024.**3)\n",
    "print(\"Computer characteristics: \")\n",
    "print(\"RAM: %f GB\" % mem_gib)\n",
    "print(\"CORES: %d\" % multiprocessing.cpu_count())\n"
   ]
  },
  {
   "cell_type": "code",
   "execution_count": 111,
   "metadata": {},
   "outputs": [
    {
     "data": {
      "text/html": [
       "<div>\n",
       "<style scoped>\n",
       "    .dataframe tbody tr th:only-of-type {\n",
       "        vertical-align: middle;\n",
       "    }\n",
       "\n",
       "    .dataframe tbody tr th {\n",
       "        vertical-align: top;\n",
       "    }\n",
       "\n",
       "    .dataframe thead th {\n",
       "        text-align: right;\n",
       "    }\n",
       "</style>\n",
       "<table border=\"1\" class=\"dataframe\">\n",
       "  <thead>\n",
       "    <tr style=\"text-align: right;\">\n",
       "      <th></th>\n",
       "      <th>Id</th>\n",
       "      <th>Province_State</th>\n",
       "      <th>Country_Region</th>\n",
       "      <th>Date</th>\n",
       "      <th>ConfirmedCases</th>\n",
       "      <th>Fatalities</th>\n",
       "    </tr>\n",
       "  </thead>\n",
       "  <tbody>\n",
       "    <tr>\n",
       "      <th>0</th>\n",
       "      <td>1</td>\n",
       "      <td>NaN</td>\n",
       "      <td>Afghanistan</td>\n",
       "      <td>2020-01-22</td>\n",
       "      <td>0.0</td>\n",
       "      <td>0.0</td>\n",
       "    </tr>\n",
       "    <tr>\n",
       "      <th>1</th>\n",
       "      <td>2</td>\n",
       "      <td>NaN</td>\n",
       "      <td>Afghanistan</td>\n",
       "      <td>2020-01-23</td>\n",
       "      <td>0.0</td>\n",
       "      <td>0.0</td>\n",
       "    </tr>\n",
       "    <tr>\n",
       "      <th>2</th>\n",
       "      <td>3</td>\n",
       "      <td>NaN</td>\n",
       "      <td>Afghanistan</td>\n",
       "      <td>2020-01-24</td>\n",
       "      <td>0.0</td>\n",
       "      <td>0.0</td>\n",
       "    </tr>\n",
       "    <tr>\n",
       "      <th>3</th>\n",
       "      <td>4</td>\n",
       "      <td>NaN</td>\n",
       "      <td>Afghanistan</td>\n",
       "      <td>2020-01-25</td>\n",
       "      <td>0.0</td>\n",
       "      <td>0.0</td>\n",
       "    </tr>\n",
       "    <tr>\n",
       "      <th>4</th>\n",
       "      <td>5</td>\n",
       "      <td>NaN</td>\n",
       "      <td>Afghanistan</td>\n",
       "      <td>2020-01-26</td>\n",
       "      <td>0.0</td>\n",
       "      <td>0.0</td>\n",
       "    </tr>\n",
       "  </tbody>\n",
       "</table>\n",
       "</div>"
      ],
      "text/plain": [
       "   Id Province_State Country_Region        Date  ConfirmedCases  Fatalities\n",
       "0   1            NaN    Afghanistan  2020-01-22             0.0         0.0\n",
       "1   2            NaN    Afghanistan  2020-01-23             0.0         0.0\n",
       "2   3            NaN    Afghanistan  2020-01-24             0.0         0.0\n",
       "3   4            NaN    Afghanistan  2020-01-25             0.0         0.0\n",
       "4   5            NaN    Afghanistan  2020-01-26             0.0         0.0"
      ]
     },
     "execution_count": 111,
     "metadata": {},
     "output_type": "execute_result"
    }
   ],
   "source": [
    "train = pd.read_csv('train.csv')\n",
    "train.head()"
   ]
  },
  {
   "cell_type": "code",
   "execution_count": 112,
   "metadata": {},
   "outputs": [
    {
     "name": "stdout",
     "output_type": "stream",
     "text": [
      "Number of different countries:  184\n",
      "\n",
      "\n",
      "Min date: 2020-01-22\n",
      "Max date: 2020-04-09\n",
      "\n",
      "\n",
      "Null values:\n",
      "Id                    0\n",
      "Province_State    14220\n",
      "Country_Region        0\n",
      "Date                  0\n",
      "ConfirmedCases        0\n",
      "Fatalities            0\n",
      "dtype: int64\n"
     ]
    }
   ],
   "source": [
    "countries = train['Country_Region'].unique()\n",
    "print(\"Number of different countries: \", len(countries))\n",
    "print(\"\\n\")\n",
    "min_date = train.Date.min()\n",
    "max_date = train.Date.max()\n",
    "print(\"Min date: {0}\\nMax date: {1}\".format(min_date, max_date))\n",
    "print(\"\\n\")\n",
    "print(\"Null values:\") \n",
    "print(train.isnull().sum())"
   ]
  },
  {
   "cell_type": "code",
   "execution_count": 113,
   "metadata": {},
   "outputs": [
    {
     "data": {
      "text/html": [
       "<div>\n",
       "<style scoped>\n",
       "    .dataframe tbody tr th:only-of-type {\n",
       "        vertical-align: middle;\n",
       "    }\n",
       "\n",
       "    .dataframe tbody tr th {\n",
       "        vertical-align: top;\n",
       "    }\n",
       "\n",
       "    .dataframe thead th {\n",
       "        text-align: right;\n",
       "    }\n",
       "</style>\n",
       "<table border=\"1\" class=\"dataframe\">\n",
       "  <thead>\n",
       "    <tr style=\"text-align: right;\">\n",
       "      <th></th>\n",
       "      <th>Id</th>\n",
       "      <th>Province_State</th>\n",
       "      <th>Country_Region</th>\n",
       "      <th>Date</th>\n",
       "      <th>Confirmed</th>\n",
       "      <th>Fatalities</th>\n",
       "    </tr>\n",
       "  </thead>\n",
       "  <tbody>\n",
       "    <tr>\n",
       "      <th>0</th>\n",
       "      <td>1</td>\n",
       "      <td>Afghanistan</td>\n",
       "      <td>Afghanistan</td>\n",
       "      <td>2020-01-22</td>\n",
       "      <td>0.0</td>\n",
       "      <td>0.0</td>\n",
       "    </tr>\n",
       "    <tr>\n",
       "      <th>1</th>\n",
       "      <td>2</td>\n",
       "      <td>Afghanistan</td>\n",
       "      <td>Afghanistan</td>\n",
       "      <td>2020-01-23</td>\n",
       "      <td>0.0</td>\n",
       "      <td>0.0</td>\n",
       "    </tr>\n",
       "    <tr>\n",
       "      <th>2</th>\n",
       "      <td>3</td>\n",
       "      <td>Afghanistan</td>\n",
       "      <td>Afghanistan</td>\n",
       "      <td>2020-01-24</td>\n",
       "      <td>0.0</td>\n",
       "      <td>0.0</td>\n",
       "    </tr>\n",
       "    <tr>\n",
       "      <th>3</th>\n",
       "      <td>4</td>\n",
       "      <td>Afghanistan</td>\n",
       "      <td>Afghanistan</td>\n",
       "      <td>2020-01-25</td>\n",
       "      <td>0.0</td>\n",
       "      <td>0.0</td>\n",
       "    </tr>\n",
       "    <tr>\n",
       "      <th>4</th>\n",
       "      <td>5</td>\n",
       "      <td>Afghanistan</td>\n",
       "      <td>Afghanistan</td>\n",
       "      <td>2020-01-26</td>\n",
       "      <td>0.0</td>\n",
       "      <td>0.0</td>\n",
       "    </tr>\n",
       "  </tbody>\n",
       "</table>\n",
       "</div>"
      ],
      "text/plain": [
       "   Id Province_State Country_Region        Date  Confirmed  Fatalities\n",
       "0   1    Afghanistan    Afghanistan  2020-01-22        0.0         0.0\n",
       "1   2    Afghanistan    Afghanistan  2020-01-23        0.0         0.0\n",
       "2   3    Afghanistan    Afghanistan  2020-01-24        0.0         0.0\n",
       "3   4    Afghanistan    Afghanistan  2020-01-25        0.0         0.0\n",
       "4   5    Afghanistan    Afghanistan  2020-01-26        0.0         0.0"
      ]
     },
     "execution_count": 113,
     "metadata": {},
     "output_type": "execute_result"
    }
   ],
   "source": [
    "def fillState(state, country):\n",
    "    if state == \"empty\":\n",
    "        return country\n",
    "    return state\n",
    "\n",
    "train['Province_State'].fillna(\"empty\", inplace = True)\n",
    "train['Province_State'] = train.loc[:,['Province_State', 'Country_Region']].apply(lambda x: fillState(x['Province_State'], x['Country_Region']), axis = 1)\n",
    "\n",
    "\n",
    "# renaming columns\n",
    "train=train.rename(columns={'ConfirmedCases':'Confirmed'})\n",
    "    \n",
    "train.head()"
   ]
  },
  {
   "cell_type": "code",
   "execution_count": 114,
   "metadata": {},
   "outputs": [
    {
     "name": "stdout",
     "output_type": "stream",
     "text": [
      "Number of confirmed cases:  1595174.0\n",
      "Number of fatal cases:  95449.0\n"
     ]
    }
   ],
   "source": [
    "latest = train['Date'].max()\n",
    "world_confirmed = sum(train[train['Date'] == latest].Confirmed)\n",
    "print(\"Number of confirmed cases: \", world_confirmed)\n",
    "world_fatal = sum(train[train['Date'] == latest].Fatalities)\n",
    "print(\"Number of fatal cases: \", world_fatal)"
   ]
  },
  {
   "cell_type": "code",
   "execution_count": 115,
   "metadata": {},
   "outputs": [
    {
     "name": "stdout",
     "output_type": "stream",
     "text": [
      "First 10 countries by number of confirmed cases:\n",
      "\n",
      "                Confirmed  Fatalities\n",
      "Country_Region                       \n",
      "US               461274.0     16473.0\n",
      "Spain            153222.0     15447.0\n",
      "Italy            143626.0     18279.0\n",
      "France           118781.0     12228.0\n",
      "Germany          118181.0      2607.0\n",
      "China             82883.0      3339.0\n",
      "Iran              66220.0      4110.0\n",
      "United Kingdom    65872.0      7993.0\n",
      "Turkey            42282.0       908.0\n",
      "Belgium           24983.0      2523.0\n",
      "\n",
      "\n",
      "Confirmed cases in Serbia:  2867.0\n",
      "Fatal cases in Serbia:  66.0\n"
     ]
    }
   ],
   "source": [
    "latest_data = train[train['Date'] == latest]\n",
    "latest_data = latest_data.drop(['Province_State'], axis = 1)\n",
    "\n",
    "confirmed_per_country = latest_data.groupby(['Country_Region']).sum().sort_values(['Confirmed'], ascending = False)\n",
    "confirmed_per_country = confirmed_per_country.drop(['Id'], axis = 1)\n",
    "print(\"First 10 countries by number of confirmed cases:\\n\")\n",
    "print(confirmed_per_country[:10])\n",
    "print(\"\\n\")\n",
    "Serbia = confirmed_per_country.loc[\"Serbia\"]\n",
    "print(\"Confirmed cases in Serbia: \", Serbia.Confirmed)\n",
    "print(\"Fatal cases in Serbia: \", Serbia.Fatalities)"
   ]
  },
  {
   "cell_type": "code",
   "execution_count": 116,
   "metadata": {},
   "outputs": [
    {
     "data": {
      "application/vnd.plotly.v1+json": {
       "config": {
        "plotlyServerURL": "https://plot.ly"
       },
       "data": [
        {
         "name": "Confirmed cases",
         "type": "scatter",
         "x": [
          "2020-03-06",
          "2020-03-07",
          "2020-03-08",
          "2020-03-09",
          "2020-03-10",
          "2020-03-11",
          "2020-03-12",
          "2020-03-13",
          "2020-03-14",
          "2020-03-15",
          "2020-03-16",
          "2020-03-17",
          "2020-03-18",
          "2020-03-19",
          "2020-03-20",
          "2020-03-21",
          "2020-03-22",
          "2020-03-23",
          "2020-03-24",
          "2020-03-25",
          "2020-03-26",
          "2020-03-27",
          "2020-03-28",
          "2020-03-29",
          "2020-03-30",
          "2020-03-31",
          "2020-04-01",
          "2020-04-02",
          "2020-04-03",
          "2020-04-04",
          "2020-04-05",
          "2020-04-06",
          "2020-04-07",
          "2020-04-08",
          "2020-04-09"
         ],
         "y": [
          1,
          1,
          1,
          1,
          5,
          12,
          19,
          35,
          46,
          48,
          55,
          65,
          83,
          103,
          135,
          171,
          222,
          249,
          303,
          384,
          384,
          457,
          659,
          741,
          785,
          900,
          1060,
          1171,
          1476,
          1624,
          1908,
          2200,
          2447,
          2666,
          2867
         ]
        },
        {
         "name": "Fatal cases",
         "type": "scatter",
         "x": [
          "2020-03-06",
          "2020-03-07",
          "2020-03-08",
          "2020-03-09",
          "2020-03-10",
          "2020-03-11",
          "2020-03-12",
          "2020-03-13",
          "2020-03-14",
          "2020-03-15",
          "2020-03-16",
          "2020-03-17",
          "2020-03-18",
          "2020-03-19",
          "2020-03-20",
          "2020-03-21",
          "2020-03-22",
          "2020-03-23",
          "2020-03-24",
          "2020-03-25",
          "2020-03-26",
          "2020-03-27",
          "2020-03-28",
          "2020-03-29",
          "2020-03-30",
          "2020-03-31",
          "2020-04-01",
          "2020-04-02",
          "2020-04-03",
          "2020-04-04",
          "2020-04-05",
          "2020-04-06",
          "2020-04-07",
          "2020-04-08",
          "2020-04-09"
         ],
         "y": [
          0,
          0,
          0,
          0,
          0,
          0,
          0,
          0,
          0,
          0,
          0,
          0,
          0,
          0,
          1,
          1,
          2,
          3,
          3,
          4,
          1,
          1,
          10,
          13,
          16,
          16,
          28,
          31,
          39,
          44,
          51,
          58,
          61,
          65,
          66
         ]
        }
       ],
       "layout": {
        "template": {
         "data": {
          "bar": [
           {
            "error_x": {
             "color": "#2a3f5f"
            },
            "error_y": {
             "color": "#2a3f5f"
            },
            "marker": {
             "line": {
              "color": "#E5ECF6",
              "width": 0.5
             }
            },
            "type": "bar"
           }
          ],
          "barpolar": [
           {
            "marker": {
             "line": {
              "color": "#E5ECF6",
              "width": 0.5
             }
            },
            "type": "barpolar"
           }
          ],
          "carpet": [
           {
            "aaxis": {
             "endlinecolor": "#2a3f5f",
             "gridcolor": "white",
             "linecolor": "white",
             "minorgridcolor": "white",
             "startlinecolor": "#2a3f5f"
            },
            "baxis": {
             "endlinecolor": "#2a3f5f",
             "gridcolor": "white",
             "linecolor": "white",
             "minorgridcolor": "white",
             "startlinecolor": "#2a3f5f"
            },
            "type": "carpet"
           }
          ],
          "choropleth": [
           {
            "colorbar": {
             "outlinewidth": 0,
             "ticks": ""
            },
            "type": "choropleth"
           }
          ],
          "contour": [
           {
            "colorbar": {
             "outlinewidth": 0,
             "ticks": ""
            },
            "colorscale": [
             [
              0,
              "#0d0887"
             ],
             [
              0.1111111111111111,
              "#46039f"
             ],
             [
              0.2222222222222222,
              "#7201a8"
             ],
             [
              0.3333333333333333,
              "#9c179e"
             ],
             [
              0.4444444444444444,
              "#bd3786"
             ],
             [
              0.5555555555555556,
              "#d8576b"
             ],
             [
              0.6666666666666666,
              "#ed7953"
             ],
             [
              0.7777777777777778,
              "#fb9f3a"
             ],
             [
              0.8888888888888888,
              "#fdca26"
             ],
             [
              1,
              "#f0f921"
             ]
            ],
            "type": "contour"
           }
          ],
          "contourcarpet": [
           {
            "colorbar": {
             "outlinewidth": 0,
             "ticks": ""
            },
            "type": "contourcarpet"
           }
          ],
          "heatmap": [
           {
            "colorbar": {
             "outlinewidth": 0,
             "ticks": ""
            },
            "colorscale": [
             [
              0,
              "#0d0887"
             ],
             [
              0.1111111111111111,
              "#46039f"
             ],
             [
              0.2222222222222222,
              "#7201a8"
             ],
             [
              0.3333333333333333,
              "#9c179e"
             ],
             [
              0.4444444444444444,
              "#bd3786"
             ],
             [
              0.5555555555555556,
              "#d8576b"
             ],
             [
              0.6666666666666666,
              "#ed7953"
             ],
             [
              0.7777777777777778,
              "#fb9f3a"
             ],
             [
              0.8888888888888888,
              "#fdca26"
             ],
             [
              1,
              "#f0f921"
             ]
            ],
            "type": "heatmap"
           }
          ],
          "heatmapgl": [
           {
            "colorbar": {
             "outlinewidth": 0,
             "ticks": ""
            },
            "colorscale": [
             [
              0,
              "#0d0887"
             ],
             [
              0.1111111111111111,
              "#46039f"
             ],
             [
              0.2222222222222222,
              "#7201a8"
             ],
             [
              0.3333333333333333,
              "#9c179e"
             ],
             [
              0.4444444444444444,
              "#bd3786"
             ],
             [
              0.5555555555555556,
              "#d8576b"
             ],
             [
              0.6666666666666666,
              "#ed7953"
             ],
             [
              0.7777777777777778,
              "#fb9f3a"
             ],
             [
              0.8888888888888888,
              "#fdca26"
             ],
             [
              1,
              "#f0f921"
             ]
            ],
            "type": "heatmapgl"
           }
          ],
          "histogram": [
           {
            "marker": {
             "colorbar": {
              "outlinewidth": 0,
              "ticks": ""
             }
            },
            "type": "histogram"
           }
          ],
          "histogram2d": [
           {
            "colorbar": {
             "outlinewidth": 0,
             "ticks": ""
            },
            "colorscale": [
             [
              0,
              "#0d0887"
             ],
             [
              0.1111111111111111,
              "#46039f"
             ],
             [
              0.2222222222222222,
              "#7201a8"
             ],
             [
              0.3333333333333333,
              "#9c179e"
             ],
             [
              0.4444444444444444,
              "#bd3786"
             ],
             [
              0.5555555555555556,
              "#d8576b"
             ],
             [
              0.6666666666666666,
              "#ed7953"
             ],
             [
              0.7777777777777778,
              "#fb9f3a"
             ],
             [
              0.8888888888888888,
              "#fdca26"
             ],
             [
              1,
              "#f0f921"
             ]
            ],
            "type": "histogram2d"
           }
          ],
          "histogram2dcontour": [
           {
            "colorbar": {
             "outlinewidth": 0,
             "ticks": ""
            },
            "colorscale": [
             [
              0,
              "#0d0887"
             ],
             [
              0.1111111111111111,
              "#46039f"
             ],
             [
              0.2222222222222222,
              "#7201a8"
             ],
             [
              0.3333333333333333,
              "#9c179e"
             ],
             [
              0.4444444444444444,
              "#bd3786"
             ],
             [
              0.5555555555555556,
              "#d8576b"
             ],
             [
              0.6666666666666666,
              "#ed7953"
             ],
             [
              0.7777777777777778,
              "#fb9f3a"
             ],
             [
              0.8888888888888888,
              "#fdca26"
             ],
             [
              1,
              "#f0f921"
             ]
            ],
            "type": "histogram2dcontour"
           }
          ],
          "mesh3d": [
           {
            "colorbar": {
             "outlinewidth": 0,
             "ticks": ""
            },
            "type": "mesh3d"
           }
          ],
          "parcoords": [
           {
            "line": {
             "colorbar": {
              "outlinewidth": 0,
              "ticks": ""
             }
            },
            "type": "parcoords"
           }
          ],
          "pie": [
           {
            "automargin": true,
            "type": "pie"
           }
          ],
          "scatter": [
           {
            "marker": {
             "colorbar": {
              "outlinewidth": 0,
              "ticks": ""
             }
            },
            "type": "scatter"
           }
          ],
          "scatter3d": [
           {
            "line": {
             "colorbar": {
              "outlinewidth": 0,
              "ticks": ""
             }
            },
            "marker": {
             "colorbar": {
              "outlinewidth": 0,
              "ticks": ""
             }
            },
            "type": "scatter3d"
           }
          ],
          "scattercarpet": [
           {
            "marker": {
             "colorbar": {
              "outlinewidth": 0,
              "ticks": ""
             }
            },
            "type": "scattercarpet"
           }
          ],
          "scattergeo": [
           {
            "marker": {
             "colorbar": {
              "outlinewidth": 0,
              "ticks": ""
             }
            },
            "type": "scattergeo"
           }
          ],
          "scattergl": [
           {
            "marker": {
             "colorbar": {
              "outlinewidth": 0,
              "ticks": ""
             }
            },
            "type": "scattergl"
           }
          ],
          "scattermapbox": [
           {
            "marker": {
             "colorbar": {
              "outlinewidth": 0,
              "ticks": ""
             }
            },
            "type": "scattermapbox"
           }
          ],
          "scatterpolar": [
           {
            "marker": {
             "colorbar": {
              "outlinewidth": 0,
              "ticks": ""
             }
            },
            "type": "scatterpolar"
           }
          ],
          "scatterpolargl": [
           {
            "marker": {
             "colorbar": {
              "outlinewidth": 0,
              "ticks": ""
             }
            },
            "type": "scatterpolargl"
           }
          ],
          "scatterternary": [
           {
            "marker": {
             "colorbar": {
              "outlinewidth": 0,
              "ticks": ""
             }
            },
            "type": "scatterternary"
           }
          ],
          "surface": [
           {
            "colorbar": {
             "outlinewidth": 0,
             "ticks": ""
            },
            "colorscale": [
             [
              0,
              "#0d0887"
             ],
             [
              0.1111111111111111,
              "#46039f"
             ],
             [
              0.2222222222222222,
              "#7201a8"
             ],
             [
              0.3333333333333333,
              "#9c179e"
             ],
             [
              0.4444444444444444,
              "#bd3786"
             ],
             [
              0.5555555555555556,
              "#d8576b"
             ],
             [
              0.6666666666666666,
              "#ed7953"
             ],
             [
              0.7777777777777778,
              "#fb9f3a"
             ],
             [
              0.8888888888888888,
              "#fdca26"
             ],
             [
              1,
              "#f0f921"
             ]
            ],
            "type": "surface"
           }
          ],
          "table": [
           {
            "cells": {
             "fill": {
              "color": "#EBF0F8"
             },
             "line": {
              "color": "white"
             }
            },
            "header": {
             "fill": {
              "color": "#C8D4E3"
             },
             "line": {
              "color": "white"
             }
            },
            "type": "table"
           }
          ]
         },
         "layout": {
          "annotationdefaults": {
           "arrowcolor": "#2a3f5f",
           "arrowhead": 0,
           "arrowwidth": 1
          },
          "coloraxis": {
           "colorbar": {
            "outlinewidth": 0,
            "ticks": ""
           }
          },
          "colorscale": {
           "diverging": [
            [
             0,
             "#8e0152"
            ],
            [
             0.1,
             "#c51b7d"
            ],
            [
             0.2,
             "#de77ae"
            ],
            [
             0.3,
             "#f1b6da"
            ],
            [
             0.4,
             "#fde0ef"
            ],
            [
             0.5,
             "#f7f7f7"
            ],
            [
             0.6,
             "#e6f5d0"
            ],
            [
             0.7,
             "#b8e186"
            ],
            [
             0.8,
             "#7fbc41"
            ],
            [
             0.9,
             "#4d9221"
            ],
            [
             1,
             "#276419"
            ]
           ],
           "sequential": [
            [
             0,
             "#0d0887"
            ],
            [
             0.1111111111111111,
             "#46039f"
            ],
            [
             0.2222222222222222,
             "#7201a8"
            ],
            [
             0.3333333333333333,
             "#9c179e"
            ],
            [
             0.4444444444444444,
             "#bd3786"
            ],
            [
             0.5555555555555556,
             "#d8576b"
            ],
            [
             0.6666666666666666,
             "#ed7953"
            ],
            [
             0.7777777777777778,
             "#fb9f3a"
            ],
            [
             0.8888888888888888,
             "#fdca26"
            ],
            [
             1,
             "#f0f921"
            ]
           ],
           "sequentialminus": [
            [
             0,
             "#0d0887"
            ],
            [
             0.1111111111111111,
             "#46039f"
            ],
            [
             0.2222222222222222,
             "#7201a8"
            ],
            [
             0.3333333333333333,
             "#9c179e"
            ],
            [
             0.4444444444444444,
             "#bd3786"
            ],
            [
             0.5555555555555556,
             "#d8576b"
            ],
            [
             0.6666666666666666,
             "#ed7953"
            ],
            [
             0.7777777777777778,
             "#fb9f3a"
            ],
            [
             0.8888888888888888,
             "#fdca26"
            ],
            [
             1,
             "#f0f921"
            ]
           ]
          },
          "colorway": [
           "#636efa",
           "#EF553B",
           "#00cc96",
           "#ab63fa",
           "#FFA15A",
           "#19d3f3",
           "#FF6692",
           "#B6E880",
           "#FF97FF",
           "#FECB52"
          ],
          "font": {
           "color": "#2a3f5f"
          },
          "geo": {
           "bgcolor": "white",
           "lakecolor": "white",
           "landcolor": "#E5ECF6",
           "showlakes": true,
           "showland": true,
           "subunitcolor": "white"
          },
          "hoverlabel": {
           "align": "left"
          },
          "hovermode": "closest",
          "mapbox": {
           "style": "light"
          },
          "paper_bgcolor": "white",
          "plot_bgcolor": "#E5ECF6",
          "polar": {
           "angularaxis": {
            "gridcolor": "white",
            "linecolor": "white",
            "ticks": ""
           },
           "bgcolor": "#E5ECF6",
           "radialaxis": {
            "gridcolor": "white",
            "linecolor": "white",
            "ticks": ""
           }
          },
          "scene": {
           "xaxis": {
            "backgroundcolor": "#E5ECF6",
            "gridcolor": "white",
            "gridwidth": 2,
            "linecolor": "white",
            "showbackground": true,
            "ticks": "",
            "zerolinecolor": "white"
           },
           "yaxis": {
            "backgroundcolor": "#E5ECF6",
            "gridcolor": "white",
            "gridwidth": 2,
            "linecolor": "white",
            "showbackground": true,
            "ticks": "",
            "zerolinecolor": "white"
           },
           "zaxis": {
            "backgroundcolor": "#E5ECF6",
            "gridcolor": "white",
            "gridwidth": 2,
            "linecolor": "white",
            "showbackground": true,
            "ticks": "",
            "zerolinecolor": "white"
           }
          },
          "shapedefaults": {
           "line": {
            "color": "#2a3f5f"
           }
          },
          "ternary": {
           "aaxis": {
            "gridcolor": "white",
            "linecolor": "white",
            "ticks": ""
           },
           "baxis": {
            "gridcolor": "white",
            "linecolor": "white",
            "ticks": ""
           },
           "bgcolor": "#E5ECF6",
           "caxis": {
            "gridcolor": "white",
            "linecolor": "white",
            "ticks": ""
           }
          },
          "title": {
           "x": 0.05
          },
          "xaxis": {
           "automargin": true,
           "gridcolor": "white",
           "linecolor": "white",
           "ticks": "",
           "title": {
            "standoff": 15
           },
           "zerolinecolor": "white",
           "zerolinewidth": 2
          },
          "yaxis": {
           "automargin": true,
           "gridcolor": "white",
           "linecolor": "white",
           "ticks": "",
           "title": {
            "standoff": 15
           },
           "zerolinecolor": "white",
           "zerolinewidth": 2
          }
         }
        },
        "title": {
         "text": "COVID-19 cases in Serbia"
        },
        "xaxis": {
         "title": {
          "text": "Date"
         }
        },
        "yaxis": {
         "title": {
          "text": "Cases"
         }
        }
       }
      },
      "text/html": [
       "<div>\n",
       "        \n",
       "        \n",
       "            <div id=\"f7939de0-705f-4f89-b694-44fe3411ba82\" class=\"plotly-graph-div\" style=\"height:525px; width:100%;\"></div>\n",
       "            <script type=\"text/javascript\">\n",
       "                require([\"plotly\"], function(Plotly) {\n",
       "                    window.PLOTLYENV=window.PLOTLYENV || {};\n",
       "                    \n",
       "                if (document.getElementById(\"f7939de0-705f-4f89-b694-44fe3411ba82\")) {\n",
       "                    Plotly.newPlot(\n",
       "                        'f7939de0-705f-4f89-b694-44fe3411ba82',\n",
       "                        [{\"name\": \"Confirmed cases\", \"type\": \"scatter\", \"x\": [\"2020-03-06\", \"2020-03-07\", \"2020-03-08\", \"2020-03-09\", \"2020-03-10\", \"2020-03-11\", \"2020-03-12\", \"2020-03-13\", \"2020-03-14\", \"2020-03-15\", \"2020-03-16\", \"2020-03-17\", \"2020-03-18\", \"2020-03-19\", \"2020-03-20\", \"2020-03-21\", \"2020-03-22\", \"2020-03-23\", \"2020-03-24\", \"2020-03-25\", \"2020-03-26\", \"2020-03-27\", \"2020-03-28\", \"2020-03-29\", \"2020-03-30\", \"2020-03-31\", \"2020-04-01\", \"2020-04-02\", \"2020-04-03\", \"2020-04-04\", \"2020-04-05\", \"2020-04-06\", \"2020-04-07\", \"2020-04-08\", \"2020-04-09\"], \"y\": [1.0, 1.0, 1.0, 1.0, 5.0, 12.0, 19.0, 35.0, 46.0, 48.0, 55.0, 65.0, 83.0, 103.0, 135.0, 171.0, 222.0, 249.0, 303.0, 384.0, 384.0, 457.0, 659.0, 741.0, 785.0, 900.0, 1060.0, 1171.0, 1476.0, 1624.0, 1908.0, 2200.0, 2447.0, 2666.0, 2867.0]}, {\"name\": \"Fatal cases\", \"type\": \"scatter\", \"x\": [\"2020-03-06\", \"2020-03-07\", \"2020-03-08\", \"2020-03-09\", \"2020-03-10\", \"2020-03-11\", \"2020-03-12\", \"2020-03-13\", \"2020-03-14\", \"2020-03-15\", \"2020-03-16\", \"2020-03-17\", \"2020-03-18\", \"2020-03-19\", \"2020-03-20\", \"2020-03-21\", \"2020-03-22\", \"2020-03-23\", \"2020-03-24\", \"2020-03-25\", \"2020-03-26\", \"2020-03-27\", \"2020-03-28\", \"2020-03-29\", \"2020-03-30\", \"2020-03-31\", \"2020-04-01\", \"2020-04-02\", \"2020-04-03\", \"2020-04-04\", \"2020-04-05\", \"2020-04-06\", \"2020-04-07\", \"2020-04-08\", \"2020-04-09\"], \"y\": [0.0, 0.0, 0.0, 0.0, 0.0, 0.0, 0.0, 0.0, 0.0, 0.0, 0.0, 0.0, 0.0, 0.0, 1.0, 1.0, 2.0, 3.0, 3.0, 4.0, 1.0, 1.0, 10.0, 13.0, 16.0, 16.0, 28.0, 31.0, 39.0, 44.0, 51.0, 58.0, 61.0, 65.0, 66.0]}],\n",
       "                        {\"template\": {\"data\": {\"bar\": [{\"error_x\": {\"color\": \"#2a3f5f\"}, \"error_y\": {\"color\": \"#2a3f5f\"}, \"marker\": {\"line\": {\"color\": \"#E5ECF6\", \"width\": 0.5}}, \"type\": \"bar\"}], \"barpolar\": [{\"marker\": {\"line\": {\"color\": \"#E5ECF6\", \"width\": 0.5}}, \"type\": \"barpolar\"}], \"carpet\": [{\"aaxis\": {\"endlinecolor\": \"#2a3f5f\", \"gridcolor\": \"white\", \"linecolor\": \"white\", \"minorgridcolor\": \"white\", \"startlinecolor\": \"#2a3f5f\"}, \"baxis\": {\"endlinecolor\": \"#2a3f5f\", \"gridcolor\": \"white\", \"linecolor\": \"white\", \"minorgridcolor\": \"white\", \"startlinecolor\": \"#2a3f5f\"}, \"type\": \"carpet\"}], \"choropleth\": [{\"colorbar\": {\"outlinewidth\": 0, \"ticks\": \"\"}, \"type\": \"choropleth\"}], \"contour\": [{\"colorbar\": {\"outlinewidth\": 0, \"ticks\": \"\"}, \"colorscale\": [[0.0, \"#0d0887\"], [0.1111111111111111, \"#46039f\"], [0.2222222222222222, \"#7201a8\"], [0.3333333333333333, \"#9c179e\"], [0.4444444444444444, \"#bd3786\"], [0.5555555555555556, \"#d8576b\"], [0.6666666666666666, \"#ed7953\"], [0.7777777777777778, \"#fb9f3a\"], [0.8888888888888888, \"#fdca26\"], [1.0, \"#f0f921\"]], \"type\": \"contour\"}], \"contourcarpet\": [{\"colorbar\": {\"outlinewidth\": 0, \"ticks\": \"\"}, \"type\": \"contourcarpet\"}], \"heatmap\": [{\"colorbar\": {\"outlinewidth\": 0, \"ticks\": \"\"}, \"colorscale\": [[0.0, \"#0d0887\"], [0.1111111111111111, \"#46039f\"], [0.2222222222222222, \"#7201a8\"], [0.3333333333333333, \"#9c179e\"], [0.4444444444444444, \"#bd3786\"], [0.5555555555555556, \"#d8576b\"], [0.6666666666666666, \"#ed7953\"], [0.7777777777777778, \"#fb9f3a\"], [0.8888888888888888, \"#fdca26\"], [1.0, \"#f0f921\"]], \"type\": \"heatmap\"}], \"heatmapgl\": [{\"colorbar\": {\"outlinewidth\": 0, \"ticks\": \"\"}, \"colorscale\": [[0.0, \"#0d0887\"], [0.1111111111111111, \"#46039f\"], [0.2222222222222222, \"#7201a8\"], [0.3333333333333333, \"#9c179e\"], [0.4444444444444444, \"#bd3786\"], [0.5555555555555556, \"#d8576b\"], [0.6666666666666666, \"#ed7953\"], [0.7777777777777778, \"#fb9f3a\"], [0.8888888888888888, \"#fdca26\"], [1.0, \"#f0f921\"]], \"type\": \"heatmapgl\"}], \"histogram\": [{\"marker\": {\"colorbar\": {\"outlinewidth\": 0, \"ticks\": \"\"}}, \"type\": \"histogram\"}], \"histogram2d\": [{\"colorbar\": {\"outlinewidth\": 0, \"ticks\": \"\"}, \"colorscale\": [[0.0, \"#0d0887\"], [0.1111111111111111, \"#46039f\"], [0.2222222222222222, \"#7201a8\"], [0.3333333333333333, \"#9c179e\"], [0.4444444444444444, \"#bd3786\"], [0.5555555555555556, \"#d8576b\"], [0.6666666666666666, \"#ed7953\"], [0.7777777777777778, \"#fb9f3a\"], [0.8888888888888888, \"#fdca26\"], [1.0, \"#f0f921\"]], \"type\": \"histogram2d\"}], \"histogram2dcontour\": [{\"colorbar\": {\"outlinewidth\": 0, \"ticks\": \"\"}, \"colorscale\": [[0.0, \"#0d0887\"], [0.1111111111111111, \"#46039f\"], [0.2222222222222222, \"#7201a8\"], [0.3333333333333333, \"#9c179e\"], [0.4444444444444444, \"#bd3786\"], [0.5555555555555556, \"#d8576b\"], [0.6666666666666666, \"#ed7953\"], [0.7777777777777778, \"#fb9f3a\"], [0.8888888888888888, \"#fdca26\"], [1.0, \"#f0f921\"]], \"type\": \"histogram2dcontour\"}], \"mesh3d\": [{\"colorbar\": {\"outlinewidth\": 0, \"ticks\": \"\"}, \"type\": \"mesh3d\"}], \"parcoords\": [{\"line\": {\"colorbar\": {\"outlinewidth\": 0, \"ticks\": \"\"}}, \"type\": \"parcoords\"}], \"pie\": [{\"automargin\": true, \"type\": \"pie\"}], \"scatter\": [{\"marker\": {\"colorbar\": {\"outlinewidth\": 0, \"ticks\": \"\"}}, \"type\": \"scatter\"}], \"scatter3d\": [{\"line\": {\"colorbar\": {\"outlinewidth\": 0, \"ticks\": \"\"}}, \"marker\": {\"colorbar\": {\"outlinewidth\": 0, \"ticks\": \"\"}}, \"type\": \"scatter3d\"}], \"scattercarpet\": [{\"marker\": {\"colorbar\": {\"outlinewidth\": 0, \"ticks\": \"\"}}, \"type\": \"scattercarpet\"}], \"scattergeo\": [{\"marker\": {\"colorbar\": {\"outlinewidth\": 0, \"ticks\": \"\"}}, \"type\": \"scattergeo\"}], \"scattergl\": [{\"marker\": {\"colorbar\": {\"outlinewidth\": 0, \"ticks\": \"\"}}, \"type\": \"scattergl\"}], \"scattermapbox\": [{\"marker\": {\"colorbar\": {\"outlinewidth\": 0, \"ticks\": \"\"}}, \"type\": \"scattermapbox\"}], \"scatterpolar\": [{\"marker\": {\"colorbar\": {\"outlinewidth\": 0, \"ticks\": \"\"}}, \"type\": \"scatterpolar\"}], \"scatterpolargl\": [{\"marker\": {\"colorbar\": {\"outlinewidth\": 0, \"ticks\": \"\"}}, \"type\": \"scatterpolargl\"}], \"scatterternary\": [{\"marker\": {\"colorbar\": {\"outlinewidth\": 0, \"ticks\": \"\"}}, \"type\": \"scatterternary\"}], \"surface\": [{\"colorbar\": {\"outlinewidth\": 0, \"ticks\": \"\"}, \"colorscale\": [[0.0, \"#0d0887\"], [0.1111111111111111, \"#46039f\"], [0.2222222222222222, \"#7201a8\"], [0.3333333333333333, \"#9c179e\"], [0.4444444444444444, \"#bd3786\"], [0.5555555555555556, \"#d8576b\"], [0.6666666666666666, \"#ed7953\"], [0.7777777777777778, \"#fb9f3a\"], [0.8888888888888888, \"#fdca26\"], [1.0, \"#f0f921\"]], \"type\": \"surface\"}], \"table\": [{\"cells\": {\"fill\": {\"color\": \"#EBF0F8\"}, \"line\": {\"color\": \"white\"}}, \"header\": {\"fill\": {\"color\": \"#C8D4E3\"}, \"line\": {\"color\": \"white\"}}, \"type\": \"table\"}]}, \"layout\": {\"annotationdefaults\": {\"arrowcolor\": \"#2a3f5f\", \"arrowhead\": 0, \"arrowwidth\": 1}, \"coloraxis\": {\"colorbar\": {\"outlinewidth\": 0, \"ticks\": \"\"}}, \"colorscale\": {\"diverging\": [[0, \"#8e0152\"], [0.1, \"#c51b7d\"], [0.2, \"#de77ae\"], [0.3, \"#f1b6da\"], [0.4, \"#fde0ef\"], [0.5, \"#f7f7f7\"], [0.6, \"#e6f5d0\"], [0.7, \"#b8e186\"], [0.8, \"#7fbc41\"], [0.9, \"#4d9221\"], [1, \"#276419\"]], \"sequential\": [[0.0, \"#0d0887\"], [0.1111111111111111, \"#46039f\"], [0.2222222222222222, \"#7201a8\"], [0.3333333333333333, \"#9c179e\"], [0.4444444444444444, \"#bd3786\"], [0.5555555555555556, \"#d8576b\"], [0.6666666666666666, \"#ed7953\"], [0.7777777777777778, \"#fb9f3a\"], [0.8888888888888888, \"#fdca26\"], [1.0, \"#f0f921\"]], \"sequentialminus\": [[0.0, \"#0d0887\"], [0.1111111111111111, \"#46039f\"], [0.2222222222222222, \"#7201a8\"], [0.3333333333333333, \"#9c179e\"], [0.4444444444444444, \"#bd3786\"], [0.5555555555555556, \"#d8576b\"], [0.6666666666666666, \"#ed7953\"], [0.7777777777777778, \"#fb9f3a\"], [0.8888888888888888, \"#fdca26\"], [1.0, \"#f0f921\"]]}, \"colorway\": [\"#636efa\", \"#EF553B\", \"#00cc96\", \"#ab63fa\", \"#FFA15A\", \"#19d3f3\", \"#FF6692\", \"#B6E880\", \"#FF97FF\", \"#FECB52\"], \"font\": {\"color\": \"#2a3f5f\"}, \"geo\": {\"bgcolor\": \"white\", \"lakecolor\": \"white\", \"landcolor\": \"#E5ECF6\", \"showlakes\": true, \"showland\": true, \"subunitcolor\": \"white\"}, \"hoverlabel\": {\"align\": \"left\"}, \"hovermode\": \"closest\", \"mapbox\": {\"style\": \"light\"}, \"paper_bgcolor\": \"white\", \"plot_bgcolor\": \"#E5ECF6\", \"polar\": {\"angularaxis\": {\"gridcolor\": \"white\", \"linecolor\": \"white\", \"ticks\": \"\"}, \"bgcolor\": \"#E5ECF6\", \"radialaxis\": {\"gridcolor\": \"white\", \"linecolor\": \"white\", \"ticks\": \"\"}}, \"scene\": {\"xaxis\": {\"backgroundcolor\": \"#E5ECF6\", \"gridcolor\": \"white\", \"gridwidth\": 2, \"linecolor\": \"white\", \"showbackground\": true, \"ticks\": \"\", \"zerolinecolor\": \"white\"}, \"yaxis\": {\"backgroundcolor\": \"#E5ECF6\", \"gridcolor\": \"white\", \"gridwidth\": 2, \"linecolor\": \"white\", \"showbackground\": true, \"ticks\": \"\", \"zerolinecolor\": \"white\"}, \"zaxis\": {\"backgroundcolor\": \"#E5ECF6\", \"gridcolor\": \"white\", \"gridwidth\": 2, \"linecolor\": \"white\", \"showbackground\": true, \"ticks\": \"\", \"zerolinecolor\": \"white\"}}, \"shapedefaults\": {\"line\": {\"color\": \"#2a3f5f\"}}, \"ternary\": {\"aaxis\": {\"gridcolor\": \"white\", \"linecolor\": \"white\", \"ticks\": \"\"}, \"baxis\": {\"gridcolor\": \"white\", \"linecolor\": \"white\", \"ticks\": \"\"}, \"bgcolor\": \"#E5ECF6\", \"caxis\": {\"gridcolor\": \"white\", \"linecolor\": \"white\", \"ticks\": \"\"}}, \"title\": {\"x\": 0.05}, \"xaxis\": {\"automargin\": true, \"gridcolor\": \"white\", \"linecolor\": \"white\", \"ticks\": \"\", \"title\": {\"standoff\": 15}, \"zerolinecolor\": \"white\", \"zerolinewidth\": 2}, \"yaxis\": {\"automargin\": true, \"gridcolor\": \"white\", \"linecolor\": \"white\", \"ticks\": \"\", \"title\": {\"standoff\": 15}, \"zerolinecolor\": \"white\", \"zerolinewidth\": 2}}}, \"title\": {\"text\": \"COVID-19 cases in Serbia\"}, \"xaxis\": {\"title\": {\"text\": \"Date\"}}, \"yaxis\": {\"title\": {\"text\": \"Cases\"}}},\n",
       "                        {\"responsive\": true}\n",
       "                    ).then(function(){\n",
       "                            \n",
       "var gd = document.getElementById('f7939de0-705f-4f89-b694-44fe3411ba82');\n",
       "var x = new MutationObserver(function (mutations, observer) {{\n",
       "        var display = window.getComputedStyle(gd).display;\n",
       "        if (!display || display === 'none') {{\n",
       "            console.log([gd, 'removed!']);\n",
       "            Plotly.purge(gd);\n",
       "            observer.disconnect();\n",
       "        }}\n",
       "}});\n",
       "\n",
       "// Listen for the removal of the full notebook cells\n",
       "var notebookContainer = gd.closest('#notebook-container');\n",
       "if (notebookContainer) {{\n",
       "    x.observe(notebookContainer, {childList: true});\n",
       "}}\n",
       "\n",
       "// Listen for the clearing of the current output cell\n",
       "var outputEl = gd.closest('.output');\n",
       "if (outputEl) {{\n",
       "    x.observe(outputEl, {childList: true});\n",
       "}}\n",
       "\n",
       "                        })\n",
       "                };\n",
       "                });\n",
       "            </script>\n",
       "        </div>"
      ]
     },
     "metadata": {},
     "output_type": "display_data"
    }
   ],
   "source": [
    "import plotly.graph_objects as go\n",
    "fig = go.Figure()\n",
    "\n",
    "Serbia_confirmed = train[train['Country_Region'] == 'Serbia'].groupby(['Date']).sum().Confirmed\n",
    "# we want to see the progression from the first case in Serbia (for the first 44 days we didn't have any case)\n",
    "Serbia_confirmed = Serbia_confirmed[44:]\n",
    "Serbia_fatalities = train[train['Country_Region'] == 'Serbia'].groupby(['Date']).sum().Fatalities\n",
    "Serbia_fatalities = Serbia_fatalities[44:]\n",
    "date = train['Date'].unique()\n",
    "date = date[44:]\n",
    "fig.add_trace(go.Scatter(x = date, y = Serbia_confirmed, name = \"Confirmed cases\"))\n",
    "fig.add_trace(go.Scatter(x = date, y = Serbia_fatalities, name = \"Fatal cases\"))\n",
    "fig.update_layout(title = \"COVID-19 cases in Serbia\",\n",
    "                 xaxis_title = \"Date\",\n",
    "                 yaxis_title = \"Cases\")\n"
   ]
  },
  {
   "cell_type": "code",
   "execution_count": 117,
   "metadata": {},
   "outputs": [
    {
     "data": {
      "text/html": [
       "<div>\n",
       "<style scoped>\n",
       "    .dataframe tbody tr th:only-of-type {\n",
       "        vertical-align: middle;\n",
       "    }\n",
       "\n",
       "    .dataframe tbody tr th {\n",
       "        vertical-align: top;\n",
       "    }\n",
       "\n",
       "    .dataframe thead th {\n",
       "        text-align: right;\n",
       "    }\n",
       "</style>\n",
       "<table border=\"1\" class=\"dataframe\">\n",
       "  <thead>\n",
       "    <tr style=\"text-align: right;\">\n",
       "      <th></th>\n",
       "      <th>Id</th>\n",
       "      <th>Province_State</th>\n",
       "      <th>Country_Region</th>\n",
       "      <th>Confirmed</th>\n",
       "      <th>Fatalities</th>\n",
       "    </tr>\n",
       "    <tr>\n",
       "      <th>Date</th>\n",
       "      <th></th>\n",
       "      <th></th>\n",
       "      <th></th>\n",
       "      <th></th>\n",
       "      <th></th>\n",
       "    </tr>\n",
       "  </thead>\n",
       "  <tbody>\n",
       "    <tr>\n",
       "      <th>2020-01-22</th>\n",
       "      <td>24283</td>\n",
       "      <td>Serbia</td>\n",
       "      <td>Serbia</td>\n",
       "      <td>0.0</td>\n",
       "      <td>0.0</td>\n",
       "    </tr>\n",
       "    <tr>\n",
       "      <th>2020-01-23</th>\n",
       "      <td>24284</td>\n",
       "      <td>Serbia</td>\n",
       "      <td>Serbia</td>\n",
       "      <td>0.0</td>\n",
       "      <td>0.0</td>\n",
       "    </tr>\n",
       "    <tr>\n",
       "      <th>2020-01-24</th>\n",
       "      <td>24285</td>\n",
       "      <td>Serbia</td>\n",
       "      <td>Serbia</td>\n",
       "      <td>0.0</td>\n",
       "      <td>0.0</td>\n",
       "    </tr>\n",
       "    <tr>\n",
       "      <th>2020-01-25</th>\n",
       "      <td>24286</td>\n",
       "      <td>Serbia</td>\n",
       "      <td>Serbia</td>\n",
       "      <td>0.0</td>\n",
       "      <td>0.0</td>\n",
       "    </tr>\n",
       "    <tr>\n",
       "      <th>2020-01-26</th>\n",
       "      <td>24287</td>\n",
       "      <td>Serbia</td>\n",
       "      <td>Serbia</td>\n",
       "      <td>0.0</td>\n",
       "      <td>0.0</td>\n",
       "    </tr>\n",
       "  </tbody>\n",
       "</table>\n",
       "</div>"
      ],
      "text/plain": [
       "               Id Province_State Country_Region  Confirmed  Fatalities\n",
       "Date                                                                  \n",
       "2020-01-22  24283         Serbia         Serbia        0.0         0.0\n",
       "2020-01-23  24284         Serbia         Serbia        0.0         0.0\n",
       "2020-01-24  24285         Serbia         Serbia        0.0         0.0\n",
       "2020-01-25  24286         Serbia         Serbia        0.0         0.0\n",
       "2020-01-26  24287         Serbia         Serbia        0.0         0.0"
      ]
     },
     "execution_count": 117,
     "metadata": {},
     "output_type": "execute_result"
    }
   ],
   "source": [
    "train['Date'] = pd.to_datetime(train['Date'], infer_datetime_format = True)\n",
    "train_countries = train.groupby(\"Country_Region\")\n",
    "train_countries.get_group('Serbia').set_index(\"Date\").head()"
   ]
  },
  {
   "cell_type": "code",
   "execution_count": 118,
   "metadata": {},
   "outputs": [
    {
     "data": {
      "text/html": [
       "<div>\n",
       "<style scoped>\n",
       "    .dataframe tbody tr th:only-of-type {\n",
       "        vertical-align: middle;\n",
       "    }\n",
       "\n",
       "    .dataframe tbody tr th {\n",
       "        vertical-align: top;\n",
       "    }\n",
       "\n",
       "    .dataframe thead th {\n",
       "        text-align: right;\n",
       "    }\n",
       "</style>\n",
       "<table border=\"1\" class=\"dataframe\">\n",
       "  <thead>\n",
       "    <tr style=\"text-align: right;\">\n",
       "      <th>Country_Region</th>\n",
       "      <th>Afghanistan</th>\n",
       "      <th>Albania</th>\n",
       "      <th>Algeria</th>\n",
       "      <th>Andorra</th>\n",
       "      <th>Angola</th>\n",
       "      <th>Antigua and Barbuda</th>\n",
       "      <th>Argentina</th>\n",
       "      <th>Armenia</th>\n",
       "      <th>Australia</th>\n",
       "      <th>Austria</th>\n",
       "      <th>...</th>\n",
       "      <th>United Arab Emirates</th>\n",
       "      <th>United Kingdom</th>\n",
       "      <th>Uruguay</th>\n",
       "      <th>Uzbekistan</th>\n",
       "      <th>Venezuela</th>\n",
       "      <th>Vietnam</th>\n",
       "      <th>West Bank and Gaza</th>\n",
       "      <th>Western Sahara</th>\n",
       "      <th>Zambia</th>\n",
       "      <th>Zimbabwe</th>\n",
       "    </tr>\n",
       "    <tr>\n",
       "      <th>Date</th>\n",
       "      <th></th>\n",
       "      <th></th>\n",
       "      <th></th>\n",
       "      <th></th>\n",
       "      <th></th>\n",
       "      <th></th>\n",
       "      <th></th>\n",
       "      <th></th>\n",
       "      <th></th>\n",
       "      <th></th>\n",
       "      <th></th>\n",
       "      <th></th>\n",
       "      <th></th>\n",
       "      <th></th>\n",
       "      <th></th>\n",
       "      <th></th>\n",
       "      <th></th>\n",
       "      <th></th>\n",
       "      <th></th>\n",
       "      <th></th>\n",
       "      <th></th>\n",
       "    </tr>\n",
       "  </thead>\n",
       "  <tbody>\n",
       "    <tr>\n",
       "      <th>2020-01-22</th>\n",
       "      <td>0.0</td>\n",
       "      <td>0.0</td>\n",
       "      <td>0.0</td>\n",
       "      <td>0.0</td>\n",
       "      <td>0.0</td>\n",
       "      <td>0.0</td>\n",
       "      <td>0.0</td>\n",
       "      <td>0.0</td>\n",
       "      <td>0.000</td>\n",
       "      <td>0.0</td>\n",
       "      <td>...</td>\n",
       "      <td>0.0</td>\n",
       "      <td>0.000000</td>\n",
       "      <td>0.0</td>\n",
       "      <td>0.0</td>\n",
       "      <td>0.0</td>\n",
       "      <td>0.0</td>\n",
       "      <td>0.0</td>\n",
       "      <td>0.0</td>\n",
       "      <td>0.0</td>\n",
       "      <td>0.0</td>\n",
       "    </tr>\n",
       "    <tr>\n",
       "      <th>2020-01-23</th>\n",
       "      <td>0.0</td>\n",
       "      <td>0.0</td>\n",
       "      <td>0.0</td>\n",
       "      <td>0.0</td>\n",
       "      <td>0.0</td>\n",
       "      <td>0.0</td>\n",
       "      <td>0.0</td>\n",
       "      <td>0.0</td>\n",
       "      <td>0.000</td>\n",
       "      <td>0.0</td>\n",
       "      <td>...</td>\n",
       "      <td>0.0</td>\n",
       "      <td>0.000000</td>\n",
       "      <td>0.0</td>\n",
       "      <td>0.0</td>\n",
       "      <td>0.0</td>\n",
       "      <td>2.0</td>\n",
       "      <td>0.0</td>\n",
       "      <td>0.0</td>\n",
       "      <td>0.0</td>\n",
       "      <td>0.0</td>\n",
       "    </tr>\n",
       "    <tr>\n",
       "      <th>2020-01-24</th>\n",
       "      <td>0.0</td>\n",
       "      <td>0.0</td>\n",
       "      <td>0.0</td>\n",
       "      <td>0.0</td>\n",
       "      <td>0.0</td>\n",
       "      <td>0.0</td>\n",
       "      <td>0.0</td>\n",
       "      <td>0.0</td>\n",
       "      <td>0.000</td>\n",
       "      <td>0.0</td>\n",
       "      <td>...</td>\n",
       "      <td>0.0</td>\n",
       "      <td>0.000000</td>\n",
       "      <td>0.0</td>\n",
       "      <td>0.0</td>\n",
       "      <td>0.0</td>\n",
       "      <td>2.0</td>\n",
       "      <td>0.0</td>\n",
       "      <td>0.0</td>\n",
       "      <td>0.0</td>\n",
       "      <td>0.0</td>\n",
       "    </tr>\n",
       "    <tr>\n",
       "      <th>2020-01-25</th>\n",
       "      <td>0.0</td>\n",
       "      <td>0.0</td>\n",
       "      <td>0.0</td>\n",
       "      <td>0.0</td>\n",
       "      <td>0.0</td>\n",
       "      <td>0.0</td>\n",
       "      <td>0.0</td>\n",
       "      <td>0.0</td>\n",
       "      <td>0.000</td>\n",
       "      <td>0.0</td>\n",
       "      <td>...</td>\n",
       "      <td>0.0</td>\n",
       "      <td>0.000000</td>\n",
       "      <td>0.0</td>\n",
       "      <td>0.0</td>\n",
       "      <td>0.0</td>\n",
       "      <td>2.0</td>\n",
       "      <td>0.0</td>\n",
       "      <td>0.0</td>\n",
       "      <td>0.0</td>\n",
       "      <td>0.0</td>\n",
       "    </tr>\n",
       "    <tr>\n",
       "      <th>2020-01-26</th>\n",
       "      <td>0.0</td>\n",
       "      <td>0.0</td>\n",
       "      <td>0.0</td>\n",
       "      <td>0.0</td>\n",
       "      <td>0.0</td>\n",
       "      <td>0.0</td>\n",
       "      <td>0.0</td>\n",
       "      <td>0.0</td>\n",
       "      <td>0.500</td>\n",
       "      <td>0.0</td>\n",
       "      <td>...</td>\n",
       "      <td>0.0</td>\n",
       "      <td>0.000000</td>\n",
       "      <td>0.0</td>\n",
       "      <td>0.0</td>\n",
       "      <td>0.0</td>\n",
       "      <td>2.0</td>\n",
       "      <td>0.0</td>\n",
       "      <td>0.0</td>\n",
       "      <td>0.0</td>\n",
       "      <td>0.0</td>\n",
       "    </tr>\n",
       "    <tr>\n",
       "      <th>...</th>\n",
       "      <td>...</td>\n",
       "      <td>...</td>\n",
       "      <td>...</td>\n",
       "      <td>...</td>\n",
       "      <td>...</td>\n",
       "      <td>...</td>\n",
       "      <td>...</td>\n",
       "      <td>...</td>\n",
       "      <td>...</td>\n",
       "      <td>...</td>\n",
       "      <td>...</td>\n",
       "      <td>...</td>\n",
       "      <td>...</td>\n",
       "      <td>...</td>\n",
       "      <td>...</td>\n",
       "      <td>...</td>\n",
       "      <td>...</td>\n",
       "      <td>...</td>\n",
       "      <td>...</td>\n",
       "      <td>...</td>\n",
       "      <td>...</td>\n",
       "    </tr>\n",
       "    <tr>\n",
       "      <th>2020-04-05</th>\n",
       "      <td>349.0</td>\n",
       "      <td>361.0</td>\n",
       "      <td>1320.0</td>\n",
       "      <td>501.0</td>\n",
       "      <td>14.0</td>\n",
       "      <td>15.0</td>\n",
       "      <td>1451.0</td>\n",
       "      <td>822.0</td>\n",
       "      <td>710.875</td>\n",
       "      <td>12051.0</td>\n",
       "      <td>...</td>\n",
       "      <td>1799.0</td>\n",
       "      <td>4403.272727</td>\n",
       "      <td>400.0</td>\n",
       "      <td>342.0</td>\n",
       "      <td>159.0</td>\n",
       "      <td>241.0</td>\n",
       "      <td>237.0</td>\n",
       "      <td>4.0</td>\n",
       "      <td>39.0</td>\n",
       "      <td>9.0</td>\n",
       "    </tr>\n",
       "    <tr>\n",
       "      <th>2020-04-06</th>\n",
       "      <td>367.0</td>\n",
       "      <td>377.0</td>\n",
       "      <td>1423.0</td>\n",
       "      <td>525.0</td>\n",
       "      <td>16.0</td>\n",
       "      <td>15.0</td>\n",
       "      <td>1554.0</td>\n",
       "      <td>833.0</td>\n",
       "      <td>724.625</td>\n",
       "      <td>12297.0</td>\n",
       "      <td>...</td>\n",
       "      <td>2076.0</td>\n",
       "      <td>4752.636364</td>\n",
       "      <td>406.0</td>\n",
       "      <td>457.0</td>\n",
       "      <td>165.0</td>\n",
       "      <td>245.0</td>\n",
       "      <td>254.0</td>\n",
       "      <td>4.0</td>\n",
       "      <td>39.0</td>\n",
       "      <td>10.0</td>\n",
       "    </tr>\n",
       "    <tr>\n",
       "      <th>2020-04-07</th>\n",
       "      <td>423.0</td>\n",
       "      <td>383.0</td>\n",
       "      <td>1468.0</td>\n",
       "      <td>545.0</td>\n",
       "      <td>17.0</td>\n",
       "      <td>19.0</td>\n",
       "      <td>1628.0</td>\n",
       "      <td>853.0</td>\n",
       "      <td>736.875</td>\n",
       "      <td>12639.0</td>\n",
       "      <td>...</td>\n",
       "      <td>2359.0</td>\n",
       "      <td>5086.272727</td>\n",
       "      <td>424.0</td>\n",
       "      <td>520.0</td>\n",
       "      <td>165.0</td>\n",
       "      <td>249.0</td>\n",
       "      <td>261.0</td>\n",
       "      <td>4.0</td>\n",
       "      <td>39.0</td>\n",
       "      <td>11.0</td>\n",
       "    </tr>\n",
       "    <tr>\n",
       "      <th>2020-04-08</th>\n",
       "      <td>444.0</td>\n",
       "      <td>400.0</td>\n",
       "      <td>1572.0</td>\n",
       "      <td>564.0</td>\n",
       "      <td>19.0</td>\n",
       "      <td>19.0</td>\n",
       "      <td>1715.0</td>\n",
       "      <td>881.0</td>\n",
       "      <td>751.250</td>\n",
       "      <td>12942.0</td>\n",
       "      <td>...</td>\n",
       "      <td>2659.0</td>\n",
       "      <td>5588.545455</td>\n",
       "      <td>424.0</td>\n",
       "      <td>545.0</td>\n",
       "      <td>167.0</td>\n",
       "      <td>251.0</td>\n",
       "      <td>263.0</td>\n",
       "      <td>4.0</td>\n",
       "      <td>39.0</td>\n",
       "      <td>11.0</td>\n",
       "    </tr>\n",
       "    <tr>\n",
       "      <th>2020-04-09</th>\n",
       "      <td>484.0</td>\n",
       "      <td>409.0</td>\n",
       "      <td>1666.0</td>\n",
       "      <td>583.0</td>\n",
       "      <td>19.0</td>\n",
       "      <td>19.0</td>\n",
       "      <td>1795.0</td>\n",
       "      <td>921.0</td>\n",
       "      <td>763.500</td>\n",
       "      <td>13244.0</td>\n",
       "      <td>...</td>\n",
       "      <td>2990.0</td>\n",
       "      <td>5988.363636</td>\n",
       "      <td>456.0</td>\n",
       "      <td>582.0</td>\n",
       "      <td>171.0</td>\n",
       "      <td>255.0</td>\n",
       "      <td>263.0</td>\n",
       "      <td>4.0</td>\n",
       "      <td>39.0</td>\n",
       "      <td>11.0</td>\n",
       "    </tr>\n",
       "  </tbody>\n",
       "</table>\n",
       "<p>79 rows × 184 columns</p>\n",
       "</div>"
      ],
      "text/plain": [
       "Country_Region  Afghanistan  Albania  Algeria  Andorra  Angola  \\\n",
       "Date                                                             \n",
       "2020-01-22              0.0      0.0      0.0      0.0     0.0   \n",
       "2020-01-23              0.0      0.0      0.0      0.0     0.0   \n",
       "2020-01-24              0.0      0.0      0.0      0.0     0.0   \n",
       "2020-01-25              0.0      0.0      0.0      0.0     0.0   \n",
       "2020-01-26              0.0      0.0      0.0      0.0     0.0   \n",
       "...                     ...      ...      ...      ...     ...   \n",
       "2020-04-05            349.0    361.0   1320.0    501.0    14.0   \n",
       "2020-04-06            367.0    377.0   1423.0    525.0    16.0   \n",
       "2020-04-07            423.0    383.0   1468.0    545.0    17.0   \n",
       "2020-04-08            444.0    400.0   1572.0    564.0    19.0   \n",
       "2020-04-09            484.0    409.0   1666.0    583.0    19.0   \n",
       "\n",
       "Country_Region  Antigua and Barbuda  Argentina  Armenia  Australia  Austria  \\\n",
       "Date                                                                          \n",
       "2020-01-22                      0.0        0.0      0.0      0.000      0.0   \n",
       "2020-01-23                      0.0        0.0      0.0      0.000      0.0   \n",
       "2020-01-24                      0.0        0.0      0.0      0.000      0.0   \n",
       "2020-01-25                      0.0        0.0      0.0      0.000      0.0   \n",
       "2020-01-26                      0.0        0.0      0.0      0.500      0.0   \n",
       "...                             ...        ...      ...        ...      ...   \n",
       "2020-04-05                     15.0     1451.0    822.0    710.875  12051.0   \n",
       "2020-04-06                     15.0     1554.0    833.0    724.625  12297.0   \n",
       "2020-04-07                     19.0     1628.0    853.0    736.875  12639.0   \n",
       "2020-04-08                     19.0     1715.0    881.0    751.250  12942.0   \n",
       "2020-04-09                     19.0     1795.0    921.0    763.500  13244.0   \n",
       "\n",
       "Country_Region  ...  United Arab Emirates  United Kingdom  Uruguay  \\\n",
       "Date            ...                                                  \n",
       "2020-01-22      ...                   0.0        0.000000      0.0   \n",
       "2020-01-23      ...                   0.0        0.000000      0.0   \n",
       "2020-01-24      ...                   0.0        0.000000      0.0   \n",
       "2020-01-25      ...                   0.0        0.000000      0.0   \n",
       "2020-01-26      ...                   0.0        0.000000      0.0   \n",
       "...             ...                   ...             ...      ...   \n",
       "2020-04-05      ...                1799.0     4403.272727    400.0   \n",
       "2020-04-06      ...                2076.0     4752.636364    406.0   \n",
       "2020-04-07      ...                2359.0     5086.272727    424.0   \n",
       "2020-04-08      ...                2659.0     5588.545455    424.0   \n",
       "2020-04-09      ...                2990.0     5988.363636    456.0   \n",
       "\n",
       "Country_Region  Uzbekistan  Venezuela  Vietnam  West Bank and Gaza  \\\n",
       "Date                                                                 \n",
       "2020-01-22             0.0        0.0      0.0                 0.0   \n",
       "2020-01-23             0.0        0.0      2.0                 0.0   \n",
       "2020-01-24             0.0        0.0      2.0                 0.0   \n",
       "2020-01-25             0.0        0.0      2.0                 0.0   \n",
       "2020-01-26             0.0        0.0      2.0                 0.0   \n",
       "...                    ...        ...      ...                 ...   \n",
       "2020-04-05           342.0      159.0    241.0               237.0   \n",
       "2020-04-06           457.0      165.0    245.0               254.0   \n",
       "2020-04-07           520.0      165.0    249.0               261.0   \n",
       "2020-04-08           545.0      167.0    251.0               263.0   \n",
       "2020-04-09           582.0      171.0    255.0               263.0   \n",
       "\n",
       "Country_Region  Western Sahara  Zambia  Zimbabwe  \n",
       "Date                                              \n",
       "2020-01-22                 0.0     0.0       0.0  \n",
       "2020-01-23                 0.0     0.0       0.0  \n",
       "2020-01-24                 0.0     0.0       0.0  \n",
       "2020-01-25                 0.0     0.0       0.0  \n",
       "2020-01-26                 0.0     0.0       0.0  \n",
       "...                        ...     ...       ...  \n",
       "2020-04-05                 4.0    39.0       9.0  \n",
       "2020-04-06                 4.0    39.0      10.0  \n",
       "2020-04-07                 4.0    39.0      11.0  \n",
       "2020-04-08                 4.0    39.0      11.0  \n",
       "2020-04-09                 4.0    39.0      11.0  \n",
       "\n",
       "[79 rows x 184 columns]"
      ]
     },
     "execution_count": 118,
     "metadata": {},
     "output_type": "execute_result"
    }
   ],
   "source": [
    "Confirmed = pd.pivot_table(train, values = \"Confirmed\", index = \"Date\", columns = \"Country_Region\")\n",
    "Fatalities = pd.pivot_table(train, values = \"Fatalities\", index = \"Date\", columns = \"Country_Region\")\n",
    "\n",
    "#used for ARIMA model\n",
    "#arima_train = Confirmed['Serbia'].to_frame()\n",
    "arima_train = Confirmed\n",
    "\n",
    "Confirmed"
   ]
  },
  {
   "cell_type": "markdown",
   "metadata": {},
   "source": [
    "### Normalize data"
   ]
  },
  {
   "cell_type": "code",
   "execution_count": 119,
   "metadata": {},
   "outputs": [],
   "source": [
    "Confirmed = Confirmed.values\n",
    "Fatalities = Fatalities.values\n",
    "\n",
    "Confirmed = Confirmed.astype('float32')\n",
    "Fatalities = Fatalities.astype('float32')\n",
    "\n",
    "scaler_c = MinMaxScaler(feature_range = (0,1))\n",
    "scaler_f = MinMaxScaler(feature_range = (0,1))\n",
    "\n",
    "Confirmed = scaler_c.fit_transform(Confirmed)\n",
    "Fatalities = scaler_f.fit_transform(Fatalities)\n",
    "#print(Confirmed)"
   ]
  },
  {
   "cell_type": "code",
   "execution_count": 120,
   "metadata": {},
   "outputs": [],
   "source": [
    "def split_sequences(sequences, n_steps):\n",
    "    X, y = list(), list()\n",
    "    for i in range(len(sequences)):\n",
    "        end_ix = i + n_steps\n",
    "        if end_ix > len(sequences)-1:\n",
    "            break\n",
    "            \n",
    "        seq_x, seq_y = sequences[i:end_ix, :], sequences[end_ix, :]\n",
    "        X.append(seq_x)\n",
    "        y.append(seq_y)\n",
    "        \n",
    "    return np.array(X), np.array(y)\n"
   ]
  },
  {
   "cell_type": "code",
   "execution_count": 121,
   "metadata": {},
   "outputs": [
    {
     "name": "stdout",
     "output_type": "stream",
     "text": [
      "(76, 3, 184) (76, 184)\n",
      "(76, 3, 184) (76, 184)\n"
     ]
    }
   ],
   "source": [
    "n_steps = 3\n",
    "X_confirmed, y_confirmed = split_sequences(Confirmed, n_steps)\n",
    "X_fatalities, y_fatalities = split_sequences(Fatalities, n_steps)\n",
    "print(X_confirmed.shape, y_confirmed.shape)\n",
    "print(X_fatalities.shape, y_fatalities.shape)\n"
   ]
  },
  {
   "cell_type": "markdown",
   "metadata": {},
   "source": [
    "### Split the data into train and test sets"
   ]
  },
  {
   "cell_type": "markdown",
   "metadata": {},
   "source": [
    "We can't use train_test_split function, since observations in our time series dataset are not independent, and this function does a random split"
   ]
  },
  {
   "cell_type": "markdown",
   "metadata": {},
   "source": [
    "### Confirmed cases"
   ]
  },
  {
   "cell_type": "code",
   "execution_count": 122,
   "metadata": {},
   "outputs": [
    {
     "name": "stdout",
     "output_type": "stream",
     "text": [
      "(68, 3, 184) (8, 3, 184) (68, 184) (8, 184)\n"
     ]
    }
   ],
   "source": [
    "n_c = int(X_confirmed.shape[0]*0.9)\n",
    "\n",
    "X_train_confirmed = X_confirmed[:n_c]\n",
    "X_val_confirmed = X_confirmed[n_c:]\n",
    "y_train_confirmed = y_confirmed[:n_c]\n",
    "y_val_confirmed = y_confirmed[n_c:]\n",
    "\n",
    "print(X_train_confirmed.shape, X_val_confirmed.shape, y_train_confirmed.shape, y_val_confirmed.shape)"
   ]
  },
  {
   "cell_type": "markdown",
   "metadata": {},
   "source": [
    "### Fatal cases"
   ]
  },
  {
   "cell_type": "code",
   "execution_count": 123,
   "metadata": {},
   "outputs": [
    {
     "name": "stdout",
     "output_type": "stream",
     "text": [
      "(68, 3, 184) (8, 3, 184) (68, 184) (8, 184)\n"
     ]
    }
   ],
   "source": [
    "n_f = int(X_fatalities.shape[0]*0.9)\n",
    "\n",
    "X_train_fatal = X_fatalities[:n_f]\n",
    "X_val_fatal = X_fatalities[n_f:]\n",
    "y_train_fatal = y_fatalities[:n_f]\n",
    "y_val_fatal = y_fatalities[n_f:]\n",
    "\n",
    "print(X_train_fatal.shape, X_val_fatal.shape, y_train_fatal.shape, y_val_fatal.shape)"
   ]
  },
  {
   "cell_type": "markdown",
   "metadata": {},
   "source": [
    "### Model for confirmed cases"
   ]
  },
  {
   "cell_type": "code",
   "execution_count": 124,
   "metadata": {},
   "outputs": [
    {
     "name": "stdout",
     "output_type": "stream",
     "text": [
      "Model: \"sequential_12\"\n",
      "_________________________________________________________________\n",
      "Layer (type)                 Output Shape              Param #   \n",
      "=================================================================\n",
      "lstm_23 (LSTM)               (None, 3, 150)            201000    \n",
      "_________________________________________________________________\n",
      "lstm_24 (LSTM)               (None, 200)               280800    \n",
      "_________________________________________________________________\n",
      "dense_12 (Dense)             (None, 184)               36984     \n",
      "=================================================================\n",
      "Total params: 518,784\n",
      "Trainable params: 518,784\n",
      "Non-trainable params: 0\n",
      "_________________________________________________________________\n"
     ]
    }
   ],
   "source": [
    "from keras.layers import LeakyReLU\n",
    "\n",
    "n_features = X_confirmed.shape[2]\n",
    "epochs = 300\n",
    "batch_size = 32\n",
    "\n",
    "from keras.layers import RepeatVector, TimeDistributed\n",
    "\n",
    "model_confirmed = Sequential()\n",
    "model_confirmed.add(LSTM(150, activation = 'relu', input_shape =(n_steps, n_features), return_sequences = True))\n",
    "model_confirmed.add(LSTM(200, activation = 'relu'))\n",
    "# adding relu to output layer so we don't get negative numbers\n",
    "model_confirmed.add(Dense(n_features, activation = 'relu'))\n",
    "\n",
    "model_confirmed.summary()"
   ]
  },
  {
   "cell_type": "code",
   "execution_count": 125,
   "metadata": {},
   "outputs": [
    {
     "name": "stdout",
     "output_type": "stream",
     "text": [
      "Train on 45 samples, validate on 23 samples\n",
      "Epoch 1/300\n",
      "45/45 [==============================] - 1s 26ms/step - loss: 0.0031 - acc: 0.1111 - val_loss: 0.0635 - val_acc: 0.0000e+00\n",
      "Epoch 2/300\n",
      "45/45 [==============================] - 0s 1ms/step - loss: 0.0030 - acc: 0.5111 - val_loss: 0.0632 - val_acc: 0.0000e+00\n",
      "Epoch 3/300\n",
      "45/45 [==============================] - 0s 1ms/step - loss: 0.0029 - acc: 0.5111 - val_loss: 0.0629 - val_acc: 0.0000e+00\n",
      "Epoch 4/300\n",
      "45/45 [==============================] - 0s 2ms/step - loss: 0.0028 - acc: 0.5111 - val_loss: 0.0624 - val_acc: 0.0000e+00\n",
      "Epoch 5/300\n",
      "45/45 [==============================] - 0s 1ms/step - loss: 0.0027 - acc: 0.5111 - val_loss: 0.0619 - val_acc: 0.0000e+00\n",
      "Epoch 6/300\n",
      "45/45 [==============================] - 0s 1ms/step - loss: 0.0025 - acc: 0.5111 - val_loss: 0.0612 - val_acc: 0.0000e+00\n",
      "Epoch 7/300\n",
      "45/45 [==============================] - 0s 1ms/step - loss: 0.0024 - acc: 0.5111 - val_loss: 0.0603 - val_acc: 0.0000e+00\n",
      "Epoch 8/300\n",
      "45/45 [==============================] - 0s 1ms/step - loss: 0.0022 - acc: 0.5111 - val_loss: 0.0593 - val_acc: 0.0000e+00\n",
      "Epoch 9/300\n",
      "45/45 [==============================] - 0s 1ms/step - loss: 0.0019 - acc: 0.5111 - val_loss: 0.0582 - val_acc: 0.0000e+00\n",
      "Epoch 10/300\n",
      "45/45 [==============================] - 0s 1ms/step - loss: 0.0017 - acc: 0.5111 - val_loss: 0.0570 - val_acc: 0.0000e+00\n",
      "Epoch 11/300\n",
      "45/45 [==============================] - 0s 2ms/step - loss: 0.0015 - acc: 0.5111 - val_loss: 0.0559 - val_acc: 0.0000e+00\n",
      "Epoch 12/300\n",
      "45/45 [==============================] - 0s 1ms/step - loss: 0.0012 - acc: 0.5111 - val_loss: 0.0550 - val_acc: 0.0000e+00\n",
      "Epoch 13/300\n",
      "45/45 [==============================] - 0s 1ms/step - loss: 9.2994e-04 - acc: 0.5111 - val_loss: 0.0546 - val_acc: 0.0000e+00\n",
      "Epoch 14/300\n",
      "45/45 [==============================] - 0s 1ms/step - loss: 7.2329e-04 - acc: 0.5111 - val_loss: 0.0544 - val_acc: 0.0000e+00\n",
      "Epoch 15/300\n",
      "45/45 [==============================] - 0s 1ms/step - loss: 5.5431e-04 - acc: 0.5111 - val_loss: 0.0545 - val_acc: 0.0000e+00\n",
      "Epoch 16/300\n",
      "45/45 [==============================] - 0s 1ms/step - loss: 4.6394e-04 - acc: 0.5111 - val_loss: 0.0546 - val_acc: 0.0000e+00\n",
      "Epoch 17/300\n",
      "45/45 [==============================] - 0s 1ms/step - loss: 4.2801e-04 - acc: 0.5111 - val_loss: 0.0550 - val_acc: 0.0000e+00\n",
      "Epoch 18/300\n",
      "45/45 [==============================] - 0s 1ms/step - loss: 4.4211e-04 - acc: 0.5111 - val_loss: 0.0558 - val_acc: 0.0000e+00\n",
      "Epoch 19/300\n",
      "45/45 [==============================] - 0s 1ms/step - loss: 4.5916e-04 - acc: 0.5111 - val_loss: 0.0566 - val_acc: 0.0000e+00\n",
      "Epoch 20/300\n",
      "45/45 [==============================] - 0s 1ms/step - loss: 4.5790e-04 - acc: 0.5111 - val_loss: 0.0572 - val_acc: 0.0000e+00\n",
      "Epoch 21/300\n",
      "45/45 [==============================] - 0s 1ms/step - loss: 4.2642e-04 - acc: 0.5111 - val_loss: 0.0573 - val_acc: 0.0000e+00\n",
      "Epoch 22/300\n",
      "45/45 [==============================] - 0s 1ms/step - loss: 3.8834e-04 - acc: 0.5111 - val_loss: 0.0569 - val_acc: 0.0000e+00\n",
      "Epoch 23/300\n",
      "45/45 [==============================] - 0s 1ms/step - loss: 3.5072e-04 - acc: 0.5111 - val_loss: 0.0560 - val_acc: 0.0000e+00\n",
      "Epoch 24/300\n",
      "45/45 [==============================] - 0s 1ms/step - loss: 3.2297e-04 - acc: 0.5111 - val_loss: 0.0553 - val_acc: 0.0000e+00\n",
      "Epoch 25/300\n",
      "45/45 [==============================] - 0s 1ms/step - loss: 3.0733e-04 - acc: 0.5111 - val_loss: 0.0549 - val_acc: 0.0000e+00\n",
      "Epoch 26/300\n",
      "45/45 [==============================] - 0s 1ms/step - loss: 2.9941e-04 - acc: 0.5111 - val_loss: 0.0548 - val_acc: 0.0000e+00\n",
      "Epoch 27/300\n",
      "45/45 [==============================] - 0s 2ms/step - loss: 2.9235e-04 - acc: 0.5111 - val_loss: 0.0547 - val_acc: 0.0000e+00\n",
      "Epoch 28/300\n",
      "45/45 [==============================] - 0s 1ms/step - loss: 2.7967e-04 - acc: 0.5111 - val_loss: 0.0548 - val_acc: 0.0000e+00\n",
      "Epoch 29/300\n",
      "45/45 [==============================] - 0s 1ms/step - loss: 2.6594e-04 - acc: 0.5111 - val_loss: 0.0548 - val_acc: 0.0000e+00\n",
      "Epoch 30/300\n",
      "45/45 [==============================] - 0s 1ms/step - loss: 2.4951e-04 - acc: 0.5111 - val_loss: 0.0547 - val_acc: 0.0000e+00\n",
      "Epoch 31/300\n",
      "45/45 [==============================] - 0s 1ms/step - loss: 2.3659e-04 - acc: 0.5111 - val_loss: 0.0546 - val_acc: 0.0000e+00\n",
      "Epoch 32/300\n",
      "45/45 [==============================] - 0s 1ms/step - loss: 2.2708e-04 - acc: 0.5111 - val_loss: 0.0546 - val_acc: 0.0000e+00\n",
      "Epoch 33/300\n",
      "45/45 [==============================] - 0s 1ms/step - loss: 2.2000e-04 - acc: 0.5111 - val_loss: 0.0546 - val_acc: 0.0000e+00\n",
      "Epoch 34/300\n",
      "45/45 [==============================] - 0s 2ms/step - loss: 2.1231e-04 - acc: 0.5111 - val_loss: 0.0546 - val_acc: 0.0000e+00\n",
      "Epoch 35/300\n",
      "45/45 [==============================] - 0s 1ms/step - loss: 2.0538e-04 - acc: 0.5111 - val_loss: 0.0548 - val_acc: 0.0000e+00\n",
      "Epoch 36/300\n",
      "45/45 [==============================] - 0s 1ms/step - loss: 1.9729e-04 - acc: 0.5111 - val_loss: 0.0548 - val_acc: 0.0000e+00\n",
      "Epoch 37/300\n",
      "45/45 [==============================] - 0s 2ms/step - loss: 1.9033e-04 - acc: 0.5111 - val_loss: 0.0548 - val_acc: 0.0000e+00\n",
      "Epoch 38/300\n",
      "45/45 [==============================] - 0s 1ms/step - loss: 1.8550e-04 - acc: 0.5111 - val_loss: 0.0546 - val_acc: 0.0000e+00\n",
      "Epoch 39/300\n",
      "45/45 [==============================] - 0s 1ms/step - loss: 1.8251e-04 - acc: 0.5111 - val_loss: 0.0544 - val_acc: 0.0000e+00\n",
      "Epoch 40/300\n",
      "45/45 [==============================] - 0s 1ms/step - loss: 1.7812e-04 - acc: 0.5111 - val_loss: 0.0542 - val_acc: 0.0435\n",
      "Epoch 41/300\n",
      "45/45 [==============================] - 0s 1ms/step - loss: 1.7367e-04 - acc: 0.5111 - val_loss: 0.0540 - val_acc: 0.1304\n",
      "Epoch 42/300\n",
      "45/45 [==============================] - 0s 1ms/step - loss: 1.6893e-04 - acc: 0.5111 - val_loss: 0.0539 - val_acc: 0.1739\n",
      "Epoch 43/300\n",
      "45/45 [==============================] - 0s 1ms/step - loss: 1.6466e-04 - acc: 0.5111 - val_loss: 0.0538 - val_acc: 0.2609\n",
      "Epoch 44/300\n",
      "45/45 [==============================] - 0s 2ms/step - loss: 1.5994e-04 - acc: 0.5111 - val_loss: 0.0539 - val_acc: 0.3478\n",
      "Epoch 45/300\n",
      "45/45 [==============================] - 0s 1ms/step - loss: 1.5632e-04 - acc: 0.5111 - val_loss: 0.0540 - val_acc: 0.3913\n",
      "Epoch 46/300\n",
      "45/45 [==============================] - 0s 1ms/step - loss: 1.5186e-04 - acc: 0.5111 - val_loss: 0.0537 - val_acc: 0.4783\n",
      "Epoch 47/300\n",
      "45/45 [==============================] - 0s 1ms/step - loss: 1.4782e-04 - acc: 0.5111 - val_loss: 0.0534 - val_acc: 0.6087\n",
      "Epoch 48/300\n",
      "45/45 [==============================] - 0s 1ms/step - loss: 1.4434e-04 - acc: 0.5111 - val_loss: 0.0532 - val_acc: 0.6957\n",
      "Epoch 49/300\n",
      "45/45 [==============================] - 0s 1ms/step - loss: 1.3995e-04 - acc: 0.5111 - val_loss: 0.0530 - val_acc: 0.7391\n",
      "Epoch 50/300\n",
      "45/45 [==============================] - 0s 1ms/step - loss: 1.3603e-04 - acc: 0.5111 - val_loss: 0.0527 - val_acc: 0.8261\n",
      "Epoch 51/300\n",
      "45/45 [==============================] - 0s 1ms/step - loss: 1.3201e-04 - acc: 0.5111 - val_loss: 0.0523 - val_acc: 0.9565\n",
      "Epoch 52/300\n",
      "45/45 [==============================] - 0s 2ms/step - loss: 1.2839e-04 - acc: 0.5111 - val_loss: 0.0522 - val_acc: 1.0000\n",
      "Epoch 53/300\n",
      "45/45 [==============================] - 0s 2ms/step - loss: 1.2438e-04 - acc: 0.5333 - val_loss: 0.0522 - val_acc: 1.0000\n",
      "Epoch 54/300\n",
      "45/45 [==============================] - 0s 1ms/step - loss: 1.2105e-04 - acc: 0.5556 - val_loss: 0.0520 - val_acc: 1.0000\n",
      "Epoch 55/300\n",
      "45/45 [==============================] - 0s 2ms/step - loss: 1.1680e-04 - acc: 0.5778 - val_loss: 0.0517 - val_acc: 1.0000\n",
      "Epoch 56/300\n",
      "45/45 [==============================] - 0s 1ms/step - loss: 1.1345e-04 - acc: 0.6000 - val_loss: 0.0515 - val_acc: 1.0000\n",
      "Epoch 57/300\n",
      "45/45 [==============================] - 0s 1ms/step - loss: 1.0911e-04 - acc: 0.6222 - val_loss: 0.0512 - val_acc: 1.0000\n",
      "Epoch 58/300\n",
      "45/45 [==============================] - 0s 1ms/step - loss: 1.0514e-04 - acc: 0.6444 - val_loss: 0.0510 - val_acc: 1.0000\n",
      "Epoch 59/300\n",
      "45/45 [==============================] - 0s 1ms/step - loss: 1.0085e-04 - acc: 0.6444 - val_loss: 0.0508 - val_acc: 1.0000\n",
      "Epoch 60/300\n"
     ]
    },
    {
     "name": "stdout",
     "output_type": "stream",
     "text": [
      "45/45 [==============================] - 0s 1ms/step - loss: 9.7513e-05 - acc: 0.6444 - val_loss: 0.0506 - val_acc: 1.0000\n",
      "Epoch 61/300\n",
      "45/45 [==============================] - 0s 1ms/step - loss: 9.3348e-05 - acc: 0.6667 - val_loss: 0.0504 - val_acc: 1.0000\n",
      "Epoch 62/300\n",
      "45/45 [==============================] - 0s 1ms/step - loss: 8.9007e-05 - acc: 0.6667 - val_loss: 0.0501 - val_acc: 1.0000\n",
      "Epoch 63/300\n",
      "45/45 [==============================] - 0s 1ms/step - loss: 8.5326e-05 - acc: 0.6667 - val_loss: 0.0498 - val_acc: 1.0000\n",
      "Epoch 64/300\n",
      "45/45 [==============================] - 0s 1ms/step - loss: 8.1322e-05 - acc: 0.6667 - val_loss: 0.0496 - val_acc: 1.0000\n",
      "Epoch 65/300\n",
      "45/45 [==============================] - 0s 1ms/step - loss: 7.7995e-05 - acc: 0.6667 - val_loss: 0.0494 - val_acc: 1.0000\n",
      "Epoch 66/300\n",
      "45/45 [==============================] - 0s 1ms/step - loss: 7.4596e-05 - acc: 0.6667 - val_loss: 0.0492 - val_acc: 1.0000\n",
      "Epoch 67/300\n",
      "45/45 [==============================] - 0s 1ms/step - loss: 7.0813e-05 - acc: 0.6667 - val_loss: 0.0490 - val_acc: 1.0000\n",
      "Epoch 68/300\n",
      "45/45 [==============================] - 0s 1ms/step - loss: 6.7667e-05 - acc: 0.6667 - val_loss: 0.0488 - val_acc: 1.0000\n",
      "Epoch 69/300\n",
      "45/45 [==============================] - 0s 1ms/step - loss: 6.4999e-05 - acc: 0.6667 - val_loss: 0.0485 - val_acc: 1.0000\n",
      "Epoch 70/300\n",
      "45/45 [==============================] - 0s 1ms/step - loss: 6.2643e-05 - acc: 0.6667 - val_loss: 0.0483 - val_acc: 1.0000\n",
      "Epoch 71/300\n",
      "45/45 [==============================] - 0s 1ms/step - loss: 6.0466e-05 - acc: 0.6667 - val_loss: 0.0481 - val_acc: 0.9130\n",
      "Epoch 72/300\n",
      "45/45 [==============================] - 0s 1ms/step - loss: 5.8378e-05 - acc: 0.6889 - val_loss: 0.0480 - val_acc: 0.8696\n",
      "Epoch 73/300\n",
      "45/45 [==============================] - 0s 1ms/step - loss: 5.6162e-05 - acc: 0.7333 - val_loss: 0.0478 - val_acc: 0.8261\n",
      "Epoch 74/300\n",
      "45/45 [==============================] - 0s 1ms/step - loss: 5.4199e-05 - acc: 0.7778 - val_loss: 0.0476 - val_acc: 0.7826\n",
      "Epoch 75/300\n",
      "45/45 [==============================] - 0s 1ms/step - loss: 5.2515e-05 - acc: 0.7778 - val_loss: 0.0474 - val_acc: 0.6957\n",
      "Epoch 76/300\n",
      "45/45 [==============================] - 0s 1ms/step - loss: 5.1455e-05 - acc: 0.8000 - val_loss: 0.0473 - val_acc: 0.6522\n",
      "Epoch 77/300\n",
      "45/45 [==============================] - 0s 1ms/step - loss: 5.0706e-05 - acc: 0.8444 - val_loss: 0.0472 - val_acc: 0.6522\n",
      "Epoch 78/300\n",
      "45/45 [==============================] - 0s 1ms/step - loss: 4.9740e-05 - acc: 0.8444 - val_loss: 0.0470 - val_acc: 0.6087\n",
      "Epoch 79/300\n",
      "45/45 [==============================] - 0s 1ms/step - loss: 4.9145e-05 - acc: 0.8444 - val_loss: 0.0469 - val_acc: 0.5652\n",
      "Epoch 80/300\n",
      "45/45 [==============================] - 0s 1ms/step - loss: 4.8395e-05 - acc: 0.8222 - val_loss: 0.0468 - val_acc: 0.4783\n",
      "Epoch 81/300\n",
      "45/45 [==============================] - 0s 1ms/step - loss: 4.7653e-05 - acc: 0.8222 - val_loss: 0.0467 - val_acc: 0.3913\n",
      "Epoch 82/300\n",
      "45/45 [==============================] - 0s 1ms/step - loss: 4.6962e-05 - acc: 0.8000 - val_loss: 0.0467 - val_acc: 0.3478\n",
      "Epoch 83/300\n",
      "45/45 [==============================] - 0s 1ms/step - loss: 4.6398e-05 - acc: 0.8000 - val_loss: 0.0466 - val_acc: 0.3043\n",
      "Epoch 84/300\n",
      "45/45 [==============================] - 0s 1ms/step - loss: 4.6210e-05 - acc: 0.8000 - val_loss: 0.0466 - val_acc: 0.3043\n",
      "Epoch 85/300\n",
      "45/45 [==============================] - 0s 1ms/step - loss: 4.5712e-05 - acc: 0.8222 - val_loss: 0.0467 - val_acc: 0.3043\n",
      "Epoch 86/300\n",
      "45/45 [==============================] - 0s 1ms/step - loss: 4.5110e-05 - acc: 0.8222 - val_loss: 0.0467 - val_acc: 0.3478\n",
      "Epoch 87/300\n",
      "45/45 [==============================] - 0s 1ms/step - loss: 4.4743e-05 - acc: 0.8222 - val_loss: 0.0467 - val_acc: 0.3478\n",
      "Epoch 88/300\n",
      "45/45 [==============================] - 0s 1ms/step - loss: 4.4290e-05 - acc: 0.8444 - val_loss: 0.0468 - val_acc: 0.3478\n",
      "Epoch 89/300\n",
      "45/45 [==============================] - 0s 1ms/step - loss: 4.3971e-05 - acc: 0.8444 - val_loss: 0.0468 - val_acc: 0.3478\n",
      "Epoch 90/300\n",
      "45/45 [==============================] - 0s 1ms/step - loss: 4.3457e-05 - acc: 0.8444 - val_loss: 0.0467 - val_acc: 0.3478\n",
      "Epoch 91/300\n",
      "45/45 [==============================] - 0s 1ms/step - loss: 4.3092e-05 - acc: 0.8444 - val_loss: 0.0467 - val_acc: 0.3478\n",
      "Epoch 92/300\n",
      "45/45 [==============================] - 0s 1ms/step - loss: 4.2935e-05 - acc: 0.8667 - val_loss: 0.0468 - val_acc: 0.3478\n",
      "Epoch 93/300\n",
      "45/45 [==============================] - 0s 1ms/step - loss: 4.2528e-05 - acc: 0.8667 - val_loss: 0.0469 - val_acc: 0.3478\n",
      "Epoch 94/300\n",
      "45/45 [==============================] - 0s 1ms/step - loss: 4.2119e-05 - acc: 0.8667 - val_loss: 0.0469 - val_acc: 0.3478\n",
      "Epoch 95/300\n",
      "45/45 [==============================] - 0s 1ms/step - loss: 4.1955e-05 - acc: 0.8444 - val_loss: 0.0470 - val_acc: 0.3478\n",
      "Epoch 96/300\n",
      "45/45 [==============================] - 0s 1ms/step - loss: 4.1626e-05 - acc: 0.8444 - val_loss: 0.0469 - val_acc: 0.3043\n",
      "Epoch 97/300\n",
      "45/45 [==============================] - 0s 1ms/step - loss: 4.1192e-05 - acc: 0.8667 - val_loss: 0.0468 - val_acc: 0.3043\n",
      "Epoch 98/300\n",
      "45/45 [==============================] - 0s 1ms/step - loss: 4.0927e-05 - acc: 0.8889 - val_loss: 0.0469 - val_acc: 0.3043\n",
      "Epoch 99/300\n",
      "45/45 [==============================] - 0s 1ms/step - loss: 4.0624e-05 - acc: 0.8667 - val_loss: 0.0470 - val_acc: 0.3043\n",
      "Epoch 100/300\n",
      "45/45 [==============================] - 0s 1ms/step - loss: 4.0465e-05 - acc: 0.8667 - val_loss: 0.0470 - val_acc: 0.3043\n",
      "Epoch 101/300\n",
      "45/45 [==============================] - 0s 1ms/step - loss: 4.0364e-05 - acc: 0.8444 - val_loss: 0.0469 - val_acc: 0.3043\n",
      "Epoch 102/300\n",
      "45/45 [==============================] - 0s 1ms/step - loss: 3.9921e-05 - acc: 0.8444 - val_loss: 0.0469 - val_acc: 0.2609\n",
      "Epoch 103/300\n",
      "45/45 [==============================] - 0s 1ms/step - loss: 3.9766e-05 - acc: 0.8444 - val_loss: 0.0469 - val_acc: 0.2609\n",
      "Epoch 104/300\n",
      "45/45 [==============================] - 0s 1ms/step - loss: 3.9610e-05 - acc: 0.8667 - val_loss: 0.0470 - val_acc: 0.2609\n",
      "Epoch 105/300\n",
      "45/45 [==============================] - 0s 1ms/step - loss: 3.9362e-05 - acc: 0.8667 - val_loss: 0.0470 - val_acc: 0.2609\n",
      "Epoch 106/300\n",
      "45/45 [==============================] - 0s 1ms/step - loss: 3.9046e-05 - acc: 0.8889 - val_loss: 0.0469 - val_acc: 0.2609\n",
      "Epoch 107/300\n",
      "45/45 [==============================] - 0s 1ms/step - loss: 3.8925e-05 - acc: 0.8889 - val_loss: 0.0469 - val_acc: 0.2609\n",
      "Epoch 108/300\n",
      "45/45 [==============================] - 0s 1ms/step - loss: 3.8827e-05 - acc: 0.8889 - val_loss: 0.0469 - val_acc: 0.2609\n",
      "Epoch 109/300\n",
      "45/45 [==============================] - 0s 1ms/step - loss: 3.8619e-05 - acc: 0.8889 - val_loss: 0.0469 - val_acc: 0.2609\n",
      "Epoch 110/300\n",
      "45/45 [==============================] - 0s 1ms/step - loss: 3.8453e-05 - acc: 0.9111 - val_loss: 0.0469 - val_acc: 0.2609\n",
      "Epoch 111/300\n",
      "45/45 [==============================] - 0s 1ms/step - loss: 3.8389e-05 - acc: 0.9333 - val_loss: 0.0469 - val_acc: 0.2609\n",
      "Epoch 112/300\n",
      "45/45 [==============================] - 0s 1ms/step - loss: 3.8082e-05 - acc: 0.9333 - val_loss: 0.0469 - val_acc: 0.2609\n",
      "Epoch 113/300\n",
      "45/45 [==============================] - 0s 1ms/step - loss: 3.7989e-05 - acc: 0.9333 - val_loss: 0.0470 - val_acc: 0.2609\n",
      "Epoch 114/300\n",
      "45/45 [==============================] - 0s 1ms/step - loss: 3.7901e-05 - acc: 0.9333 - val_loss: 0.0470 - val_acc: 0.2609\n",
      "Epoch 115/300\n",
      "45/45 [==============================] - 0s 1ms/step - loss: 3.7923e-05 - acc: 0.9111 - val_loss: 0.0470 - val_acc: 0.2609\n",
      "Epoch 116/300\n",
      "45/45 [==============================] - 0s 1ms/step - loss: 3.7713e-05 - acc: 0.9111 - val_loss: 0.0470 - val_acc: 0.2609\n",
      "Epoch 117/300\n",
      "45/45 [==============================] - 0s 1ms/step - loss: 3.7500e-05 - acc: 0.9333 - val_loss: 0.0469 - val_acc: 0.2174\n",
      "Epoch 118/300\n",
      "45/45 [==============================] - 0s 1ms/step - loss: 3.7215e-05 - acc: 0.9333 - val_loss: 0.0469 - val_acc: 0.2609\n",
      "Epoch 119/300\n",
      "45/45 [==============================] - 0s 1ms/step - loss: 3.7134e-05 - acc: 0.9333 - val_loss: 0.0468 - val_acc: 0.2609\n",
      "Epoch 120/300\n"
     ]
    },
    {
     "name": "stdout",
     "output_type": "stream",
     "text": [
      "45/45 [==============================] - 0s 1ms/step - loss: 3.7263e-05 - acc: 0.9333 - val_loss: 0.0469 - val_acc: 0.2609\n",
      "Epoch 121/300\n",
      "45/45 [==============================] - 0s 1ms/step - loss: 3.7501e-05 - acc: 0.9333 - val_loss: 0.0469 - val_acc: 0.2609\n",
      "Epoch 122/300\n",
      "45/45 [==============================] - 0s 1ms/step - loss: 3.7501e-05 - acc: 0.9333 - val_loss: 0.0469 - val_acc: 0.2174\n",
      "Epoch 123/300\n",
      "45/45 [==============================] - 0s 1ms/step - loss: 3.7316e-05 - acc: 0.9333 - val_loss: 0.0469 - val_acc: 0.2174\n",
      "Epoch 124/300\n",
      "45/45 [==============================] - 0s 1ms/step - loss: 3.6998e-05 - acc: 0.9333 - val_loss: 0.0469 - val_acc: 0.2174\n",
      "Epoch 125/300\n",
      "45/45 [==============================] - 0s 1ms/step - loss: 3.7003e-05 - acc: 0.9333 - val_loss: 0.0468 - val_acc: 0.2174\n",
      "Epoch 126/300\n",
      "45/45 [==============================] - 0s 1ms/step - loss: 3.6584e-05 - acc: 0.9333 - val_loss: 0.0468 - val_acc: 0.2174\n",
      "Epoch 127/300\n",
      "45/45 [==============================] - 0s 1ms/step - loss: 3.6680e-05 - acc: 0.9333 - val_loss: 0.0469 - val_acc: 0.2609\n",
      "Epoch 128/300\n",
      "45/45 [==============================] - 0s 1ms/step - loss: 3.6519e-05 - acc: 0.9333 - val_loss: 0.0470 - val_acc: 0.2609\n",
      "Epoch 129/300\n",
      "45/45 [==============================] - 0s 1ms/step - loss: 3.6296e-05 - acc: 0.9333 - val_loss: 0.0470 - val_acc: 0.2609\n",
      "Epoch 130/300\n",
      "45/45 [==============================] - 0s 1ms/step - loss: 3.6356e-05 - acc: 0.9556 - val_loss: 0.0470 - val_acc: 0.2609\n",
      "Epoch 131/300\n",
      "45/45 [==============================] - 0s 1ms/step - loss: 3.6175e-05 - acc: 0.9556 - val_loss: 0.0470 - val_acc: 0.2609\n",
      "Epoch 132/300\n",
      "45/45 [==============================] - 0s 1ms/step - loss: 3.5974e-05 - acc: 0.9556 - val_loss: 0.0470 - val_acc: 0.2609\n",
      "Epoch 133/300\n",
      "45/45 [==============================] - 0s 1ms/step - loss: 3.5873e-05 - acc: 0.9556 - val_loss: 0.0469 - val_acc: 0.2609\n",
      "Epoch 134/300\n",
      "45/45 [==============================] - 0s 1ms/step - loss: 3.5955e-05 - acc: 0.9556 - val_loss: 0.0469 - val_acc: 0.2609\n",
      "Epoch 135/300\n",
      "45/45 [==============================] - 0s 1ms/step - loss: 3.5988e-05 - acc: 0.9556 - val_loss: 0.0469 - val_acc: 0.2609\n",
      "Epoch 136/300\n",
      "45/45 [==============================] - 0s 1ms/step - loss: 3.5707e-05 - acc: 0.9556 - val_loss: 0.0469 - val_acc: 0.2609\n",
      "Epoch 137/300\n",
      "45/45 [==============================] - 0s 1ms/step - loss: 3.5716e-05 - acc: 0.9333 - val_loss: 0.0470 - val_acc: 0.2609\n",
      "Epoch 138/300\n",
      "45/45 [==============================] - 0s 1ms/step - loss: 3.5943e-05 - acc: 0.9333 - val_loss: 0.0470 - val_acc: 0.2609\n",
      "Epoch 139/300\n",
      "45/45 [==============================] - 0s 1ms/step - loss: 3.5757e-05 - acc: 0.9333 - val_loss: 0.0470 - val_acc: 0.2609\n",
      "Epoch 140/300\n",
      "45/45 [==============================] - 0s 1ms/step - loss: 3.5454e-05 - acc: 0.9556 - val_loss: 0.0470 - val_acc: 0.2609\n",
      "Epoch 141/300\n",
      "45/45 [==============================] - 0s 1ms/step - loss: 3.5460e-05 - acc: 0.9556 - val_loss: 0.0470 - val_acc: 0.2609\n",
      "Epoch 142/300\n",
      "45/45 [==============================] - 0s 1ms/step - loss: 3.5161e-05 - acc: 0.9556 - val_loss: 0.0469 - val_acc: 0.2609\n",
      "Epoch 143/300\n",
      "45/45 [==============================] - 0s 1ms/step - loss: 3.5297e-05 - acc: 0.9778 - val_loss: 0.0468 - val_acc: 0.2609\n",
      "Epoch 144/300\n",
      "45/45 [==============================] - 0s 1ms/step - loss: 3.5260e-05 - acc: 0.9556 - val_loss: 0.0468 - val_acc: 0.2609\n",
      "Epoch 145/300\n",
      "45/45 [==============================] - 0s 1ms/step - loss: 3.5368e-05 - acc: 0.9556 - val_loss: 0.0468 - val_acc: 0.2174\n",
      "Epoch 146/300\n",
      "45/45 [==============================] - 0s 1ms/step - loss: 3.5160e-05 - acc: 0.9556 - val_loss: 0.0469 - val_acc: 0.2609\n",
      "Epoch 147/300\n",
      "45/45 [==============================] - 0s 1ms/step - loss: 3.4996e-05 - acc: 0.9778 - val_loss: 0.0470 - val_acc: 0.2609\n",
      "Epoch 148/300\n",
      "45/45 [==============================] - 0s 1ms/step - loss: 3.4961e-05 - acc: 1.0000 - val_loss: 0.0470 - val_acc: 0.2609\n",
      "Epoch 149/300\n",
      "45/45 [==============================] - 0s 1ms/step - loss: 3.4946e-05 - acc: 1.0000 - val_loss: 0.0470 - val_acc: 0.2609\n",
      "Epoch 150/300\n",
      "45/45 [==============================] - 0s 1ms/step - loss: 3.4972e-05 - acc: 1.0000 - val_loss: 0.0470 - val_acc: 0.1304\n",
      "Epoch 151/300\n",
      "45/45 [==============================] - 0s 1ms/step - loss: 3.5178e-05 - acc: 0.9778 - val_loss: 0.0470 - val_acc: 0.0870\n",
      "Epoch 152/300\n",
      "45/45 [==============================] - 0s 1ms/step - loss: 3.4816e-05 - acc: 0.9778 - val_loss: 0.0470 - val_acc: 0.0435\n",
      "Epoch 153/300\n",
      "45/45 [==============================] - 0s 1ms/step - loss: 3.4711e-05 - acc: 0.9778 - val_loss: 0.0470 - val_acc: 0.0000e+00\n",
      "Epoch 154/300\n",
      "45/45 [==============================] - 0s 1ms/step - loss: 3.4710e-05 - acc: 0.9556 - val_loss: 0.0470 - val_acc: 0.0000e+00\n",
      "Epoch 155/300\n",
      "45/45 [==============================] - 0s 1ms/step - loss: 3.4907e-05 - acc: 0.9333 - val_loss: 0.0470 - val_acc: 0.0000e+00\n",
      "Epoch 156/300\n",
      "45/45 [==============================] - 0s 1ms/step - loss: 3.4646e-05 - acc: 0.9556 - val_loss: 0.0469 - val_acc: 0.0000e+00\n",
      "Epoch 157/300\n",
      "45/45 [==============================] - 0s 2ms/step - loss: 3.4559e-05 - acc: 0.9778 - val_loss: 0.0470 - val_acc: 0.0435\n",
      "Epoch 158/300\n",
      "45/45 [==============================] - 0s 2ms/step - loss: 3.4532e-05 - acc: 0.9778 - val_loss: 0.0471 - val_acc: 0.0435\n",
      "Epoch 159/300\n",
      "45/45 [==============================] - 0s 2ms/step - loss: 3.4539e-05 - acc: 0.9778 - val_loss: 0.0470 - val_acc: 0.0870\n",
      "Epoch 160/300\n",
      "45/45 [==============================] - 0s 1ms/step - loss: 3.4349e-05 - acc: 1.0000 - val_loss: 0.0469 - val_acc: 0.1304\n",
      "Epoch 161/300\n",
      "45/45 [==============================] - 0s 1ms/step - loss: 3.4574e-05 - acc: 0.9778 - val_loss: 0.0469 - val_acc: 0.0870\n",
      "Epoch 162/300\n",
      "45/45 [==============================] - 0s 1ms/step - loss: 3.4309e-05 - acc: 1.0000 - val_loss: 0.0469 - val_acc: 0.0000e+00\n",
      "Epoch 163/300\n",
      "45/45 [==============================] - 0s 1ms/step - loss: 3.4268e-05 - acc: 0.9556 - val_loss: 0.0470 - val_acc: 0.0000e+00\n",
      "Epoch 164/300\n",
      "45/45 [==============================] - 0s 1ms/step - loss: 3.4396e-05 - acc: 0.9333 - val_loss: 0.0470 - val_acc: 0.0000e+00\n",
      "Epoch 165/300\n",
      "45/45 [==============================] - 0s 1ms/step - loss: 3.4326e-05 - acc: 0.9333 - val_loss: 0.0469 - val_acc: 0.0000e+00\n",
      "Epoch 166/300\n",
      "45/45 [==============================] - 0s 1ms/step - loss: 3.4169e-05 - acc: 0.9778 - val_loss: 0.0470 - val_acc: 0.0000e+00\n",
      "Epoch 167/300\n",
      "45/45 [==============================] - 0s 1ms/step - loss: 3.4171e-05 - acc: 1.0000 - val_loss: 0.0470 - val_acc: 0.0000e+00\n",
      "Epoch 168/300\n",
      "45/45 [==============================] - 0s 1ms/step - loss: 3.3965e-05 - acc: 1.0000 - val_loss: 0.0470 - val_acc: 0.0000e+00\n",
      "Epoch 169/300\n",
      "45/45 [==============================] - 0s 1ms/step - loss: 3.4035e-05 - acc: 1.0000 - val_loss: 0.0470 - val_acc: 0.0435\n",
      "Epoch 170/300\n",
      "45/45 [==============================] - 0s 1ms/step - loss: 3.4003e-05 - acc: 0.9778 - val_loss: 0.0470 - val_acc: 0.0000e+00\n",
      "Epoch 171/300\n",
      "45/45 [==============================] - 0s 1ms/step - loss: 3.3731e-05 - acc: 0.9778 - val_loss: 0.0469 - val_acc: 0.0000e+00\n",
      "Epoch 172/300\n",
      "45/45 [==============================] - 0s 1ms/step - loss: 3.3932e-05 - acc: 0.9556 - val_loss: 0.0469 - val_acc: 0.0000e+00\n",
      "Epoch 173/300\n",
      "45/45 [==============================] - 0s 1ms/step - loss: 3.3846e-05 - acc: 0.9778 - val_loss: 0.0470 - val_acc: 0.0000e+00\n",
      "Epoch 174/300\n",
      "45/45 [==============================] - 0s 1ms/step - loss: 3.3719e-05 - acc: 0.9556 - val_loss: 0.0471 - val_acc: 0.0000e+00\n",
      "Epoch 175/300\n",
      "45/45 [==============================] - 0s 1ms/step - loss: 3.3663e-05 - acc: 0.9556 - val_loss: 0.0471 - val_acc: 0.0000e+00\n",
      "Epoch 176/300\n",
      "45/45 [==============================] - 0s 1ms/step - loss: 3.3735e-05 - acc: 0.9778 - val_loss: 0.0472 - val_acc: 0.0000e+00\n",
      "Epoch 177/300\n",
      "45/45 [==============================] - 0s 2ms/step - loss: 3.3839e-05 - acc: 0.9778 - val_loss: 0.0472 - val_acc: 0.0000e+00\n",
      "Epoch 178/300\n",
      "45/45 [==============================] - 0s 1ms/step - loss: 3.3541e-05 - acc: 0.9333 - val_loss: 0.0472 - val_acc: 0.0000e+00\n",
      "Epoch 179/300\n"
     ]
    },
    {
     "name": "stdout",
     "output_type": "stream",
     "text": [
      "45/45 [==============================] - 0s 2ms/step - loss: 3.3984e-05 - acc: 0.9333 - val_loss: 0.0471 - val_acc: 0.0000e+00\n",
      "Epoch 180/300\n",
      "45/45 [==============================] - 0s 2ms/step - loss: 3.3863e-05 - acc: 0.9556 - val_loss: 0.0471 - val_acc: 0.0000e+00\n",
      "Epoch 181/300\n",
      "45/45 [==============================] - 0s 2ms/step - loss: 3.3647e-05 - acc: 0.9556 - val_loss: 0.0471 - val_acc: 0.0000e+00\n",
      "Epoch 182/300\n",
      "45/45 [==============================] - 0s 2ms/step - loss: 3.3451e-05 - acc: 0.9778 - val_loss: 0.0471 - val_acc: 0.0000e+00\n",
      "Epoch 183/300\n",
      "45/45 [==============================] - 0s 1ms/step - loss: 3.3440e-05 - acc: 0.9778 - val_loss: 0.0471 - val_acc: 0.0000e+00\n",
      "Epoch 184/300\n",
      "45/45 [==============================] - 0s 1ms/step - loss: 3.3535e-05 - acc: 0.9556 - val_loss: 0.0471 - val_acc: 0.0000e+00\n",
      "Epoch 185/300\n",
      "45/45 [==============================] - 0s 1ms/step - loss: 3.3506e-05 - acc: 0.9778 - val_loss: 0.0471 - val_acc: 0.0000e+00\n",
      "Epoch 186/300\n",
      "45/45 [==============================] - 0s 1ms/step - loss: 3.3472e-05 - acc: 1.0000 - val_loss: 0.0471 - val_acc: 0.0000e+00\n",
      "Epoch 187/300\n",
      "45/45 [==============================] - 0s 1ms/step - loss: 3.3445e-05 - acc: 0.9778 - val_loss: 0.0471 - val_acc: 0.0000e+00\n",
      "Epoch 188/300\n",
      "45/45 [==============================] - 0s 1ms/step - loss: 3.3288e-05 - acc: 0.9778 - val_loss: 0.0472 - val_acc: 0.0000e+00\n",
      "Epoch 189/300\n",
      "45/45 [==============================] - 0s 1ms/step - loss: 3.3364e-05 - acc: 0.9778 - val_loss: 0.0472 - val_acc: 0.0000e+00\n",
      "Epoch 190/300\n",
      "45/45 [==============================] - 0s 1ms/step - loss: 3.3247e-05 - acc: 0.9556 - val_loss: 0.0472 - val_acc: 0.0000e+00\n",
      "Epoch 191/300\n",
      "45/45 [==============================] - 0s 1ms/step - loss: 3.3129e-05 - acc: 0.9556 - val_loss: 0.0471 - val_acc: 0.0000e+00\n",
      "Epoch 192/300\n",
      "45/45 [==============================] - 0s 1ms/step - loss: 3.3172e-05 - acc: 0.9778 - val_loss: 0.0471 - val_acc: 0.0000e+00\n",
      "Epoch 193/300\n",
      "45/45 [==============================] - 0s 1ms/step - loss: 3.3187e-05 - acc: 0.9778 - val_loss: 0.0471 - val_acc: 0.0000e+00\n",
      "Epoch 194/300\n",
      "45/45 [==============================] - 0s 1ms/step - loss: 3.3054e-05 - acc: 0.9778 - val_loss: 0.0472 - val_acc: 0.0000e+00\n",
      "Epoch 195/300\n",
      "45/45 [==============================] - 0s 1ms/step - loss: 3.3181e-05 - acc: 0.9556 - val_loss: 0.0472 - val_acc: 0.0000e+00\n",
      "Epoch 196/300\n",
      "45/45 [==============================] - 0s 1ms/step - loss: 3.3074e-05 - acc: 0.9778 - val_loss: 0.0472 - val_acc: 0.0000e+00\n",
      "Epoch 197/300\n",
      "45/45 [==============================] - 0s 1ms/step - loss: 3.3003e-05 - acc: 0.9778 - val_loss: 0.0472 - val_acc: 0.0000e+00\n",
      "Epoch 198/300\n",
      "45/45 [==============================] - 0s 1ms/step - loss: 3.2897e-05 - acc: 0.9556 - val_loss: 0.0472 - val_acc: 0.0000e+00\n",
      "Epoch 199/300\n",
      "45/45 [==============================] - 0s 1ms/step - loss: 3.2944e-05 - acc: 0.9778 - val_loss: 0.0472 - val_acc: 0.0000e+00\n",
      "Epoch 200/300\n",
      "45/45 [==============================] - 0s 1ms/step - loss: 3.2990e-05 - acc: 0.9778 - val_loss: 0.0472 - val_acc: 0.0000e+00\n",
      "Epoch 201/300\n",
      "45/45 [==============================] - 0s 1ms/step - loss: 3.2810e-05 - acc: 0.9778 - val_loss: 0.0472 - val_acc: 0.0000e+00\n",
      "Epoch 202/300\n",
      "45/45 [==============================] - 0s 1ms/step - loss: 3.2846e-05 - acc: 0.9556 - val_loss: 0.0472 - val_acc: 0.0000e+00\n",
      "Epoch 203/300\n",
      "45/45 [==============================] - 0s 1ms/step - loss: 3.2736e-05 - acc: 0.9556 - val_loss: 0.0473 - val_acc: 0.0000e+00\n",
      "Epoch 204/300\n",
      "45/45 [==============================] - 0s 1ms/step - loss: 3.2934e-05 - acc: 0.9556 - val_loss: 0.0474 - val_acc: 0.0000e+00\n",
      "Epoch 205/300\n",
      "45/45 [==============================] - 0s 1ms/step - loss: 3.2863e-05 - acc: 0.9556 - val_loss: 0.0474 - val_acc: 0.0000e+00\n",
      "Epoch 206/300\n",
      "45/45 [==============================] - 0s 1ms/step - loss: 3.2835e-05 - acc: 0.9333 - val_loss: 0.0474 - val_acc: 0.0000e+00\n",
      "Epoch 207/300\n",
      "45/45 [==============================] - 0s 1ms/step - loss: 3.2599e-05 - acc: 0.9556 - val_loss: 0.0473 - val_acc: 0.0000e+00\n",
      "Epoch 208/300\n",
      "45/45 [==============================] - 0s 2ms/step - loss: 3.2544e-05 - acc: 0.9556 - val_loss: 0.0473 - val_acc: 0.0000e+00\n",
      "Epoch 209/300\n",
      "45/45 [==============================] - 0s 2ms/step - loss: 3.2798e-05 - acc: 0.9778 - val_loss: 0.0473 - val_acc: 0.0000e+00\n",
      "Epoch 210/300\n",
      "45/45 [==============================] - 0s 2ms/step - loss: 3.2719e-05 - acc: 0.9556 - val_loss: 0.0473 - val_acc: 0.0000e+00\n",
      "Epoch 211/300\n",
      "45/45 [==============================] - 0s 1ms/step - loss: 3.2559e-05 - acc: 0.9556 - val_loss: 0.0473 - val_acc: 0.0000e+00\n",
      "Epoch 212/300\n",
      "45/45 [==============================] - 0s 1ms/step - loss: 3.2341e-05 - acc: 0.9778 - val_loss: 0.0474 - val_acc: 0.0000e+00\n",
      "Epoch 213/300\n",
      "45/45 [==============================] - 0s 1ms/step - loss: 3.2586e-05 - acc: 0.9778 - val_loss: 0.0474 - val_acc: 0.0000e+00\n",
      "Epoch 214/300\n",
      "45/45 [==============================] - 0s 1ms/step - loss: 3.2840e-05 - acc: 0.9778 - val_loss: 0.0474 - val_acc: 0.0000e+00\n",
      "Epoch 215/300\n",
      "45/45 [==============================] - 0s 1ms/step - loss: 3.2895e-05 - acc: 0.9778 - val_loss: 0.0474 - val_acc: 0.0000e+00\n",
      "Epoch 216/300\n",
      "45/45 [==============================] - 0s 1ms/step - loss: 3.2579e-05 - acc: 0.9778 - val_loss: 0.0474 - val_acc: 0.0000e+00\n",
      "Epoch 217/300\n",
      "45/45 [==============================] - 0s 1ms/step - loss: 3.2338e-05 - acc: 0.9778 - val_loss: 0.0475 - val_acc: 0.0000e+00\n",
      "Epoch 218/300\n",
      "45/45 [==============================] - 0s 1ms/step - loss: 3.2581e-05 - acc: 0.9778 - val_loss: 0.0475 - val_acc: 0.0000e+00\n",
      "Epoch 219/300\n",
      "45/45 [==============================] - 0s 1ms/step - loss: 3.2732e-05 - acc: 0.9556 - val_loss: 0.0475 - val_acc: 0.0000e+00\n",
      "Epoch 220/300\n",
      "45/45 [==============================] - 0s 1ms/step - loss: 3.2625e-05 - acc: 0.9556 - val_loss: 0.0474 - val_acc: 0.0000e+00\n",
      "Epoch 221/300\n",
      "45/45 [==============================] - 0s 1ms/step - loss: 3.2477e-05 - acc: 0.9556 - val_loss: 0.0473 - val_acc: 0.0000e+00\n",
      "Epoch 222/300\n",
      "45/45 [==============================] - 0s 1ms/step - loss: 3.2235e-05 - acc: 0.9556 - val_loss: 0.0472 - val_acc: 0.0000e+00\n",
      "Epoch 223/300\n",
      "45/45 [==============================] - 0s 1ms/step - loss: 3.2713e-05 - acc: 0.9556 - val_loss: 0.0473 - val_acc: 0.0000e+00\n",
      "Epoch 224/300\n",
      "45/45 [==============================] - 0s 1ms/step - loss: 3.2539e-05 - acc: 0.9556 - val_loss: 0.0474 - val_acc: 0.0000e+00\n",
      "Epoch 225/300\n",
      "45/45 [==============================] - 0s 1ms/step - loss: 3.2756e-05 - acc: 0.9556 - val_loss: 0.0474 - val_acc: 0.0000e+00\n",
      "Epoch 226/300\n",
      "45/45 [==============================] - 0s 1ms/step - loss: 3.2552e-05 - acc: 0.9556 - val_loss: 0.0473 - val_acc: 0.0000e+00\n",
      "Epoch 227/300\n",
      "45/45 [==============================] - 0s 1ms/step - loss: 3.2320e-05 - acc: 0.9556 - val_loss: 0.0474 - val_acc: 0.0000e+00\n",
      "Epoch 228/300\n",
      "45/45 [==============================] - 0s 1ms/step - loss: 3.2397e-05 - acc: 0.9556 - val_loss: 0.0474 - val_acc: 0.0000e+00\n",
      "Epoch 229/300\n",
      "45/45 [==============================] - 0s 1ms/step - loss: 3.2510e-05 - acc: 0.9556 - val_loss: 0.0474 - val_acc: 0.0000e+00\n",
      "Epoch 230/300\n",
      "45/45 [==============================] - 0s 1ms/step - loss: 3.2177e-05 - acc: 0.9556 - val_loss: 0.0473 - val_acc: 0.0000e+00\n",
      "Epoch 231/300\n",
      "45/45 [==============================] - 0s 1ms/step - loss: 3.2209e-05 - acc: 0.9778 - val_loss: 0.0473 - val_acc: 0.0000e+00\n",
      "Epoch 232/300\n",
      "45/45 [==============================] - 0s 1ms/step - loss: 3.2283e-05 - acc: 0.9556 - val_loss: 0.0473 - val_acc: 0.0000e+00\n",
      "Epoch 233/300\n",
      "45/45 [==============================] - 0s 1ms/step - loss: 3.2272e-05 - acc: 0.9556 - val_loss: 0.0473 - val_acc: 0.0000e+00\n",
      "Epoch 234/300\n",
      "45/45 [==============================] - 0s 1ms/step - loss: 3.2202e-05 - acc: 0.9556 - val_loss: 0.0472 - val_acc: 0.0000e+00\n",
      "Epoch 235/300\n",
      "45/45 [==============================] - 0s 2ms/step - loss: 3.2243e-05 - acc: 0.9556 - val_loss: 0.0473 - val_acc: 0.0000e+00\n",
      "Epoch 236/300\n",
      "45/45 [==============================] - 0s 1ms/step - loss: 3.1985e-05 - acc: 0.9556 - val_loss: 0.0474 - val_acc: 0.0000e+00\n",
      "Epoch 237/300\n"
     ]
    },
    {
     "name": "stdout",
     "output_type": "stream",
     "text": [
      "45/45 [==============================] - 0s 1ms/step - loss: 3.2159e-05 - acc: 0.9333 - val_loss: 0.0474 - val_acc: 0.0000e+00\n",
      "Epoch 238/300\n",
      "45/45 [==============================] - 0s 1ms/step - loss: 3.2501e-05 - acc: 0.9333 - val_loss: 0.0473 - val_acc: 0.0000e+00\n",
      "Epoch 239/300\n",
      "45/45 [==============================] - 0s 1ms/step - loss: 3.2266e-05 - acc: 0.9556 - val_loss: 0.0472 - val_acc: 0.0000e+00\n",
      "Epoch 240/300\n",
      "45/45 [==============================] - 0s 1ms/step - loss: 3.2305e-05 - acc: 0.9556 - val_loss: 0.0473 - val_acc: 0.0000e+00\n",
      "Epoch 241/300\n",
      "45/45 [==============================] - 0s 2ms/step - loss: 3.1984e-05 - acc: 0.9333 - val_loss: 0.0474 - val_acc: 0.0000e+00\n",
      "Epoch 242/300\n",
      "45/45 [==============================] - 0s 2ms/step - loss: 3.2143e-05 - acc: 0.9333 - val_loss: 0.0473 - val_acc: 0.0000e+00\n",
      "Epoch 243/300\n",
      "45/45 [==============================] - 0s 2ms/step - loss: 3.2361e-05 - acc: 0.9333 - val_loss: 0.0473 - val_acc: 0.0000e+00\n",
      "Epoch 244/300\n",
      "45/45 [==============================] - 0s 1ms/step - loss: 3.1968e-05 - acc: 0.9556 - val_loss: 0.0473 - val_acc: 0.0000e+00\n",
      "Epoch 245/300\n",
      "45/45 [==============================] - 0s 1ms/step - loss: 3.2109e-05 - acc: 0.9556 - val_loss: 0.0474 - val_acc: 0.0000e+00\n",
      "Epoch 246/300\n",
      "45/45 [==============================] - 0s 2ms/step - loss: 3.2115e-05 - acc: 0.9556 - val_loss: 0.0473 - val_acc: 0.0000e+00\n",
      "Epoch 247/300\n",
      "45/45 [==============================] - 0s 2ms/step - loss: 3.1798e-05 - acc: 0.9556 - val_loss: 0.0472 - val_acc: 0.0000e+00\n",
      "Epoch 248/300\n",
      "45/45 [==============================] - 0s 1ms/step - loss: 3.1874e-05 - acc: 0.9556 - val_loss: 0.0472 - val_acc: 0.0000e+00\n",
      "Epoch 249/300\n",
      "45/45 [==============================] - 0s 1ms/step - loss: 3.1865e-05 - acc: 0.9556 - val_loss: 0.0473 - val_acc: 0.0000e+00\n",
      "Epoch 250/300\n",
      "45/45 [==============================] - 0s 1ms/step - loss: 3.2040e-05 - acc: 0.9556 - val_loss: 0.0472 - val_acc: 0.0000e+00\n",
      "Epoch 251/300\n",
      "45/45 [==============================] - 0s 1ms/step - loss: 3.2067e-05 - acc: 0.9333 - val_loss: 0.0473 - val_acc: 0.0000e+00\n",
      "Epoch 252/300\n",
      "45/45 [==============================] - 0s 1ms/step - loss: 3.1928e-05 - acc: 0.9333 - val_loss: 0.0473 - val_acc: 0.0000e+00\n",
      "Epoch 253/300\n",
      "45/45 [==============================] - 0s 1ms/step - loss: 3.2036e-05 - acc: 0.9556 - val_loss: 0.0473 - val_acc: 0.0000e+00\n",
      "Epoch 254/300\n",
      "45/45 [==============================] - 0s 1ms/step - loss: 3.1909e-05 - acc: 0.9556 - val_loss: 0.0473 - val_acc: 0.0000e+00\n",
      "Epoch 255/300\n",
      "45/45 [==============================] - 0s 1ms/step - loss: 3.1742e-05 - acc: 0.9556 - val_loss: 0.0474 - val_acc: 0.0870\n",
      "Epoch 256/300\n",
      "45/45 [==============================] - 0s 1ms/step - loss: 3.1720e-05 - acc: 0.9556 - val_loss: 0.0473 - val_acc: 0.0870\n",
      "Epoch 257/300\n",
      "45/45 [==============================] - 0s 1ms/step - loss: 3.1772e-05 - acc: 0.9556 - val_loss: 0.0473 - val_acc: 0.0870\n",
      "Epoch 258/300\n",
      "45/45 [==============================] - 0s 1ms/step - loss: 3.1825e-05 - acc: 0.9556 - val_loss: 0.0474 - val_acc: 0.0870\n",
      "Epoch 259/300\n",
      "45/45 [==============================] - 0s 1ms/step - loss: 3.1617e-05 - acc: 0.9556 - val_loss: 0.0474 - val_acc: 0.0870\n",
      "Epoch 260/300\n",
      "45/45 [==============================] - 0s 1ms/step - loss: 3.1718e-05 - acc: 0.9556 - val_loss: 0.0475 - val_acc: 0.0870\n",
      "Epoch 261/300\n",
      "45/45 [==============================] - 0s 1ms/step - loss: 3.1609e-05 - acc: 0.9556 - val_loss: 0.0476 - val_acc: 0.1304\n",
      "Epoch 262/300\n",
      "45/45 [==============================] - 0s 1ms/step - loss: 3.1617e-05 - acc: 0.9556 - val_loss: 0.0475 - val_acc: 0.1304\n",
      "Epoch 263/300\n",
      "45/45 [==============================] - 0s 1ms/step - loss: 3.1570e-05 - acc: 0.9556 - val_loss: 0.0474 - val_acc: 0.0870\n",
      "Epoch 264/300\n",
      "45/45 [==============================] - 0s 1ms/step - loss: 3.1544e-05 - acc: 0.9556 - val_loss: 0.0474 - val_acc: 0.0870\n",
      "Epoch 265/300\n",
      "45/45 [==============================] - 0s 2ms/step - loss: 3.1404e-05 - acc: 0.9556 - val_loss: 0.0474 - val_acc: 0.0870\n",
      "Epoch 266/300\n",
      "45/45 [==============================] - 0s 2ms/step - loss: 3.1510e-05 - acc: 0.9333 - val_loss: 0.0474 - val_acc: 0.0870\n",
      "Epoch 267/300\n",
      "45/45 [==============================] - 0s 2ms/step - loss: 3.1459e-05 - acc: 0.9556 - val_loss: 0.0474 - val_acc: 0.1304\n",
      "Epoch 268/300\n",
      "45/45 [==============================] - 0s 1ms/step - loss: 3.1400e-05 - acc: 0.9778 - val_loss: 0.0473 - val_acc: 0.1304\n",
      "Epoch 269/300\n",
      "45/45 [==============================] - 0s 1ms/step - loss: 3.1468e-05 - acc: 0.9556 - val_loss: 0.0473 - val_acc: 0.2609\n",
      "Epoch 270/300\n",
      "45/45 [==============================] - 0s 1ms/step - loss: 3.1414e-05 - acc: 0.9556 - val_loss: 0.0474 - val_acc: 0.2609\n",
      "Epoch 271/300\n",
      "45/45 [==============================] - 0s 2ms/step - loss: 3.1547e-05 - acc: 0.9778 - val_loss: 0.0475 - val_acc: 0.3043\n",
      "Epoch 272/300\n",
      "45/45 [==============================] - 0s 2ms/step - loss: 3.1424e-05 - acc: 0.9556 - val_loss: 0.0474 - val_acc: 0.4348\n",
      "Epoch 273/300\n",
      "45/45 [==============================] - 0s 2ms/step - loss: 3.1356e-05 - acc: 0.9778 - val_loss: 0.0474 - val_acc: 0.4783\n",
      "Epoch 274/300\n",
      "45/45 [==============================] - 0s 2ms/step - loss: 3.1521e-05 - acc: 0.9778 - val_loss: 0.0474 - val_acc: 0.4783\n",
      "Epoch 275/300\n",
      "45/45 [==============================] - 0s 1ms/step - loss: 3.1697e-05 - acc: 0.9778 - val_loss: 0.0474 - val_acc: 0.4348\n",
      "Epoch 276/300\n",
      "45/45 [==============================] - 0s 1ms/step - loss: 3.1323e-05 - acc: 0.9778 - val_loss: 0.0473 - val_acc: 0.1304\n",
      "Epoch 277/300\n",
      "45/45 [==============================] - 0s 1ms/step - loss: 3.1792e-05 - acc: 0.9556 - val_loss: 0.0473 - val_acc: 0.1304\n",
      "Epoch 278/300\n",
      "45/45 [==============================] - 0s 1ms/step - loss: 3.1686e-05 - acc: 0.9556 - val_loss: 0.0474 - val_acc: 0.1739\n",
      "Epoch 279/300\n",
      "45/45 [==============================] - 0s 2ms/step - loss: 3.1870e-05 - acc: 0.9111 - val_loss: 0.0474 - val_acc: 0.1739\n",
      "Epoch 280/300\n",
      "45/45 [==============================] - 0s 2ms/step - loss: 3.1751e-05 - acc: 0.9556 - val_loss: 0.0473 - val_acc: 0.4348\n",
      "Epoch 281/300\n",
      "45/45 [==============================] - 0s 2ms/step - loss: 3.1445e-05 - acc: 0.9778 - val_loss: 0.0474 - val_acc: 0.6087\n",
      "Epoch 282/300\n",
      "45/45 [==============================] - 0s 1ms/step - loss: 3.1535e-05 - acc: 0.9556 - val_loss: 0.0476 - val_acc: 0.6522\n",
      "Epoch 283/300\n",
      "45/45 [==============================] - 0s 1ms/step - loss: 3.1576e-05 - acc: 0.9556 - val_loss: 0.0476 - val_acc: 0.5217\n",
      "Epoch 284/300\n",
      "45/45 [==============================] - 0s 1ms/step - loss: 3.1582e-05 - acc: 0.9778 - val_loss: 0.0475 - val_acc: 0.3478\n",
      "Epoch 285/300\n",
      "45/45 [==============================] - 0s 1ms/step - loss: 3.1434e-05 - acc: 0.9556 - val_loss: 0.0473 - val_acc: 0.2174\n",
      "Epoch 286/300\n",
      "45/45 [==============================] - 0s 2ms/step - loss: 3.1780e-05 - acc: 0.9556 - val_loss: 0.0474 - val_acc: 0.2174\n",
      "Epoch 287/300\n",
      "45/45 [==============================] - 0s 2ms/step - loss: 3.1447e-05 - acc: 0.9556 - val_loss: 0.0477 - val_acc: 0.3478\n",
      "Epoch 288/300\n",
      "45/45 [==============================] - 0s 1ms/step - loss: 3.1520e-05 - acc: 0.9556 - val_loss: 0.0478 - val_acc: 0.5217\n",
      "Epoch 289/300\n",
      "45/45 [==============================] - 0s 2ms/step - loss: 3.1371e-05 - acc: 0.9778 - val_loss: 0.0479 - val_acc: 0.6087\n",
      "Epoch 290/300\n",
      "45/45 [==============================] - 0s 1ms/step - loss: 3.1582e-05 - acc: 0.9556 - val_loss: 0.0480 - val_acc: 0.5217\n",
      "Epoch 291/300\n",
      "45/45 [==============================] - 0s 1ms/step - loss: 3.1390e-05 - acc: 0.9556 - val_loss: 0.0480 - val_acc: 0.4348\n",
      "Epoch 292/300\n",
      "45/45 [==============================] - 0s 2ms/step - loss: 3.1437e-05 - acc: 0.9778 - val_loss: 0.0480 - val_acc: 0.4348\n",
      "Epoch 293/300\n",
      "45/45 [==============================] - 0s 2ms/step - loss: 3.1552e-05 - acc: 0.9778 - val_loss: 0.0480 - val_acc: 0.5652\n",
      "Epoch 294/300\n",
      "45/45 [==============================] - 0s 2ms/step - loss: 3.1465e-05 - acc: 0.9778 - val_loss: 0.0480 - val_acc: 0.6957\n",
      "Epoch 295/300\n",
      "45/45 [==============================] - 0s 2ms/step - loss: 3.1614e-05 - acc: 0.9778 - val_loss: 0.0481 - val_acc: 0.7826\n",
      "Epoch 296/300\n"
     ]
    },
    {
     "name": "stdout",
     "output_type": "stream",
     "text": [
      "45/45 [==============================] - 0s 1ms/step - loss: 3.1338e-05 - acc: 0.9778 - val_loss: 0.0481 - val_acc: 0.6522\n",
      "Epoch 297/300\n",
      "45/45 [==============================] - 0s 1ms/step - loss: 3.1288e-05 - acc: 0.9778 - val_loss: 0.0480 - val_acc: 0.5217\n",
      "Epoch 298/300\n",
      "45/45 [==============================] - 0s 1ms/step - loss: 3.1506e-05 - acc: 0.9778 - val_loss: 0.0480 - val_acc: 0.4783\n",
      "Epoch 299/300\n",
      "45/45 [==============================] - 0s 1ms/step - loss: 3.1405e-05 - acc: 0.9556 - val_loss: 0.0481 - val_acc: 0.4783\n",
      "Epoch 300/300\n",
      "45/45 [==============================] - 0s 1ms/step - loss: 3.1249e-05 - acc: 0.9556 - val_loss: 0.0481 - val_acc: 0.4783\n"
     ]
    }
   ],
   "source": [
    "# msle error penalizes underestimates more than overestimates\n",
    "# msle only cares about relative difference between true and predicted value\n",
    "\n",
    "model_confirmed.compile(optimizer='adam', loss = 'msle', metrics = ['acc'])\n",
    "#callbacks = [ReduceLROnPlateau(monitor='val_l|oss', patience = 5, verbose = 1, factor = 0.6),\n",
    "#             EarlyStopping(monitor='val_loss', patience = 20),\n",
    "#             ModelCheckpoint(filepath = 'best_model_confirmed.h5', monitor ='val_loss', save_best_only = True)]\n",
    "\n",
    "# fit the model\n",
    "hist = model_confirmed.fit(X_train_confirmed, y_train_confirmed, epochs = epochs,\n",
    "                           validation_split = 0.33)"
   ]
  },
  {
   "cell_type": "code",
   "execution_count": 126,
   "metadata": {},
   "outputs": [
    {
     "name": "stdout",
     "output_type": "stream",
     "text": [
      "68/68 [==============================] - 0s 309us/step\n",
      "Model accuracy: 79.41 %\n"
     ]
    }
   ],
   "source": [
    "scores = model_confirmed.evaluate(X_train_confirmed, y_train_confirmed)\n",
    "print(\"Model accuracy: %.2f\"%(scores[1]*100),\"%\")"
   ]
  },
  {
   "cell_type": "code",
   "execution_count": 95,
   "metadata": {},
   "outputs": [
    {
     "data": {
      "image/png": "[encoded data removed]",
      "text/plain": [
       "<Figure size 432x288 with 1 Axes>"
      ]
     },
     "metadata": {
      "needs_background": "light"
     },
     "output_type": "display_data"
    }
   ],
   "source": [
    "# OVERFITTING - val_loss >> train_loss\n",
    "# just right would be val_loss ~ train_loss\n",
    "\n",
    "plt.plot(hist.history['loss'])\n",
    "plt.plot(hist.history['val_loss'])\n",
    "plt.title('Model train vs validation loss')\n",
    "plt.ylabel('Loss')\n",
    "plt.xlabel('Epoch')\n",
    "plt.legend(['Train', 'Validation'], loc='upper right')\n",
    "plt.show()"
   ]
  },
  {
   "cell_type": "markdown",
   "metadata": {},
   "source": [
    "### Model for fatal cases"
   ]
  },
  {
   "cell_type": "code",
   "execution_count": 96,
   "metadata": {},
   "outputs": [
    {
     "name": "stdout",
     "output_type": "stream",
     "text": [
      "Model: \"sequential_11\"\n",
      "_________________________________________________________________\n",
      "Layer (type)                 Output Shape              Param #   \n",
      "=================================================================\n",
      "lstm_21 (LSTM)               (None, 3, 100)            114000    \n",
      "_________________________________________________________________\n",
      "lstm_22 (LSTM)               (None, 200)               240800    \n",
      "_________________________________________________________________\n",
      "dense_11 (Dense)             (None, 184)               36984     \n",
      "=================================================================\n",
      "Total params: 391,784\n",
      "Trainable params: 391,784\n",
      "Non-trainable params: 0\n",
      "_________________________________________________________________\n"
     ]
    }
   ],
   "source": [
    "n_features = X_fatalities.shape[2]\n",
    "epochs = 300\n",
    "batch_size = 38\n",
    "\n",
    "\n",
    "model_fatalities = Sequential()\n",
    "model_fatalities.add(LSTM(100, activation='relu', input_shape =(n_steps, n_features), return_sequences = True))\n",
    "model_fatalities.add(LSTM(200, activation ='relu'))\n",
    "model_fatalities.add(Dense(n_features, activation = 'relu'))\n",
    "\n",
    "model_fatalities.summary()"
   ]
  },
  {
   "cell_type": "code",
   "execution_count": 97,
   "metadata": {},
   "outputs": [
    {
     "name": "stdout",
     "output_type": "stream",
     "text": [
      "Train on 48 samples, validate on 12 samples\n",
      "Epoch 1/300\n",
      "48/48 [==============================] - 1s 23ms/step - loss: 0.0017 - acc: 0.1250 - val_loss: 0.0131 - val_acc: 0.5833\n",
      "Epoch 2/300\n",
      "48/48 [==============================] - 0s 1ms/step - loss: 0.0016 - acc: 1.0000 - val_loss: 0.0130 - val_acc: 0.5833\n",
      "Epoch 3/300\n",
      "48/48 [==============================] - 0s 987us/step - loss: 0.0015 - acc: 1.0000 - val_loss: 0.0128 - val_acc: 0.5833\n",
      "Epoch 4/300\n",
      "48/48 [==============================] - 0s 1ms/step - loss: 0.0015 - acc: 1.0000 - val_loss: 0.0126 - val_acc: 0.5833\n",
      "Epoch 5/300\n",
      "48/48 [==============================] - 0s 1ms/step - loss: 0.0014 - acc: 1.0000 - val_loss: 0.0123 - val_acc: 0.5833\n",
      "Epoch 6/300\n",
      "48/48 [==============================] - 0s 1ms/step - loss: 0.0013 - acc: 1.0000 - val_loss: 0.0120 - val_acc: 0.5833\n",
      "Epoch 7/300\n",
      "48/48 [==============================] - 0s 1ms/step - loss: 0.0012 - acc: 1.0000 - val_loss: 0.0117 - val_acc: 0.5833\n",
      "Epoch 8/300\n",
      "48/48 [==============================] - 0s 1ms/step - loss: 0.0011 - acc: 1.0000 - val_loss: 0.0114 - val_acc: 0.5833\n",
      "Epoch 9/300\n",
      "48/48 [==============================] - 0s 1ms/step - loss: 0.0010 - acc: 1.0000 - val_loss: 0.0110 - val_acc: 0.5833\n",
      "Epoch 10/300\n",
      "48/48 [==============================] - 0s 1ms/step - loss: 9.1103e-04 - acc: 1.0000 - val_loss: 0.0106 - val_acc: 0.5833\n",
      "Epoch 11/300\n",
      "48/48 [==============================] - 0s 1ms/step - loss: 7.9472e-04 - acc: 1.0000 - val_loss: 0.0102 - val_acc: 0.5833\n",
      "Epoch 12/300\n",
      "48/48 [==============================] - 0s 1ms/step - loss: 6.8085e-04 - acc: 1.0000 - val_loss: 0.0098 - val_acc: 0.5833\n",
      "Epoch 13/300\n",
      "48/48 [==============================] - 0s 1ms/step - loss: 5.7123e-04 - acc: 1.0000 - val_loss: 0.0093 - val_acc: 0.5833\n",
      "Epoch 14/300\n",
      "48/48 [==============================] - 0s 1ms/step - loss: 4.8172e-04 - acc: 1.0000 - val_loss: 0.0090 - val_acc: 0.5833\n",
      "Epoch 15/300\n",
      "48/48 [==============================] - 0s 1ms/step - loss: 4.0525e-04 - acc: 1.0000 - val_loss: 0.0087 - val_acc: 0.5833\n",
      "Epoch 16/300\n",
      "48/48 [==============================] - 0s 1ms/step - loss: 3.5019e-04 - acc: 1.0000 - val_loss: 0.0085 - val_acc: 0.5833\n",
      "Epoch 17/300\n",
      "48/48 [==============================] - 0s 1ms/step - loss: 3.1522e-04 - acc: 1.0000 - val_loss: 0.0084 - val_acc: 0.5833\n",
      "Epoch 18/300\n",
      "48/48 [==============================] - 0s 980us/step - loss: 2.9780e-04 - acc: 1.0000 - val_loss: 0.0084 - val_acc: 0.5833\n",
      "Epoch 19/300\n",
      "48/48 [==============================] - 0s 1ms/step - loss: 2.8264e-04 - acc: 1.0000 - val_loss: 0.0083 - val_acc: 0.5833\n",
      "Epoch 20/300\n",
      "48/48 [==============================] - 0s 1ms/step - loss: 2.6790e-04 - acc: 1.0000 - val_loss: 0.0084 - val_acc: 0.5833\n",
      "Epoch 21/300\n",
      "48/48 [==============================] - 0s 1ms/step - loss: 2.5036e-04 - acc: 1.0000 - val_loss: 0.0084 - val_acc: 0.5833\n",
      "Epoch 22/300\n",
      "48/48 [==============================] - 0s 1ms/step - loss: 2.3403e-04 - acc: 1.0000 - val_loss: 0.0085 - val_acc: 0.5833\n",
      "Epoch 23/300\n",
      "48/48 [==============================] - 0s 1ms/step - loss: 2.1737e-04 - acc: 1.0000 - val_loss: 0.0085 - val_acc: 0.5833\n",
      "Epoch 24/300\n",
      "48/48 [==============================] - 0s 1ms/step - loss: 2.0203e-04 - acc: 1.0000 - val_loss: 0.0085 - val_acc: 0.5833\n",
      "Epoch 25/300\n",
      "48/48 [==============================] - 0s 1ms/step - loss: 1.8629e-04 - acc: 1.0000 - val_loss: 0.0084 - val_acc: 0.5833\n",
      "Epoch 26/300\n",
      "48/48 [==============================] - 0s 1ms/step - loss: 1.7060e-04 - acc: 1.0000 - val_loss: 0.0083 - val_acc: 0.5833\n",
      "Epoch 27/300\n",
      "48/48 [==============================] - 0s 1ms/step - loss: 1.5595e-04 - acc: 1.0000 - val_loss: 0.0082 - val_acc: 0.5833\n",
      "Epoch 28/300\n",
      "48/48 [==============================] - 0s 1ms/step - loss: 1.4246e-04 - acc: 1.0000 - val_loss: 0.0081 - val_acc: 0.5833\n",
      "Epoch 29/300\n",
      "48/48 [==============================] - 0s 1ms/step - loss: 1.3065e-04 - acc: 1.0000 - val_loss: 0.0081 - val_acc: 0.5833\n",
      "Epoch 30/300\n",
      "48/48 [==============================] - 0s 1ms/step - loss: 1.1975e-04 - acc: 1.0000 - val_loss: 0.0081 - val_acc: 0.5833\n",
      "Epoch 31/300\n",
      "48/48 [==============================] - 0s 1ms/step - loss: 1.1096e-04 - acc: 1.0000 - val_loss: 0.0082 - val_acc: 0.5833\n",
      "Epoch 32/300\n",
      "48/48 [==============================] - 0s 1ms/step - loss: 1.0350e-04 - acc: 1.0000 - val_loss: 0.0081 - val_acc: 0.5833\n",
      "Epoch 33/300\n",
      "48/48 [==============================] - 0s 1ms/step - loss: 9.7310e-05 - acc: 1.0000 - val_loss: 0.0081 - val_acc: 0.5833\n",
      "Epoch 34/300\n",
      "48/48 [==============================] - 0s 1ms/step - loss: 9.2970e-05 - acc: 1.0000 - val_loss: 0.0082 - val_acc: 0.5833\n",
      "Epoch 35/300\n",
      "48/48 [==============================] - 0s 1ms/step - loss: 8.9353e-05 - acc: 1.0000 - val_loss: 0.0082 - val_acc: 0.5833\n",
      "Epoch 36/300\n",
      "48/48 [==============================] - 0s 979us/step - loss: 8.6806e-05 - acc: 1.0000 - val_loss: 0.0082 - val_acc: 0.5833\n",
      "Epoch 37/300\n",
      "48/48 [==============================] - 0s 1ms/step - loss: 8.5350e-05 - acc: 1.0000 - val_loss: 0.0082 - val_acc: 0.5833\n",
      "Epoch 38/300\n",
      "48/48 [==============================] - 0s 1ms/step - loss: 8.3924e-05 - acc: 1.0000 - val_loss: 0.0082 - val_acc: 0.5833\n",
      "Epoch 39/300\n",
      "48/48 [==============================] - 0s 947us/step - loss: 8.2778e-05 - acc: 1.0000 - val_loss: 0.0082 - val_acc: 0.5833\n",
      "Epoch 40/300\n",
      "48/48 [==============================] - 0s 958us/step - loss: 8.1655e-05 - acc: 1.0000 - val_loss: 0.0081 - val_acc: 0.5833\n",
      "Epoch 41/300\n",
      "48/48 [==============================] - 0s 1ms/step - loss: 8.0006e-05 - acc: 1.0000 - val_loss: 0.0081 - val_acc: 0.5833\n",
      "Epoch 42/300\n",
      "48/48 [==============================] - 0s 1ms/step - loss: 7.8123e-05 - acc: 1.0000 - val_loss: 0.0081 - val_acc: 0.5833\n",
      "Epoch 43/300\n",
      "48/48 [==============================] - 0s 968us/step - loss: 7.6239e-05 - acc: 1.0000 - val_loss: 0.0081 - val_acc: 0.5833\n",
      "Epoch 44/300\n",
      "48/48 [==============================] - 0s 970us/step - loss: 7.4334e-05 - acc: 1.0000 - val_loss: 0.0081 - val_acc: 0.5833\n",
      "Epoch 45/300\n",
      "48/48 [==============================] - 0s 1ms/step - loss: 7.2885e-05 - acc: 1.0000 - val_loss: 0.0081 - val_acc: 0.5833\n",
      "Epoch 46/300\n",
      "48/48 [==============================] - 0s 1ms/step - loss: 7.1417e-05 - acc: 1.0000 - val_loss: 0.0080 - val_acc: 0.5833\n",
      "Epoch 47/300\n",
      "48/48 [==============================] - 0s 964us/step - loss: 7.0468e-05 - acc: 1.0000 - val_loss: 0.0080 - val_acc: 0.5833\n",
      "Epoch 48/300\n",
      "48/48 [==============================] - 0s 828us/step - loss: 6.9259e-05 - acc: 1.0000 - val_loss: 0.0080 - val_acc: 0.5833\n",
      "Epoch 49/300\n",
      "48/48 [==============================] - 0s 1ms/step - loss: 6.7705e-05 - acc: 1.0000 - val_loss: 0.0080 - val_acc: 0.5833\n",
      "Epoch 50/300\n",
      "48/48 [==============================] - 0s 893us/step - loss: 6.6772e-05 - acc: 1.0000 - val_loss: 0.0080 - val_acc: 0.5833\n",
      "Epoch 51/300\n",
      "48/48 [==============================] - 0s 1ms/step - loss: 6.5445e-05 - acc: 1.0000 - val_loss: 0.0080 - val_acc: 0.5833\n",
      "Epoch 52/300\n",
      "48/48 [==============================] - 0s 844us/step - loss: 6.4536e-05 - acc: 1.0000 - val_loss: 0.0080 - val_acc: 0.5833\n",
      "Epoch 53/300\n",
      "48/48 [==============================] - 0s 1ms/step - loss: 6.3305e-05 - acc: 1.0000 - val_loss: 0.0080 - val_acc: 0.5833\n",
      "Epoch 54/300\n",
      "48/48 [==============================] - 0s 922us/step - loss: 6.2070e-05 - acc: 1.0000 - val_loss: 0.0080 - val_acc: 0.5833\n",
      "Epoch 55/300\n",
      "48/48 [==============================] - 0s 1ms/step - loss: 6.0855e-05 - acc: 1.0000 - val_loss: 0.0080 - val_acc: 0.5833\n",
      "Epoch 56/300\n",
      "48/48 [==============================] - 0s 894us/step - loss: 5.9824e-05 - acc: 1.0000 - val_loss: 0.0080 - val_acc: 0.5833\n",
      "Epoch 57/300\n",
      "48/48 [==============================] - 0s 1ms/step - loss: 5.9017e-05 - acc: 1.0000 - val_loss: 0.0079 - val_acc: 0.5833\n",
      "Epoch 58/300\n",
      "48/48 [==============================] - 0s 852us/step - loss: 5.7923e-05 - acc: 1.0000 - val_loss: 0.0079 - val_acc: 0.5833\n",
      "Epoch 59/300\n",
      "48/48 [==============================] - 0s 1ms/step - loss: 5.6804e-05 - acc: 1.0000 - val_loss: 0.0079 - val_acc: 0.5833\n",
      "Epoch 60/300\n",
      "48/48 [==============================] - 0s 1ms/step - loss: 5.5653e-05 - acc: 1.0000 - val_loss: 0.0079 - val_acc: 0.5833\n",
      "Epoch 61/300\n"
     ]
    },
    {
     "name": "stdout",
     "output_type": "stream",
     "text": [
      "48/48 [==============================] - 0s 953us/step - loss: 5.4829e-05 - acc: 1.0000 - val_loss: 0.0079 - val_acc: 0.5833\n",
      "Epoch 62/300\n",
      "48/48 [==============================] - 0s 852us/step - loss: 5.3985e-05 - acc: 1.0000 - val_loss: 0.0079 - val_acc: 0.5833\n",
      "Epoch 63/300\n",
      "48/48 [==============================] - 0s 902us/step - loss: 5.2925e-05 - acc: 1.0000 - val_loss: 0.0079 - val_acc: 0.5833\n",
      "Epoch 64/300\n",
      "48/48 [==============================] - 0s 849us/step - loss: 5.2140e-05 - acc: 1.0000 - val_loss: 0.0079 - val_acc: 0.5833\n",
      "Epoch 65/300\n",
      "48/48 [==============================] - 0s 1ms/step - loss: 5.1094e-05 - acc: 1.0000 - val_loss: 0.0079 - val_acc: 0.5833\n",
      "Epoch 66/300\n",
      "48/48 [==============================] - 0s 992us/step - loss: 5.0191e-05 - acc: 1.0000 - val_loss: 0.0079 - val_acc: 0.5833\n",
      "Epoch 67/300\n",
      "48/48 [==============================] - 0s 920us/step - loss: 4.9359e-05 - acc: 1.0000 - val_loss: 0.0078 - val_acc: 0.5833\n",
      "Epoch 68/300\n",
      "48/48 [==============================] - 0s 917us/step - loss: 4.8495e-05 - acc: 1.0000 - val_loss: 0.0078 - val_acc: 0.5833\n",
      "Epoch 69/300\n",
      "48/48 [==============================] - 0s 961us/step - loss: 4.7694e-05 - acc: 1.0000 - val_loss: 0.0078 - val_acc: 0.5833\n",
      "Epoch 70/300\n",
      "48/48 [==============================] - 0s 965us/step - loss: 4.6854e-05 - acc: 1.0000 - val_loss: 0.0078 - val_acc: 0.5833\n",
      "Epoch 71/300\n",
      "48/48 [==============================] - 0s 910us/step - loss: 4.6219e-05 - acc: 1.0000 - val_loss: 0.0078 - val_acc: 0.5833\n",
      "Epoch 72/300\n",
      "48/48 [==============================] - 0s 1ms/step - loss: 4.5329e-05 - acc: 1.0000 - val_loss: 0.0078 - val_acc: 0.5833\n",
      "Epoch 73/300\n",
      "48/48 [==============================] - 0s 1ms/step - loss: 4.4685e-05 - acc: 1.0000 - val_loss: 0.0078 - val_acc: 0.5833\n",
      "Epoch 74/300\n",
      "48/48 [==============================] - 0s 943us/step - loss: 4.4035e-05 - acc: 1.0000 - val_loss: 0.0078 - val_acc: 0.5833\n",
      "Epoch 75/300\n",
      "48/48 [==============================] - 0s 946us/step - loss: 4.3437e-05 - acc: 1.0000 - val_loss: 0.0078 - val_acc: 0.5833\n",
      "Epoch 76/300\n",
      "48/48 [==============================] - 0s 1ms/step - loss: 4.2610e-05 - acc: 1.0000 - val_loss: 0.0077 - val_acc: 0.5833\n",
      "Epoch 77/300\n",
      "48/48 [==============================] - 0s 986us/step - loss: 4.2026e-05 - acc: 1.0000 - val_loss: 0.0077 - val_acc: 0.5833\n",
      "Epoch 78/300\n",
      "48/48 [==============================] - 0s 933us/step - loss: 4.1524e-05 - acc: 1.0000 - val_loss: 0.0077 - val_acc: 0.5833\n",
      "Epoch 79/300\n",
      "48/48 [==============================] - 0s 796us/step - loss: 4.1122e-05 - acc: 1.0000 - val_loss: 0.0077 - val_acc: 0.5833\n",
      "Epoch 80/300\n",
      "48/48 [==============================] - 0s 947us/step - loss: 4.0600e-05 - acc: 1.0000 - val_loss: 0.0077 - val_acc: 0.5833\n",
      "Epoch 81/300\n",
      "48/48 [==============================] - 0s 904us/step - loss: 4.0133e-05 - acc: 1.0000 - val_loss: 0.0077 - val_acc: 0.5833\n",
      "Epoch 82/300\n",
      "48/48 [==============================] - 0s 1ms/step - loss: 3.9867e-05 - acc: 1.0000 - val_loss: 0.0077 - val_acc: 0.5833\n",
      "Epoch 83/300\n",
      "48/48 [==============================] - 0s 952us/step - loss: 3.9264e-05 - acc: 1.0000 - val_loss: 0.0077 - val_acc: 0.5833\n",
      "Epoch 84/300\n",
      "48/48 [==============================] - 0s 878us/step - loss: 3.8827e-05 - acc: 1.0000 - val_loss: 0.0077 - val_acc: 0.5833\n",
      "Epoch 85/300\n",
      "48/48 [==============================] - 0s 1ms/step - loss: 3.8474e-05 - acc: 1.0000 - val_loss: 0.0077 - val_acc: 0.5833\n",
      "Epoch 86/300\n",
      "48/48 [==============================] - 0s 902us/step - loss: 3.8118e-05 - acc: 1.0000 - val_loss: 0.0077 - val_acc: 0.5833\n",
      "Epoch 87/300\n",
      "48/48 [==============================] - 0s 955us/step - loss: 3.7877e-05 - acc: 1.0000 - val_loss: 0.0077 - val_acc: 0.5833\n",
      "Epoch 88/300\n",
      "48/48 [==============================] - 0s 934us/step - loss: 3.7478e-05 - acc: 1.0000 - val_loss: 0.0077 - val_acc: 0.5833\n",
      "Epoch 89/300\n",
      "48/48 [==============================] - 0s 900us/step - loss: 3.7292e-05 - acc: 1.0000 - val_loss: 0.0077 - val_acc: 0.5833\n",
      "Epoch 90/300\n",
      "48/48 [==============================] - 0s 1ms/step - loss: 3.7082e-05 - acc: 1.0000 - val_loss: 0.0077 - val_acc: 0.5833\n",
      "Epoch 91/300\n",
      "48/48 [==============================] - 0s 889us/step - loss: 3.6840e-05 - acc: 1.0000 - val_loss: 0.0077 - val_acc: 0.5833\n",
      "Epoch 92/300\n",
      "48/48 [==============================] - 0s 980us/step - loss: 3.6659e-05 - acc: 1.0000 - val_loss: 0.0076 - val_acc: 0.5833\n",
      "Epoch 93/300\n",
      "48/48 [==============================] - 0s 992us/step - loss: 3.6481e-05 - acc: 1.0000 - val_loss: 0.0076 - val_acc: 0.5833\n",
      "Epoch 94/300\n",
      "48/48 [==============================] - 0s 927us/step - loss: 3.6377e-05 - acc: 1.0000 - val_loss: 0.0076 - val_acc: 0.5833\n",
      "Epoch 95/300\n",
      "48/48 [==============================] - 0s 914us/step - loss: 3.6219e-05 - acc: 1.0000 - val_loss: 0.0076 - val_acc: 0.5833\n",
      "Epoch 96/300\n",
      "48/48 [==============================] - 0s 1ms/step - loss: 3.6177e-05 - acc: 1.0000 - val_loss: 0.0076 - val_acc: 0.5833\n",
      "Epoch 97/300\n",
      "48/48 [==============================] - 0s 900us/step - loss: 3.6039e-05 - acc: 1.0000 - val_loss: 0.0076 - val_acc: 0.5833\n",
      "Epoch 98/300\n",
      "48/48 [==============================] - 0s 933us/step - loss: 3.5955e-05 - acc: 1.0000 - val_loss: 0.0076 - val_acc: 0.5833\n",
      "Epoch 99/300\n",
      "48/48 [==============================] - 0s 985us/step - loss: 3.5752e-05 - acc: 1.0000 - val_loss: 0.0076 - val_acc: 0.5833\n",
      "Epoch 100/300\n",
      "48/48 [==============================] - 0s 1ms/step - loss: 3.5671e-05 - acc: 1.0000 - val_loss: 0.0076 - val_acc: 0.5833\n",
      "Epoch 101/300\n",
      "48/48 [==============================] - 0s 910us/step - loss: 3.5596e-05 - acc: 1.0000 - val_loss: 0.0076 - val_acc: 0.5833\n",
      "Epoch 102/300\n",
      "48/48 [==============================] - 0s 1ms/step - loss: 3.5515e-05 - acc: 1.0000 - val_loss: 0.0076 - val_acc: 0.5833\n",
      "Epoch 103/300\n",
      "48/48 [==============================] - 0s 900us/step - loss: 3.5466e-05 - acc: 1.0000 - val_loss: 0.0076 - val_acc: 0.5833\n",
      "Epoch 104/300\n",
      "48/48 [==============================] - 0s 975us/step - loss: 3.5337e-05 - acc: 1.0000 - val_loss: 0.0076 - val_acc: 0.5833\n",
      "Epoch 105/300\n",
      "48/48 [==============================] - 0s 973us/step - loss: 3.5285e-05 - acc: 1.0000 - val_loss: 0.0076 - val_acc: 0.5833\n",
      "Epoch 106/300\n",
      "48/48 [==============================] - 0s 922us/step - loss: 3.5188e-05 - acc: 1.0000 - val_loss: 0.0076 - val_acc: 0.5833\n",
      "Epoch 107/300\n",
      "48/48 [==============================] - 0s 1ms/step - loss: 3.5138e-05 - acc: 1.0000 - val_loss: 0.0076 - val_acc: 0.5833\n",
      "Epoch 108/300\n",
      "48/48 [==============================] - 0s 1ms/step - loss: 3.5146e-05 - acc: 1.0000 - val_loss: 0.0076 - val_acc: 0.5833\n",
      "Epoch 109/300\n",
      "48/48 [==============================] - 0s 931us/step - loss: 3.5062e-05 - acc: 1.0000 - val_loss: 0.0076 - val_acc: 0.5833\n",
      "Epoch 110/300\n",
      "48/48 [==============================] - 0s 908us/step - loss: 3.4945e-05 - acc: 1.0000 - val_loss: 0.0076 - val_acc: 0.5833\n",
      "Epoch 111/300\n",
      "48/48 [==============================] - 0s 909us/step - loss: 3.5149e-05 - acc: 1.0000 - val_loss: 0.0076 - val_acc: 0.5833\n",
      "Epoch 112/300\n",
      "48/48 [==============================] - 0s 996us/step - loss: 3.4777e-05 - acc: 1.0000 - val_loss: 0.0076 - val_acc: 0.5833\n",
      "Epoch 113/300\n",
      "48/48 [==============================] - 0s 1ms/step - loss: 3.4748e-05 - acc: 1.0000 - val_loss: 0.0076 - val_acc: 0.5833\n",
      "Epoch 114/300\n",
      "48/48 [==============================] - 0s 1ms/step - loss: 3.4699e-05 - acc: 1.0000 - val_loss: 0.0075 - val_acc: 0.5833\n",
      "Epoch 115/300\n",
      "48/48 [==============================] - 0s 873us/step - loss: 3.4727e-05 - acc: 1.0000 - val_loss: 0.0076 - val_acc: 0.5833\n",
      "Epoch 116/300\n",
      "48/48 [==============================] - 0s 1ms/step - loss: 3.4594e-05 - acc: 1.0000 - val_loss: 0.0076 - val_acc: 0.5833\n",
      "Epoch 117/300\n",
      "48/48 [==============================] - 0s 879us/step - loss: 3.4504e-05 - acc: 1.0000 - val_loss: 0.0076 - val_acc: 0.5833\n",
      "Epoch 118/300\n",
      "48/48 [==============================] - 0s 923us/step - loss: 3.4679e-05 - acc: 1.0000 - val_loss: 0.0075 - val_acc: 0.5833\n",
      "Epoch 119/300\n",
      "48/48 [==============================] - 0s 1ms/step - loss: 3.4442e-05 - acc: 1.0000 - val_loss: 0.0075 - val_acc: 0.5833\n",
      "Epoch 120/300\n"
     ]
    },
    {
     "name": "stdout",
     "output_type": "stream",
     "text": [
      "48/48 [==============================] - 0s 921us/step - loss: 3.4537e-05 - acc: 1.0000 - val_loss: 0.0075 - val_acc: 0.5833\n",
      "Epoch 121/300\n",
      "48/48 [==============================] - 0s 1ms/step - loss: 3.4353e-05 - acc: 1.0000 - val_loss: 0.0075 - val_acc: 0.5833\n",
      "Epoch 122/300\n",
      "48/48 [==============================] - 0s 963us/step - loss: 3.4298e-05 - acc: 1.0000 - val_loss: 0.0076 - val_acc: 0.5833\n",
      "Epoch 123/300\n",
      "48/48 [==============================] - 0s 1ms/step - loss: 3.4309e-05 - acc: 1.0000 - val_loss: 0.0075 - val_acc: 0.5833\n",
      "Epoch 124/300\n",
      "48/48 [==============================] - 0s 1ms/step - loss: 3.4103e-05 - acc: 1.0000 - val_loss: 0.0075 - val_acc: 0.5833\n",
      "Epoch 125/300\n",
      "48/48 [==============================] - 0s 913us/step - loss: 3.4160e-05 - acc: 1.0000 - val_loss: 0.0075 - val_acc: 0.5833\n",
      "Epoch 126/300\n",
      "48/48 [==============================] - 0s 965us/step - loss: 3.4026e-05 - acc: 1.0000 - val_loss: 0.0075 - val_acc: 0.5833\n",
      "Epoch 127/300\n",
      "48/48 [==============================] - 0s 983us/step - loss: 3.3975e-05 - acc: 1.0000 - val_loss: 0.0075 - val_acc: 0.5833\n",
      "Epoch 128/300\n",
      "48/48 [==============================] - 0s 958us/step - loss: 3.4002e-05 - acc: 1.0000 - val_loss: 0.0075 - val_acc: 0.5833\n",
      "Epoch 129/300\n",
      "48/48 [==============================] - 0s 913us/step - loss: 3.4201e-05 - acc: 1.0000 - val_loss: 0.0075 - val_acc: 0.5833\n",
      "Epoch 130/300\n",
      "48/48 [==============================] - 0s 1ms/step - loss: 3.3860e-05 - acc: 1.0000 - val_loss: 0.0075 - val_acc: 0.5833\n",
      "Epoch 131/300\n",
      "48/48 [==============================] - 0s 964us/step - loss: 3.3830e-05 - acc: 1.0000 - val_loss: 0.0075 - val_acc: 0.5833\n",
      "Epoch 132/300\n",
      "48/48 [==============================] - 0s 871us/step - loss: 3.3846e-05 - acc: 1.0000 - val_loss: 0.0075 - val_acc: 0.5833\n",
      "Epoch 133/300\n",
      "48/48 [==============================] - 0s 1ms/step - loss: 3.3676e-05 - acc: 1.0000 - val_loss: 0.0075 - val_acc: 0.5833\n",
      "Epoch 134/300\n",
      "48/48 [==============================] - 0s 930us/step - loss: 3.3694e-05 - acc: 1.0000 - val_loss: 0.0075 - val_acc: 0.5833\n",
      "Epoch 135/300\n",
      "48/48 [==============================] - 0s 971us/step - loss: 3.3928e-05 - acc: 1.0000 - val_loss: 0.0075 - val_acc: 0.5833\n",
      "Epoch 136/300\n",
      "48/48 [==============================] - 0s 952us/step - loss: 3.3465e-05 - acc: 1.0000 - val_loss: 0.0075 - val_acc: 0.5833\n",
      "Epoch 137/300\n",
      "48/48 [==============================] - 0s 1ms/step - loss: 3.3784e-05 - acc: 1.0000 - val_loss: 0.0075 - val_acc: 0.5833\n",
      "Epoch 138/300\n",
      "48/48 [==============================] - 0s 924us/step - loss: 3.3831e-05 - acc: 1.0000 - val_loss: 0.0075 - val_acc: 0.5833\n",
      "Epoch 139/300\n",
      "48/48 [==============================] - 0s 908us/step - loss: 3.3747e-05 - acc: 1.0000 - val_loss: 0.0075 - val_acc: 0.5833\n",
      "Epoch 140/300\n",
      "48/48 [==============================] - 0s 876us/step - loss: 3.3622e-05 - acc: 1.0000 - val_loss: 0.0075 - val_acc: 0.5833\n",
      "Epoch 141/300\n",
      "48/48 [==============================] - 0s 968us/step - loss: 3.3377e-05 - acc: 1.0000 - val_loss: 0.0075 - val_acc: 0.5833\n",
      "Epoch 142/300\n",
      "48/48 [==============================] - 0s 942us/step - loss: 3.3352e-05 - acc: 1.0000 - val_loss: 0.0075 - val_acc: 0.5833\n",
      "Epoch 143/300\n",
      "48/48 [==============================] - 0s 950us/step - loss: 3.3303e-05 - acc: 1.0000 - val_loss: 0.0075 - val_acc: 0.5833\n",
      "Epoch 144/300\n",
      "48/48 [==============================] - 0s 920us/step - loss: 3.3239e-05 - acc: 1.0000 - val_loss: 0.0075 - val_acc: 0.5833\n",
      "Epoch 145/300\n",
      "48/48 [==============================] - 0s 924us/step - loss: 3.3430e-05 - acc: 1.0000 - val_loss: 0.0075 - val_acc: 0.5833\n",
      "Epoch 146/300\n",
      "48/48 [==============================] - 0s 1ms/step - loss: 3.3189e-05 - acc: 1.0000 - val_loss: 0.0075 - val_acc: 0.5833\n",
      "Epoch 147/300\n",
      "48/48 [==============================] - 0s 869us/step - loss: 3.3145e-05 - acc: 1.0000 - val_loss: 0.0075 - val_acc: 0.5833\n",
      "Epoch 148/300\n",
      "48/48 [==============================] - 0s 962us/step - loss: 3.3179e-05 - acc: 1.0000 - val_loss: 0.0075 - val_acc: 0.5833\n",
      "Epoch 149/300\n",
      "48/48 [==============================] - 0s 1ms/step - loss: 3.2940e-05 - acc: 1.0000 - val_loss: 0.0075 - val_acc: 0.5833\n",
      "Epoch 150/300\n",
      "48/48 [==============================] - 0s 930us/step - loss: 3.3234e-05 - acc: 1.0000 - val_loss: 0.0075 - val_acc: 0.5833\n",
      "Epoch 151/300\n",
      "48/48 [==============================] - 0s 965us/step - loss: 3.3247e-05 - acc: 1.0000 - val_loss: 0.0075 - val_acc: 0.5833\n",
      "Epoch 152/300\n",
      "48/48 [==============================] - 0s 976us/step - loss: 3.3001e-05 - acc: 1.0000 - val_loss: 0.0074 - val_acc: 0.5833\n",
      "Epoch 153/300\n",
      "48/48 [==============================] - 0s 1ms/step - loss: 3.3037e-05 - acc: 1.0000 - val_loss: 0.0075 - val_acc: 0.5833\n",
      "Epoch 154/300\n",
      "48/48 [==============================] - 0s 962us/step - loss: 3.2804e-05 - acc: 1.0000 - val_loss: 0.0075 - val_acc: 0.5833\n",
      "Epoch 155/300\n",
      "48/48 [==============================] - 0s 1ms/step - loss: 3.2900e-05 - acc: 1.0000 - val_loss: 0.0075 - val_acc: 0.5833\n",
      "Epoch 156/300\n",
      "48/48 [==============================] - 0s 898us/step - loss: 3.2730e-05 - acc: 1.0000 - val_loss: 0.0074 - val_acc: 0.5833\n",
      "Epoch 157/300\n",
      "48/48 [==============================] - 0s 939us/step - loss: 3.2853e-05 - acc: 1.0000 - val_loss: 0.0074 - val_acc: 0.5833\n",
      "Epoch 158/300\n",
      "48/48 [==============================] - 0s 925us/step - loss: 3.2798e-05 - acc: 1.0000 - val_loss: 0.0074 - val_acc: 0.5833\n",
      "Epoch 159/300\n",
      "48/48 [==============================] - 0s 995us/step - loss: 3.2664e-05 - acc: 1.0000 - val_loss: 0.0075 - val_acc: 0.5833\n",
      "Epoch 160/300\n",
      "48/48 [==============================] - 0s 929us/step - loss: 3.2802e-05 - acc: 1.0000 - val_loss: 0.0074 - val_acc: 0.5833\n",
      "Epoch 161/300\n",
      "48/48 [==============================] - 0s 957us/step - loss: 3.2507e-05 - acc: 1.0000 - val_loss: 0.0075 - val_acc: 0.5833\n",
      "Epoch 162/300\n",
      "48/48 [==============================] - 0s 914us/step - loss: 3.2482e-05 - acc: 1.0000 - val_loss: 0.0074 - val_acc: 0.5833\n",
      "Epoch 163/300\n",
      "48/48 [==============================] - 0s 1ms/step - loss: 3.2433e-05 - acc: 1.0000 - val_loss: 0.0074 - val_acc: 0.5833\n",
      "Epoch 164/300\n",
      "48/48 [==============================] - 0s 867us/step - loss: 3.2380e-05 - acc: 1.0000 - val_loss: 0.0074 - val_acc: 0.5833\n",
      "Epoch 165/300\n",
      "48/48 [==============================] - 0s 1ms/step - loss: 3.2380e-05 - acc: 1.0000 - val_loss: 0.0074 - val_acc: 0.5833\n",
      "Epoch 166/300\n",
      "48/48 [==============================] - 0s 952us/step - loss: 3.2278e-05 - acc: 1.0000 - val_loss: 0.0074 - val_acc: 0.5833\n",
      "Epoch 167/300\n",
      "48/48 [==============================] - 0s 1ms/step - loss: 3.2368e-05 - acc: 1.0000 - val_loss: 0.0074 - val_acc: 0.5833\n",
      "Epoch 168/300\n",
      "48/48 [==============================] - 0s 961us/step - loss: 3.2237e-05 - acc: 1.0000 - val_loss: 0.0074 - val_acc: 0.5833\n",
      "Epoch 169/300\n",
      "48/48 [==============================] - 0s 993us/step - loss: 3.2545e-05 - acc: 1.0000 - val_loss: 0.0074 - val_acc: 0.5833\n",
      "Epoch 170/300\n",
      "48/48 [==============================] - 0s 875us/step - loss: 3.2127e-05 - acc: 1.0000 - val_loss: 0.0074 - val_acc: 0.5833\n",
      "Epoch 171/300\n",
      "48/48 [==============================] - 0s 1ms/step - loss: 3.2122e-05 - acc: 1.0000 - val_loss: 0.0074 - val_acc: 0.5833\n",
      "Epoch 172/300\n",
      "48/48 [==============================] - 0s 975us/step - loss: 3.2047e-05 - acc: 1.0000 - val_loss: 0.0074 - val_acc: 0.5833\n",
      "Epoch 173/300\n",
      "48/48 [==============================] - 0s 848us/step - loss: 3.2027e-05 - acc: 1.0000 - val_loss: 0.0074 - val_acc: 0.5833\n",
      "Epoch 174/300\n",
      "48/48 [==============================] - 0s 903us/step - loss: 3.2009e-05 - acc: 1.0000 - val_loss: 0.0074 - val_acc: 0.5833\n",
      "Epoch 175/300\n",
      "48/48 [==============================] - 0s 994us/step - loss: 3.1968e-05 - acc: 1.0000 - val_loss: 0.0074 - val_acc: 0.5833\n",
      "Epoch 176/300\n",
      "48/48 [==============================] - 0s 944us/step - loss: 3.1909e-05 - acc: 1.0000 - val_loss: 0.0074 - val_acc: 0.5833\n",
      "Epoch 177/300\n",
      "48/48 [==============================] - 0s 1ms/step - loss: 3.1853e-05 - acc: 1.0000 - val_loss: 0.0074 - val_acc: 0.5833\n",
      "Epoch 178/300\n",
      "48/48 [==============================] - 0s 982us/step - loss: 3.1800e-05 - acc: 1.0000 - val_loss: 0.0074 - val_acc: 0.5833\n",
      "Epoch 179/300\n"
     ]
    },
    {
     "name": "stdout",
     "output_type": "stream",
     "text": [
      "48/48 [==============================] - 0s 960us/step - loss: 3.1803e-05 - acc: 1.0000 - val_loss: 0.0074 - val_acc: 0.5833\n",
      "Epoch 180/300\n",
      "48/48 [==============================] - 0s 872us/step - loss: 3.1910e-05 - acc: 1.0000 - val_loss: 0.0074 - val_acc: 0.5833\n",
      "Epoch 181/300\n",
      "48/48 [==============================] - 0s 955us/step - loss: 3.2081e-05 - acc: 1.0000 - val_loss: 0.0074 - val_acc: 0.5833\n",
      "Epoch 182/300\n",
      "48/48 [==============================] - 0s 1ms/step - loss: 3.1807e-05 - acc: 1.0000 - val_loss: 0.0074 - val_acc: 0.5833\n",
      "Epoch 183/300\n",
      "48/48 [==============================] - 0s 979us/step - loss: 3.1765e-05 - acc: 1.0000 - val_loss: 0.0074 - val_acc: 0.5833\n",
      "Epoch 184/300\n",
      "48/48 [==============================] - 0s 1ms/step - loss: 3.1649e-05 - acc: 1.0000 - val_loss: 0.0074 - val_acc: 0.5833\n",
      "Epoch 185/300\n",
      "48/48 [==============================] - 0s 945us/step - loss: 3.1591e-05 - acc: 1.0000 - val_loss: 0.0074 - val_acc: 0.5833\n",
      "Epoch 186/300\n",
      "48/48 [==============================] - 0s 920us/step - loss: 3.1541e-05 - acc: 1.0000 - val_loss: 0.0074 - val_acc: 0.5833\n",
      "Epoch 187/300\n",
      "48/48 [==============================] - 0s 932us/step - loss: 3.1544e-05 - acc: 1.0000 - val_loss: 0.0074 - val_acc: 0.5833\n",
      "Epoch 188/300\n",
      "48/48 [==============================] - 0s 875us/step - loss: 3.1619e-05 - acc: 1.0000 - val_loss: 0.0074 - val_acc: 0.5833\n",
      "Epoch 189/300\n",
      "48/48 [==============================] - 0s 1ms/step - loss: 3.1584e-05 - acc: 1.0000 - val_loss: 0.0074 - val_acc: 0.5833\n",
      "Epoch 190/300\n",
      "48/48 [==============================] - 0s 918us/step - loss: 3.1440e-05 - acc: 1.0000 - val_loss: 0.0074 - val_acc: 0.5833\n",
      "Epoch 191/300\n",
      "48/48 [==============================] - 0s 1ms/step - loss: 3.1340e-05 - acc: 1.0000 - val_loss: 0.0074 - val_acc: 0.5833\n",
      "Epoch 192/300\n",
      "48/48 [==============================] - 0s 879us/step - loss: 3.1491e-05 - acc: 1.0000 - val_loss: 0.0074 - val_acc: 0.5833\n",
      "Epoch 193/300\n",
      "48/48 [==============================] - 0s 990us/step - loss: 3.1362e-05 - acc: 1.0000 - val_loss: 0.0074 - val_acc: 0.5833\n",
      "Epoch 194/300\n",
      "48/48 [==============================] - 0s 990us/step - loss: 3.1289e-05 - acc: 1.0000 - val_loss: 0.0074 - val_acc: 0.5833\n",
      "Epoch 195/300\n",
      "48/48 [==============================] - 0s 997us/step - loss: 3.1249e-05 - acc: 1.0000 - val_loss: 0.0074 - val_acc: 0.5833\n",
      "Epoch 196/300\n",
      "48/48 [==============================] - ETA: 0s - loss: 3.7165e-05 - acc: 1.000 - 0s 967us/step - loss: 3.1468e-05 - acc: 1.0000 - val_loss: 0.0074 - val_acc: 0.5833\n",
      "Epoch 197/300\n",
      "48/48 [==============================] - 0s 901us/step - loss: 3.1227e-05 - acc: 1.0000 - val_loss: 0.0074 - val_acc: 0.5833\n",
      "Epoch 198/300\n",
      "48/48 [==============================] - 0s 1ms/step - loss: 3.1278e-05 - acc: 1.0000 - val_loss: 0.0074 - val_acc: 0.5833\n",
      "Epoch 199/300\n",
      "48/48 [==============================] - 0s 890us/step - loss: 3.1124e-05 - acc: 1.0000 - val_loss: 0.0074 - val_acc: 0.5833\n",
      "Epoch 200/300\n",
      "48/48 [==============================] - 0s 1ms/step - loss: 3.1070e-05 - acc: 1.0000 - val_loss: 0.0074 - val_acc: 0.5833\n",
      "Epoch 201/300\n",
      "48/48 [==============================] - 0s 896us/step - loss: 3.1058e-05 - acc: 1.0000 - val_loss: 0.0074 - val_acc: 0.5833\n",
      "Epoch 202/300\n",
      "48/48 [==============================] - 0s 928us/step - loss: 3.1094e-05 - acc: 1.0000 - val_loss: 0.0074 - val_acc: 0.5833\n",
      "Epoch 203/300\n",
      "48/48 [==============================] - 0s 956us/step - loss: 3.0988e-05 - acc: 1.0000 - val_loss: 0.0074 - val_acc: 0.5833\n",
      "Epoch 204/300\n",
      "48/48 [==============================] - 0s 970us/step - loss: 3.0812e-05 - acc: 1.0000 - val_loss: 0.0074 - val_acc: 0.5833\n",
      "Epoch 205/300\n",
      "48/48 [==============================] - 0s 951us/step - loss: 3.1287e-05 - acc: 1.0000 - val_loss: 0.0074 - val_acc: 0.5833\n",
      "Epoch 206/300\n",
      "48/48 [==============================] - 0s 958us/step - loss: 3.1155e-05 - acc: 1.0000 - val_loss: 0.0074 - val_acc: 0.5833\n",
      "Epoch 207/300\n",
      "48/48 [==============================] - 0s 1ms/step - loss: 3.0878e-05 - acc: 1.0000 - val_loss: 0.0074 - val_acc: 0.5833\n",
      "Epoch 208/300\n",
      "48/48 [==============================] - 0s 966us/step - loss: 3.0861e-05 - acc: 1.0000 - val_loss: 0.0074 - val_acc: 0.5833\n",
      "Epoch 209/300\n",
      "48/48 [==============================] - 0s 1ms/step - loss: 3.0948e-05 - acc: 1.0000 - val_loss: 0.0074 - val_acc: 0.5833\n",
      "Epoch 210/300\n",
      "48/48 [==============================] - 0s 967us/step - loss: 3.1071e-05 - acc: 1.0000 - val_loss: 0.0074 - val_acc: 0.5833\n",
      "Epoch 211/300\n",
      "48/48 [==============================] - 0s 931us/step - loss: 3.0973e-05 - acc: 1.0000 - val_loss: 0.0074 - val_acc: 0.5833\n",
      "Epoch 212/300\n",
      "48/48 [==============================] - 0s 1ms/step - loss: 3.0889e-05 - acc: 1.0000 - val_loss: 0.0074 - val_acc: 0.5833\n",
      "Epoch 213/300\n",
      "48/48 [==============================] - 0s 1ms/step - loss: 3.0665e-05 - acc: 1.0000 - val_loss: 0.0074 - val_acc: 0.5833\n",
      "Epoch 214/300\n",
      "48/48 [==============================] - 0s 957us/step - loss: 3.0528e-05 - acc: 1.0000 - val_loss: 0.0074 - val_acc: 0.5833\n",
      "Epoch 215/300\n",
      "48/48 [==============================] - 0s 832us/step - loss: 3.0714e-05 - acc: 1.0000 - val_loss: 0.0074 - val_acc: 0.5833\n",
      "Epoch 216/300\n",
      "48/48 [==============================] - 0s 953us/step - loss: 3.0765e-05 - acc: 1.0000 - val_loss: 0.0074 - val_acc: 0.5833\n",
      "Epoch 217/300\n",
      "48/48 [==============================] - 0s 1ms/step - loss: 3.0697e-05 - acc: 1.0000 - val_loss: 0.0074 - val_acc: 0.5833\n",
      "Epoch 218/300\n",
      "48/48 [==============================] - 0s 1ms/step - loss: 3.0831e-05 - acc: 1.0000 - val_loss: 0.0074 - val_acc: 0.5833\n",
      "Epoch 219/300\n",
      "48/48 [==============================] - 0s 923us/step - loss: 3.0627e-05 - acc: 1.0000 - val_loss: 0.0074 - val_acc: 0.5833\n",
      "Epoch 220/300\n",
      "48/48 [==============================] - 0s 917us/step - loss: 3.0591e-05 - acc: 1.0000 - val_loss: 0.0074 - val_acc: 0.5833\n",
      "Epoch 221/300\n",
      "48/48 [==============================] - 0s 925us/step - loss: 3.0548e-05 - acc: 1.0000 - val_loss: 0.0074 - val_acc: 0.5833\n",
      "Epoch 222/300\n",
      "48/48 [==============================] - 0s 942us/step - loss: 3.0424e-05 - acc: 1.0000 - val_loss: 0.0074 - val_acc: 0.5833\n",
      "Epoch 223/300\n",
      "48/48 [==============================] - 0s 957us/step - loss: 3.0345e-05 - acc: 1.0000 - val_loss: 0.0074 - val_acc: 0.5833\n",
      "Epoch 224/300\n",
      "48/48 [==============================] - 0s 1ms/step - loss: 3.0377e-05 - acc: 1.0000 - val_loss: 0.0074 - val_acc: 0.5833\n",
      "Epoch 225/300\n",
      "48/48 [==============================] - 0s 1ms/step - loss: 3.0342e-05 - acc: 1.0000 - val_loss: 0.0074 - val_acc: 0.5833\n",
      "Epoch 226/300\n",
      "48/48 [==============================] - 0s 1ms/step - loss: 3.0260e-05 - acc: 1.0000 - val_loss: 0.0074 - val_acc: 0.5833\n",
      "Epoch 227/300\n",
      "48/48 [==============================] - 0s 1ms/step - loss: 3.0339e-05 - acc: 1.0000 - val_loss: 0.0074 - val_acc: 0.5833\n",
      "Epoch 228/300\n",
      "48/48 [==============================] - 0s 1ms/step - loss: 3.0342e-05 - acc: 1.0000 - val_loss: 0.0074 - val_acc: 0.5833\n",
      "Epoch 229/300\n",
      "48/48 [==============================] - 0s 1ms/step - loss: 3.0201e-05 - acc: 1.0000 - val_loss: 0.0074 - val_acc: 0.5833\n",
      "Epoch 230/300\n",
      "48/48 [==============================] - 0s 938us/step - loss: 3.0094e-05 - acc: 1.0000 - val_loss: 0.0074 - val_acc: 0.5833\n",
      "Epoch 231/300\n",
      "48/48 [==============================] - 0s 1ms/step - loss: 3.0208e-05 - acc: 1.0000 - val_loss: 0.0074 - val_acc: 0.5833\n",
      "Epoch 232/300\n",
      "48/48 [==============================] - 0s 1ms/step - loss: 3.0298e-05 - acc: 1.0000 - val_loss: 0.0074 - val_acc: 0.5833\n",
      "Epoch 233/300\n",
      "48/48 [==============================] - 0s 1ms/step - loss: 3.0132e-05 - acc: 1.0000 - val_loss: 0.0073 - val_acc: 0.5833\n",
      "Epoch 234/300\n",
      "48/48 [==============================] - 0s 913us/step - loss: 3.0053e-05 - acc: 1.0000 - val_loss: 0.0074 - val_acc: 0.5833\n",
      "Epoch 235/300\n",
      "48/48 [==============================] - 0s 1ms/step - loss: 3.0038e-05 - acc: 1.0000 - val_loss: 0.0074 - val_acc: 0.5833\n",
      "Epoch 236/300\n",
      "48/48 [==============================] - 0s 2ms/step - loss: 3.0003e-05 - acc: 1.0000 - val_loss: 0.0074 - val_acc: 0.5833\n",
      "Epoch 237/300\n",
      "48/48 [==============================] - 0s 1ms/step - loss: 2.9920e-05 - acc: 1.0000 - val_loss: 0.0074 - val_acc: 0.5833\n",
      "Epoch 238/300\n"
     ]
    },
    {
     "name": "stdout",
     "output_type": "stream",
     "text": [
      "48/48 [==============================] - 0s 914us/step - loss: 2.9844e-05 - acc: 1.0000 - val_loss: 0.0073 - val_acc: 0.5833\n",
      "Epoch 239/300\n",
      "48/48 [==============================] - 0s 799us/step - loss: 2.9824e-05 - acc: 1.0000 - val_loss: 0.0073 - val_acc: 0.5833\n",
      "Epoch 240/300\n",
      "48/48 [==============================] - 0s 818us/step - loss: 2.9841e-05 - acc: 1.0000 - val_loss: 0.0073 - val_acc: 0.5833\n",
      "Epoch 241/300\n",
      "48/48 [==============================] - 0s 1ms/step - loss: 2.9838e-05 - acc: 1.0000 - val_loss: 0.0073 - val_acc: 0.5833\n",
      "Epoch 242/300\n",
      "48/48 [==============================] - 0s 990us/step - loss: 2.9836e-05 - acc: 1.0000 - val_loss: 0.0074 - val_acc: 0.5833\n",
      "Epoch 243/300\n",
      "48/48 [==============================] - 0s 921us/step - loss: 2.9881e-05 - acc: 1.0000 - val_loss: 0.0074 - val_acc: 0.5833\n",
      "Epoch 244/300\n",
      "48/48 [==============================] - 0s 1ms/step - loss: 2.9730e-05 - acc: 1.0000 - val_loss: 0.0074 - val_acc: 0.5833\n",
      "Epoch 245/300\n",
      "48/48 [==============================] - 0s 873us/step - loss: 2.9671e-05 - acc: 1.0000 - val_loss: 0.0073 - val_acc: 0.5833\n",
      "Epoch 246/300\n",
      "48/48 [==============================] - 0s 962us/step - loss: 2.9734e-05 - acc: 1.0000 - val_loss: 0.0073 - val_acc: 0.5833\n",
      "Epoch 247/300\n",
      "48/48 [==============================] - 0s 1ms/step - loss: 2.9708e-05 - acc: 1.0000 - val_loss: 0.0073 - val_acc: 0.5833\n",
      "Epoch 248/300\n",
      "48/48 [==============================] - 0s 919us/step - loss: 2.9544e-05 - acc: 1.0000 - val_loss: 0.0073 - val_acc: 0.5833\n",
      "Epoch 249/300\n",
      "48/48 [==============================] - 0s 1000us/step - loss: 2.9931e-05 - acc: 1.0000 - val_loss: 0.0073 - val_acc: 0.5833\n",
      "Epoch 250/300\n",
      "48/48 [==============================] - 0s 863us/step - loss: 2.9573e-05 - acc: 1.0000 - val_loss: 0.0073 - val_acc: 0.5833\n",
      "Epoch 251/300\n",
      "48/48 [==============================] - 0s 973us/step - loss: 2.9703e-05 - acc: 1.0000 - val_loss: 0.0073 - val_acc: 0.5833\n",
      "Epoch 252/300\n",
      "48/48 [==============================] - 0s 942us/step - loss: 2.9702e-05 - acc: 1.0000 - val_loss: 0.0074 - val_acc: 0.5833\n",
      "Epoch 253/300\n",
      "48/48 [==============================] - 0s 1ms/step - loss: 2.9526e-05 - acc: 1.0000 - val_loss: 0.0073 - val_acc: 0.5833\n",
      "Epoch 254/300\n",
      "48/48 [==============================] - 0s 938us/step - loss: 2.9391e-05 - acc: 1.0000 - val_loss: 0.0073 - val_acc: 0.5833\n",
      "Epoch 255/300\n",
      "48/48 [==============================] - 0s 996us/step - loss: 2.9383e-05 - acc: 1.0000 - val_loss: 0.0073 - val_acc: 0.5833\n",
      "Epoch 256/300\n",
      "48/48 [==============================] - 0s 962us/step - loss: 2.9311e-05 - acc: 1.0000 - val_loss: 0.0073 - val_acc: 0.5833\n",
      "Epoch 257/300\n",
      "48/48 [==============================] - 0s 1ms/step - loss: 2.9328e-05 - acc: 1.0000 - val_loss: 0.0073 - val_acc: 0.5833\n",
      "Epoch 258/300\n",
      "48/48 [==============================] - 0s 905us/step - loss: 2.9313e-05 - acc: 1.0000 - val_loss: 0.0073 - val_acc: 0.5833\n",
      "Epoch 259/300\n",
      "48/48 [==============================] - 0s 916us/step - loss: 2.9276e-05 - acc: 1.0000 - val_loss: 0.0073 - val_acc: 0.5833\n",
      "Epoch 260/300\n",
      "48/48 [==============================] - 0s 1ms/step - loss: 2.9203e-05 - acc: 1.0000 - val_loss: 0.0073 - val_acc: 0.5833\n",
      "Epoch 261/300\n",
      "48/48 [==============================] - 0s 887us/step - loss: 2.9349e-05 - acc: 1.0000 - val_loss: 0.0073 - val_acc: 0.5833\n",
      "Epoch 262/300\n",
      "48/48 [==============================] - 0s 1ms/step - loss: 2.9235e-05 - acc: 1.0000 - val_loss: 0.0073 - val_acc: 0.5833\n",
      "Epoch 263/300\n",
      "48/48 [==============================] - 0s 990us/step - loss: 2.9180e-05 - acc: 1.0000 - val_loss: 0.0073 - val_acc: 0.5833\n",
      "Epoch 264/300\n",
      "48/48 [==============================] - 0s 907us/step - loss: 2.9066e-05 - acc: 1.0000 - val_loss: 0.0073 - val_acc: 0.5833\n",
      "Epoch 265/300\n",
      "48/48 [==============================] - 0s 940us/step - loss: 2.9193e-05 - acc: 1.0000 - val_loss: 0.0073 - val_acc: 0.5833\n",
      "Epoch 266/300\n",
      "48/48 [==============================] - 0s 913us/step - loss: 2.9277e-05 - acc: 1.0000 - val_loss: 0.0073 - val_acc: 0.5833\n",
      "Epoch 267/300\n",
      "48/48 [==============================] - 0s 966us/step - loss: 2.9049e-05 - acc: 1.0000 - val_loss: 0.0073 - val_acc: 0.5833\n",
      "Epoch 268/300\n",
      "48/48 [==============================] - 0s 1ms/step - loss: 2.8917e-05 - acc: 1.0000 - val_loss: 0.0074 - val_acc: 0.5833\n",
      "Epoch 269/300\n",
      "48/48 [==============================] - 0s 892us/step - loss: 2.9154e-05 - acc: 1.0000 - val_loss: 0.0073 - val_acc: 0.5833\n",
      "Epoch 270/300\n",
      "48/48 [==============================] - 0s 931us/step - loss: 2.9032e-05 - acc: 1.0000 - val_loss: 0.0073 - val_acc: 0.5833\n",
      "Epoch 271/300\n",
      "48/48 [==============================] - 0s 1ms/step - loss: 2.9036e-05 - acc: 1.0000 - val_loss: 0.0073 - val_acc: 0.5833\n",
      "Epoch 272/300\n",
      "48/48 [==============================] - 0s 998us/step - loss: 2.8918e-05 - acc: 1.0000 - val_loss: 0.0073 - val_acc: 0.5833\n",
      "Epoch 273/300\n",
      "48/48 [==============================] - 0s 1ms/step - loss: 2.8981e-05 - acc: 1.0000 - val_loss: 0.0074 - val_acc: 0.5833\n",
      "Epoch 274/300\n",
      "48/48 [==============================] - 0s 902us/step - loss: 2.8985e-05 - acc: 1.0000 - val_loss: 0.0073 - val_acc: 0.5833\n",
      "Epoch 275/300\n",
      "48/48 [==============================] - 0s 878us/step - loss: 2.8840e-05 - acc: 1.0000 - val_loss: 0.0073 - val_acc: 0.5833\n",
      "Epoch 276/300\n",
      "48/48 [==============================] - 0s 985us/step - loss: 2.9052e-05 - acc: 1.0000 - val_loss: 0.0073 - val_acc: 0.5833\n",
      "Epoch 277/300\n",
      "48/48 [==============================] - 0s 945us/step - loss: 2.8894e-05 - acc: 1.0000 - val_loss: 0.0073 - val_acc: 0.5833\n",
      "Epoch 278/300\n",
      "48/48 [==============================] - 0s 1ms/step - loss: 2.8808e-05 - acc: 1.0000 - val_loss: 0.0073 - val_acc: 0.5833\n",
      "Epoch 279/300\n",
      "48/48 [==============================] - 0s 972us/step - loss: 2.8727e-05 - acc: 1.0000 - val_loss: 0.0073 - val_acc: 0.5833\n",
      "Epoch 280/300\n",
      "48/48 [==============================] - 0s 1ms/step - loss: 2.8773e-05 - acc: 1.0000 - val_loss: 0.0073 - val_acc: 0.5833\n",
      "Epoch 281/300\n",
      "48/48 [==============================] - 0s 943us/step - loss: 2.8867e-05 - acc: 1.0000 - val_loss: 0.0073 - val_acc: 0.5833\n",
      "Epoch 282/300\n",
      "48/48 [==============================] - 0s 968us/step - loss: 2.8716e-05 - acc: 1.0000 - val_loss: 0.0073 - val_acc: 0.5833\n",
      "Epoch 283/300\n",
      "48/48 [==============================] - 0s 1ms/step - loss: 2.8598e-05 - acc: 1.0000 - val_loss: 0.0073 - val_acc: 0.5833\n",
      "Epoch 284/300\n",
      "48/48 [==============================] - 0s 945us/step - loss: 2.8577e-05 - acc: 1.0000 - val_loss: 0.0073 - val_acc: 0.5833\n",
      "Epoch 285/300\n",
      "48/48 [==============================] - 0s 1ms/step - loss: 2.8741e-05 - acc: 1.0000 - val_loss: 0.0073 - val_acc: 0.5833\n",
      "Epoch 286/300\n",
      "48/48 [==============================] - 0s 901us/step - loss: 2.8494e-05 - acc: 1.0000 - val_loss: 0.0073 - val_acc: 0.5833\n",
      "Epoch 287/300\n",
      "48/48 [==============================] - 0s 1ms/step - loss: 2.8511e-05 - acc: 1.0000 - val_loss: 0.0073 - val_acc: 0.5833\n",
      "Epoch 288/300\n",
      "48/48 [==============================] - 0s 1ms/step - loss: 2.8531e-05 - acc: 1.0000 - val_loss: 0.0073 - val_acc: 0.5833\n",
      "Epoch 289/300\n",
      "48/48 [==============================] - 0s 1ms/step - loss: 2.8482e-05 - acc: 1.0000 - val_loss: 0.0073 - val_acc: 0.5833\n",
      "Epoch 290/300\n",
      "48/48 [==============================] - 0s 950us/step - loss: 2.8485e-05 - acc: 1.0000 - val_loss: 0.0073 - val_acc: 0.5833\n",
      "Epoch 291/300\n",
      "48/48 [==============================] - 0s 1ms/step - loss: 2.8341e-05 - acc: 1.0000 - val_loss: 0.0073 - val_acc: 0.5833\n",
      "Epoch 292/300\n",
      "48/48 [==============================] - ETA: 0s - loss: 2.7274e-05 - acc: 1.000 - 0s 864us/step - loss: 2.8307e-05 - acc: 1.0000 - val_loss: 0.0074 - val_acc: 0.5833\n",
      "Epoch 293/300\n",
      "48/48 [==============================] - ETA: 0s - loss: 2.0999e-05 - acc: 1.000 - 0s 1ms/step - loss: 2.8371e-05 - acc: 1.0000 - val_loss: 0.0073 - val_acc: 0.5833\n",
      "Epoch 294/300\n",
      "48/48 [==============================] - 0s 931us/step - loss: 2.8449e-05 - acc: 1.0000 - val_loss: 0.0073 - val_acc: 0.5833\n",
      "Epoch 295/300\n",
      "48/48 [==============================] - 0s 894us/step - loss: 2.8248e-05 - acc: 1.0000 - val_loss: 0.0073 - val_acc: 0.5833\n",
      "Epoch 296/300\n",
      "48/48 [==============================] - 0s 1ms/step - loss: 2.8277e-05 - acc: 1.0000 - val_loss: 0.0073 - val_acc: 0.5833\n"
     ]
    },
    {
     "name": "stdout",
     "output_type": "stream",
     "text": [
      "Epoch 297/300\n",
      "48/48 [==============================] - 0s 996us/step - loss: 2.8404e-05 - acc: 1.0000 - val_loss: 0.0073 - val_acc: 0.5833\n",
      "Epoch 298/300\n",
      "48/48 [==============================] - 0s 978us/step - loss: 2.8375e-05 - acc: 1.0000 - val_loss: 0.0073 - val_acc: 0.5833\n",
      "Epoch 299/300\n",
      "48/48 [==============================] - 0s 845us/step - loss: 2.8280e-05 - acc: 1.0000 - val_loss: 0.0073 - val_acc: 0.5833\n",
      "Epoch 300/300\n",
      "48/48 [==============================] - 0s 922us/step - loss: 2.8288e-05 - acc: 1.0000 - val_loss: 0.0073 - val_acc: 0.5833\n"
     ]
    }
   ],
   "source": [
    "\n",
    "model_fatalities.compile(optimizer='adam', loss = 'msle', metrics = ['acc'])\n",
    "#callbacks = [ReduceLROnPlateau(monitor='val_l|oss', patience = 5, verbose = 1, factor = 0.6),\n",
    " #            EarlyStopping(monitor='val_loss', patience = 20),\n",
    "  #           ModelCheckpoint(filepath = 'best_model_confirmed.h5', monitor ='val_loss', save_best_only = True)]\n",
    "\n",
    "# fit the model\n",
    "hist = model_fatalities.fit(X_train_fatal, y_train_fatal, epochs = epochs,  \n",
    "                    validation_split = 0.33)"
   ]
  },
  {
   "cell_type": "code",
   "execution_count": 98,
   "metadata": {},
   "outputs": [
    {
     "name": "stdout",
     "output_type": "stream",
     "text": [
      "60/60 [==============================] - 0s 228us/step\n",
      "Model accuracy: 91.67 %\n"
     ]
    }
   ],
   "source": [
    "scores = model_fatalities.evaluate(X_train_fatal, y_train_fatal)\n",
    "print(\"Model accuracy: %.2f\"%(scores[1]*100),\"%\")"
   ]
  },
  {
   "cell_type": "code",
   "execution_count": 99,
   "metadata": {},
   "outputs": [
    {
     "data": {
      "image/png": "[encoded data removed]",
      "text/plain": [
       "<Figure size 432x288 with 1 Axes>"
      ]
     },
     "metadata": {
      "needs_background": "light"
     },
     "output_type": "display_data"
    }
   ],
   "source": [
    "# OVERFITTING - val loss > train loss\n",
    "plt.plot(hist.history['loss'])\n",
    "plt.plot(hist.history['val_loss'])\n",
    "plt.title('Epoch vs Loss for Confirmed Cases')\n",
    "plt.ylabel('Loss')\n",
    "plt.xlabel('Epoch')\n",
    "plt.legend(['Train', 'Validation'], loc='upper right')\n",
    "plt.show()"
   ]
  },
  {
   "cell_type": "code",
   "execution_count": 57,
   "metadata": {},
   "outputs": [
    {
     "name": "stdout",
     "output_type": "stream",
     "text": [
      "(1, 2, 180)\n"
     ]
    }
   ],
   "source": [
    "#last_confirmed = list()\n",
    "#last_confirmed.append(Confirmed[len(Confirmed)-n_steps_in:len(Confirmed)+1])\n",
    "#last_confirmed = np.array(last_confirmed)\n",
    "#print(last_confirmed.shape)\n"
   ]
  },
  {
   "cell_type": "markdown",
   "metadata": {},
   "source": [
    "## Predicting confirmed cases"
   ]
  },
  {
   "cell_type": "code",
   "execution_count": 100,
   "metadata": {},
   "outputs": [
    {
     "name": "stdout",
     "output_type": "stream",
     "text": [
      "(16, 184)\n"
     ]
    }
   ],
   "source": [
    "#trainPredict = model_confirmed.predict(X_train_confirmed)\n",
    "testPredict = model_confirmed.predict(X_val_confirmed)\n",
    "\n",
    "print(testPredict.shape)\n",
    "testPredict = scaler_c.inverse_transform(testPredict)\n",
    "y_val_confirmed = scaler_c.inverse_transform(y_val_confirmed)\n"
   ]
  },
  {
   "cell_type": "code",
   "execution_count": 101,
   "metadata": {},
   "outputs": [
    {
     "name": "stdout",
     "output_type": "stream",
     "text": [
      "Predicted test values: \n"
     ]
    },
    {
     "data": {
      "text/plain": [
       "Date\n",
       "2020-03-26    0.0\n",
       "2020-03-27    0.0\n",
       "2020-03-28    0.0\n",
       "2020-03-29    0.0\n",
       "2020-03-30    0.0\n",
       "2020-03-31    0.0\n",
       "2020-04-01    0.0\n",
       "2020-04-02    0.0\n",
       "2020-04-03    0.0\n",
       "2020-04-04    0.0\n",
       "2020-04-05    0.0\n",
       "2020-04-06    0.0\n",
       "2020-04-07    0.0\n",
       "2020-04-08    0.0\n",
       "2020-04-09    0.0\n",
       "2020-04-10    0.0\n",
       "Name: Serbia, dtype: float32"
      ]
     },
     "execution_count": 101,
     "metadata": {},
     "output_type": "execute_result"
    }
   ],
   "source": [
    "import datetime\n",
    "from dateutil.relativedelta import relativedelta\n",
    "\n",
    "res_ = dict()   \n",
    "countries = train['Country_Region'].unique()\n",
    "#len(countries)\n",
    "dates = []\n",
    "start_date = \"2020-3-26\"\n",
    "date1 = datetime.datetime.strptime(start_date, \"%Y-%m-%d\")\n",
    "for i in range(len(testPredict)):\n",
    "    res_[i] = testPredict[i]\n",
    "    dates.append(date1.strftime(\"%Y-%m-%d\"))\n",
    "    date1 += relativedelta(days = 1)\n",
    "    \n",
    "res = pd.DataFrame(pd.DataFrame(pd.DataFrame(res_).values.T))\n",
    "res.columns = countries\n",
    "\n",
    "res['Date'] = dates\n",
    "res = pd.pivot_table(res, index = 'Date')\n",
    "print(\"Predicted test values: \")\n",
    "res[11:]\n",
    "res['Serbia']"
   ]
  },
  {
   "cell_type": "code",
   "execution_count": 102,
   "metadata": {},
   "outputs": [
    {
     "name": "stdout",
     "output_type": "stream",
     "text": [
      "Real test values: \n"
     ]
    },
    {
     "data": {
      "text/plain": [
       "Date\n",
       "2020-03-26     384.000031\n",
       "2020-03-27     384.000031\n",
       "2020-03-28     457.000000\n",
       "2020-03-29     659.000000\n",
       "2020-03-30     741.000000\n",
       "2020-03-31     785.000000\n",
       "2020-04-01     899.999939\n",
       "2020-04-02    1060.000000\n",
       "2020-04-03    1171.000000\n",
       "2020-04-04    1476.000000\n",
       "2020-04-05    1624.000000\n",
       "2020-04-06    1908.000000\n",
       "2020-04-07    2200.000000\n",
       "2020-04-08    2447.000000\n",
       "2020-04-09    2666.000000\n",
       "2020-04-10    2867.000000\n",
       "Name: Serbia, dtype: float32"
      ]
     },
     "execution_count": 102,
     "metadata": {},
     "output_type": "execute_result"
    }
   ],
   "source": [
    "print(\"Real test values: \")\n",
    "\n",
    "real = dict()   \n",
    "for i in range(len(y_val_confirmed)):\n",
    "    real[i] = y_val_confirmed[i]\n",
    " \n",
    "    \n",
    "real = pd.DataFrame(pd.DataFrame(pd.DataFrame(real).values.T))\n",
    "real.columns = countries\n",
    "\n",
    "real['Date'] = dates\n",
    "real = pd.pivot_table(real, index = 'Date')\n",
    "real[11:]\n",
    "real['Serbia']"
   ]
  },
  {
   "cell_type": "code",
   "execution_count": 103,
   "metadata": {},
   "outputs": [
    {
     "data": {
      "application/vnd.plotly.v1+json": {
       "config": {
        "plotlyServerURL": "https://plot.ly"
       },
       "data": [
        {
         "name": "Predicted cases",
         "type": "scatter",
         "x": [
          "2020-03-26",
          "2020-03-27",
          "2020-03-28",
          "2020-03-29",
          "2020-03-30",
          "2020-03-31",
          "2020-04-01",
          "2020-04-02",
          "2020-04-03",
          "2020-04-04",
          "2020-04-05",
          "2020-04-06",
          "2020-04-07",
          "2020-04-08",
          "2020-04-09",
          "2020-04-10"
         ],
         "y": [
          0,
          0,
          0,
          0,
          0,
          0,
          0,
          0,
          0,
          0,
          0,
          0,
          0,
          0,
          0,
          0
         ]
        },
        {
         "name": "Realised cases",
         "type": "scatter",
         "x": [
          "2020-03-26",
          "2020-03-27",
          "2020-03-28",
          "2020-03-29",
          "2020-03-30",
          "2020-03-31",
          "2020-04-01",
          "2020-04-02",
          "2020-04-03",
          "2020-04-04",
          "2020-04-05",
          "2020-04-06",
          "2020-04-07",
          "2020-04-08",
          "2020-04-09",
          "2020-04-10"
         ],
         "y": [
          384.0000305175781,
          384.0000305175781,
          457,
          659,
          741,
          785,
          899.9999389648438,
          1060,
          1171,
          1476,
          1624,
          1908,
          2200,
          2447,
          2666,
          2867
         ]
        }
       ],
       "layout": {
        "template": {
         "data": {
          "bar": [
           {
            "error_x": {
             "color": "#2a3f5f"
            },
            "error_y": {
             "color": "#2a3f5f"
            },
            "marker": {
             "line": {
              "color": "white",
              "width": 0.5
             }
            },
            "type": "bar"
           }
          ],
          "barpolar": [
           {
            "marker": {
             "line": {
              "color": "white",
              "width": 0.5
             }
            },
            "type": "barpolar"
           }
          ],
          "carpet": [
           {
            "aaxis": {
             "endlinecolor": "#2a3f5f",
             "gridcolor": "#C8D4E3",
             "linecolor": "#C8D4E3",
             "minorgridcolor": "#C8D4E3",
             "startlinecolor": "#2a3f5f"
            },
            "baxis": {
             "endlinecolor": "#2a3f5f",
             "gridcolor": "#C8D4E3",
             "linecolor": "#C8D4E3",
             "minorgridcolor": "#C8D4E3",
             "startlinecolor": "#2a3f5f"
            },
            "type": "carpet"
           }
          ],
          "choropleth": [
           {
            "colorbar": {
             "outlinewidth": 0,
             "ticks": ""
            },
            "type": "choropleth"
           }
          ],
          "contour": [
           {
            "colorbar": {
             "outlinewidth": 0,
             "ticks": ""
            },
            "colorscale": [
             [
              0,
              "#0d0887"
             ],
             [
              0.1111111111111111,
              "#46039f"
             ],
             [
              0.2222222222222222,
              "#7201a8"
             ],
             [
              0.3333333333333333,
              "#9c179e"
             ],
             [
              0.4444444444444444,
              "#bd3786"
             ],
             [
              0.5555555555555556,
              "#d8576b"
             ],
             [
              0.6666666666666666,
              "#ed7953"
             ],
             [
              0.7777777777777778,
              "#fb9f3a"
             ],
             [
              0.8888888888888888,
              "#fdca26"
             ],
             [
              1,
              "#f0f921"
             ]
            ],
            "type": "contour"
           }
          ],
          "contourcarpet": [
           {
            "colorbar": {
             "outlinewidth": 0,
             "ticks": ""
            },
            "type": "contourcarpet"
           }
          ],
          "heatmap": [
           {
            "colorbar": {
             "outlinewidth": 0,
             "ticks": ""
            },
            "colorscale": [
             [
              0,
              "#0d0887"
             ],
             [
              0.1111111111111111,
              "#46039f"
             ],
             [
              0.2222222222222222,
              "#7201a8"
             ],
             [
              0.3333333333333333,
              "#9c179e"
             ],
             [
              0.4444444444444444,
              "#bd3786"
             ],
             [
              0.5555555555555556,
              "#d8576b"
             ],
             [
              0.6666666666666666,
              "#ed7953"
             ],
             [
              0.7777777777777778,
              "#fb9f3a"
             ],
             [
              0.8888888888888888,
              "#fdca26"
             ],
             [
              1,
              "#f0f921"
             ]
            ],
            "type": "heatmap"
           }
          ],
          "heatmapgl": [
           {
            "colorbar": {
             "outlinewidth": 0,
             "ticks": ""
            },
            "colorscale": [
             [
              0,
              "#0d0887"
             ],
             [
              0.1111111111111111,
              "#46039f"
             ],
             [
              0.2222222222222222,
              "#7201a8"
             ],
             [
              0.3333333333333333,
              "#9c179e"
             ],
             [
              0.4444444444444444,
              "#bd3786"
             ],
             [
              0.5555555555555556,
              "#d8576b"
             ],
             [
              0.6666666666666666,
              "#ed7953"
             ],
             [
              0.7777777777777778,
              "#fb9f3a"
             ],
             [
              0.8888888888888888,
              "#fdca26"
             ],
             [
              1,
              "#f0f921"
             ]
            ],
            "type": "heatmapgl"
           }
          ],
          "histogram": [
           {
            "marker": {
             "colorbar": {
              "outlinewidth": 0,
              "ticks": ""
             }
            },
            "type": "histogram"
           }
          ],
          "histogram2d": [
           {
            "colorbar": {
             "outlinewidth": 0,
             "ticks": ""
            },
            "colorscale": [
             [
              0,
              "#0d0887"
             ],
             [
              0.1111111111111111,
              "#46039f"
             ],
             [
              0.2222222222222222,
              "#7201a8"
             ],
             [
              0.3333333333333333,
              "#9c179e"
             ],
             [
              0.4444444444444444,
              "#bd3786"
             ],
             [
              0.5555555555555556,
              "#d8576b"
             ],
             [
              0.6666666666666666,
              "#ed7953"
             ],
             [
              0.7777777777777778,
              "#fb9f3a"
             ],
             [
              0.8888888888888888,
              "#fdca26"
             ],
             [
              1,
              "#f0f921"
             ]
            ],
            "type": "histogram2d"
           }
          ],
          "histogram2dcontour": [
           {
            "colorbar": {
             "outlinewidth": 0,
             "ticks": ""
            },
            "colorscale": [
             [
              0,
              "#0d0887"
             ],
             [
              0.1111111111111111,
              "#46039f"
             ],
             [
              0.2222222222222222,
              "#7201a8"
             ],
             [
              0.3333333333333333,
              "#9c179e"
             ],
             [
              0.4444444444444444,
              "#bd3786"
             ],
             [
              0.5555555555555556,
              "#d8576b"
             ],
             [
              0.6666666666666666,
              "#ed7953"
             ],
             [
              0.7777777777777778,
              "#fb9f3a"
             ],
             [
              0.8888888888888888,
              "#fdca26"
             ],
             [
              1,
              "#f0f921"
             ]
            ],
            "type": "histogram2dcontour"
           }
          ],
          "mesh3d": [
           {
            "colorbar": {
             "outlinewidth": 0,
             "ticks": ""
            },
            "type": "mesh3d"
           }
          ],
          "parcoords": [
           {
            "line": {
             "colorbar": {
              "outlinewidth": 0,
              "ticks": ""
             }
            },
            "type": "parcoords"
           }
          ],
          "pie": [
           {
            "automargin": true,
            "type": "pie"
           }
          ],
          "scatter": [
           {
            "marker": {
             "colorbar": {
              "outlinewidth": 0,
              "ticks": ""
             }
            },
            "type": "scatter"
           }
          ],
          "scatter3d": [
           {
            "line": {
             "colorbar": {
              "outlinewidth": 0,
              "ticks": ""
             }
            },
            "marker": {
             "colorbar": {
              "outlinewidth": 0,
              "ticks": ""
             }
            },
            "type": "scatter3d"
           }
          ],
          "scattercarpet": [
           {
            "marker": {
             "colorbar": {
              "outlinewidth": 0,
              "ticks": ""
             }
            },
            "type": "scattercarpet"
           }
          ],
          "scattergeo": [
           {
            "marker": {
             "colorbar": {
              "outlinewidth": 0,
              "ticks": ""
             }
            },
            "type": "scattergeo"
           }
          ],
          "scattergl": [
           {
            "marker": {
             "colorbar": {
              "outlinewidth": 0,
              "ticks": ""
             }
            },
            "type": "scattergl"
           }
          ],
          "scattermapbox": [
           {
            "marker": {
             "colorbar": {
              "outlinewidth": 0,
              "ticks": ""
             }
            },
            "type": "scattermapbox"
           }
          ],
          "scatterpolar": [
           {
            "marker": {
             "colorbar": {
              "outlinewidth": 0,
              "ticks": ""
             }
            },
            "type": "scatterpolar"
           }
          ],
          "scatterpolargl": [
           {
            "marker": {
             "colorbar": {
              "outlinewidth": 0,
              "ticks": ""
             }
            },
            "type": "scatterpolargl"
           }
          ],
          "scatterternary": [
           {
            "marker": {
             "colorbar": {
              "outlinewidth": 0,
              "ticks": ""
             }
            },
            "type": "scatterternary"
           }
          ],
          "surface": [
           {
            "colorbar": {
             "outlinewidth": 0,
             "ticks": ""
            },
            "colorscale": [
             [
              0,
              "#0d0887"
             ],
             [
              0.1111111111111111,
              "#46039f"
             ],
             [
              0.2222222222222222,
              "#7201a8"
             ],
             [
              0.3333333333333333,
              "#9c179e"
             ],
             [
              0.4444444444444444,
              "#bd3786"
             ],
             [
              0.5555555555555556,
              "#d8576b"
             ],
             [
              0.6666666666666666,
              "#ed7953"
             ],
             [
              0.7777777777777778,
              "#fb9f3a"
             ],
             [
              0.8888888888888888,
              "#fdca26"
             ],
             [
              1,
              "#f0f921"
             ]
            ],
            "type": "surface"
           }
          ],
          "table": [
           {
            "cells": {
             "fill": {
              "color": "#EBF0F8"
             },
             "line": {
              "color": "white"
             }
            },
            "header": {
             "fill": {
              "color": "#C8D4E3"
             },
             "line": {
              "color": "white"
             }
            },
            "type": "table"
           }
          ]
         },
         "layout": {
          "annotationdefaults": {
           "arrowcolor": "#2a3f5f",
           "arrowhead": 0,
           "arrowwidth": 1
          },
          "coloraxis": {
           "colorbar": {
            "outlinewidth": 0,
            "ticks": ""
           }
          },
          "colorscale": {
           "diverging": [
            [
             0,
             "#8e0152"
            ],
            [
             0.1,
             "#c51b7d"
            ],
            [
             0.2,
             "#de77ae"
            ],
            [
             0.3,
             "#f1b6da"
            ],
            [
             0.4,
             "#fde0ef"
            ],
            [
             0.5,
             "#f7f7f7"
            ],
            [
             0.6,
             "#e6f5d0"
            ],
            [
             0.7,
             "#b8e186"
            ],
            [
             0.8,
             "#7fbc41"
            ],
            [
             0.9,
             "#4d9221"
            ],
            [
             1,
             "#276419"
            ]
           ],
           "sequential": [
            [
             0,
             "#0d0887"
            ],
            [
             0.1111111111111111,
             "#46039f"
            ],
            [
             0.2222222222222222,
             "#7201a8"
            ],
            [
             0.3333333333333333,
             "#9c179e"
            ],
            [
             0.4444444444444444,
             "#bd3786"
            ],
            [
             0.5555555555555556,
             "#d8576b"
            ],
            [
             0.6666666666666666,
             "#ed7953"
            ],
            [
             0.7777777777777778,
             "#fb9f3a"
            ],
            [
             0.8888888888888888,
             "#fdca26"
            ],
            [
             1,
             "#f0f921"
            ]
           ],
           "sequentialminus": [
            [
             0,
             "#0d0887"
            ],
            [
             0.1111111111111111,
             "#46039f"
            ],
            [
             0.2222222222222222,
             "#7201a8"
            ],
            [
             0.3333333333333333,
             "#9c179e"
            ],
            [
             0.4444444444444444,
             "#bd3786"
            ],
            [
             0.5555555555555556,
             "#d8576b"
            ],
            [
             0.6666666666666666,
             "#ed7953"
            ],
            [
             0.7777777777777778,
             "#fb9f3a"
            ],
            [
             0.8888888888888888,
             "#fdca26"
            ],
            [
             1,
             "#f0f921"
            ]
           ]
          },
          "colorway": [
           "#636efa",
           "#EF553B",
           "#00cc96",
           "#ab63fa",
           "#FFA15A",
           "#19d3f3",
           "#FF6692",
           "#B6E880",
           "#FF97FF",
           "#FECB52"
          ],
          "font": {
           "color": "#2a3f5f"
          },
          "geo": {
           "bgcolor": "white",
           "lakecolor": "white",
           "landcolor": "white",
           "showlakes": true,
           "showland": true,
           "subunitcolor": "#C8D4E3"
          },
          "hoverlabel": {
           "align": "left"
          },
          "hovermode": "closest",
          "mapbox": {
           "style": "light"
          },
          "paper_bgcolor": "white",
          "plot_bgcolor": "white",
          "polar": {
           "angularaxis": {
            "gridcolor": "#EBF0F8",
            "linecolor": "#EBF0F8",
            "ticks": ""
           },
           "bgcolor": "white",
           "radialaxis": {
            "gridcolor": "#EBF0F8",
            "linecolor": "#EBF0F8",
            "ticks": ""
           }
          },
          "scene": {
           "xaxis": {
            "backgroundcolor": "white",
            "gridcolor": "#DFE8F3",
            "gridwidth": 2,
            "linecolor": "#EBF0F8",
            "showbackground": true,
            "ticks": "",
            "zerolinecolor": "#EBF0F8"
           },
           "yaxis": {
            "backgroundcolor": "white",
            "gridcolor": "#DFE8F3",
            "gridwidth": 2,
            "linecolor": "#EBF0F8",
            "showbackground": true,
            "ticks": "",
            "zerolinecolor": "#EBF0F8"
           },
           "zaxis": {
            "backgroundcolor": "white",
            "gridcolor": "#DFE8F3",
            "gridwidth": 2,
            "linecolor": "#EBF0F8",
            "showbackground": true,
            "ticks": "",
            "zerolinecolor": "#EBF0F8"
           }
          },
          "shapedefaults": {
           "line": {
            "color": "#2a3f5f"
           }
          },
          "ternary": {
           "aaxis": {
            "gridcolor": "#DFE8F3",
            "linecolor": "#A2B1C6",
            "ticks": ""
           },
           "baxis": {
            "gridcolor": "#DFE8F3",
            "linecolor": "#A2B1C6",
            "ticks": ""
           },
           "bgcolor": "white",
           "caxis": {
            "gridcolor": "#DFE8F3",
            "linecolor": "#A2B1C6",
            "ticks": ""
           }
          },
          "title": {
           "x": 0.05
          },
          "xaxis": {
           "automargin": true,
           "gridcolor": "#EBF0F8",
           "linecolor": "#EBF0F8",
           "ticks": "",
           "title": {
            "standoff": 15
           },
           "zerolinecolor": "#EBF0F8",
           "zerolinewidth": 2
          },
          "yaxis": {
           "automargin": true,
           "gridcolor": "#EBF0F8",
           "linecolor": "#EBF0F8",
           "ticks": "",
           "title": {
            "standoff": 15
           },
           "zerolinecolor": "#EBF0F8",
           "zerolinewidth": 2
          }
         }
        },
        "title": {
         "text": "Confirmed COVID-19 cases in Serbia"
        },
        "xaxis": {
         "title": {
          "text": "Date"
         }
        },
        "yaxis": {
         "title": {
          "text": "Cases"
         }
        }
       }
      },
      "text/html": [
       "<div>\n",
       "        \n",
       "        \n",
       "            <div id=\"6c02edb2-4b92-468a-b699-b568322f2ad4\" class=\"plotly-graph-div\" style=\"height:525px; width:100%;\"></div>\n",
       "            <script type=\"text/javascript\">\n",
       "                require([\"plotly\"], function(Plotly) {\n",
       "                    window.PLOTLYENV=window.PLOTLYENV || {};\n",
       "                    \n",
       "                if (document.getElementById(\"6c02edb2-4b92-468a-b699-b568322f2ad4\")) {\n",
       "                    Plotly.newPlot(\n",
       "                        '6c02edb2-4b92-468a-b699-b568322f2ad4',\n",
       "                        [{\"name\": \"Predicted cases\", \"type\": \"scatter\", \"x\": [\"2020-03-26\", \"2020-03-27\", \"2020-03-28\", \"2020-03-29\", \"2020-03-30\", \"2020-03-31\", \"2020-04-01\", \"2020-04-02\", \"2020-04-03\", \"2020-04-04\", \"2020-04-05\", \"2020-04-06\", \"2020-04-07\", \"2020-04-08\", \"2020-04-09\", \"2020-04-10\"], \"y\": [0.0, 0.0, 0.0, 0.0, 0.0, 0.0, 0.0, 0.0, 0.0, 0.0, 0.0, 0.0, 0.0, 0.0, 0.0, 0.0]}, {\"name\": \"Realised cases\", \"type\": \"scatter\", \"x\": [\"2020-03-26\", \"2020-03-27\", \"2020-03-28\", \"2020-03-29\", \"2020-03-30\", \"2020-03-31\", \"2020-04-01\", \"2020-04-02\", \"2020-04-03\", \"2020-04-04\", \"2020-04-05\", \"2020-04-06\", \"2020-04-07\", \"2020-04-08\", \"2020-04-09\", \"2020-04-10\"], \"y\": [384.0000305175781, 384.0000305175781, 457.0, 659.0, 741.0, 785.0, 899.9999389648438, 1060.0, 1171.0, 1476.0, 1624.0, 1908.0, 2200.0, 2447.0, 2666.0, 2867.0]}],\n",
       "                        {\"template\": {\"data\": {\"bar\": [{\"error_x\": {\"color\": \"#2a3f5f\"}, \"error_y\": {\"color\": \"#2a3f5f\"}, \"marker\": {\"line\": {\"color\": \"white\", \"width\": 0.5}}, \"type\": \"bar\"}], \"barpolar\": [{\"marker\": {\"line\": {\"color\": \"white\", \"width\": 0.5}}, \"type\": \"barpolar\"}], \"carpet\": [{\"aaxis\": {\"endlinecolor\": \"#2a3f5f\", \"gridcolor\": \"#C8D4E3\", \"linecolor\": \"#C8D4E3\", \"minorgridcolor\": \"#C8D4E3\", \"startlinecolor\": \"#2a3f5f\"}, \"baxis\": {\"endlinecolor\": \"#2a3f5f\", \"gridcolor\": \"#C8D4E3\", \"linecolor\": \"#C8D4E3\", \"minorgridcolor\": \"#C8D4E3\", \"startlinecolor\": \"#2a3f5f\"}, \"type\": \"carpet\"}], \"choropleth\": [{\"colorbar\": {\"outlinewidth\": 0, \"ticks\": \"\"}, \"type\": \"choropleth\"}], \"contour\": [{\"colorbar\": {\"outlinewidth\": 0, \"ticks\": \"\"}, \"colorscale\": [[0.0, \"#0d0887\"], [0.1111111111111111, \"#46039f\"], [0.2222222222222222, \"#7201a8\"], [0.3333333333333333, \"#9c179e\"], [0.4444444444444444, \"#bd3786\"], [0.5555555555555556, \"#d8576b\"], [0.6666666666666666, \"#ed7953\"], [0.7777777777777778, \"#fb9f3a\"], [0.8888888888888888, \"#fdca26\"], [1.0, \"#f0f921\"]], \"type\": \"contour\"}], \"contourcarpet\": [{\"colorbar\": {\"outlinewidth\": 0, \"ticks\": \"\"}, \"type\": \"contourcarpet\"}], \"heatmap\": [{\"colorbar\": {\"outlinewidth\": 0, \"ticks\": \"\"}, \"colorscale\": [[0.0, \"#0d0887\"], [0.1111111111111111, \"#46039f\"], [0.2222222222222222, \"#7201a8\"], [0.3333333333333333, \"#9c179e\"], [0.4444444444444444, \"#bd3786\"], [0.5555555555555556, \"#d8576b\"], [0.6666666666666666, \"#ed7953\"], [0.7777777777777778, \"#fb9f3a\"], [0.8888888888888888, \"#fdca26\"], [1.0, \"#f0f921\"]], \"type\": \"heatmap\"}], \"heatmapgl\": [{\"colorbar\": {\"outlinewidth\": 0, \"ticks\": \"\"}, \"colorscale\": [[0.0, \"#0d0887\"], [0.1111111111111111, \"#46039f\"], [0.2222222222222222, \"#7201a8\"], [0.3333333333333333, \"#9c179e\"], [0.4444444444444444, \"#bd3786\"], [0.5555555555555556, \"#d8576b\"], [0.6666666666666666, \"#ed7953\"], [0.7777777777777778, \"#fb9f3a\"], [0.8888888888888888, \"#fdca26\"], [1.0, \"#f0f921\"]], \"type\": \"heatmapgl\"}], \"histogram\": [{\"marker\": {\"colorbar\": {\"outlinewidth\": 0, \"ticks\": \"\"}}, \"type\": \"histogram\"}], \"histogram2d\": [{\"colorbar\": {\"outlinewidth\": 0, \"ticks\": \"\"}, \"colorscale\": [[0.0, \"#0d0887\"], [0.1111111111111111, \"#46039f\"], [0.2222222222222222, \"#7201a8\"], [0.3333333333333333, \"#9c179e\"], [0.4444444444444444, \"#bd3786\"], [0.5555555555555556, \"#d8576b\"], [0.6666666666666666, \"#ed7953\"], [0.7777777777777778, \"#fb9f3a\"], [0.8888888888888888, \"#fdca26\"], [1.0, \"#f0f921\"]], \"type\": \"histogram2d\"}], \"histogram2dcontour\": [{\"colorbar\": {\"outlinewidth\": 0, \"ticks\": \"\"}, \"colorscale\": [[0.0, \"#0d0887\"], [0.1111111111111111, \"#46039f\"], [0.2222222222222222, \"#7201a8\"], [0.3333333333333333, \"#9c179e\"], [0.4444444444444444, \"#bd3786\"], [0.5555555555555556, \"#d8576b\"], [0.6666666666666666, \"#ed7953\"], [0.7777777777777778, \"#fb9f3a\"], [0.8888888888888888, \"#fdca26\"], [1.0, \"#f0f921\"]], \"type\": \"histogram2dcontour\"}], \"mesh3d\": [{\"colorbar\": {\"outlinewidth\": 0, \"ticks\": \"\"}, \"type\": \"mesh3d\"}], \"parcoords\": [{\"line\": {\"colorbar\": {\"outlinewidth\": 0, \"ticks\": \"\"}}, \"type\": \"parcoords\"}], \"pie\": [{\"automargin\": true, \"type\": \"pie\"}], \"scatter\": [{\"marker\": {\"colorbar\": {\"outlinewidth\": 0, \"ticks\": \"\"}}, \"type\": \"scatter\"}], \"scatter3d\": [{\"line\": {\"colorbar\": {\"outlinewidth\": 0, \"ticks\": \"\"}}, \"marker\": {\"colorbar\": {\"outlinewidth\": 0, \"ticks\": \"\"}}, \"type\": \"scatter3d\"}], \"scattercarpet\": [{\"marker\": {\"colorbar\": {\"outlinewidth\": 0, \"ticks\": \"\"}}, \"type\": \"scattercarpet\"}], \"scattergeo\": [{\"marker\": {\"colorbar\": {\"outlinewidth\": 0, \"ticks\": \"\"}}, \"type\": \"scattergeo\"}], \"scattergl\": [{\"marker\": {\"colorbar\": {\"outlinewidth\": 0, \"ticks\": \"\"}}, \"type\": \"scattergl\"}], \"scattermapbox\": [{\"marker\": {\"colorbar\": {\"outlinewidth\": 0, \"ticks\": \"\"}}, \"type\": \"scattermapbox\"}], \"scatterpolar\": [{\"marker\": {\"colorbar\": {\"outlinewidth\": 0, \"ticks\": \"\"}}, \"type\": \"scatterpolar\"}], \"scatterpolargl\": [{\"marker\": {\"colorbar\": {\"outlinewidth\": 0, \"ticks\": \"\"}}, \"type\": \"scatterpolargl\"}], \"scatterternary\": [{\"marker\": {\"colorbar\": {\"outlinewidth\": 0, \"ticks\": \"\"}}, \"type\": \"scatterternary\"}], \"surface\": [{\"colorbar\": {\"outlinewidth\": 0, \"ticks\": \"\"}, \"colorscale\": [[0.0, \"#0d0887\"], [0.1111111111111111, \"#46039f\"], [0.2222222222222222, \"#7201a8\"], [0.3333333333333333, \"#9c179e\"], [0.4444444444444444, \"#bd3786\"], [0.5555555555555556, \"#d8576b\"], [0.6666666666666666, \"#ed7953\"], [0.7777777777777778, \"#fb9f3a\"], [0.8888888888888888, \"#fdca26\"], [1.0, \"#f0f921\"]], \"type\": \"surface\"}], \"table\": [{\"cells\": {\"fill\": {\"color\": \"#EBF0F8\"}, \"line\": {\"color\": \"white\"}}, \"header\": {\"fill\": {\"color\": \"#C8D4E3\"}, \"line\": {\"color\": \"white\"}}, \"type\": \"table\"}]}, \"layout\": {\"annotationdefaults\": {\"arrowcolor\": \"#2a3f5f\", \"arrowhead\": 0, \"arrowwidth\": 1}, \"coloraxis\": {\"colorbar\": {\"outlinewidth\": 0, \"ticks\": \"\"}}, \"colorscale\": {\"diverging\": [[0, \"#8e0152\"], [0.1, \"#c51b7d\"], [0.2, \"#de77ae\"], [0.3, \"#f1b6da\"], [0.4, \"#fde0ef\"], [0.5, \"#f7f7f7\"], [0.6, \"#e6f5d0\"], [0.7, \"#b8e186\"], [0.8, \"#7fbc41\"], [0.9, \"#4d9221\"], [1, \"#276419\"]], \"sequential\": [[0.0, \"#0d0887\"], [0.1111111111111111, \"#46039f\"], [0.2222222222222222, \"#7201a8\"], [0.3333333333333333, \"#9c179e\"], [0.4444444444444444, \"#bd3786\"], [0.5555555555555556, \"#d8576b\"], [0.6666666666666666, \"#ed7953\"], [0.7777777777777778, \"#fb9f3a\"], [0.8888888888888888, \"#fdca26\"], [1.0, \"#f0f921\"]], \"sequentialminus\": [[0.0, \"#0d0887\"], [0.1111111111111111, \"#46039f\"], [0.2222222222222222, \"#7201a8\"], [0.3333333333333333, \"#9c179e\"], [0.4444444444444444, \"#bd3786\"], [0.5555555555555556, \"#d8576b\"], [0.6666666666666666, \"#ed7953\"], [0.7777777777777778, \"#fb9f3a\"], [0.8888888888888888, \"#fdca26\"], [1.0, \"#f0f921\"]]}, \"colorway\": [\"#636efa\", \"#EF553B\", \"#00cc96\", \"#ab63fa\", \"#FFA15A\", \"#19d3f3\", \"#FF6692\", \"#B6E880\", \"#FF97FF\", \"#FECB52\"], \"font\": {\"color\": \"#2a3f5f\"}, \"geo\": {\"bgcolor\": \"white\", \"lakecolor\": \"white\", \"landcolor\": \"white\", \"showlakes\": true, \"showland\": true, \"subunitcolor\": \"#C8D4E3\"}, \"hoverlabel\": {\"align\": \"left\"}, \"hovermode\": \"closest\", \"mapbox\": {\"style\": \"light\"}, \"paper_bgcolor\": \"white\", \"plot_bgcolor\": \"white\", \"polar\": {\"angularaxis\": {\"gridcolor\": \"#EBF0F8\", \"linecolor\": \"#EBF0F8\", \"ticks\": \"\"}, \"bgcolor\": \"white\", \"radialaxis\": {\"gridcolor\": \"#EBF0F8\", \"linecolor\": \"#EBF0F8\", \"ticks\": \"\"}}, \"scene\": {\"xaxis\": {\"backgroundcolor\": \"white\", \"gridcolor\": \"#DFE8F3\", \"gridwidth\": 2, \"linecolor\": \"#EBF0F8\", \"showbackground\": true, \"ticks\": \"\", \"zerolinecolor\": \"#EBF0F8\"}, \"yaxis\": {\"backgroundcolor\": \"white\", \"gridcolor\": \"#DFE8F3\", \"gridwidth\": 2, \"linecolor\": \"#EBF0F8\", \"showbackground\": true, \"ticks\": \"\", \"zerolinecolor\": \"#EBF0F8\"}, \"zaxis\": {\"backgroundcolor\": \"white\", \"gridcolor\": \"#DFE8F3\", \"gridwidth\": 2, \"linecolor\": \"#EBF0F8\", \"showbackground\": true, \"ticks\": \"\", \"zerolinecolor\": \"#EBF0F8\"}}, \"shapedefaults\": {\"line\": {\"color\": \"#2a3f5f\"}}, \"ternary\": {\"aaxis\": {\"gridcolor\": \"#DFE8F3\", \"linecolor\": \"#A2B1C6\", \"ticks\": \"\"}, \"baxis\": {\"gridcolor\": \"#DFE8F3\", \"linecolor\": \"#A2B1C6\", \"ticks\": \"\"}, \"bgcolor\": \"white\", \"caxis\": {\"gridcolor\": \"#DFE8F3\", \"linecolor\": \"#A2B1C6\", \"ticks\": \"\"}}, \"title\": {\"x\": 0.05}, \"xaxis\": {\"automargin\": true, \"gridcolor\": \"#EBF0F8\", \"linecolor\": \"#EBF0F8\", \"ticks\": \"\", \"title\": {\"standoff\": 15}, \"zerolinecolor\": \"#EBF0F8\", \"zerolinewidth\": 2}, \"yaxis\": {\"automargin\": true, \"gridcolor\": \"#EBF0F8\", \"linecolor\": \"#EBF0F8\", \"ticks\": \"\", \"title\": {\"standoff\": 15}, \"zerolinecolor\": \"#EBF0F8\", \"zerolinewidth\": 2}}}, \"title\": {\"text\": \"Confirmed COVID-19 cases in Serbia\"}, \"xaxis\": {\"title\": {\"text\": \"Date\"}}, \"yaxis\": {\"title\": {\"text\": \"Cases\"}}},\n",
       "                        {\"responsive\": true}\n",
       "                    ).then(function(){\n",
       "                            \n",
       "var gd = document.getElementById('6c02edb2-4b92-468a-b699-b568322f2ad4');\n",
       "var x = new MutationObserver(function (mutations, observer) {{\n",
       "        var display = window.getComputedStyle(gd).display;\n",
       "        if (!display || display === 'none') {{\n",
       "            console.log([gd, 'removed!']);\n",
       "            Plotly.purge(gd);\n",
       "            observer.disconnect();\n",
       "        }}\n",
       "}});\n",
       "\n",
       "// Listen for the removal of the full notebook cells\n",
       "var notebookContainer = gd.closest('#notebook-container');\n",
       "if (notebookContainer) {{\n",
       "    x.observe(notebookContainer, {childList: true});\n",
       "}}\n",
       "\n",
       "// Listen for the clearing of the current output cell\n",
       "var outputEl = gd.closest('.output');\n",
       "if (outputEl) {{\n",
       "    x.observe(outputEl, {childList: true});\n",
       "}}\n",
       "\n",
       "                        })\n",
       "                };\n",
       "                });\n",
       "            </script>\n",
       "        </div>"
      ]
     },
     "metadata": {},
     "output_type": "display_data"
    }
   ],
   "source": [
    "fig = go.Figure()\n",
    "\n",
    "Serbia_predicted = res['Serbia']\n",
    "Serbia_real = real['Serbia']\n",
    "\n",
    "Serbia_predicted.values\n",
    "fig.add_trace(go.Scatter(x = dates, y = Serbia_predicted.values, name = \"Predicted cases\"))\n",
    "fig.add_trace(go.Scatter(x = dates, y = Serbia_real.values, name = \"Realised cases\"))\n",
    "fig.update_layout(title = \"Confirmed COVID-19 cases in Serbia\",\n",
    "                  xaxis_title = \"Date\",\n",
    "                  yaxis_title = \"Cases\")\n",
    "fig.layout.template = 'plotly_white'\n",
    "fig.show()"
   ]
  },
  {
   "cell_type": "markdown",
   "metadata": {},
   "source": [
    "## Predicting fatal cases"
   ]
  },
  {
   "cell_type": "code",
   "execution_count": 104,
   "metadata": {},
   "outputs": [
    {
     "name": "stdout",
     "output_type": "stream",
     "text": [
      "(16, 184)\n"
     ]
    }
   ],
   "source": [
    "testPredict_f = model_fatalities.predict(X_val_fatal)\n",
    "\n",
    "print(testPredict_f.shape)\n",
    "\n",
    "testPredict_f = scaler_f.inverse_transform(testPredict_f)\n",
    "y_val_fatal = scaler_f.inverse_transform(y_val_fatal)\n"
   ]
  },
  {
   "cell_type": "code",
   "execution_count": 106,
   "metadata": {},
   "outputs": [
    {
     "name": "stdout",
     "output_type": "stream",
     "text": [
      "Predicted test values: \n"
     ]
    },
    {
     "data": {
      "text/plain": [
       "Date\n",
       "2020-03-26    0.0\n",
       "2020-03-27    0.0\n",
       "2020-03-28    0.0\n",
       "2020-03-29    0.0\n",
       "2020-03-30    0.0\n",
       "2020-03-31    0.0\n",
       "2020-04-01    0.0\n",
       "2020-04-02    0.0\n",
       "2020-04-03    0.0\n",
       "2020-04-04    0.0\n",
       "2020-04-05    0.0\n",
       "2020-04-06    0.0\n",
       "2020-04-07    0.0\n",
       "2020-04-08    0.0\n",
       "2020-04-09    0.0\n",
       "2020-04-10    0.0\n",
       "Name: Serbia, dtype: float32"
      ]
     },
     "execution_count": 106,
     "metadata": {},
     "output_type": "execute_result"
    }
   ],
   "source": [
    "res_ = dict()   \n",
    "countries = train['Country_Region'].unique()\n",
    "dates = []\n",
    "start_date = \"2020-3-26\"\n",
    "date1 = datetime.datetime.strptime(start_date, \"%Y-%m-%d\")\n",
    "for i in range(len(testPredict_f)):\n",
    "    res_[i] = testPredict_f[i]\n",
    "    dates.append(date1.strftime(\"%Y-%m-%d\"))\n",
    "    date1 += relativedelta(days = 1)\n",
    "    \n",
    "res = pd.DataFrame(pd.DataFrame(pd.DataFrame(res_).values.T))\n",
    "res.columns = countries\n",
    "\n",
    "res['Date'] = dates\n",
    "res = pd.pivot_table(res, index = 'Date')\n",
    "print(\"Predicted test values: \")\n",
    "res[11:]\n",
    "res['Serbia']"
   ]
  },
  {
   "cell_type": "code",
   "execution_count": 107,
   "metadata": {},
   "outputs": [
    {
     "name": "stdout",
     "output_type": "stream",
     "text": [
      "Real test values: \n"
     ]
    },
    {
     "data": {
      "text/plain": [
       "Date\n",
       "2020-03-26     4.000000\n",
       "2020-03-27     1.000000\n",
       "2020-03-28     1.000000\n",
       "2020-03-29    10.000000\n",
       "2020-03-30    13.000000\n",
       "2020-03-31    16.000000\n",
       "2020-04-01    16.000000\n",
       "2020-04-02    28.000000\n",
       "2020-04-03    31.000002\n",
       "2020-04-04    39.000000\n",
       "2020-04-05    44.000000\n",
       "2020-04-06    51.000000\n",
       "2020-04-07    57.999996\n",
       "2020-04-08    61.000000\n",
       "2020-04-09    65.000000\n",
       "2020-04-10    66.000000\n",
       "Name: Serbia, dtype: float32"
      ]
     },
     "execution_count": 107,
     "metadata": {},
     "output_type": "execute_result"
    }
   ],
   "source": [
    "print(\"Real test values: \")\n",
    "\n",
    "real = dict()   \n",
    "for i in range(len(y_val_fatal)):\n",
    "    real[i] = y_val_fatal[i]\n",
    " \n",
    "    \n",
    "real = pd.DataFrame(pd.DataFrame(pd.DataFrame(real).values.T))\n",
    "real.columns = countries\n",
    "\n",
    "real['Date'] = dates\n",
    "real = pd.pivot_table(real, index = 'Date')\n",
    "real[11:]\n",
    "real['Serbia']"
   ]
  },
  {
   "cell_type": "code",
   "execution_count": 108,
   "metadata": {},
   "outputs": [
    {
     "data": {
      "application/vnd.plotly.v1+json": {
       "config": {
        "plotlyServerURL": "https://plot.ly"
       },
       "data": [
        {
         "name": "Predicted cases",
         "type": "scatter",
         "x": [
          "2020-03-26",
          "2020-03-27",
          "2020-03-28",
          "2020-03-29",
          "2020-03-30",
          "2020-03-31",
          "2020-04-01",
          "2020-04-02",
          "2020-04-03",
          "2020-04-04",
          "2020-04-05",
          "2020-04-06",
          "2020-04-07",
          "2020-04-08",
          "2020-04-09",
          "2020-04-10"
         ],
         "y": [
          0,
          0,
          0,
          0,
          0,
          0,
          0,
          0,
          0,
          0,
          0,
          0,
          0,
          0,
          0,
          0
         ]
        },
        {
         "name": "Realized cases",
         "type": "scatter",
         "x": [
          "2020-03-26",
          "2020-03-27",
          "2020-03-28",
          "2020-03-29",
          "2020-03-30",
          "2020-03-31",
          "2020-04-01",
          "2020-04-02",
          "2020-04-03",
          "2020-04-04",
          "2020-04-05",
          "2020-04-06",
          "2020-04-07",
          "2020-04-08",
          "2020-04-09",
          "2020-04-10"
         ],
         "y": [
          4,
          1,
          1,
          10,
          13,
          16,
          16,
          28,
          31.000001907348633,
          39,
          44,
          51,
          57.999996185302734,
          61,
          65,
          66
         ]
        }
       ],
       "layout": {
        "template": {
         "data": {
          "bar": [
           {
            "error_x": {
             "color": "#2a3f5f"
            },
            "error_y": {
             "color": "#2a3f5f"
            },
            "marker": {
             "line": {
              "color": "white",
              "width": 0.5
             }
            },
            "type": "bar"
           }
          ],
          "barpolar": [
           {
            "marker": {
             "line": {
              "color": "white",
              "width": 0.5
             }
            },
            "type": "barpolar"
           }
          ],
          "carpet": [
           {
            "aaxis": {
             "endlinecolor": "#2a3f5f",
             "gridcolor": "#C8D4E3",
             "linecolor": "#C8D4E3",
             "minorgridcolor": "#C8D4E3",
             "startlinecolor": "#2a3f5f"
            },
            "baxis": {
             "endlinecolor": "#2a3f5f",
             "gridcolor": "#C8D4E3",
             "linecolor": "#C8D4E3",
             "minorgridcolor": "#C8D4E3",
             "startlinecolor": "#2a3f5f"
            },
            "type": "carpet"
           }
          ],
          "choropleth": [
           {
            "colorbar": {
             "outlinewidth": 0,
             "ticks": ""
            },
            "type": "choropleth"
           }
          ],
          "contour": [
           {
            "colorbar": {
             "outlinewidth": 0,
             "ticks": ""
            },
            "colorscale": [
             [
              0,
              "#0d0887"
             ],
             [
              0.1111111111111111,
              "#46039f"
             ],
             [
              0.2222222222222222,
              "#7201a8"
             ],
             [
              0.3333333333333333,
              "#9c179e"
             ],
             [
              0.4444444444444444,
              "#bd3786"
             ],
             [
              0.5555555555555556,
              "#d8576b"
             ],
             [
              0.6666666666666666,
              "#ed7953"
             ],
             [
              0.7777777777777778,
              "#fb9f3a"
             ],
             [
              0.8888888888888888,
              "#fdca26"
             ],
             [
              1,
              "#f0f921"
             ]
            ],
            "type": "contour"
           }
          ],
          "contourcarpet": [
           {
            "colorbar": {
             "outlinewidth": 0,
             "ticks": ""
            },
            "type": "contourcarpet"
           }
          ],
          "heatmap": [
           {
            "colorbar": {
             "outlinewidth": 0,
             "ticks": ""
            },
            "colorscale": [
             [
              0,
              "#0d0887"
             ],
             [
              0.1111111111111111,
              "#46039f"
             ],
             [
              0.2222222222222222,
              "#7201a8"
             ],
             [
              0.3333333333333333,
              "#9c179e"
             ],
             [
              0.4444444444444444,
              "#bd3786"
             ],
             [
              0.5555555555555556,
              "#d8576b"
             ],
             [
              0.6666666666666666,
              "#ed7953"
             ],
             [
              0.7777777777777778,
              "#fb9f3a"
             ],
             [
              0.8888888888888888,
              "#fdca26"
             ],
             [
              1,
              "#f0f921"
             ]
            ],
            "type": "heatmap"
           }
          ],
          "heatmapgl": [
           {
            "colorbar": {
             "outlinewidth": 0,
             "ticks": ""
            },
            "colorscale": [
             [
              0,
              "#0d0887"
             ],
             [
              0.1111111111111111,
              "#46039f"
             ],
             [
              0.2222222222222222,
              "#7201a8"
             ],
             [
              0.3333333333333333,
              "#9c179e"
             ],
             [
              0.4444444444444444,
              "#bd3786"
             ],
             [
              0.5555555555555556,
              "#d8576b"
             ],
             [
              0.6666666666666666,
              "#ed7953"
             ],
             [
              0.7777777777777778,
              "#fb9f3a"
             ],
             [
              0.8888888888888888,
              "#fdca26"
             ],
             [
              1,
              "#f0f921"
             ]
            ],
            "type": "heatmapgl"
           }
          ],
          "histogram": [
           {
            "marker": {
             "colorbar": {
              "outlinewidth": 0,
              "ticks": ""
             }
            },
            "type": "histogram"
           }
          ],
          "histogram2d": [
           {
            "colorbar": {
             "outlinewidth": 0,
             "ticks": ""
            },
            "colorscale": [
             [
              0,
              "#0d0887"
             ],
             [
              0.1111111111111111,
              "#46039f"
             ],
             [
              0.2222222222222222,
              "#7201a8"
             ],
             [
              0.3333333333333333,
              "#9c179e"
             ],
             [
              0.4444444444444444,
              "#bd3786"
             ],
             [
              0.5555555555555556,
              "#d8576b"
             ],
             [
              0.6666666666666666,
              "#ed7953"
             ],
             [
              0.7777777777777778,
              "#fb9f3a"
             ],
             [
              0.8888888888888888,
              "#fdca26"
             ],
             [
              1,
              "#f0f921"
             ]
            ],
            "type": "histogram2d"
           }
          ],
          "histogram2dcontour": [
           {
            "colorbar": {
             "outlinewidth": 0,
             "ticks": ""
            },
            "colorscale": [
             [
              0,
              "#0d0887"
             ],
             [
              0.1111111111111111,
              "#46039f"
             ],
             [
              0.2222222222222222,
              "#7201a8"
             ],
             [
              0.3333333333333333,
              "#9c179e"
             ],
             [
              0.4444444444444444,
              "#bd3786"
             ],
             [
              0.5555555555555556,
              "#d8576b"
             ],
             [
              0.6666666666666666,
              "#ed7953"
             ],
             [
              0.7777777777777778,
              "#fb9f3a"
             ],
             [
              0.8888888888888888,
              "#fdca26"
             ],
             [
              1,
              "#f0f921"
             ]
            ],
            "type": "histogram2dcontour"
           }
          ],
          "mesh3d": [
           {
            "colorbar": {
             "outlinewidth": 0,
             "ticks": ""
            },
            "type": "mesh3d"
           }
          ],
          "parcoords": [
           {
            "line": {
             "colorbar": {
              "outlinewidth": 0,
              "ticks": ""
             }
            },
            "type": "parcoords"
           }
          ],
          "pie": [
           {
            "automargin": true,
            "type": "pie"
           }
          ],
          "scatter": [
           {
            "marker": {
             "colorbar": {
              "outlinewidth": 0,
              "ticks": ""
             }
            },
            "type": "scatter"
           }
          ],
          "scatter3d": [
           {
            "line": {
             "colorbar": {
              "outlinewidth": 0,
              "ticks": ""
             }
            },
            "marker": {
             "colorbar": {
              "outlinewidth": 0,
              "ticks": ""
             }
            },
            "type": "scatter3d"
           }
          ],
          "scattercarpet": [
           {
            "marker": {
             "colorbar": {
              "outlinewidth": 0,
              "ticks": ""
             }
            },
            "type": "scattercarpet"
           }
          ],
          "scattergeo": [
           {
            "marker": {
             "colorbar": {
              "outlinewidth": 0,
              "ticks": ""
             }
            },
            "type": "scattergeo"
           }
          ],
          "scattergl": [
           {
            "marker": {
             "colorbar": {
              "outlinewidth": 0,
              "ticks": ""
             }
            },
            "type": "scattergl"
           }
          ],
          "scattermapbox": [
           {
            "marker": {
             "colorbar": {
              "outlinewidth": 0,
              "ticks": ""
             }
            },
            "type": "scattermapbox"
           }
          ],
          "scatterpolar": [
           {
            "marker": {
             "colorbar": {
              "outlinewidth": 0,
              "ticks": ""
             }
            },
            "type": "scatterpolar"
           }
          ],
          "scatterpolargl": [
           {
            "marker": {
             "colorbar": {
              "outlinewidth": 0,
              "ticks": ""
             }
            },
            "type": "scatterpolargl"
           }
          ],
          "scatterternary": [
           {
            "marker": {
             "colorbar": {
              "outlinewidth": 0,
              "ticks": ""
             }
            },
            "type": "scatterternary"
           }
          ],
          "surface": [
           {
            "colorbar": {
             "outlinewidth": 0,
             "ticks": ""
            },
            "colorscale": [
             [
              0,
              "#0d0887"
             ],
             [
              0.1111111111111111,
              "#46039f"
             ],
             [
              0.2222222222222222,
              "#7201a8"
             ],
             [
              0.3333333333333333,
              "#9c179e"
             ],
             [
              0.4444444444444444,
              "#bd3786"
             ],
             [
              0.5555555555555556,
              "#d8576b"
             ],
             [
              0.6666666666666666,
              "#ed7953"
             ],
             [
              0.7777777777777778,
              "#fb9f3a"
             ],
             [
              0.8888888888888888,
              "#fdca26"
             ],
             [
              1,
              "#f0f921"
             ]
            ],
            "type": "surface"
           }
          ],
          "table": [
           {
            "cells": {
             "fill": {
              "color": "#EBF0F8"
             },
             "line": {
              "color": "white"
             }
            },
            "header": {
             "fill": {
              "color": "#C8D4E3"
             },
             "line": {
              "color": "white"
             }
            },
            "type": "table"
           }
          ]
         },
         "layout": {
          "annotationdefaults": {
           "arrowcolor": "#2a3f5f",
           "arrowhead": 0,
           "arrowwidth": 1
          },
          "coloraxis": {
           "colorbar": {
            "outlinewidth": 0,
            "ticks": ""
           }
          },
          "colorscale": {
           "diverging": [
            [
             0,
             "#8e0152"
            ],
            [
             0.1,
             "#c51b7d"
            ],
            [
             0.2,
             "#de77ae"
            ],
            [
             0.3,
             "#f1b6da"
            ],
            [
             0.4,
             "#fde0ef"
            ],
            [
             0.5,
             "#f7f7f7"
            ],
            [
             0.6,
             "#e6f5d0"
            ],
            [
             0.7,
             "#b8e186"
            ],
            [
             0.8,
             "#7fbc41"
            ],
            [
             0.9,
             "#4d9221"
            ],
            [
             1,
             "#276419"
            ]
           ],
           "sequential": [
            [
             0,
             "#0d0887"
            ],
            [
             0.1111111111111111,
             "#46039f"
            ],
            [
             0.2222222222222222,
             "#7201a8"
            ],
            [
             0.3333333333333333,
             "#9c179e"
            ],
            [
             0.4444444444444444,
             "#bd3786"
            ],
            [
             0.5555555555555556,
             "#d8576b"
            ],
            [
             0.6666666666666666,
             "#ed7953"
            ],
            [
             0.7777777777777778,
             "#fb9f3a"
            ],
            [
             0.8888888888888888,
             "#fdca26"
            ],
            [
             1,
             "#f0f921"
            ]
           ],
           "sequentialminus": [
            [
             0,
             "#0d0887"
            ],
            [
             0.1111111111111111,
             "#46039f"
            ],
            [
             0.2222222222222222,
             "#7201a8"
            ],
            [
             0.3333333333333333,
             "#9c179e"
            ],
            [
             0.4444444444444444,
             "#bd3786"
            ],
            [
             0.5555555555555556,
             "#d8576b"
            ],
            [
             0.6666666666666666,
             "#ed7953"
            ],
            [
             0.7777777777777778,
             "#fb9f3a"
            ],
            [
             0.8888888888888888,
             "#fdca26"
            ],
            [
             1,
             "#f0f921"
            ]
           ]
          },
          "colorway": [
           "#636efa",
           "#EF553B",
           "#00cc96",
           "#ab63fa",
           "#FFA15A",
           "#19d3f3",
           "#FF6692",
           "#B6E880",
           "#FF97FF",
           "#FECB52"
          ],
          "font": {
           "color": "#2a3f5f"
          },
          "geo": {
           "bgcolor": "white",
           "lakecolor": "white",
           "landcolor": "white",
           "showlakes": true,
           "showland": true,
           "subunitcolor": "#C8D4E3"
          },
          "hoverlabel": {
           "align": "left"
          },
          "hovermode": "closest",
          "mapbox": {
           "style": "light"
          },
          "paper_bgcolor": "white",
          "plot_bgcolor": "white",
          "polar": {
           "angularaxis": {
            "gridcolor": "#EBF0F8",
            "linecolor": "#EBF0F8",
            "ticks": ""
           },
           "bgcolor": "white",
           "radialaxis": {
            "gridcolor": "#EBF0F8",
            "linecolor": "#EBF0F8",
            "ticks": ""
           }
          },
          "scene": {
           "xaxis": {
            "backgroundcolor": "white",
            "gridcolor": "#DFE8F3",
            "gridwidth": 2,
            "linecolor": "#EBF0F8",
            "showbackground": true,
            "ticks": "",
            "zerolinecolor": "#EBF0F8"
           },
           "yaxis": {
            "backgroundcolor": "white",
            "gridcolor": "#DFE8F3",
            "gridwidth": 2,
            "linecolor": "#EBF0F8",
            "showbackground": true,
            "ticks": "",
            "zerolinecolor": "#EBF0F8"
           },
           "zaxis": {
            "backgroundcolor": "white",
            "gridcolor": "#DFE8F3",
            "gridwidth": 2,
            "linecolor": "#EBF0F8",
            "showbackground": true,
            "ticks": "",
            "zerolinecolor": "#EBF0F8"
           }
          },
          "shapedefaults": {
           "line": {
            "color": "#2a3f5f"
           }
          },
          "ternary": {
           "aaxis": {
            "gridcolor": "#DFE8F3",
            "linecolor": "#A2B1C6",
            "ticks": ""
           },
           "baxis": {
            "gridcolor": "#DFE8F3",
            "linecolor": "#A2B1C6",
            "ticks": ""
           },
           "bgcolor": "white",
           "caxis": {
            "gridcolor": "#DFE8F3",
            "linecolor": "#A2B1C6",
            "ticks": ""
           }
          },
          "title": {
           "x": 0.05
          },
          "xaxis": {
           "automargin": true,
           "gridcolor": "#EBF0F8",
           "linecolor": "#EBF0F8",
           "ticks": "",
           "title": {
            "standoff": 15
           },
           "zerolinecolor": "#EBF0F8",
           "zerolinewidth": 2
          },
          "yaxis": {
           "automargin": true,
           "gridcolor": "#EBF0F8",
           "linecolor": "#EBF0F8",
           "ticks": "",
           "title": {
            "standoff": 15
           },
           "zerolinecolor": "#EBF0F8",
           "zerolinewidth": 2
          }
         }
        },
        "title": {
         "text": "Fatal COVID-19 cases in Serbia"
        },
        "xaxis": {
         "title": {
          "text": "Date"
         }
        },
        "yaxis": {
         "title": {
          "text": "Cases"
         }
        }
       }
      },
      "text/html": [
       "<div>\n",
       "        \n",
       "        \n",
       "            <div id=\"5b8abbf5-1dc2-4eaf-9259-82f85f52cc9e\" class=\"plotly-graph-div\" style=\"height:525px; width:100%;\"></div>\n",
       "            <script type=\"text/javascript\">\n",
       "                require([\"plotly\"], function(Plotly) {\n",
       "                    window.PLOTLYENV=window.PLOTLYENV || {};\n",
       "                    \n",
       "                if (document.getElementById(\"5b8abbf5-1dc2-4eaf-9259-82f85f52cc9e\")) {\n",
       "                    Plotly.newPlot(\n",
       "                        '5b8abbf5-1dc2-4eaf-9259-82f85f52cc9e',\n",
       "                        [{\"name\": \"Predicted cases\", \"type\": \"scatter\", \"x\": [\"2020-03-26\", \"2020-03-27\", \"2020-03-28\", \"2020-03-29\", \"2020-03-30\", \"2020-03-31\", \"2020-04-01\", \"2020-04-02\", \"2020-04-03\", \"2020-04-04\", \"2020-04-05\", \"2020-04-06\", \"2020-04-07\", \"2020-04-08\", \"2020-04-09\", \"2020-04-10\"], \"y\": [0.0, 0.0, 0.0, 0.0, 0.0, 0.0, 0.0, 0.0, 0.0, 0.0, 0.0, 0.0, 0.0, 0.0, 0.0, 0.0]}, {\"name\": \"Realized cases\", \"type\": \"scatter\", \"x\": [\"2020-03-26\", \"2020-03-27\", \"2020-03-28\", \"2020-03-29\", \"2020-03-30\", \"2020-03-31\", \"2020-04-01\", \"2020-04-02\", \"2020-04-03\", \"2020-04-04\", \"2020-04-05\", \"2020-04-06\", \"2020-04-07\", \"2020-04-08\", \"2020-04-09\", \"2020-04-10\"], \"y\": [4.0, 1.0, 1.0, 10.0, 13.0, 16.0, 16.0, 28.0, 31.000001907348633, 39.0, 44.0, 51.0, 57.999996185302734, 61.0, 65.0, 66.0]}],\n",
       "                        {\"template\": {\"data\": {\"bar\": [{\"error_x\": {\"color\": \"#2a3f5f\"}, \"error_y\": {\"color\": \"#2a3f5f\"}, \"marker\": {\"line\": {\"color\": \"white\", \"width\": 0.5}}, \"type\": \"bar\"}], \"barpolar\": [{\"marker\": {\"line\": {\"color\": \"white\", \"width\": 0.5}}, \"type\": \"barpolar\"}], \"carpet\": [{\"aaxis\": {\"endlinecolor\": \"#2a3f5f\", \"gridcolor\": \"#C8D4E3\", \"linecolor\": \"#C8D4E3\", \"minorgridcolor\": \"#C8D4E3\", \"startlinecolor\": \"#2a3f5f\"}, \"baxis\": {\"endlinecolor\": \"#2a3f5f\", \"gridcolor\": \"#C8D4E3\", \"linecolor\": \"#C8D4E3\", \"minorgridcolor\": \"#C8D4E3\", \"startlinecolor\": \"#2a3f5f\"}, \"type\": \"carpet\"}], \"choropleth\": [{\"colorbar\": {\"outlinewidth\": 0, \"ticks\": \"\"}, \"type\": \"choropleth\"}], \"contour\": [{\"colorbar\": {\"outlinewidth\": 0, \"ticks\": \"\"}, \"colorscale\": [[0.0, \"#0d0887\"], [0.1111111111111111, \"#46039f\"], [0.2222222222222222, \"#7201a8\"], [0.3333333333333333, \"#9c179e\"], [0.4444444444444444, \"#bd3786\"], [0.5555555555555556, \"#d8576b\"], [0.6666666666666666, \"#ed7953\"], [0.7777777777777778, \"#fb9f3a\"], [0.8888888888888888, \"#fdca26\"], [1.0, \"#f0f921\"]], \"type\": \"contour\"}], \"contourcarpet\": [{\"colorbar\": {\"outlinewidth\": 0, \"ticks\": \"\"}, \"type\": \"contourcarpet\"}], \"heatmap\": [{\"colorbar\": {\"outlinewidth\": 0, \"ticks\": \"\"}, \"colorscale\": [[0.0, \"#0d0887\"], [0.1111111111111111, \"#46039f\"], [0.2222222222222222, \"#7201a8\"], [0.3333333333333333, \"#9c179e\"], [0.4444444444444444, \"#bd3786\"], [0.5555555555555556, \"#d8576b\"], [0.6666666666666666, \"#ed7953\"], [0.7777777777777778, \"#fb9f3a\"], [0.8888888888888888, \"#fdca26\"], [1.0, \"#f0f921\"]], \"type\": \"heatmap\"}], \"heatmapgl\": [{\"colorbar\": {\"outlinewidth\": 0, \"ticks\": \"\"}, \"colorscale\": [[0.0, \"#0d0887\"], [0.1111111111111111, \"#46039f\"], [0.2222222222222222, \"#7201a8\"], [0.3333333333333333, \"#9c179e\"], [0.4444444444444444, \"#bd3786\"], [0.5555555555555556, \"#d8576b\"], [0.6666666666666666, \"#ed7953\"], [0.7777777777777778, \"#fb9f3a\"], [0.8888888888888888, \"#fdca26\"], [1.0, \"#f0f921\"]], \"type\": \"heatmapgl\"}], \"histogram\": [{\"marker\": {\"colorbar\": {\"outlinewidth\": 0, \"ticks\": \"\"}}, \"type\": \"histogram\"}], \"histogram2d\": [{\"colorbar\": {\"outlinewidth\": 0, \"ticks\": \"\"}, \"colorscale\": [[0.0, \"#0d0887\"], [0.1111111111111111, \"#46039f\"], [0.2222222222222222, \"#7201a8\"], [0.3333333333333333, \"#9c179e\"], [0.4444444444444444, \"#bd3786\"], [0.5555555555555556, \"#d8576b\"], [0.6666666666666666, \"#ed7953\"], [0.7777777777777778, \"#fb9f3a\"], [0.8888888888888888, \"#fdca26\"], [1.0, \"#f0f921\"]], \"type\": \"histogram2d\"}], \"histogram2dcontour\": [{\"colorbar\": {\"outlinewidth\": 0, \"ticks\": \"\"}, \"colorscale\": [[0.0, \"#0d0887\"], [0.1111111111111111, \"#46039f\"], [0.2222222222222222, \"#7201a8\"], [0.3333333333333333, \"#9c179e\"], [0.4444444444444444, \"#bd3786\"], [0.5555555555555556, \"#d8576b\"], [0.6666666666666666, \"#ed7953\"], [0.7777777777777778, \"#fb9f3a\"], [0.8888888888888888, \"#fdca26\"], [1.0, \"#f0f921\"]], \"type\": \"histogram2dcontour\"}], \"mesh3d\": [{\"colorbar\": {\"outlinewidth\": 0, \"ticks\": \"\"}, \"type\": \"mesh3d\"}], \"parcoords\": [{\"line\": {\"colorbar\": {\"outlinewidth\": 0, \"ticks\": \"\"}}, \"type\": \"parcoords\"}], \"pie\": [{\"automargin\": true, \"type\": \"pie\"}], \"scatter\": [{\"marker\": {\"colorbar\": {\"outlinewidth\": 0, \"ticks\": \"\"}}, \"type\": \"scatter\"}], \"scatter3d\": [{\"line\": {\"colorbar\": {\"outlinewidth\": 0, \"ticks\": \"\"}}, \"marker\": {\"colorbar\": {\"outlinewidth\": 0, \"ticks\": \"\"}}, \"type\": \"scatter3d\"}], \"scattercarpet\": [{\"marker\": {\"colorbar\": {\"outlinewidth\": 0, \"ticks\": \"\"}}, \"type\": \"scattercarpet\"}], \"scattergeo\": [{\"marker\": {\"colorbar\": {\"outlinewidth\": 0, \"ticks\": \"\"}}, \"type\": \"scattergeo\"}], \"scattergl\": [{\"marker\": {\"colorbar\": {\"outlinewidth\": 0, \"ticks\": \"\"}}, \"type\": \"scattergl\"}], \"scattermapbox\": [{\"marker\": {\"colorbar\": {\"outlinewidth\": 0, \"ticks\": \"\"}}, \"type\": \"scattermapbox\"}], \"scatterpolar\": [{\"marker\": {\"colorbar\": {\"outlinewidth\": 0, \"ticks\": \"\"}}, \"type\": \"scatterpolar\"}], \"scatterpolargl\": [{\"marker\": {\"colorbar\": {\"outlinewidth\": 0, \"ticks\": \"\"}}, \"type\": \"scatterpolargl\"}], \"scatterternary\": [{\"marker\": {\"colorbar\": {\"outlinewidth\": 0, \"ticks\": \"\"}}, \"type\": \"scatterternary\"}], \"surface\": [{\"colorbar\": {\"outlinewidth\": 0, \"ticks\": \"\"}, \"colorscale\": [[0.0, \"#0d0887\"], [0.1111111111111111, \"#46039f\"], [0.2222222222222222, \"#7201a8\"], [0.3333333333333333, \"#9c179e\"], [0.4444444444444444, \"#bd3786\"], [0.5555555555555556, \"#d8576b\"], [0.6666666666666666, \"#ed7953\"], [0.7777777777777778, \"#fb9f3a\"], [0.8888888888888888, \"#fdca26\"], [1.0, \"#f0f921\"]], \"type\": \"surface\"}], \"table\": [{\"cells\": {\"fill\": {\"color\": \"#EBF0F8\"}, \"line\": {\"color\": \"white\"}}, \"header\": {\"fill\": {\"color\": \"#C8D4E3\"}, \"line\": {\"color\": \"white\"}}, \"type\": \"table\"}]}, \"layout\": {\"annotationdefaults\": {\"arrowcolor\": \"#2a3f5f\", \"arrowhead\": 0, \"arrowwidth\": 1}, \"coloraxis\": {\"colorbar\": {\"outlinewidth\": 0, \"ticks\": \"\"}}, \"colorscale\": {\"diverging\": [[0, \"#8e0152\"], [0.1, \"#c51b7d\"], [0.2, \"#de77ae\"], [0.3, \"#f1b6da\"], [0.4, \"#fde0ef\"], [0.5, \"#f7f7f7\"], [0.6, \"#e6f5d0\"], [0.7, \"#b8e186\"], [0.8, \"#7fbc41\"], [0.9, \"#4d9221\"], [1, \"#276419\"]], \"sequential\": [[0.0, \"#0d0887\"], [0.1111111111111111, \"#46039f\"], [0.2222222222222222, \"#7201a8\"], [0.3333333333333333, \"#9c179e\"], [0.4444444444444444, \"#bd3786\"], [0.5555555555555556, \"#d8576b\"], [0.6666666666666666, \"#ed7953\"], [0.7777777777777778, \"#fb9f3a\"], [0.8888888888888888, \"#fdca26\"], [1.0, \"#f0f921\"]], \"sequentialminus\": [[0.0, \"#0d0887\"], [0.1111111111111111, \"#46039f\"], [0.2222222222222222, \"#7201a8\"], [0.3333333333333333, \"#9c179e\"], [0.4444444444444444, \"#bd3786\"], [0.5555555555555556, \"#d8576b\"], [0.6666666666666666, \"#ed7953\"], [0.7777777777777778, \"#fb9f3a\"], [0.8888888888888888, \"#fdca26\"], [1.0, \"#f0f921\"]]}, \"colorway\": [\"#636efa\", \"#EF553B\", \"#00cc96\", \"#ab63fa\", \"#FFA15A\", \"#19d3f3\", \"#FF6692\", \"#B6E880\", \"#FF97FF\", \"#FECB52\"], \"font\": {\"color\": \"#2a3f5f\"}, \"geo\": {\"bgcolor\": \"white\", \"lakecolor\": \"white\", \"landcolor\": \"white\", \"showlakes\": true, \"showland\": true, \"subunitcolor\": \"#C8D4E3\"}, \"hoverlabel\": {\"align\": \"left\"}, \"hovermode\": \"closest\", \"mapbox\": {\"style\": \"light\"}, \"paper_bgcolor\": \"white\", \"plot_bgcolor\": \"white\", \"polar\": {\"angularaxis\": {\"gridcolor\": \"#EBF0F8\", \"linecolor\": \"#EBF0F8\", \"ticks\": \"\"}, \"bgcolor\": \"white\", \"radialaxis\": {\"gridcolor\": \"#EBF0F8\", \"linecolor\": \"#EBF0F8\", \"ticks\": \"\"}}, \"scene\": {\"xaxis\": {\"backgroundcolor\": \"white\", \"gridcolor\": \"#DFE8F3\", \"gridwidth\": 2, \"linecolor\": \"#EBF0F8\", \"showbackground\": true, \"ticks\": \"\", \"zerolinecolor\": \"#EBF0F8\"}, \"yaxis\": {\"backgroundcolor\": \"white\", \"gridcolor\": \"#DFE8F3\", \"gridwidth\": 2, \"linecolor\": \"#EBF0F8\", \"showbackground\": true, \"ticks\": \"\", \"zerolinecolor\": \"#EBF0F8\"}, \"zaxis\": {\"backgroundcolor\": \"white\", \"gridcolor\": \"#DFE8F3\", \"gridwidth\": 2, \"linecolor\": \"#EBF0F8\", \"showbackground\": true, \"ticks\": \"\", \"zerolinecolor\": \"#EBF0F8\"}}, \"shapedefaults\": {\"line\": {\"color\": \"#2a3f5f\"}}, \"ternary\": {\"aaxis\": {\"gridcolor\": \"#DFE8F3\", \"linecolor\": \"#A2B1C6\", \"ticks\": \"\"}, \"baxis\": {\"gridcolor\": \"#DFE8F3\", \"linecolor\": \"#A2B1C6\", \"ticks\": \"\"}, \"bgcolor\": \"white\", \"caxis\": {\"gridcolor\": \"#DFE8F3\", \"linecolor\": \"#A2B1C6\", \"ticks\": \"\"}}, \"title\": {\"x\": 0.05}, \"xaxis\": {\"automargin\": true, \"gridcolor\": \"#EBF0F8\", \"linecolor\": \"#EBF0F8\", \"ticks\": \"\", \"title\": {\"standoff\": 15}, \"zerolinecolor\": \"#EBF0F8\", \"zerolinewidth\": 2}, \"yaxis\": {\"automargin\": true, \"gridcolor\": \"#EBF0F8\", \"linecolor\": \"#EBF0F8\", \"ticks\": \"\", \"title\": {\"standoff\": 15}, \"zerolinecolor\": \"#EBF0F8\", \"zerolinewidth\": 2}}}, \"title\": {\"text\": \"Fatal COVID-19 cases in Serbia\"}, \"xaxis\": {\"title\": {\"text\": \"Date\"}}, \"yaxis\": {\"title\": {\"text\": \"Cases\"}}},\n",
       "                        {\"responsive\": true}\n",
       "                    ).then(function(){\n",
       "                            \n",
       "var gd = document.getElementById('5b8abbf5-1dc2-4eaf-9259-82f85f52cc9e');\n",
       "var x = new MutationObserver(function (mutations, observer) {{\n",
       "        var display = window.getComputedStyle(gd).display;\n",
       "        if (!display || display === 'none') {{\n",
       "            console.log([gd, 'removed!']);\n",
       "            Plotly.purge(gd);\n",
       "            observer.disconnect();\n",
       "        }}\n",
       "}});\n",
       "\n",
       "// Listen for the removal of the full notebook cells\n",
       "var notebookContainer = gd.closest('#notebook-container');\n",
       "if (notebookContainer) {{\n",
       "    x.observe(notebookContainer, {childList: true});\n",
       "}}\n",
       "\n",
       "// Listen for the clearing of the current output cell\n",
       "var outputEl = gd.closest('.output');\n",
       "if (outputEl) {{\n",
       "    x.observe(outputEl, {childList: true});\n",
       "}}\n",
       "\n",
       "                        })\n",
       "                };\n",
       "                });\n",
       "            </script>\n",
       "        </div>"
      ]
     },
     "metadata": {},
     "output_type": "display_data"
    }
   ],
   "source": [
    "fig = go.Figure()\n",
    "\n",
    "Serbia_predicted = res['Serbia']\n",
    "Serbia_real = real['Serbia']\n",
    "\n",
    "Serbia_predicted.values\n",
    "fig.add_trace(go.Scatter(x = dates, y = Serbia_predicted.values, name = \"Predicted cases\"))\n",
    "fig.add_trace(go.Scatter(x = dates, y = Serbia_real.values, name = \"Realized cases\"))\n",
    "fig.update_layout(title = \"Fatal COVID-19 cases in Serbia\",\n",
    "                  xaxis_title = \"Date\",\n",
    "                  yaxis_title = \"Cases\")\n",
    "fig.layout.template = 'plotly_white'\n",
    "fig.show()"
   ]
  },
  {
   "cell_type": "code",
   "execution_count": 41,
   "metadata": {},
   "outputs": [
    {
     "name": "stdout",
     "output_type": "stream",
     "text": [
      "<class 'pandas.core.frame.DataFrame'>\n",
      "ISPIS\n",
      "predicted=141.165737, expected=146.000000\n",
      "predicted=168.460439, expected=174.000000\n",
      "predicted=201.594521, expected=186.000000\n",
      "predicted=204.568878, expected=197.000000\n",
      "predicted=208.392108, expected=212.000000\n",
      "predicted=226.484097, expected=223.000000\n",
      "predicted=235.074224, expected=243.000000\n",
      "predicted=260.943886, expected=259.000000\n",
      "predicted=276.476352, expected=277.000000\n",
      "predicted=294.740817, expected=304.000000\n",
      "predicted=329.016159, expected=333.000000\n",
      "predicted=362.033672, expected=361.000000\n",
      "predicted=389.708428, expected=377.000000\n",
      "predicted=395.802199, expected=383.000000\n",
      "predicted=389.574565, expected=400.000000\n",
      "predicted=415.634587, expected=409.000000\n",
      "Test MSE: 8.013\n"
     ]
    },
    {
     "data": {
      "image/png": "[encoded data removed]",
      "text/plain": [
       "<Figure size 432x288 with 1 Axes>"
      ]
     },
     "metadata": {
      "needs_background": "light"
     },
     "output_type": "display_data"
    },
    {
     "name": "stdout",
     "output_type": "stream",
     "text": [
      "ISPIS\n",
      "predicted=297.850821, expected=302.000000\n",
      "predicted=340.091025, expected=367.000000\n",
      "predicted=429.648011, expected=409.000000\n",
      "predicted=457.547338, expected=454.000000\n",
      "predicted=499.158480, expected=511.000000\n",
      "predicted=566.339252, expected=584.000000\n",
      "predicted=655.273543, expected=716.000000\n",
      "predicted=848.665988, expected=847.000000\n",
      "predicted=979.995810, expected=986.000000\n",
      "predicted=1126.774678, expected=1171.000000\n",
      "predicted=1358.384110, expected=1251.000000\n",
      "predicted=1378.110800, expected=1320.000000\n",
      "predicted=1391.799223, expected=1423.000000\n",
      "predicted=1521.796057, expected=1468.000000\n",
      "predicted=1528.039845, expected=1572.000000\n",
      "predicted=1657.669470, expected=1666.000000\n",
      "Test MSE: 41.902\n"
     ]
    },
    {
     "data": {
      "image/png": "[encoded data removed]",
      "text/plain": [
       "<Figure size 432x288 with 1 Axes>"
      ]
     },
     "metadata": {
      "needs_background": "light"
     },
     "output_type": "display_data"
    },
    {
     "name": "stdout",
     "output_type": "stream",
     "text": [
      "ISPIS\n",
      "predicted=188.871267, expected=188.000000\n",
      "predicted=217.087775, expected=224.000000\n",
      "predicted=253.142308, expected=267.000000\n",
      "predicted=306.849748, expected=308.000000\n",
      "predicted=351.222795, expected=334.000000\n",
      "predicted=369.466254, expected=370.000000\n",
      "predicted=400.947068, expected=376.000000\n",
      "predicted=401.616183, expected=390.000000\n",
      "predicted=399.708139, expected=428.000000\n"
     ]
    },
    {
     "name": "stderr",
     "output_type": "stream",
     "text": [
      "/home/milena/anaconda3/lib/python3.7/site-packages/statsmodels/base/model.py:568: ConvergenceWarning:\n",
      "\n",
      "Maximum Likelihood optimization failed to converge. Check mle_retvals\n",
      "\n"
     ]
    },
    {
     "name": "stdout",
     "output_type": "stream",
     "text": [
      "predicted=454.117524, expected=439.000000\n",
      "predicted=466.294091, expected=466.000000\n",
      "predicted=484.112330, expected=501.000000\n",
      "predicted=532.333836, expected=525.000000\n",
      "predicted=555.669407, expected=545.000000\n",
      "predicted=567.579909, expected=564.000000\n",
      "predicted=583.926014, expected=583.000000\n",
      "Test MSE: 13.209\n"
     ]
    },
    {
     "data": {
      "image/png": "[encoded data removed]",
      "text/plain": [
       "<Figure size 432x288 with 1 Axes>"
      ]
     },
     "metadata": {
      "needs_background": "light"
     },
     "output_type": "display_data"
    },
    {
     "name": "stdout",
     "output_type": "stream",
     "text": [
      "ISPIS\n",
      "predicted=3.664564, expected=3.000000\n",
      "predicted=3.000000, expected=4.000000\n",
      "predicted=4.526201, expected=4.000000\n",
      "predicted=4.599334, expected=5.000000\n",
      "predicted=5.361549, expected=7.000000\n",
      "predicted=8.610608, expected=7.000000\n",
      "predicted=8.245326, expected=7.000000\n",
      "predicted=7.000000, expected=8.000000\n",
      "predicted=8.604434, expected=8.000000\n",
      "predicted=8.461523, expected=8.000000\n",
      "predicted=8.000000, expected=10.000000\n",
      "predicted=11.186407, expected=14.000000\n",
      "predicted=17.826537, expected=16.000000\n",
      "predicted=18.594195, expected=17.000000\n",
      "predicted=18.170558, expected=19.000000\n",
      "predicted=20.845080, expected=19.000000\n",
      "Test MSE: 1.418\n"
     ]
    },
    {
     "data": {
      "image/png": "[encoded data removed]",
      "text/plain": [
       "<Figure size 432x288 with 1 Axes>"
      ]
     },
     "metadata": {
      "needs_background": "light"
     },
     "output_type": "display_data"
    },
    {
     "name": "stdout",
     "output_type": "stream",
     "text": [
      "ISPIS\n",
      "predicted=4.638629, expected=3.000000\n",
      "predicted=3.000000, expected=7.000000\n",
      "predicted=9.154658, expected=7.000000\n",
      "predicted=10.188944, expected=7.000000\n",
      "predicted=7.000000, expected=7.000000\n",
      "predicted=7.000000, expected=7.000000\n",
      "predicted=7.000000, expected=7.000000\n",
      "predicted=7.000000, expected=7.000000\n",
      "predicted=7.000000, expected=9.000000\n",
      "predicted=10.044487, expected=15.000000\n",
      "predicted=19.967539, expected=15.000000\n",
      "predicted=18.567784, expected=15.000000\n",
      "predicted=15.000000, expected=15.000000\n",
      "predicted=15.000000, expected=19.000000\n",
      "predicted=21.566885, expected=19.000000\n",
      "predicted=20.859172, expected=19.000000\n",
      "Test MSE: 2.801\n"
     ]
    },
    {
     "data": {
      "image/png": "[encoded data removed]",
      "text/plain": [
       "<Figure size 432x288 with 1 Axes>"
      ]
     },
     "metadata": {
      "needs_background": "light"
     },
     "output_type": "display_data"
    },
    {
     "name": "stdout",
     "output_type": "stream",
     "text": [
      "ISPIS\n",
      "predicted=434.571397, expected=387.000000\n",
      "predicted=467.052238, expected=502.000000\n"
     ]
    },
    {
     "name": "stderr",
     "output_type": "stream",
     "text": [
      "/home/milena/anaconda3/lib/python3.7/site-packages/statsmodels/tsa/kalmanf/kalmanfilter.py:220: RuntimeWarning:\n",
      "\n",
      "divide by zero encountered in true_divide\n",
      "\n"
     ]
    },
    {
     "name": "stdout",
     "output_type": "stream",
     "text": [
      "predicted=507.126598, expected=589.000000\n",
      "predicted=700.272408, expected=690.000000\n",
      "predicted=782.967608, expected=745.000000\n",
      "predicted=837.521604, expected=820.000000\n",
      "predicted=881.738392, expected=1054.000000\n",
      "predicted=1187.622392, expected=1054.000000\n",
      "predicted=1272.669930, expected=1133.000000\n",
      "predicted=1159.666277, expected=1265.000000\n",
      "predicted=1367.115019, expected=1451.000000\n",
      "predicted=1609.410492, expected=1451.000000\n",
      "predicted=1571.157493, expected=1554.000000\n",
      "predicted=1594.687816, expected=1628.000000\n",
      "predicted=1721.227537, expected=1715.000000\n",
      "predicted=1795.957898, expected=1795.000000\n",
      "Test MSE: 87.945\n"
     ]
    },
    {
     "data": {
      "image/png": "[encoded data removed]",
      "text/plain": [
       "<Figure size 432x288 with 1 Axes>"
      ]
     },
     "metadata": {
      "needs_background": "light"
     },
     "output_type": "display_data"
    },
    {
     "name": "stdout",
     "output_type": "stream",
     "text": [
      "ISPIS\n",
      "predicted=278.414405, expected=265.000000\n",
      "predicted=280.553472, expected=290.000000\n",
      "predicted=311.972295, expected=329.000000\n",
      "predicted=364.079975, expected=407.000000\n",
      "predicted=481.650134, expected=424.000000\n",
      "predicted=480.362865, expected=482.000000\n",
      "predicted=514.759318, expected=532.000000\n",
      "predicted=587.800131, expected=571.000000\n",
      "predicted=617.088818, expected=663.000000\n",
      "predicted=724.563429, expected=736.000000\n",
      "predicted=821.407605, expected=770.000000\n",
      "predicted=823.687062, expected=822.000000\n",
      "predicted=866.381933, expected=833.000000\n",
      "predicted=865.555834, expected=853.000000\n",
      "predicted=868.997455, expected=881.000000\n",
      "predicted=905.687125, expected=921.000000\n",
      "Test MSE: 28.330\n"
     ]
    },
    {
     "data": {
      "image/png": "[encoded data removed]",
      "text/plain": [
       "<Figure size 432x288 with 1 Axes>"
      ]
     },
     "metadata": {
      "needs_background": "light"
     },
     "output_type": "display_data"
    },
    {
     "name": "stdout",
     "output_type": "stream",
     "text": [
      "ISPIS\n",
      "predicted=284.712980, expected=295.500000\n",
      "predicted=339.245023, expected=351.250000\n",
      "predicted=399.828287, expected=392.875000\n",
      "predicted=443.535429, expected=455.000000\n",
      "predicted=506.261897, expected=498.000000\n",
      "predicted=554.284523, expected=545.125000\n",
      "predicted=590.894767, expected=569.875000\n",
      "predicted=609.000678, expected=607.750000\n",
      "predicted=638.493414, expected=639.500000\n",
      "predicted=675.713591, expected=666.250000\n",
      "predicted=696.596784, expected=693.750000\n",
      "predicted=721.415841, expected=710.875000\n",
      "predicted=734.561018, expected=724.625000\n",
      "predicted=740.622534, expected=736.875000\n",
      "predicted=750.248290, expected=751.250000\n",
      "predicted=764.699275, expected=763.500000\n",
      "Test MSE: 9.222\n"
     ]
    },
    {
     "data": {
      "image/png": "[encoded data removed]",
      "text/plain": [
       "<Figure size 432x288 with 1 Axes>"
      ]
     },
     "metadata": {
      "needs_background": "light"
     },
     "output_type": "display_data"
    },
    {
     "name": "stdout",
     "output_type": "stream",
     "text": [
      "ISPIS\n",
      "predicted=6095.856594, expected=5588.000000\n",
      "predicted=5720.679341, expected=6909.000000\n",
      "predicted=7375.421409, expected=7657.000000\n",
      "predicted=8830.882318, expected=8271.000000\n",
      "predicted=8970.299690, expected=8788.000000\n",
      "predicted=9366.765676, expected=9618.000000\n",
      "predicted=10301.840770, expected=10180.000000\n",
      "predicted=10901.287748, expected=10711.000000\n",
      "predicted=11269.886607, expected=11129.000000\n",
      "predicted=11614.582880, expected=11524.000000\n",
      "predicted=11939.232572, expected=11781.000000\n",
      "predicted=12113.770943, expected=12051.000000\n",
      "predicted=12320.022328, expected=12297.000000\n",
      "predicted=12560.161963, expected=12639.000000\n",
      "predicted=12939.266076, expected=12942.000000\n",
      "predicted=13270.786016, expected=13244.000000\n",
      "Test MSE: 377.052\n"
     ]
    },
    {
     "data": {
      "image/png": "[encoded data removed]",
      "text/plain": [
       "<Figure size 432x288 with 1 Axes>"
      ]
     },
     "metadata": {
      "needs_background": "light"
     },
     "output_type": "display_data"
    },
    {
     "name": "stdout",
     "output_type": "stream",
     "text": [
      "ISPIS\n",
      "predicted=97.263115, expected=93.000000\n",
      "predicted=105.276632, expected=122.000000\n",
      "predicted=132.986815, expected=165.000000\n",
      "predicted=204.162344, expected=182.000000\n",
      "predicted=212.717785, expected=209.000000\n",
      "predicted=231.891468, expected=273.000000\n",
      "predicted=326.852382, expected=298.000000\n",
      "predicted=346.164450, expected=359.000000\n",
      "predicted=397.332065, expected=400.000000\n",
      "predicted=455.117439, expected=443.000000\n",
      "predicted=485.743770, expected=521.000000\n",
      "predicted=579.308998, expected=584.000000\n",
      "predicted=657.287064, expected=641.000000\n",
      "predicted=702.588333, expected=717.000000\n",
      "predicted=783.693365, expected=822.000000\n",
      "predicted=914.705475, expected=926.000000\n",
      "Test MSE: 22.363\n"
     ]
    },
    {
     "data": {
      "image/png": "[encoded data removed]",
      "text/plain": [
       "<Figure size 432x288 with 1 Axes>"
      ]
     },
     "metadata": {
      "needs_background": "light"
     },
     "output_type": "display_data"
    },
    {
     "name": "stdout",
     "output_type": "stream",
     "text": [
      "ISPIS\n",
      "predicted=5.361912, expected=5.000000\n",
      "predicted=5.692066, expected=9.000000\n",
      "predicted=9.618514, expected=10.000000\n",
      "predicted=13.525430, expected=10.000000\n",
      "predicted=10.564222, expected=11.000000\n",
      "predicted=11.449082, expected=14.000000\n",
      "predicted=16.042632, expected=14.000000\n",
      "predicted=15.798060, expected=21.000000\n",
      "predicted=22.205809, expected=24.000000\n",
      "predicted=30.046791, expected=24.000000\n",
      "predicted=25.613286, expected=28.000000\n",
      "predicted=29.719078, expected=28.000000\n",
      "predicted=30.554146, expected=29.000000\n",
      "predicted=29.421611, expected=33.000000\n",
      "predicted=35.351762, expected=40.000000\n",
      "predicted=45.648508, expected=41.000000\n",
      "Test MSE: 3.245\n"
     ]
    },
    {
     "data": {
      "image/png": "[encoded data removed]",
      "text/plain": [
       "<Figure size 432x288 with 1 Axes>"
      ]
     },
     "metadata": {
      "needs_background": "light"
     },
     "output_type": "display_data"
    },
    {
     "name": "stdout",
     "output_type": "stream",
     "text": [
      "ISPIS\n",
      "predicted=419.542070, expected=419.000000\n",
      "predicted=441.415754, expected=458.000000\n",
      "predicted=492.813969, expected=466.000000\n",
      "predicted=487.838255, expected=476.000000\n",
      "predicted=485.380234, expected=499.000000\n",
      "predicted=517.061506, expected=515.000000\n",
      "predicted=534.277189, expected=567.000000\n",
      "predicted=604.534545, expected=569.000000\n",
      "predicted=595.904977, expected=643.000000\n",
      "predicted=675.216362, expected=672.000000\n",
      "predicted=729.221240, expected=688.000000\n",
      "predicted=711.462432, expected=700.000000\n",
      "predicted=714.423562, expected=756.000000\n",
      "predicted=789.084925, expected=811.000000\n",
      "predicted=867.634398, expected=823.000000\n",
      "predicted=857.336526, expected=887.000000\n",
      "Test MSE: 28.282\n"
     ]
    },
    {
     "data": {
      "image/png": "[encoded data removed]",
      "text/plain": [
       "<Figure size 432x288 with 1 Axes>"
      ]
     },
     "metadata": {
      "needs_background": "light"
     },
     "output_type": "display_data"
    },
    {
     "name": "stdout",
     "output_type": "stream",
     "text": [
      "ISPIS\n",
      "predicted=45.151681, expected=39.000000\n",
      "predicted=42.094685, expected=44.000000\n",
      "predicted=45.958137, expected=48.000000\n",
      "predicted=52.648292, expected=48.000000\n",
      "predicted=50.032686, expected=48.000000\n",
      "predicted=48.000000, expected=49.000000\n",
      "predicted=49.573140, expected=51.000000\n",
      "predicted=52.604220, expected=54.000000\n",
      "predicted=56.633967, expected=56.000000\n",
      "predicted=58.473833, expected=61.000000\n",
      "predicted=64.750103, expected=70.000000\n",
      "predicted=77.781331, expected=88.000000\n",
      "predicted=105.329858, expected=123.000000\n",
      "predicted=167.124543, expected=164.000000\n",
      "predicted=207.862099, expected=218.000000\n",
      "predicted=279.134628, expected=330.000000\n",
      "Test MSE: 14.202\n"
     ]
    },
    {
     "data": {
      "image/png": "[encoded data removed]",
      "text/plain": [
       "<Figure size 432x288 with 1 Axes>"
      ]
     },
     "metadata": {
      "needs_background": "light"
     },
     "output_type": "display_data"
    },
    {
     "name": "stdout",
     "output_type": "stream",
     "text": [
      "ISPIS\n",
      "predicted=19.816831, expected=18.000000\n",
      "predicted=18.361974, expected=18.000000\n",
      "predicted=18.000000, expected=24.000000\n",
      "predicted=27.988550, expected=26.000000\n",
      "predicted=29.799849, expected=33.000000\n",
      "predicted=37.566193, expected=33.000000\n",
      "predicted=37.466598, expected=34.000000\n",
      "predicted=34.488079, expected=34.000000\n",
      "predicted=34.536632, expected=46.000000\n",
      "predicted=51.330072, expected=51.000000\n",
      "predicted=60.233410, expected=52.000000\n",
      "predicted=54.829578, expected=56.000000\n",
      "predicted=58.691980, expected=60.000000\n",
      "predicted=64.078943, expected=63.000000\n",
      "predicted=66.512597, expected=63.000000\n",
      "predicted=64.337921, expected=66.000000\n",
      "Test MSE: 4.369\n"
     ]
    },
    {
     "data": {
      "image/png": "[encoded data removed]",
      "text/plain": [
       "<Figure size 432x288 with 1 Axes>"
      ]
     },
     "metadata": {
      "needs_background": "light"
     },
     "output_type": "display_data"
    },
    {
     "name": "stdout",
     "output_type": "stream",
     "text": [
      "ISPIS\n",
      "predicted=84.421404, expected=86.000000\n",
      "predicted=87.691913, expected=86.000000\n",
      "predicted=89.469874, expected=94.000000\n",
      "predicted=96.558354, expected=94.000000\n",
      "predicted=99.746894, expected=94.000000\n",
      "predicted=94.000000, expected=152.000000\n",
      "predicted=173.043468, expected=152.000000\n",
      "predicted=202.654037, expected=163.000000\n",
      "predicted=167.490318, expected=304.000000\n",
      "predicted=392.009607, expected=351.000000\n",
      "predicted=458.653834, expected=440.000000\n",
      "predicted=506.477691, expected=562.000000\n",
      "predicted=669.387985, expected=700.000000\n",
      "predicted=832.891116, expected=861.000000\n",
      "predicted=1014.078090, expected=1066.000000\n",
      "predicted=1254.943648, expected=1486.000000\n",
      "Test MSE: 73.740\n"
     ]
    },
    {
     "data": {
      "image/png": "[encoded data removed]",
      "text/plain": [
       "<Figure size 432x288 with 1 Axes>"
      ]
     },
     "metadata": {
      "needs_background": "light"
     },
     "output_type": "display_data"
    },
    {
     "name": "stdout",
     "output_type": "stream",
     "text": [
      "ISPIS\n",
      "predicted=4733.727806, expected=4937.000000\n",
      "predicted=5585.403782, expected=6235.000000\n",
      "predicted=7634.618431, expected=7284.000000\n",
      "predicted=8407.266249, expected=9134.000000\n",
      "predicted=10631.412048, expected=10836.000000\n",
      "predicted=12628.486844, expected=11899.000000\n",
      "predicted=13157.041530, expected=12775.000000\n",
      "predicted=13690.021300, expected=13964.000000\n",
      "predicted=15122.616235, expected=15348.000000\n",
      "predicted=16729.783273, expected=16770.000000\n",
      "predicted=18209.869801, expected=18431.000000\n",
      "predicted=20089.212010, expected=19691.000000\n",
      "predicted=21036.705146, expected=20814.000000\n",
      "predicted=21970.448971, expected=22194.000000\n",
      "predicted=23560.067216, expected=23403.000000\n",
      "predicted=24656.443325, expected=24983.000000\n",
      "Test MSE: 387.312\n"
     ]
    },
    {
     "data": {
      "image/png": "[encoded data removed]",
      "text/plain": [
       "<Figure size 432x288 with 1 Axes>"
      ]
     },
     "metadata": {
      "needs_background": "light"
     },
     "output_type": "display_data"
    },
    {
     "name": "stdout",
     "output_type": "stream",
     "text": [
      "ISPIS\n",
      "predicted=1.934386, expected=2.000000\n"
     ]
    },
    {
     "name": "stderr",
     "output_type": "stream",
     "text": [
      "/home/milena/anaconda3/lib/python3.7/site-packages/statsmodels/tsa/kalmanf/kalmanfilter.py:220: RuntimeWarning:\n",
      "\n",
      "divide by zero encountered in true_divide\n",
      "\n"
     ]
    },
    {
     "name": "stdout",
     "output_type": "stream",
     "text": [
      "predicted=2.078569, expected=2.000000\n",
      "predicted=2.967249, expected=2.000000\n",
      "predicted=2.000000, expected=2.000000\n",
      "predicted=2.000000, expected=2.000000\n",
      "predicted=2.000000, expected=3.000000\n",
      "predicted=3.281327, expected=3.000000\n",
      "predicted=3.797210, expected=3.000000\n",
      "predicted=3.000000, expected=3.000000\n",
      "predicted=3.000000, expected=4.000000\n",
      "predicted=4.359199, expected=4.000000\n",
      "predicted=4.713366, expected=5.000000\n",
      "predicted=5.276281, expected=7.000000\n",
      "predicted=8.483803, expected=7.000000\n",
      "predicted=8.394382, expected=8.000000\n",
      "predicted=8.379590, expected=9.000000\n",
      "Test MSE: 0.774\n"
     ]
    },
    {
     "data": {
      "image/png": "[encoded data removed]",
      "text/plain": [
       "<Figure size 432x288 with 1 Axes>"
      ]
     },
     "metadata": {
      "needs_background": "light"
     },
     "output_type": "display_data"
    },
    {
     "name": "stdout",
     "output_type": "stream",
     "text": [
      "ISPIS\n",
      "predicted=8.424279, expected=6.000000\n",
      "predicted=6.411798, expected=6.000000\n",
      "predicted=6.000000, expected=6.000000\n",
      "predicted=6.000000, expected=6.000000\n",
      "predicted=6.000000, expected=6.000000\n",
      "predicted=6.000000, expected=6.000000\n",
      "predicted=6.000000, expected=9.000000\n",
      "predicted=10.903939, expected=13.000000\n",
      "predicted=16.911690, expected=13.000000\n",
      "predicted=14.142301, expected=16.000000\n",
      "predicted=17.702396, expected=16.000000\n",
      "predicted=17.640507, expected=22.000000\n",
      "predicted=23.666408, expected=26.000000\n",
      "predicted=31.303640, expected=26.000000\n",
      "predicted=27.999209, expected=26.000000\n",
      "predicted=26.000000, expected=26.000000\n",
      "Test MSE: 2.471\n"
     ]
    },
    {
     "data": {
      "image/png": "[encoded data removed]",
      "text/plain": [
       "<Figure size 432x288 with 1 Axes>"
      ]
     },
     "metadata": {
      "needs_background": "light"
     },
     "output_type": "display_data"
    },
    {
     "name": "stdout",
     "output_type": "stream",
     "text": [
      "ISPIS\n",
      "predicted=2.000000, expected=2.000000\n",
      "predicted=2.000000, expected=2.000000\n",
      "predicted=2.000000, expected=3.000000\n",
      "predicted=3.525795, expected=3.000000\n",
      "predicted=3.599339, expected=4.000000\n",
      "predicted=4.361128, expected=4.000000\n",
      "predicted=4.713338, expected=4.000000\n",
      "predicted=4.000000, expected=4.000000\n",
      "predicted=4.000000, expected=5.000000\n",
      "predicted=5.399773, expected=5.000000\n",
      "predicted=5.666227, expected=5.000000\n",
      "predicted=5.000000, expected=5.000000\n",
      "predicted=5.000000, expected=5.000000\n",
      "predicted=5.000000, expected=5.000000\n",
      "predicted=5.000000, expected=5.000000\n",
      "predicted=5.000000, expected=5.000000\n",
      "Test MSE: 0.480\n"
     ]
    },
    {
     "data": {
      "image/png": "[encoded data removed]",
      "text/plain": [
       "<Figure size 432x288 with 1 Axes>"
      ]
     },
     "metadata": {
      "needs_background": "light"
     },
     "output_type": "display_data"
    },
    {
     "name": "stdout",
     "output_type": "stream",
     "text": [
      "ISPIS\n",
      "predicted=31.500740, expected=32.000000\n",
      "predicted=34.613535, expected=43.000000\n",
      "predicted=51.169354, expected=61.000000\n",
      "predicted=79.614631, expected=74.000000\n",
      "predicted=87.820786, expected=81.000000\n",
      "predicted=87.969523, expected=97.000000\n",
      "predicted=111.764349, expected=107.000000\n",
      "predicted=118.880607, expected=115.000000\n",
      "predicted=123.587963, expected=123.000000\n",
      "predicted=131.139768, expected=132.000000\n",
      "predicted=140.934953, expected=139.000000\n",
      "predicted=146.567674, expected=157.000000\n",
      "predicted=172.280322, expected=183.000000\n",
      "predicted=208.899754, expected=194.000000\n",
      "predicted=208.942351, expected=210.000000\n",
      "predicted=224.918202, expected=264.000000\n",
      "Test MSE: 12.103\n"
     ]
    },
    {
     "data": {
      "image/png": "[encoded data removed]",
      "text/plain": [
       "<Figure size 432x288 with 1 Axes>"
      ]
     },
     "metadata": {
      "needs_background": "light"
     },
     "output_type": "display_data"
    },
    {
     "name": "stdout",
     "output_type": "stream",
     "text": [
      "ISPIS\n",
      "predicted=181.898443, expected=176.000000\n",
      "predicted=202.095092, expected=191.000000\n",
      "predicted=202.823096, expected=237.000000\n",
      "predicted=263.781855, expected=258.000000\n",
      "predicted=297.088395, expected=323.000000\n",
      "predicted=353.240334, expected=368.000000\n",
      "predicted=428.942121, expected=420.000000\n",
      "predicted=468.332068, expected=459.000000\n",
      "predicted=508.338692, expected=533.000000\n",
      "predicted=582.157792, expected=579.000000\n",
      "predicted=647.876609, expected=624.000000\n",
      "predicted=670.771820, expected=654.000000\n",
      "predicted=695.179859, expected=674.000000\n",
      "predicted=701.089371, expected=764.000000\n",
      "predicted=805.504607, expected=804.000000\n",
      "predicted=881.389131, expected=858.000000\n",
      "Test MSE: 23.506\n"
     ]
    },
    {
     "data": {
      "image/png": "[encoded data removed]",
      "text/plain": [
       "<Figure size 432x288 with 1 Axes>"
      ]
     },
     "metadata": {
      "needs_background": "light"
     },
     "output_type": "display_data"
    },
    {
     "name": "stdout",
     "output_type": "stream",
     "text": [
      "ISPIS\n"
     ]
    },
    {
     "ename": "LinAlgError",
     "evalue": "Singular matrix",
     "output_type": "error",
     "traceback": [
      "\u001b[0;31m---------------------------------------------------------------------------\u001b[0m",
      "\u001b[0;31mLinAlgError\u001b[0m                               Traceback (most recent call last)",
      "\u001b[0;32m<ipython-input-41-f5c5fba8b561>\u001b[0m in \u001b[0;36m<module>\u001b[0;34m\u001b[0m\n\u001b[1;32m     43\u001b[0m \u001b[0;32mfor\u001b[0m \u001b[0mi\u001b[0m \u001b[0;32min\u001b[0m \u001b[0mrange\u001b[0m\u001b[0;34m(\u001b[0m\u001b[0;36m1\u001b[0m\u001b[0;34m,\u001b[0m \u001b[0mlen\u001b[0m\u001b[0;34m(\u001b[0m\u001b[0marima_train\u001b[0m\u001b[0;34m.\u001b[0m\u001b[0mcolumns\u001b[0m\u001b[0;34m)\u001b[0m\u001b[0;34m)\u001b[0m\u001b[0;34m:\u001b[0m\u001b[0;34m\u001b[0m\u001b[0;34m\u001b[0m\u001b[0m\n\u001b[1;32m     44\u001b[0m     \u001b[0mprint\u001b[0m\u001b[0;34m(\u001b[0m\u001b[0;34m\"ISPIS\"\u001b[0m\u001b[0;34m)\u001b[0m\u001b[0;34m\u001b[0m\u001b[0;34m\u001b[0m\u001b[0m\n\u001b[0;32m---> 45\u001b[0;31m     \u001b[0mpredictValuesARIMA\u001b[0m\u001b[0;34m(\u001b[0m\u001b[0marima_train\u001b[0m\u001b[0;34m.\u001b[0m\u001b[0miloc\u001b[0m\u001b[0;34m[\u001b[0m\u001b[0;34m:\u001b[0m\u001b[0;34m,\u001b[0m\u001b[0mi\u001b[0m\u001b[0;34m]\u001b[0m\u001b[0;34m.\u001b[0m\u001b[0mvalues\u001b[0m\u001b[0;34m)\u001b[0m\u001b[0;34m\u001b[0m\u001b[0;34m\u001b[0m\u001b[0m\n\u001b[0m",
      "\u001b[0;32m<ipython-input-41-f5c5fba8b561>\u001b[0m in \u001b[0;36mpredictValuesARIMA\u001b[0;34m(X)\u001b[0m\n\u001b[1;32m     24\u001b[0m     \u001b[0;32mfor\u001b[0m \u001b[0mt\u001b[0m \u001b[0;32min\u001b[0m \u001b[0mrange\u001b[0m\u001b[0;34m(\u001b[0m\u001b[0mlen\u001b[0m\u001b[0;34m(\u001b[0m\u001b[0mAtest\u001b[0m\u001b[0;34m)\u001b[0m\u001b[0;34m)\u001b[0m\u001b[0;34m:\u001b[0m\u001b[0;34m\u001b[0m\u001b[0;34m\u001b[0m\u001b[0m\n\u001b[1;32m     25\u001b[0m         \u001b[0mmodel\u001b[0m \u001b[0;34m=\u001b[0m \u001b[0mARIMA\u001b[0m\u001b[0;34m(\u001b[0m\u001b[0mhistory\u001b[0m\u001b[0;34m,\u001b[0m \u001b[0morder\u001b[0m\u001b[0;34m=\u001b[0m\u001b[0;34m(\u001b[0m\u001b[0;36m1\u001b[0m\u001b[0;34m,\u001b[0m\u001b[0;36m2\u001b[0m\u001b[0;34m,\u001b[0m\u001b[0;36m0\u001b[0m\u001b[0;34m)\u001b[0m\u001b[0;34m)\u001b[0m\u001b[0;34m\u001b[0m\u001b[0;34m\u001b[0m\u001b[0m\n\u001b[0;32m---> 26\u001b[0;31m         \u001b[0mmodel_fit\u001b[0m \u001b[0;34m=\u001b[0m \u001b[0mmodel\u001b[0m\u001b[0;34m.\u001b[0m\u001b[0mfit\u001b[0m\u001b[0;34m(\u001b[0m\u001b[0mdisp\u001b[0m\u001b[0;34m=\u001b[0m\u001b[0;36m0\u001b[0m\u001b[0;34m)\u001b[0m\u001b[0;34m\u001b[0m\u001b[0;34m\u001b[0m\u001b[0m\n\u001b[0m\u001b[1;32m     27\u001b[0m         \u001b[0moutput\u001b[0m \u001b[0;34m=\u001b[0m \u001b[0mmodel_fit\u001b[0m\u001b[0;34m.\u001b[0m\u001b[0mforecast\u001b[0m\u001b[0;34m(\u001b[0m\u001b[0;34m)\u001b[0m\u001b[0;34m\u001b[0m\u001b[0;34m\u001b[0m\u001b[0m\n\u001b[1;32m     28\u001b[0m         \u001b[0myhat\u001b[0m \u001b[0;34m=\u001b[0m \u001b[0moutput\u001b[0m\u001b[0;34m[\u001b[0m\u001b[0;36m0\u001b[0m\u001b[0;34m]\u001b[0m\u001b[0;34m\u001b[0m\u001b[0;34m\u001b[0m\u001b[0m\n",
      "\u001b[0;32m~/anaconda3/lib/python3.7/site-packages/statsmodels/tsa/arima_model.py\u001b[0m in \u001b[0;36mfit\u001b[0;34m(self, start_params, trend, method, transparams, solver, maxiter, full_output, disp, callback, start_ar_lags, **kwargs)\u001b[0m\n\u001b[1;32m   1198\u001b[0m                                         \u001b[0mmethod\u001b[0m\u001b[0;34m,\u001b[0m \u001b[0mtransparams\u001b[0m\u001b[0;34m,\u001b[0m \u001b[0msolver\u001b[0m\u001b[0;34m,\u001b[0m\u001b[0;34m\u001b[0m\u001b[0;34m\u001b[0m\u001b[0m\n\u001b[1;32m   1199\u001b[0m                                         \u001b[0mmaxiter\u001b[0m\u001b[0;34m,\u001b[0m \u001b[0mfull_output\u001b[0m\u001b[0;34m,\u001b[0m \u001b[0mdisp\u001b[0m\u001b[0;34m,\u001b[0m\u001b[0;34m\u001b[0m\u001b[0;34m\u001b[0m\u001b[0m\n\u001b[0;32m-> 1200\u001b[0;31m                                         callback, start_ar_lags, **kwargs)\n\u001b[0m\u001b[1;32m   1201\u001b[0m         \u001b[0mnormalized_cov_params\u001b[0m \u001b[0;34m=\u001b[0m \u001b[0;32mNone\u001b[0m  \u001b[0;31m# TODO: fix this?\u001b[0m\u001b[0;34m\u001b[0m\u001b[0;34m\u001b[0m\u001b[0m\n\u001b[1;32m   1202\u001b[0m         arima_fit = ARIMAResults(self, mlefit._results.params,\n",
      "\u001b[0;32m~/anaconda3/lib/python3.7/site-packages/statsmodels/tsa/arima_model.py\u001b[0m in \u001b[0;36mfit\u001b[0;34m(self, start_params, trend, method, transparams, solver, maxiter, full_output, disp, callback, start_ar_lags, **kwargs)\u001b[0m\n\u001b[1;32m    984\u001b[0m         \u001b[0;32melse\u001b[0m\u001b[0;34m:\u001b[0m  \u001b[0;31m# estimate starting parameters\u001b[0m\u001b[0;34m\u001b[0m\u001b[0;34m\u001b[0m\u001b[0m\n\u001b[1;32m    985\u001b[0m             start_params = self._fit_start_params((k_ar, k_ma, k), method,\n\u001b[0;32m--> 986\u001b[0;31m                                                   start_ar_lags)\n\u001b[0m\u001b[1;32m    987\u001b[0m \u001b[0;34m\u001b[0m\u001b[0m\n\u001b[1;32m    988\u001b[0m         \u001b[0;32mif\u001b[0m \u001b[0mtransparams\u001b[0m\u001b[0;34m:\u001b[0m  \u001b[0;31m# transform initial parameters to ensure invertibility\u001b[0m\u001b[0;34m\u001b[0m\u001b[0;34m\u001b[0m\u001b[0m\n",
      "\u001b[0;32m~/anaconda3/lib/python3.7/site-packages/statsmodels/tsa/arima_model.py\u001b[0m in \u001b[0;36m_fit_start_params\u001b[0;34m(self, order, method, start_ar_lags)\u001b[0m\n\u001b[1;32m    575\u001b[0m                 \u001b[0;32mreturn\u001b[0m \u001b[0;34m-\u001b[0m\u001b[0mself\u001b[0m\u001b[0;34m.\u001b[0m\u001b[0mloglike_css\u001b[0m\u001b[0;34m(\u001b[0m\u001b[0mparams\u001b[0m\u001b[0;34m)\u001b[0m\u001b[0;34m\u001b[0m\u001b[0;34m\u001b[0m\u001b[0m\n\u001b[1;32m    576\u001b[0m \u001b[0;34m\u001b[0m\u001b[0m\n\u001b[0;32m--> 577\u001b[0;31m             \u001b[0mstart_params\u001b[0m \u001b[0;34m=\u001b[0m \u001b[0mself\u001b[0m\u001b[0;34m.\u001b[0m\u001b[0m_fit_start_params_hr\u001b[0m\u001b[0;34m(\u001b[0m\u001b[0morder\u001b[0m\u001b[0;34m,\u001b[0m \u001b[0mstart_ar_lags\u001b[0m\u001b[0;34m)\u001b[0m\u001b[0;34m\u001b[0m\u001b[0;34m\u001b[0m\u001b[0m\n\u001b[0m\u001b[1;32m    578\u001b[0m             \u001b[0;32mif\u001b[0m \u001b[0mself\u001b[0m\u001b[0;34m.\u001b[0m\u001b[0mtransparams\u001b[0m\u001b[0;34m:\u001b[0m\u001b[0;34m\u001b[0m\u001b[0;34m\u001b[0m\u001b[0m\n\u001b[1;32m    579\u001b[0m                 \u001b[0mstart_params\u001b[0m \u001b[0;34m=\u001b[0m \u001b[0mself\u001b[0m\u001b[0;34m.\u001b[0m\u001b[0m_invtransparams\u001b[0m\u001b[0;34m(\u001b[0m\u001b[0mstart_params\u001b[0m\u001b[0;34m)\u001b[0m\u001b[0;34m\u001b[0m\u001b[0;34m\u001b[0m\u001b[0m\n",
      "\u001b[0;32m~/anaconda3/lib/python3.7/site-packages/statsmodels/tsa/arima_model.py\u001b[0m in \u001b[0;36m_fit_start_params_hr\u001b[0;34m(self, order, start_ar_lags)\u001b[0m\n\u001b[1;32m    547\u001b[0m                 \u001b[0mstart_params\u001b[0m\u001b[0;34m[\u001b[0m\u001b[0mk\u001b[0m \u001b[0;34m+\u001b[0m \u001b[0mp\u001b[0m\u001b[0;34m:\u001b[0m\u001b[0mk\u001b[0m \u001b[0;34m+\u001b[0m \u001b[0mp\u001b[0m \u001b[0;34m+\u001b[0m \u001b[0mq\u001b[0m\u001b[0;34m]\u001b[0m \u001b[0;34m=\u001b[0m \u001b[0marma2ma\u001b[0m\u001b[0;34m(\u001b[0m\u001b[0mar\u001b[0m\u001b[0;34m,\u001b[0m \u001b[0;34m[\u001b[0m\u001b[0;36m1\u001b[0m\u001b[0;34m]\u001b[0m\u001b[0;34m,\u001b[0m \u001b[0mlags\u001b[0m\u001b[0;34m=\u001b[0m\u001b[0mq\u001b[0m\u001b[0;34m+\u001b[0m\u001b[0;36m1\u001b[0m\u001b[0;34m)\u001b[0m\u001b[0;34m[\u001b[0m\u001b[0;36m1\u001b[0m\u001b[0;34m:\u001b[0m\u001b[0;34m]\u001b[0m\u001b[0;34m\u001b[0m\u001b[0;34m\u001b[0m\u001b[0m\n\u001b[1;32m    548\u001b[0m         \u001b[0;32mif\u001b[0m \u001b[0mq\u001b[0m \u001b[0;34m==\u001b[0m \u001b[0;36m0\u001b[0m \u001b[0;32mand\u001b[0m \u001b[0mp\u001b[0m \u001b[0;34m!=\u001b[0m \u001b[0;36m0\u001b[0m\u001b[0;34m:\u001b[0m\u001b[0;34m\u001b[0m\u001b[0;34m\u001b[0m\u001b[0m\n\u001b[0;32m--> 549\u001b[0;31m             \u001b[0marcoefs\u001b[0m \u001b[0;34m=\u001b[0m \u001b[0myule_walker\u001b[0m\u001b[0;34m(\u001b[0m\u001b[0mendog\u001b[0m\u001b[0;34m,\u001b[0m \u001b[0morder\u001b[0m\u001b[0;34m=\u001b[0m\u001b[0mp\u001b[0m\u001b[0;34m)\u001b[0m\u001b[0;34m[\u001b[0m\u001b[0;36m0\u001b[0m\u001b[0;34m]\u001b[0m\u001b[0;34m\u001b[0m\u001b[0;34m\u001b[0m\u001b[0m\n\u001b[0m\u001b[1;32m    550\u001b[0m             \u001b[0mstart_params\u001b[0m\u001b[0;34m[\u001b[0m\u001b[0mk\u001b[0m\u001b[0;34m:\u001b[0m\u001b[0mk\u001b[0m \u001b[0;34m+\u001b[0m \u001b[0mp\u001b[0m\u001b[0;34m]\u001b[0m \u001b[0;34m=\u001b[0m \u001b[0marcoefs\u001b[0m\u001b[0;34m\u001b[0m\u001b[0;34m\u001b[0m\u001b[0m\n\u001b[1;32m    551\u001b[0m \u001b[0;34m\u001b[0m\u001b[0m\n",
      "\u001b[0;32m~/anaconda3/lib/python3.7/site-packages/statsmodels/regression/linear_model.py\u001b[0m in \u001b[0;36myule_walker\u001b[0;34m(x, order, method, df, inv, demean)\u001b[0m\n\u001b[1;32m   1399\u001b[0m     \u001b[0mR\u001b[0m \u001b[0;34m=\u001b[0m \u001b[0mtoeplitz\u001b[0m\u001b[0;34m(\u001b[0m\u001b[0mr\u001b[0m\u001b[0;34m[\u001b[0m\u001b[0;34m:\u001b[0m\u001b[0;34m-\u001b[0m\u001b[0;36m1\u001b[0m\u001b[0;34m]\u001b[0m\u001b[0;34m)\u001b[0m\u001b[0;34m\u001b[0m\u001b[0;34m\u001b[0m\u001b[0m\n\u001b[1;32m   1400\u001b[0m \u001b[0;34m\u001b[0m\u001b[0m\n\u001b[0;32m-> 1401\u001b[0;31m     \u001b[0mrho\u001b[0m \u001b[0;34m=\u001b[0m \u001b[0mnp\u001b[0m\u001b[0;34m.\u001b[0m\u001b[0mlinalg\u001b[0m\u001b[0;34m.\u001b[0m\u001b[0msolve\u001b[0m\u001b[0;34m(\u001b[0m\u001b[0mR\u001b[0m\u001b[0;34m,\u001b[0m \u001b[0mr\u001b[0m\u001b[0;34m[\u001b[0m\u001b[0;36m1\u001b[0m\u001b[0;34m:\u001b[0m\u001b[0;34m]\u001b[0m\u001b[0;34m)\u001b[0m\u001b[0;34m\u001b[0m\u001b[0;34m\u001b[0m\u001b[0m\n\u001b[0m\u001b[1;32m   1402\u001b[0m     \u001b[0msigmasq\u001b[0m \u001b[0;34m=\u001b[0m \u001b[0mr\u001b[0m\u001b[0;34m[\u001b[0m\u001b[0;36m0\u001b[0m\u001b[0;34m]\u001b[0m \u001b[0;34m-\u001b[0m \u001b[0;34m(\u001b[0m\u001b[0mr\u001b[0m\u001b[0;34m[\u001b[0m\u001b[0;36m1\u001b[0m\u001b[0;34m:\u001b[0m\u001b[0;34m]\u001b[0m\u001b[0;34m*\u001b[0m\u001b[0mrho\u001b[0m\u001b[0;34m)\u001b[0m\u001b[0;34m.\u001b[0m\u001b[0msum\u001b[0m\u001b[0;34m(\u001b[0m\u001b[0;34m)\u001b[0m\u001b[0;34m\u001b[0m\u001b[0;34m\u001b[0m\u001b[0m\n\u001b[1;32m   1403\u001b[0m     \u001b[0;32mif\u001b[0m \u001b[0minv\u001b[0m\u001b[0;34m:\u001b[0m\u001b[0;34m\u001b[0m\u001b[0;34m\u001b[0m\u001b[0m\n",
      "\u001b[0;32m<__array_function__ internals>\u001b[0m in \u001b[0;36msolve\u001b[0;34m(*args, **kwargs)\u001b[0m\n",
      "\u001b[0;32m~/anaconda3/lib/python3.7/site-packages/numpy/linalg/linalg.py\u001b[0m in \u001b[0;36msolve\u001b[0;34m(a, b)\u001b[0m\n\u001b[1;32m    397\u001b[0m     \u001b[0msignature\u001b[0m \u001b[0;34m=\u001b[0m \u001b[0;34m'DD->D'\u001b[0m \u001b[0;32mif\u001b[0m \u001b[0misComplexType\u001b[0m\u001b[0;34m(\u001b[0m\u001b[0mt\u001b[0m\u001b[0;34m)\u001b[0m \u001b[0;32melse\u001b[0m \u001b[0;34m'dd->d'\u001b[0m\u001b[0;34m\u001b[0m\u001b[0;34m\u001b[0m\u001b[0m\n\u001b[1;32m    398\u001b[0m     \u001b[0mextobj\u001b[0m \u001b[0;34m=\u001b[0m \u001b[0mget_linalg_error_extobj\u001b[0m\u001b[0;34m(\u001b[0m\u001b[0m_raise_linalgerror_singular\u001b[0m\u001b[0;34m)\u001b[0m\u001b[0;34m\u001b[0m\u001b[0;34m\u001b[0m\u001b[0m\n\u001b[0;32m--> 399\u001b[0;31m     \u001b[0mr\u001b[0m \u001b[0;34m=\u001b[0m \u001b[0mgufunc\u001b[0m\u001b[0;34m(\u001b[0m\u001b[0ma\u001b[0m\u001b[0;34m,\u001b[0m \u001b[0mb\u001b[0m\u001b[0;34m,\u001b[0m \u001b[0msignature\u001b[0m\u001b[0;34m=\u001b[0m\u001b[0msignature\u001b[0m\u001b[0;34m,\u001b[0m \u001b[0mextobj\u001b[0m\u001b[0;34m=\u001b[0m\u001b[0mextobj\u001b[0m\u001b[0;34m)\u001b[0m\u001b[0;34m\u001b[0m\u001b[0;34m\u001b[0m\u001b[0m\n\u001b[0m\u001b[1;32m    400\u001b[0m \u001b[0;34m\u001b[0m\u001b[0m\n\u001b[1;32m    401\u001b[0m     \u001b[0;32mreturn\u001b[0m \u001b[0mwrap\u001b[0m\u001b[0;34m(\u001b[0m\u001b[0mr\u001b[0m\u001b[0;34m.\u001b[0m\u001b[0mastype\u001b[0m\u001b[0;34m(\u001b[0m\u001b[0mresult_t\u001b[0m\u001b[0;34m,\u001b[0m \u001b[0mcopy\u001b[0m\u001b[0;34m=\u001b[0m\u001b[0;32mFalse\u001b[0m\u001b[0;34m)\u001b[0m\u001b[0;34m)\u001b[0m\u001b[0;34m\u001b[0m\u001b[0;34m\u001b[0m\u001b[0m\n",
      "\u001b[0;32m~/anaconda3/lib/python3.7/site-packages/numpy/linalg/linalg.py\u001b[0m in \u001b[0;36m_raise_linalgerror_singular\u001b[0;34m(err, flag)\u001b[0m\n\u001b[1;32m     95\u001b[0m \u001b[0;34m\u001b[0m\u001b[0m\n\u001b[1;32m     96\u001b[0m \u001b[0;32mdef\u001b[0m \u001b[0m_raise_linalgerror_singular\u001b[0m\u001b[0;34m(\u001b[0m\u001b[0merr\u001b[0m\u001b[0;34m,\u001b[0m \u001b[0mflag\u001b[0m\u001b[0;34m)\u001b[0m\u001b[0;34m:\u001b[0m\u001b[0;34m\u001b[0m\u001b[0;34m\u001b[0m\u001b[0m\n\u001b[0;32m---> 97\u001b[0;31m     \u001b[0;32mraise\u001b[0m \u001b[0mLinAlgError\u001b[0m\u001b[0;34m(\u001b[0m\u001b[0;34m\"Singular matrix\"\u001b[0m\u001b[0;34m)\u001b[0m\u001b[0;34m\u001b[0m\u001b[0;34m\u001b[0m\u001b[0m\n\u001b[0m\u001b[1;32m     98\u001b[0m \u001b[0;34m\u001b[0m\u001b[0m\n\u001b[1;32m     99\u001b[0m \u001b[0;32mdef\u001b[0m \u001b[0m_raise_linalgerror_nonposdef\u001b[0m\u001b[0;34m(\u001b[0m\u001b[0merr\u001b[0m\u001b[0;34m,\u001b[0m \u001b[0mflag\u001b[0m\u001b[0;34m)\u001b[0m\u001b[0;34m:\u001b[0m\u001b[0;34m\u001b[0m\u001b[0;34m\u001b[0m\u001b[0m\n",
      "\u001b[0;31mLinAlgError\u001b[0m: Singular matrix"
     ]
    }
   ],
   "source": [
    "#arima_train.plot()\n",
    "#arima_train.describe()\n",
    "#arima_train\n",
    "\n",
    "#ARIMA(p,d,q)\n",
    "#We use plot_acf to identify parameter q for ARIMA\n",
    "#plot_acf(arima_train)\n",
    "# p -> 0  \n",
    "\n",
    "#We use plot_pacf to identify p parameter\n",
    "#plot_pacf(arima_train)\n",
    "# p -> 1,2\n",
    "\n",
    "def predictValuesARIMA(X):\n",
    "    \n",
    "    size = int(len(X) * 0.80)\n",
    "    Atrain, Atest = X[0:size], X[size:len(X)]\n",
    "\n",
    "    #In every iteration append predected value \n",
    "\n",
    "    history = [x for x in Atrain]\n",
    "    predictions = list()\n",
    "\n",
    "    for t in range(len(Atest)):\n",
    "        model = ARIMA(history, order=(1,2,0))\n",
    "        model_fit = model.fit(disp=0)\n",
    "        output = model_fit.forecast()\n",
    "        yhat = output[0]\n",
    "        predictions.append(yhat)\n",
    "        obs = Atest[t]\n",
    "        history.append(obs)\n",
    "        print('predicted=%f, expected=%f' % (yhat, obs))\n",
    "\n",
    "    error = mean_squared_error(Atest, predictions)\n",
    "    print('Test MSE: %.3f' % np.sqrt(error))\n",
    "    # plot\n",
    "    plt.plot(Atest)\n",
    "    plt.plot(predictions, color='red')\n",
    "    plt.show()\n",
    "    return history\n",
    "print(type(arima_train))\n",
    "\n",
    "for i in range(1, len(arima_train.columns)):\n",
    "    print(\"ISPIS\")\n",
    "    predictValuesARIMA(arima_train.iloc[:,i].values) \n"
   ]
  },
  {
   "cell_type": "code",
   "execution_count": null,
   "metadata": {},
   "outputs": [],
   "source": []
  },
  {
   "cell_type": "code",
   "execution_count": null,
   "metadata": {},
   "outputs": [],
   "source": []
  }
 ],
 "metadata": {
  "kernelspec": {
   "display_name": "Python 3",
   "language": "python",
   "name": "python3"
  },
  "language_info": {
   "codemirror_mode": {
    "name": "ipython",
    "version": 3
   },
   "file_extension": ".py",
   "mimetype": "text/x-python",
   "name": "python",
   "nbconvert_exporter": "python",
   "pygments_lexer": "ipython3",
   "version": "3.6.9"
  }
 },
 "nbformat": 4,
 "nbformat_minor": 4
}
