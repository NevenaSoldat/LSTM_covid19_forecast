{
 "cells": [
  {
   "cell_type": "code",
   "execution_count": 3,
   "metadata": {},
   "outputs": [
    {
     "name": "stdout",
     "output_type": "stream",
     "text": [
      "Computer characteristics: \n",
      "RAM: 7.653069 GB\n",
      "CORES: 4\n"
     ]
    }
   ],
   "source": [
    "import pandas as pd\n",
    "import numpy as np\n",
    "import matplotlib.pyplot as plt\n",
    "import plotly.graph_objects as go\n",
    "import math\n",
    "from keras.models import Sequential\n",
    "from keras.layers import Dense, LSTM\n",
    "from sklearn.preprocessing import MinMaxScaler\n",
    "from sklearn.metrics import mean_squared_error\n",
    "import os\n",
    "import multiprocessing\n",
    "\n",
    "\n",
    "# Computer characteristics\n",
    "mem_bytes = os.sysconf('SC_PAGE_SIZE') * os.sysconf('SC_PHYS_PAGES')\n",
    "mem_gib = mem_bytes / (1024.**3)\n",
    "print(\"Computer characteristics: \")\n",
    "print(\"RAM: %f GB\" % mem_gib)\n",
    "print(\"CORES: %d\" % multiprocessing.cpu_count())\n"
   ]
  },
  {
   "cell_type": "code",
   "execution_count": 4,
   "metadata": {},
   "outputs": [
    {
     "name": "stdout",
     "output_type": "stream",
     "text": [
      "Null values:\n",
      " Id                    0\n",
      "Province_State    13200\n",
      "Country_Region        0\n",
      "Date                  0\n",
      "ConfirmedCases        0\n",
      "Fatalities            0\n",
      "dtype: int64\n",
      "\n",
      "\n",
      "Number of different countries:  180\n",
      "\n",
      "\n",
      "Min date: 2020-01-22\n",
      "Max date: 2020-04-05\n"
     ]
    }
   ],
   "source": [
    "dataframe = pd.read_csv(\"train.csv\")\n",
    "test = pd.read_csv(\"test.csv\")\n",
    "\n",
    "# Check null values\n",
    "print(\"Null values:\\n\", dataframe.isnull().sum())\n",
    "print(\"\\n\")\n",
    "countries = dataframe['Country_Region'].unique()\n",
    "print(\"Number of different countries: \", len(countries))\n",
    "print(\"\\n\")\n",
    "min_date = dataframe.Date.min()\n",
    "max_date = dataframe.Date.max()\n",
    "print(\"Min date: {0}\\nMax date: {1}\".format(min_date, max_date))"
   ]
  },
  {
   "cell_type": "code",
   "execution_count": 5,
   "metadata": {},
   "outputs": [
    {
     "data": {
      "text/html": [
       "<div>\n",
       "<style scoped>\n",
       "    .dataframe tbody tr th:only-of-type {\n",
       "        vertical-align: middle;\n",
       "    }\n",
       "\n",
       "    .dataframe tbody tr th {\n",
       "        vertical-align: top;\n",
       "    }\n",
       "\n",
       "    .dataframe thead th {\n",
       "        text-align: right;\n",
       "    }\n",
       "</style>\n",
       "<table border=\"1\" class=\"dataframe\">\n",
       "  <thead>\n",
       "    <tr style=\"text-align: right;\">\n",
       "      <th></th>\n",
       "      <th>Id</th>\n",
       "      <th>Province_State</th>\n",
       "      <th>Country_Region</th>\n",
       "      <th>Date</th>\n",
       "      <th>ConfirmedCases</th>\n",
       "      <th>Fatalities</th>\n",
       "    </tr>\n",
       "  </thead>\n",
       "  <tbody>\n",
       "    <tr>\n",
       "      <th>0</th>\n",
       "      <td>1</td>\n",
       "      <td>Afghanistan</td>\n",
       "      <td>Afghanistan</td>\n",
       "      <td>2020-01-22</td>\n",
       "      <td>0.0</td>\n",
       "      <td>0.0</td>\n",
       "    </tr>\n",
       "    <tr>\n",
       "      <th>1</th>\n",
       "      <td>2</td>\n",
       "      <td>Afghanistan</td>\n",
       "      <td>Afghanistan</td>\n",
       "      <td>2020-01-23</td>\n",
       "      <td>0.0</td>\n",
       "      <td>0.0</td>\n",
       "    </tr>\n",
       "    <tr>\n",
       "      <th>2</th>\n",
       "      <td>3</td>\n",
       "      <td>Afghanistan</td>\n",
       "      <td>Afghanistan</td>\n",
       "      <td>2020-01-24</td>\n",
       "      <td>0.0</td>\n",
       "      <td>0.0</td>\n",
       "    </tr>\n",
       "    <tr>\n",
       "      <th>3</th>\n",
       "      <td>4</td>\n",
       "      <td>Afghanistan</td>\n",
       "      <td>Afghanistan</td>\n",
       "      <td>2020-01-25</td>\n",
       "      <td>0.0</td>\n",
       "      <td>0.0</td>\n",
       "    </tr>\n",
       "    <tr>\n",
       "      <th>4</th>\n",
       "      <td>5</td>\n",
       "      <td>Afghanistan</td>\n",
       "      <td>Afghanistan</td>\n",
       "      <td>2020-01-26</td>\n",
       "      <td>0.0</td>\n",
       "      <td>0.0</td>\n",
       "    </tr>\n",
       "  </tbody>\n",
       "</table>\n",
       "</div>"
      ],
      "text/plain": [
       "   Id Province_State Country_Region        Date  ConfirmedCases  Fatalities\n",
       "0   1    Afghanistan    Afghanistan  2020-01-22             0.0         0.0\n",
       "1   2    Afghanistan    Afghanistan  2020-01-23             0.0         0.0\n",
       "2   3    Afghanistan    Afghanistan  2020-01-24             0.0         0.0\n",
       "3   4    Afghanistan    Afghanistan  2020-01-25             0.0         0.0\n",
       "4   5    Afghanistan    Afghanistan  2020-01-26             0.0         0.0"
      ]
     },
     "execution_count": 5,
     "metadata": {},
     "output_type": "execute_result"
    }
   ],
   "source": [
    "# where Province_State is null we fill it with Country_Region\n",
    "def fillState(state, country):\n",
    "    if state == \"empty\":\n",
    "        return country\n",
    "    return state\n",
    "\n",
    "dataframe['Province_State'].fillna(\"empty\", inplace = True)\n",
    "dataframe['Province_State'] = dataframe.loc[:,['Province_State', 'Country_Region']].apply(lambda x: fillState(x['Province_State'], x['Country_Region']), axis = 1)\n",
    "\n",
    "test['Province_State'].fillna(\"empty\", inplace = True)\n",
    "test['Province_State'] = test.loc[:,['Province_State', 'Country_Region']].apply(lambda x: fillState(x['Province_State'], x['Country_Region']), axis = 1)\n",
    "\n",
    "dataframe.head()"
   ]
  },
  {
   "cell_type": "code",
   "execution_count": 6,
   "metadata": {},
   "outputs": [
    {
     "name": "stdout",
     "output_type": "stream",
     "text": [
      "Number of confirmed cases:  1271928.0\n",
      "Number of fatal cases:  69369.0\n"
     ]
    }
   ],
   "source": [
    "latest = dataframe['Date'].max()\n",
    "world_confirmed = sum(dataframe[dataframe['Date'] == latest].ConfirmedCases)\n",
    "print(\"Number of confirmed cases: \", world_confirmed)\n",
    "world_fatal = sum(dataframe[dataframe['Date'] == latest].Fatalities)\n",
    "print(\"Number of fatal cases: \", world_fatal)"
   ]
  },
  {
   "cell_type": "code",
   "execution_count": 7,
   "metadata": {},
   "outputs": [
    {
     "name": "stdout",
     "output_type": "stream",
     "text": [
      "First 10 countries by number of confirmed cases:\n",
      "\n",
      "                ConfirmedCases  Fatalities\n",
      "Country_Region                            \n",
      "US                    336912.0      9615.0\n",
      "Spain                 131646.0     12641.0\n",
      "Italy                 128948.0     15887.0\n",
      "Germany               100123.0      1584.0\n",
      "France                 93772.0      8093.0\n",
      "China                  82602.0      3333.0\n",
      "Iran                   58226.0      3603.0\n",
      "United Kingdom         48434.0      4943.0\n",
      "Turkey                 27069.0       574.0\n",
      "Switzerland            21100.0       715.0\n",
      "\n",
      "\n",
      "Confirmed cases in Serbia:  1908.0\n",
      "Fatal cases in Serbia:  51.0\n"
     ]
    }
   ],
   "source": [
    "latest_data = dataframe[dataframe['Date'] == latest]\n",
    "latest_data = latest_data.drop(['Province_State'], axis = 1)\n",
    "\n",
    "confirmed_per_country = latest_data.groupby(['Country_Region']).sum().sort_values(['ConfirmedCases'], ascending = False)\n",
    "confirmed_per_country = confirmed_per_country.drop(['Id'], axis = 1)\n",
    "print(\"First 10 countries by number of confirmed cases:\\n\")\n",
    "print(confirmed_per_country[:10])\n",
    "print(\"\\n\")\n",
    "Serbia = confirmed_per_country.loc[\"Serbia\"]\n",
    "print(\"Confirmed cases in Serbia: \", Serbia.ConfirmedCases)\n",
    "print(\"Fatal cases in Serbia: \", Serbia.Fatalities)"
   ]
  },
  {
   "cell_type": "code",
   "execution_count": 49,
   "metadata": {},
   "outputs": [
    {
     "data": {
      "application/vnd.plotly.v1+json": {
       "config": {
        "plotlyServerURL": "https://plot.ly"
       },
       "data": [
        {
         "name": "Confirmed cases",
         "type": "scatter",
         "x": [
          "2020-03-06",
          "2020-03-07",
          "2020-03-08",
          "2020-03-09",
          "2020-03-10",
          "2020-03-11",
          "2020-03-12",
          "2020-03-13",
          "2020-03-14",
          "2020-03-15",
          "2020-03-16",
          "2020-03-17",
          "2020-03-18",
          "2020-03-19",
          "2020-03-20",
          "2020-03-21",
          "2020-03-22",
          "2020-03-23",
          "2020-03-24",
          "2020-03-25",
          "2020-03-26",
          "2020-03-27",
          "2020-03-28",
          "2020-03-29",
          "2020-03-30",
          "2020-03-31",
          "2020-04-01",
          "2020-04-02",
          "2020-04-03",
          "2020-04-04",
          "2020-04-05"
         ],
         "y": [
          1,
          1,
          1,
          1,
          5,
          12,
          19,
          35,
          46,
          48,
          55,
          65,
          83,
          103,
          135,
          171,
          222,
          249,
          303,
          384,
          384,
          457,
          659,
          741,
          785,
          900,
          1060,
          1171,
          1476,
          1624,
          1908
         ]
        },
        {
         "name": "Fatal cases",
         "type": "scatter",
         "x": [
          "2020-03-06",
          "2020-03-07",
          "2020-03-08",
          "2020-03-09",
          "2020-03-10",
          "2020-03-11",
          "2020-03-12",
          "2020-03-13",
          "2020-03-14",
          "2020-03-15",
          "2020-03-16",
          "2020-03-17",
          "2020-03-18",
          "2020-03-19",
          "2020-03-20",
          "2020-03-21",
          "2020-03-22",
          "2020-03-23",
          "2020-03-24",
          "2020-03-25",
          "2020-03-26",
          "2020-03-27",
          "2020-03-28",
          "2020-03-29",
          "2020-03-30",
          "2020-03-31",
          "2020-04-01",
          "2020-04-02",
          "2020-04-03",
          "2020-04-04",
          "2020-04-05"
         ],
         "y": [
          0,
          0,
          0,
          0,
          0,
          0,
          0,
          0,
          0,
          0,
          0,
          0,
          0,
          0,
          1,
          1,
          2,
          3,
          3,
          4,
          1,
          1,
          10,
          13,
          16,
          16,
          28,
          31,
          39,
          44,
          51
         ]
        }
       ],
       "layout": {
        "template": {
         "data": {
          "bar": [
           {
            "error_x": {
             "color": "#2a3f5f"
            },
            "error_y": {
             "color": "#2a3f5f"
            },
            "marker": {
             "line": {
              "color": "#E5ECF6",
              "width": 0.5
             }
            },
            "type": "bar"
           }
          ],
          "barpolar": [
           {
            "marker": {
             "line": {
              "color": "#E5ECF6",
              "width": 0.5
             }
            },
            "type": "barpolar"
           }
          ],
          "carpet": [
           {
            "aaxis": {
             "endlinecolor": "#2a3f5f",
             "gridcolor": "white",
             "linecolor": "white",
             "minorgridcolor": "white",
             "startlinecolor": "#2a3f5f"
            },
            "baxis": {
             "endlinecolor": "#2a3f5f",
             "gridcolor": "white",
             "linecolor": "white",
             "minorgridcolor": "white",
             "startlinecolor": "#2a3f5f"
            },
            "type": "carpet"
           }
          ],
          "choropleth": [
           {
            "colorbar": {
             "outlinewidth": 0,
             "ticks": ""
            },
            "type": "choropleth"
           }
          ],
          "contour": [
           {
            "colorbar": {
             "outlinewidth": 0,
             "ticks": ""
            },
            "colorscale": [
             [
              0,
              "#0d0887"
             ],
             [
              0.1111111111111111,
              "#46039f"
             ],
             [
              0.2222222222222222,
              "#7201a8"
             ],
             [
              0.3333333333333333,
              "#9c179e"
             ],
             [
              0.4444444444444444,
              "#bd3786"
             ],
             [
              0.5555555555555556,
              "#d8576b"
             ],
             [
              0.6666666666666666,
              "#ed7953"
             ],
             [
              0.7777777777777778,
              "#fb9f3a"
             ],
             [
              0.8888888888888888,
              "#fdca26"
             ],
             [
              1,
              "#f0f921"
             ]
            ],
            "type": "contour"
           }
          ],
          "contourcarpet": [
           {
            "colorbar": {
             "outlinewidth": 0,
             "ticks": ""
            },
            "type": "contourcarpet"
           }
          ],
          "heatmap": [
           {
            "colorbar": {
             "outlinewidth": 0,
             "ticks": ""
            },
            "colorscale": [
             [
              0,
              "#0d0887"
             ],
             [
              0.1111111111111111,
              "#46039f"
             ],
             [
              0.2222222222222222,
              "#7201a8"
             ],
             [
              0.3333333333333333,
              "#9c179e"
             ],
             [
              0.4444444444444444,
              "#bd3786"
             ],
             [
              0.5555555555555556,
              "#d8576b"
             ],
             [
              0.6666666666666666,
              "#ed7953"
             ],
             [
              0.7777777777777778,
              "#fb9f3a"
             ],
             [
              0.8888888888888888,
              "#fdca26"
             ],
             [
              1,
              "#f0f921"
             ]
            ],
            "type": "heatmap"
           }
          ],
          "heatmapgl": [
           {
            "colorbar": {
             "outlinewidth": 0,
             "ticks": ""
            },
            "colorscale": [
             [
              0,
              "#0d0887"
             ],
             [
              0.1111111111111111,
              "#46039f"
             ],
             [
              0.2222222222222222,
              "#7201a8"
             ],
             [
              0.3333333333333333,
              "#9c179e"
             ],
             [
              0.4444444444444444,
              "#bd3786"
             ],
             [
              0.5555555555555556,
              "#d8576b"
             ],
             [
              0.6666666666666666,
              "#ed7953"
             ],
             [
              0.7777777777777778,
              "#fb9f3a"
             ],
             [
              0.8888888888888888,
              "#fdca26"
             ],
             [
              1,
              "#f0f921"
             ]
            ],
            "type": "heatmapgl"
           }
          ],
          "histogram": [
           {
            "marker": {
             "colorbar": {
              "outlinewidth": 0,
              "ticks": ""
             }
            },
            "type": "histogram"
           }
          ],
          "histogram2d": [
           {
            "colorbar": {
             "outlinewidth": 0,
             "ticks": ""
            },
            "colorscale": [
             [
              0,
              "#0d0887"
             ],
             [
              0.1111111111111111,
              "#46039f"
             ],
             [
              0.2222222222222222,
              "#7201a8"
             ],
             [
              0.3333333333333333,
              "#9c179e"
             ],
             [
              0.4444444444444444,
              "#bd3786"
             ],
             [
              0.5555555555555556,
              "#d8576b"
             ],
             [
              0.6666666666666666,
              "#ed7953"
             ],
             [
              0.7777777777777778,
              "#fb9f3a"
             ],
             [
              0.8888888888888888,
              "#fdca26"
             ],
             [
              1,
              "#f0f921"
             ]
            ],
            "type": "histogram2d"
           }
          ],
          "histogram2dcontour": [
           {
            "colorbar": {
             "outlinewidth": 0,
             "ticks": ""
            },
            "colorscale": [
             [
              0,
              "#0d0887"
             ],
             [
              0.1111111111111111,
              "#46039f"
             ],
             [
              0.2222222222222222,
              "#7201a8"
             ],
             [
              0.3333333333333333,
              "#9c179e"
             ],
             [
              0.4444444444444444,
              "#bd3786"
             ],
             [
              0.5555555555555556,
              "#d8576b"
             ],
             [
              0.6666666666666666,
              "#ed7953"
             ],
             [
              0.7777777777777778,
              "#fb9f3a"
             ],
             [
              0.8888888888888888,
              "#fdca26"
             ],
             [
              1,
              "#f0f921"
             ]
            ],
            "type": "histogram2dcontour"
           }
          ],
          "mesh3d": [
           {
            "colorbar": {
             "outlinewidth": 0,
             "ticks": ""
            },
            "type": "mesh3d"
           }
          ],
          "parcoords": [
           {
            "line": {
             "colorbar": {
              "outlinewidth": 0,
              "ticks": ""
             }
            },
            "type": "parcoords"
           }
          ],
          "pie": [
           {
            "automargin": true,
            "type": "pie"
           }
          ],
          "scatter": [
           {
            "marker": {
             "colorbar": {
              "outlinewidth": 0,
              "ticks": ""
             }
            },
            "type": "scatter"
           }
          ],
          "scatter3d": [
           {
            "line": {
             "colorbar": {
              "outlinewidth": 0,
              "ticks": ""
             }
            },
            "marker": {
             "colorbar": {
              "outlinewidth": 0,
              "ticks": ""
             }
            },
            "type": "scatter3d"
           }
          ],
          "scattercarpet": [
           {
            "marker": {
             "colorbar": {
              "outlinewidth": 0,
              "ticks": ""
             }
            },
            "type": "scattercarpet"
           }
          ],
          "scattergeo": [
           {
            "marker": {
             "colorbar": {
              "outlinewidth": 0,
              "ticks": ""
             }
            },
            "type": "scattergeo"
           }
          ],
          "scattergl": [
           {
            "marker": {
             "colorbar": {
              "outlinewidth": 0,
              "ticks": ""
             }
            },
            "type": "scattergl"
           }
          ],
          "scattermapbox": [
           {
            "marker": {
             "colorbar": {
              "outlinewidth": 0,
              "ticks": ""
             }
            },
            "type": "scattermapbox"
           }
          ],
          "scatterpolar": [
           {
            "marker": {
             "colorbar": {
              "outlinewidth": 0,
              "ticks": ""
             }
            },
            "type": "scatterpolar"
           }
          ],
          "scatterpolargl": [
           {
            "marker": {
             "colorbar": {
              "outlinewidth": 0,
              "ticks": ""
             }
            },
            "type": "scatterpolargl"
           }
          ],
          "scatterternary": [
           {
            "marker": {
             "colorbar": {
              "outlinewidth": 0,
              "ticks": ""
             }
            },
            "type": "scatterternary"
           }
          ],
          "surface": [
           {
            "colorbar": {
             "outlinewidth": 0,
             "ticks": ""
            },
            "colorscale": [
             [
              0,
              "#0d0887"
             ],
             [
              0.1111111111111111,
              "#46039f"
             ],
             [
              0.2222222222222222,
              "#7201a8"
             ],
             [
              0.3333333333333333,
              "#9c179e"
             ],
             [
              0.4444444444444444,
              "#bd3786"
             ],
             [
              0.5555555555555556,
              "#d8576b"
             ],
             [
              0.6666666666666666,
              "#ed7953"
             ],
             [
              0.7777777777777778,
              "#fb9f3a"
             ],
             [
              0.8888888888888888,
              "#fdca26"
             ],
             [
              1,
              "#f0f921"
             ]
            ],
            "type": "surface"
           }
          ],
          "table": [
           {
            "cells": {
             "fill": {
              "color": "#EBF0F8"
             },
             "line": {
              "color": "white"
             }
            },
            "header": {
             "fill": {
              "color": "#C8D4E3"
             },
             "line": {
              "color": "white"
             }
            },
            "type": "table"
           }
          ]
         },
         "layout": {
          "annotationdefaults": {
           "arrowcolor": "#2a3f5f",
           "arrowhead": 0,
           "arrowwidth": 1
          },
          "coloraxis": {
           "colorbar": {
            "outlinewidth": 0,
            "ticks": ""
           }
          },
          "colorscale": {
           "diverging": [
            [
             0,
             "#8e0152"
            ],
            [
             0.1,
             "#c51b7d"
            ],
            [
             0.2,
             "#de77ae"
            ],
            [
             0.3,
             "#f1b6da"
            ],
            [
             0.4,
             "#fde0ef"
            ],
            [
             0.5,
             "#f7f7f7"
            ],
            [
             0.6,
             "#e6f5d0"
            ],
            [
             0.7,
             "#b8e186"
            ],
            [
             0.8,
             "#7fbc41"
            ],
            [
             0.9,
             "#4d9221"
            ],
            [
             1,
             "#276419"
            ]
           ],
           "sequential": [
            [
             0,
             "#0d0887"
            ],
            [
             0.1111111111111111,
             "#46039f"
            ],
            [
             0.2222222222222222,
             "#7201a8"
            ],
            [
             0.3333333333333333,
             "#9c179e"
            ],
            [
             0.4444444444444444,
             "#bd3786"
            ],
            [
             0.5555555555555556,
             "#d8576b"
            ],
            [
             0.6666666666666666,
             "#ed7953"
            ],
            [
             0.7777777777777778,
             "#fb9f3a"
            ],
            [
             0.8888888888888888,
             "#fdca26"
            ],
            [
             1,
             "#f0f921"
            ]
           ],
           "sequentialminus": [
            [
             0,
             "#0d0887"
            ],
            [
             0.1111111111111111,
             "#46039f"
            ],
            [
             0.2222222222222222,
             "#7201a8"
            ],
            [
             0.3333333333333333,
             "#9c179e"
            ],
            [
             0.4444444444444444,
             "#bd3786"
            ],
            [
             0.5555555555555556,
             "#d8576b"
            ],
            [
             0.6666666666666666,
             "#ed7953"
            ],
            [
             0.7777777777777778,
             "#fb9f3a"
            ],
            [
             0.8888888888888888,
             "#fdca26"
            ],
            [
             1,
             "#f0f921"
            ]
           ]
          },
          "colorway": [
           "#636efa",
           "#EF553B",
           "#00cc96",
           "#ab63fa",
           "#FFA15A",
           "#19d3f3",
           "#FF6692",
           "#B6E880",
           "#FF97FF",
           "#FECB52"
          ],
          "font": {
           "color": "#2a3f5f"
          },
          "geo": {
           "bgcolor": "white",
           "lakecolor": "white",
           "landcolor": "#E5ECF6",
           "showlakes": true,
           "showland": true,
           "subunitcolor": "white"
          },
          "hoverlabel": {
           "align": "left"
          },
          "hovermode": "closest",
          "mapbox": {
           "style": "light"
          },
          "paper_bgcolor": "white",
          "plot_bgcolor": "#E5ECF6",
          "polar": {
           "angularaxis": {
            "gridcolor": "white",
            "linecolor": "white",
            "ticks": ""
           },
           "bgcolor": "#E5ECF6",
           "radialaxis": {
            "gridcolor": "white",
            "linecolor": "white",
            "ticks": ""
           }
          },
          "scene": {
           "xaxis": {
            "backgroundcolor": "#E5ECF6",
            "gridcolor": "white",
            "gridwidth": 2,
            "linecolor": "white",
            "showbackground": true,
            "ticks": "",
            "zerolinecolor": "white"
           },
           "yaxis": {
            "backgroundcolor": "#E5ECF6",
            "gridcolor": "white",
            "gridwidth": 2,
            "linecolor": "white",
            "showbackground": true,
            "ticks": "",
            "zerolinecolor": "white"
           },
           "zaxis": {
            "backgroundcolor": "#E5ECF6",
            "gridcolor": "white",
            "gridwidth": 2,
            "linecolor": "white",
            "showbackground": true,
            "ticks": "",
            "zerolinecolor": "white"
           }
          },
          "shapedefaults": {
           "line": {
            "color": "#2a3f5f"
           }
          },
          "ternary": {
           "aaxis": {
            "gridcolor": "white",
            "linecolor": "white",
            "ticks": ""
           },
           "baxis": {
            "gridcolor": "white",
            "linecolor": "white",
            "ticks": ""
           },
           "bgcolor": "#E5ECF6",
           "caxis": {
            "gridcolor": "white",
            "linecolor": "white",
            "ticks": ""
           }
          },
          "title": {
           "x": 0.05
          },
          "xaxis": {
           "automargin": true,
           "gridcolor": "white",
           "linecolor": "white",
           "ticks": "",
           "title": {
            "standoff": 15
           },
           "zerolinecolor": "white",
           "zerolinewidth": 2
          },
          "yaxis": {
           "automargin": true,
           "gridcolor": "white",
           "linecolor": "white",
           "ticks": "",
           "title": {
            "standoff": 15
           },
           "zerolinecolor": "white",
           "zerolinewidth": 2
          }
         }
        },
        "title": {
         "text": "COVID-19 cases in Serbia"
        },
        "xaxis": {
         "title": {
          "text": "Date"
         }
        },
        "yaxis": {
         "title": {
          "text": "Cases"
         }
        }
       }
      },
      "text/html": [
       "<div>\n",
       "        \n",
       "        \n",
       "            <div id=\"7cd41075-8d02-43dc-a315-401c0b7f0210\" class=\"plotly-graph-div\" style=\"height:525px; width:100%;\"></div>\n",
       "            <script type=\"text/javascript\">\n",
       "                require([\"plotly\"], function(Plotly) {\n",
       "                    window.PLOTLYENV=window.PLOTLYENV || {};\n",
       "                    \n",
       "                if (document.getElementById(\"7cd41075-8d02-43dc-a315-401c0b7f0210\")) {\n",
       "                    Plotly.newPlot(\n",
       "                        '7cd41075-8d02-43dc-a315-401c0b7f0210',\n",
       "                        [{\"name\": \"Confirmed cases\", \"type\": \"scatter\", \"x\": [\"2020-03-06\", \"2020-03-07\", \"2020-03-08\", \"2020-03-09\", \"2020-03-10\", \"2020-03-11\", \"2020-03-12\", \"2020-03-13\", \"2020-03-14\", \"2020-03-15\", \"2020-03-16\", \"2020-03-17\", \"2020-03-18\", \"2020-03-19\", \"2020-03-20\", \"2020-03-21\", \"2020-03-22\", \"2020-03-23\", \"2020-03-24\", \"2020-03-25\", \"2020-03-26\", \"2020-03-27\", \"2020-03-28\", \"2020-03-29\", \"2020-03-30\", \"2020-03-31\", \"2020-04-01\", \"2020-04-02\", \"2020-04-03\", \"2020-04-04\", \"2020-04-05\"], \"y\": [1.0, 1.0, 1.0, 1.0, 5.0, 12.0, 19.0, 35.0, 46.0, 48.0, 55.0, 65.0, 83.0, 103.0, 135.0, 171.0, 222.0, 249.0, 303.0, 384.0, 384.0, 457.0, 659.0, 741.0, 785.0, 900.0, 1060.0, 1171.0, 1476.0, 1624.0, 1908.0]}, {\"name\": \"Fatal cases\", \"type\": \"scatter\", \"x\": [\"2020-03-06\", \"2020-03-07\", \"2020-03-08\", \"2020-03-09\", \"2020-03-10\", \"2020-03-11\", \"2020-03-12\", \"2020-03-13\", \"2020-03-14\", \"2020-03-15\", \"2020-03-16\", \"2020-03-17\", \"2020-03-18\", \"2020-03-19\", \"2020-03-20\", \"2020-03-21\", \"2020-03-22\", \"2020-03-23\", \"2020-03-24\", \"2020-03-25\", \"2020-03-26\", \"2020-03-27\", \"2020-03-28\", \"2020-03-29\", \"2020-03-30\", \"2020-03-31\", \"2020-04-01\", \"2020-04-02\", \"2020-04-03\", \"2020-04-04\", \"2020-04-05\"], \"y\": [0.0, 0.0, 0.0, 0.0, 0.0, 0.0, 0.0, 0.0, 0.0, 0.0, 0.0, 0.0, 0.0, 0.0, 1.0, 1.0, 2.0, 3.0, 3.0, 4.0, 1.0, 1.0, 10.0, 13.0, 16.0, 16.0, 28.0, 31.0, 39.0, 44.0, 51.0]}],\n",
       "                        {\"template\": {\"data\": {\"bar\": [{\"error_x\": {\"color\": \"#2a3f5f\"}, \"error_y\": {\"color\": \"#2a3f5f\"}, \"marker\": {\"line\": {\"color\": \"#E5ECF6\", \"width\": 0.5}}, \"type\": \"bar\"}], \"barpolar\": [{\"marker\": {\"line\": {\"color\": \"#E5ECF6\", \"width\": 0.5}}, \"type\": \"barpolar\"}], \"carpet\": [{\"aaxis\": {\"endlinecolor\": \"#2a3f5f\", \"gridcolor\": \"white\", \"linecolor\": \"white\", \"minorgridcolor\": \"white\", \"startlinecolor\": \"#2a3f5f\"}, \"baxis\": {\"endlinecolor\": \"#2a3f5f\", \"gridcolor\": \"white\", \"linecolor\": \"white\", \"minorgridcolor\": \"white\", \"startlinecolor\": \"#2a3f5f\"}, \"type\": \"carpet\"}], \"choropleth\": [{\"colorbar\": {\"outlinewidth\": 0, \"ticks\": \"\"}, \"type\": \"choropleth\"}], \"contour\": [{\"colorbar\": {\"outlinewidth\": 0, \"ticks\": \"\"}, \"colorscale\": [[0.0, \"#0d0887\"], [0.1111111111111111, \"#46039f\"], [0.2222222222222222, \"#7201a8\"], [0.3333333333333333, \"#9c179e\"], [0.4444444444444444, \"#bd3786\"], [0.5555555555555556, \"#d8576b\"], [0.6666666666666666, \"#ed7953\"], [0.7777777777777778, \"#fb9f3a\"], [0.8888888888888888, \"#fdca26\"], [1.0, \"#f0f921\"]], \"type\": \"contour\"}], \"contourcarpet\": [{\"colorbar\": {\"outlinewidth\": 0, \"ticks\": \"\"}, \"type\": \"contourcarpet\"}], \"heatmap\": [{\"colorbar\": {\"outlinewidth\": 0, \"ticks\": \"\"}, \"colorscale\": [[0.0, \"#0d0887\"], [0.1111111111111111, \"#46039f\"], [0.2222222222222222, \"#7201a8\"], [0.3333333333333333, \"#9c179e\"], [0.4444444444444444, \"#bd3786\"], [0.5555555555555556, \"#d8576b\"], [0.6666666666666666, \"#ed7953\"], [0.7777777777777778, \"#fb9f3a\"], [0.8888888888888888, \"#fdca26\"], [1.0, \"#f0f921\"]], \"type\": \"heatmap\"}], \"heatmapgl\": [{\"colorbar\": {\"outlinewidth\": 0, \"ticks\": \"\"}, \"colorscale\": [[0.0, \"#0d0887\"], [0.1111111111111111, \"#46039f\"], [0.2222222222222222, \"#7201a8\"], [0.3333333333333333, \"#9c179e\"], [0.4444444444444444, \"#bd3786\"], [0.5555555555555556, \"#d8576b\"], [0.6666666666666666, \"#ed7953\"], [0.7777777777777778, \"#fb9f3a\"], [0.8888888888888888, \"#fdca26\"], [1.0, \"#f0f921\"]], \"type\": \"heatmapgl\"}], \"histogram\": [{\"marker\": {\"colorbar\": {\"outlinewidth\": 0, \"ticks\": \"\"}}, \"type\": \"histogram\"}], \"histogram2d\": [{\"colorbar\": {\"outlinewidth\": 0, \"ticks\": \"\"}, \"colorscale\": [[0.0, \"#0d0887\"], [0.1111111111111111, \"#46039f\"], [0.2222222222222222, \"#7201a8\"], [0.3333333333333333, \"#9c179e\"], [0.4444444444444444, \"#bd3786\"], [0.5555555555555556, \"#d8576b\"], [0.6666666666666666, \"#ed7953\"], [0.7777777777777778, \"#fb9f3a\"], [0.8888888888888888, \"#fdca26\"], [1.0, \"#f0f921\"]], \"type\": \"histogram2d\"}], \"histogram2dcontour\": [{\"colorbar\": {\"outlinewidth\": 0, \"ticks\": \"\"}, \"colorscale\": [[0.0, \"#0d0887\"], [0.1111111111111111, \"#46039f\"], [0.2222222222222222, \"#7201a8\"], [0.3333333333333333, \"#9c179e\"], [0.4444444444444444, \"#bd3786\"], [0.5555555555555556, \"#d8576b\"], [0.6666666666666666, \"#ed7953\"], [0.7777777777777778, \"#fb9f3a\"], [0.8888888888888888, \"#fdca26\"], [1.0, \"#f0f921\"]], \"type\": \"histogram2dcontour\"}], \"mesh3d\": [{\"colorbar\": {\"outlinewidth\": 0, \"ticks\": \"\"}, \"type\": \"mesh3d\"}], \"parcoords\": [{\"line\": {\"colorbar\": {\"outlinewidth\": 0, \"ticks\": \"\"}}, \"type\": \"parcoords\"}], \"pie\": [{\"automargin\": true, \"type\": \"pie\"}], \"scatter\": [{\"marker\": {\"colorbar\": {\"outlinewidth\": 0, \"ticks\": \"\"}}, \"type\": \"scatter\"}], \"scatter3d\": [{\"line\": {\"colorbar\": {\"outlinewidth\": 0, \"ticks\": \"\"}}, \"marker\": {\"colorbar\": {\"outlinewidth\": 0, \"ticks\": \"\"}}, \"type\": \"scatter3d\"}], \"scattercarpet\": [{\"marker\": {\"colorbar\": {\"outlinewidth\": 0, \"ticks\": \"\"}}, \"type\": \"scattercarpet\"}], \"scattergeo\": [{\"marker\": {\"colorbar\": {\"outlinewidth\": 0, \"ticks\": \"\"}}, \"type\": \"scattergeo\"}], \"scattergl\": [{\"marker\": {\"colorbar\": {\"outlinewidth\": 0, \"ticks\": \"\"}}, \"type\": \"scattergl\"}], \"scattermapbox\": [{\"marker\": {\"colorbar\": {\"outlinewidth\": 0, \"ticks\": \"\"}}, \"type\": \"scattermapbox\"}], \"scatterpolar\": [{\"marker\": {\"colorbar\": {\"outlinewidth\": 0, \"ticks\": \"\"}}, \"type\": \"scatterpolar\"}], \"scatterpolargl\": [{\"marker\": {\"colorbar\": {\"outlinewidth\": 0, \"ticks\": \"\"}}, \"type\": \"scatterpolargl\"}], \"scatterternary\": [{\"marker\": {\"colorbar\": {\"outlinewidth\": 0, \"ticks\": \"\"}}, \"type\": \"scatterternary\"}], \"surface\": [{\"colorbar\": {\"outlinewidth\": 0, \"ticks\": \"\"}, \"colorscale\": [[0.0, \"#0d0887\"], [0.1111111111111111, \"#46039f\"], [0.2222222222222222, \"#7201a8\"], [0.3333333333333333, \"#9c179e\"], [0.4444444444444444, \"#bd3786\"], [0.5555555555555556, \"#d8576b\"], [0.6666666666666666, \"#ed7953\"], [0.7777777777777778, \"#fb9f3a\"], [0.8888888888888888, \"#fdca26\"], [1.0, \"#f0f921\"]], \"type\": \"surface\"}], \"table\": [{\"cells\": {\"fill\": {\"color\": \"#EBF0F8\"}, \"line\": {\"color\": \"white\"}}, \"header\": {\"fill\": {\"color\": \"#C8D4E3\"}, \"line\": {\"color\": \"white\"}}, \"type\": \"table\"}]}, \"layout\": {\"annotationdefaults\": {\"arrowcolor\": \"#2a3f5f\", \"arrowhead\": 0, \"arrowwidth\": 1}, \"coloraxis\": {\"colorbar\": {\"outlinewidth\": 0, \"ticks\": \"\"}}, \"colorscale\": {\"diverging\": [[0, \"#8e0152\"], [0.1, \"#c51b7d\"], [0.2, \"#de77ae\"], [0.3, \"#f1b6da\"], [0.4, \"#fde0ef\"], [0.5, \"#f7f7f7\"], [0.6, \"#e6f5d0\"], [0.7, \"#b8e186\"], [0.8, \"#7fbc41\"], [0.9, \"#4d9221\"], [1, \"#276419\"]], \"sequential\": [[0.0, \"#0d0887\"], [0.1111111111111111, \"#46039f\"], [0.2222222222222222, \"#7201a8\"], [0.3333333333333333, \"#9c179e\"], [0.4444444444444444, \"#bd3786\"], [0.5555555555555556, \"#d8576b\"], [0.6666666666666666, \"#ed7953\"], [0.7777777777777778, \"#fb9f3a\"], [0.8888888888888888, \"#fdca26\"], [1.0, \"#f0f921\"]], \"sequentialminus\": [[0.0, \"#0d0887\"], [0.1111111111111111, \"#46039f\"], [0.2222222222222222, \"#7201a8\"], [0.3333333333333333, \"#9c179e\"], [0.4444444444444444, \"#bd3786\"], [0.5555555555555556, \"#d8576b\"], [0.6666666666666666, \"#ed7953\"], [0.7777777777777778, \"#fb9f3a\"], [0.8888888888888888, \"#fdca26\"], [1.0, \"#f0f921\"]]}, \"colorway\": [\"#636efa\", \"#EF553B\", \"#00cc96\", \"#ab63fa\", \"#FFA15A\", \"#19d3f3\", \"#FF6692\", \"#B6E880\", \"#FF97FF\", \"#FECB52\"], \"font\": {\"color\": \"#2a3f5f\"}, \"geo\": {\"bgcolor\": \"white\", \"lakecolor\": \"white\", \"landcolor\": \"#E5ECF6\", \"showlakes\": true, \"showland\": true, \"subunitcolor\": \"white\"}, \"hoverlabel\": {\"align\": \"left\"}, \"hovermode\": \"closest\", \"mapbox\": {\"style\": \"light\"}, \"paper_bgcolor\": \"white\", \"plot_bgcolor\": \"#E5ECF6\", \"polar\": {\"angularaxis\": {\"gridcolor\": \"white\", \"linecolor\": \"white\", \"ticks\": \"\"}, \"bgcolor\": \"#E5ECF6\", \"radialaxis\": {\"gridcolor\": \"white\", \"linecolor\": \"white\", \"ticks\": \"\"}}, \"scene\": {\"xaxis\": {\"backgroundcolor\": \"#E5ECF6\", \"gridcolor\": \"white\", \"gridwidth\": 2, \"linecolor\": \"white\", \"showbackground\": true, \"ticks\": \"\", \"zerolinecolor\": \"white\"}, \"yaxis\": {\"backgroundcolor\": \"#E5ECF6\", \"gridcolor\": \"white\", \"gridwidth\": 2, \"linecolor\": \"white\", \"showbackground\": true, \"ticks\": \"\", \"zerolinecolor\": \"white\"}, \"zaxis\": {\"backgroundcolor\": \"#E5ECF6\", \"gridcolor\": \"white\", \"gridwidth\": 2, \"linecolor\": \"white\", \"showbackground\": true, \"ticks\": \"\", \"zerolinecolor\": \"white\"}}, \"shapedefaults\": {\"line\": {\"color\": \"#2a3f5f\"}}, \"ternary\": {\"aaxis\": {\"gridcolor\": \"white\", \"linecolor\": \"white\", \"ticks\": \"\"}, \"baxis\": {\"gridcolor\": \"white\", \"linecolor\": \"white\", \"ticks\": \"\"}, \"bgcolor\": \"#E5ECF6\", \"caxis\": {\"gridcolor\": \"white\", \"linecolor\": \"white\", \"ticks\": \"\"}}, \"title\": {\"x\": 0.05}, \"xaxis\": {\"automargin\": true, \"gridcolor\": \"white\", \"linecolor\": \"white\", \"ticks\": \"\", \"title\": {\"standoff\": 15}, \"zerolinecolor\": \"white\", \"zerolinewidth\": 2}, \"yaxis\": {\"automargin\": true, \"gridcolor\": \"white\", \"linecolor\": \"white\", \"ticks\": \"\", \"title\": {\"standoff\": 15}, \"zerolinecolor\": \"white\", \"zerolinewidth\": 2}}}, \"title\": {\"text\": \"COVID-19 cases in Serbia\"}, \"xaxis\": {\"title\": {\"text\": \"Date\"}}, \"yaxis\": {\"title\": {\"text\": \"Cases\"}}},\n",
       "                        {\"responsive\": true}\n",
       "                    ).then(function(){\n",
       "                            \n",
       "var gd = document.getElementById('7cd41075-8d02-43dc-a315-401c0b7f0210');\n",
       "var x = new MutationObserver(function (mutations, observer) {{\n",
       "        var display = window.getComputedStyle(gd).display;\n",
       "        if (!display || display === 'none') {{\n",
       "            console.log([gd, 'removed!']);\n",
       "            Plotly.purge(gd);\n",
       "            observer.disconnect();\n",
       "        }}\n",
       "}});\n",
       "\n",
       "// Listen for the removal of the full notebook cells\n",
       "var notebookContainer = gd.closest('#notebook-container');\n",
       "if (notebookContainer) {{\n",
       "    x.observe(notebookContainer, {childList: true});\n",
       "}}\n",
       "\n",
       "// Listen for the clearing of the current output cell\n",
       "var outputEl = gd.closest('.output');\n",
       "if (outputEl) {{\n",
       "    x.observe(outputEl, {childList: true});\n",
       "}}\n",
       "\n",
       "                        })\n",
       "                };\n",
       "                });\n",
       "            </script>\n",
       "        </div>"
      ]
     },
     "metadata": {},
     "output_type": "display_data"
    }
   ],
   "source": [
    "fig = go.Figure()\n",
    "\n",
    "Serbia_confirmed = dataframe[dataframe['Country_Region'] == 'Serbia'].groupby(['Date']).sum().ConfirmedCases\n",
    "# we want to see the progression from the first case in Serbia (for the first 44 days we didn't have any case)\n",
    "Serbia_confirmed = Serbia_confirmed[44:]\n",
    "Serbia_fatalities = dataframe[dataframe['Country_Region'] == 'Serbia'].groupby(['Date']).sum().Fatalities\n",
    "Serbia_fatalities = Serbia_fatalities[44:]\n",
    "date = dataframe['Date'].unique()\n",
    "date = date[44:]\n",
    "fig.add_trace(go.Scatter(x = date, y = Serbia_confirmed, name = \"Confirmed cases\"))\n",
    "fig.add_trace(go.Scatter(x = date, y = Serbia_fatalities, name = \"Fatal cases\"))\n",
    "fig.update_layout(title = \"COVID-19 cases in Serbia\",\n",
    "                 xaxis_title = \"Date\",\n",
    "                 yaxis_title = \"Cases\")\n"
   ]
  },
  {
   "cell_type": "markdown",
   "metadata": {},
   "source": [
    "##  Global forecast"
   ]
  },
  {
   "cell_type": "code",
   "execution_count": 50,
   "metadata": {},
   "outputs": [
    {
     "name": "stdout",
     "output_type": "stream",
     "text": [
      "           ConfirmedCases\n",
      "                      sum\n",
      "Date                     \n",
      "2020-01-22          554.0\n",
      "2020-01-23          653.0\n",
      "2020-01-24          939.0\n",
      "2020-01-25         1432.0\n",
      "2020-01-26         2113.0\n",
      "           Fatalities\n",
      "                  sum\n",
      "Date                 \n",
      "2020-01-22       17.0\n",
      "2020-01-23       18.0\n",
      "2020-01-24       26.0\n",
      "2020-01-25       42.0\n",
      "2020-01-26       56.0\n"
     ]
    }
   ],
   "source": [
    "confirmed = dataframe.groupby(['Date']).agg({'ConfirmedCases': ['sum']})\n",
    "fatalities = dataframe.groupby(['Date']).agg({'Fatalities':['sum']})\n",
    "\n",
    "print(confirmed.head())\n",
    "print(fatalities.head())"
   ]
  },
  {
   "cell_type": "markdown",
   "metadata": {},
   "source": [
    "### Forecasting number of confirmed cases globally"
   ]
  },
  {
   "cell_type": "code",
   "execution_count": 51,
   "metadata": {},
   "outputs": [
    {
     "name": "stdout",
     "output_type": "stream",
     "text": [
      "75\n",
      "60 15\n"
     ]
    }
   ],
   "source": [
    "np.random.seed(7)\n",
    "\n",
    "dataset = confirmed.values\n",
    "dataset = dataset.astype('float32')\n",
    "\n",
    "# LSTMs are sensitive to the scale of the input data, specifically \n",
    "# when sigmoid or tanh activation functions are used.\n",
    "# It's good to rescale the data to the range of [0,1] (to normalize)\n",
    "# we use MinMaxScaler to do that\n",
    "\n",
    "scaler = MinMaxScaler(feature_range=(0,1))\n",
    "dataset = scaler.fit_transform(dataset)\n",
    "\n",
    "# we need to estimate the skill of the model on new unseen data\n",
    "# we can split the ordered dataset into train and test datasets\n",
    "# 80% of the observations to train our model\n",
    "# 20% for testing the model\n",
    "\n",
    "train_size = int(len(dataset)*0.80)\n",
    "test_size = len(dataset) - train_size\n",
    "print(len(dataset))\n",
    "\n",
    "train, test = dataset[0:train_size, :], dataset[train_size:len(dataset), :]\n",
    "print(len(train), len(test))\n",
    "\n",
    "# convert an array of values into a dataset matrix\n",
    "# first column is X at timestep t and second is y at timestep t+1\n",
    "def create_dataset(dataset, look_back = 1):\n",
    "    dataX, dataY = [], []\n",
    "    for i in range(len(dataset) - look_back - 1):\n",
    "        a = dataset[i:(i+look_back), 0]\n",
    "        dataX.append(a)\n",
    "        dataY.append(dataset[i+look_back, 0])\n",
    "    return np.array(dataX), np.array(dataY)\n",
    "\n",
    "look_back = 1\n",
    "\n",
    "trainX, trainY = create_dataset(train, look_back)\n",
    "# we take testX and put it in our model and we get some values\n",
    "# then we compare the values with existing values of testY\n",
    "testX, testY = create_dataset(test, look_back)\n",
    "\n",
    "\n",
    "# the LSTM network expects the input data (X) to be provided with a \n",
    "# specific array structure in from of: [samples, time steps, features]\n",
    "# currently, our data is in the form: [samples, features] and we are\n",
    "# framing the problem as one time step for each sample\n",
    "# we can transform the prepared train and test input data into the expected \n",
    "# structure using numpy.reshape()\n",
    "\n",
    "trainX = np.reshape(trainX, (trainX.shape[0], 1, trainX.shape[1]))\n",
    "testX = np.reshape(testX, (testX.shape[0], 1, testX.shape[1]))"
   ]
  },
  {
   "cell_type": "code",
   "execution_count": 52,
   "metadata": {},
   "outputs": [
    {
     "name": "stdout",
     "output_type": "stream",
     "text": [
      "WARNING:tensorflow:From /home/nemanja/.local/lib/python3.6/site-packages/keras/backend/tensorflow_backend.py:422: The name tf.global_variables is deprecated. Please use tf.compat.v1.global_variables instead.\n",
      "\n",
      "Epoch 1/100\n",
      " - 1s - loss: 0.0029\n",
      "Epoch 2/100\n",
      " - 0s - loss: 0.0021\n",
      "Epoch 3/100\n",
      " - 0s - loss: 0.0020\n",
      "Epoch 4/100\n",
      " - 0s - loss: 0.0019\n",
      "Epoch 5/100\n",
      " - 0s - loss: 0.0019\n",
      "Epoch 6/100\n",
      " - 0s - loss: 0.0018\n",
      "Epoch 7/100\n",
      " - 0s - loss: 0.0017\n",
      "Epoch 8/100\n",
      " - 0s - loss: 0.0016\n",
      "Epoch 9/100\n",
      " - 0s - loss: 0.0015\n",
      "Epoch 10/100\n",
      " - 0s - loss: 0.0014\n",
      "Epoch 11/100\n",
      " - 0s - loss: 0.0013\n",
      "Epoch 12/100\n",
      " - 0s - loss: 0.0012\n",
      "Epoch 13/100\n",
      " - 0s - loss: 0.0010\n",
      "Epoch 14/100\n",
      " - 0s - loss: 9.1046e-04\n",
      "Epoch 15/100\n",
      " - 0s - loss: 7.9816e-04\n",
      "Epoch 16/100\n",
      " - 0s - loss: 6.8875e-04\n",
      "Epoch 17/100\n",
      " - 0s - loss: 5.9003e-04\n",
      "Epoch 18/100\n",
      " - 0s - loss: 5.1018e-04\n",
      "Epoch 19/100\n",
      " - 0s - loss: 4.1327e-04\n",
      "Epoch 20/100\n",
      " - 0s - loss: 3.4250e-04\n",
      "Epoch 21/100\n",
      " - 0s - loss: 2.7297e-04\n",
      "Epoch 22/100\n",
      " - 0s - loss: 2.1003e-04\n",
      "Epoch 23/100\n",
      " - 0s - loss: 1.6079e-04\n",
      "Epoch 24/100\n",
      " - 0s - loss: 1.1581e-04\n",
      "Epoch 25/100\n",
      " - 0s - loss: 9.2739e-05\n",
      "Epoch 26/100\n",
      " - 0s - loss: 6.1821e-05\n",
      "Epoch 27/100\n",
      " - 0s - loss: 4.5556e-05\n",
      "Epoch 28/100\n",
      " - 0s - loss: 3.3535e-05\n",
      "Epoch 29/100\n",
      " - 0s - loss: 2.3280e-05\n",
      "Epoch 30/100\n",
      " - 0s - loss: 1.6996e-05\n",
      "Epoch 31/100\n",
      " - 0s - loss: 1.4318e-05\n",
      "Epoch 32/100\n",
      " - 0s - loss: 1.0974e-05\n",
      "Epoch 33/100\n",
      " - 0s - loss: 9.2323e-06\n",
      "Epoch 34/100\n",
      " - 0s - loss: 9.7716e-06\n",
      "Epoch 35/100\n",
      " - 0s - loss: 9.0566e-06\n",
      "Epoch 36/100\n",
      " - 0s - loss: 7.8863e-06\n",
      "Epoch 37/100\n",
      " - 0s - loss: 7.1409e-06\n",
      "Epoch 38/100\n",
      " - 0s - loss: 7.4267e-06\n",
      "Epoch 39/100\n",
      " - 0s - loss: 7.4325e-06\n",
      "Epoch 40/100\n",
      " - 0s - loss: 7.2776e-06\n",
      "Epoch 41/100\n",
      " - 0s - loss: 7.7621e-06\n",
      "Epoch 42/100\n",
      " - 0s - loss: 7.3646e-06\n",
      "Epoch 43/100\n",
      " - 0s - loss: 7.2865e-06\n",
      "Epoch 44/100\n",
      " - 0s - loss: 8.0763e-06\n",
      "Epoch 45/100\n",
      " - 0s - loss: 6.9193e-06\n",
      "Epoch 46/100\n",
      " - 0s - loss: 6.8499e-06\n",
      "Epoch 47/100\n",
      " - 0s - loss: 8.2664e-06\n",
      "Epoch 48/100\n",
      " - 0s - loss: 7.6731e-06\n",
      "Epoch 49/100\n",
      " - 0s - loss: 7.5608e-06\n",
      "Epoch 50/100\n",
      " - 0s - loss: 7.6084e-06\n",
      "Epoch 51/100\n",
      " - 0s - loss: 8.5645e-06\n",
      "Epoch 52/100\n",
      " - 0s - loss: 7.4811e-06\n",
      "Epoch 53/100\n",
      " - 0s - loss: 7.3530e-06\n",
      "Epoch 54/100\n",
      " - 0s - loss: 7.7821e-06\n",
      "Epoch 55/100\n",
      " - 0s - loss: 6.7424e-06\n",
      "Epoch 56/100\n",
      " - 0s - loss: 7.9632e-06\n",
      "Epoch 57/100\n",
      " - 0s - loss: 7.9321e-06\n",
      "Epoch 58/100\n",
      " - 0s - loss: 7.0472e-06\n",
      "Epoch 59/100\n",
      " - 0s - loss: 8.4522e-06\n",
      "Epoch 60/100\n",
      " - 0s - loss: 7.3576e-06\n",
      "Epoch 61/100\n",
      " - 0s - loss: 6.9343e-06\n",
      "Epoch 62/100\n",
      " - 0s - loss: 6.7043e-06\n",
      "Epoch 63/100\n",
      " - 0s - loss: 7.8914e-06\n",
      "Epoch 64/100\n",
      " - 0s - loss: 7.2147e-06\n",
      "Epoch 65/100\n",
      " - 0s - loss: 7.1706e-06\n",
      "Epoch 66/100\n",
      " - 0s - loss: 8.6902e-06\n",
      "Epoch 67/100\n",
      " - 0s - loss: 7.5730e-06\n",
      "Epoch 68/100\n",
      " - 0s - loss: 7.5292e-06\n",
      "Epoch 69/100\n",
      " - 0s - loss: 7.5265e-06\n",
      "Epoch 70/100\n",
      " - 0s - loss: 7.2925e-06\n",
      "Epoch 71/100\n",
      " - 0s - loss: 6.5486e-06\n",
      "Epoch 72/100\n",
      " - 0s - loss: 9.5210e-06\n",
      "Epoch 73/100\n",
      " - 0s - loss: 9.1945e-06\n",
      "Epoch 74/100\n",
      " - 0s - loss: 7.4293e-06\n",
      "Epoch 75/100\n",
      " - 0s - loss: 7.1720e-06\n",
      "Epoch 76/100\n",
      " - 0s - loss: 8.4717e-06\n",
      "Epoch 77/100\n",
      " - 0s - loss: 9.3681e-06\n",
      "Epoch 78/100\n",
      " - 0s - loss: 7.1460e-06\n",
      "Epoch 79/100\n",
      " - 0s - loss: 8.8614e-06\n",
      "Epoch 80/100\n",
      " - 0s - loss: 6.9848e-06\n",
      "Epoch 81/100\n",
      " - 0s - loss: 8.3022e-06\n",
      "Epoch 82/100\n",
      " - 0s - loss: 7.3386e-06\n",
      "Epoch 83/100\n",
      " - 0s - loss: 7.2987e-06\n",
      "Epoch 84/100\n",
      " - 0s - loss: 7.7310e-06\n",
      "Epoch 85/100\n",
      " - 0s - loss: 7.5115e-06\n",
      "Epoch 86/100\n",
      " - 0s - loss: 7.6164e-06\n",
      "Epoch 87/100\n",
      " - 0s - loss: 7.9123e-06\n",
      "Epoch 88/100\n",
      " - 0s - loss: 1.0479e-05\n",
      "Epoch 89/100\n",
      " - 0s - loss: 7.4825e-06\n",
      "Epoch 90/100\n",
      " - 0s - loss: 7.6053e-06\n",
      "Epoch 91/100\n",
      " - 0s - loss: 7.7700e-06\n",
      "Epoch 92/100\n",
      " - 0s - loss: 8.9089e-06\n",
      "Epoch 93/100\n",
      " - 0s - loss: 8.6850e-06\n",
      "Epoch 94/100\n",
      " - 0s - loss: 7.7859e-06\n",
      "Epoch 95/100\n",
      " - 0s - loss: 8.2443e-06\n",
      "Epoch 96/100\n",
      " - 0s - loss: 7.0739e-06\n",
      "Epoch 97/100\n",
      " - 0s - loss: 7.9304e-06\n",
      "Epoch 98/100\n",
      " - 0s - loss: 7.0840e-06\n",
      "Epoch 99/100\n",
      " - 0s - loss: 7.6389e-06\n",
      "Epoch 100/100\n",
      " - 0s - loss: 8.1242e-06\n"
     ]
    },
    {
     "data": {
      "text/plain": [
       "<keras.callbacks.callbacks.History at 0x7f23e1f86400>"
      ]
     },
     "execution_count": 52,
     "metadata": {},
     "output_type": "execute_result"
    }
   ],
   "source": [
    "# one layer input\n",
    "# hidden later with 4 LSTM neurons\n",
    "# output layer makes a single value prediction\n",
    "# sigmoid activation function (default)\n",
    "# the network is trained for 100 epochs\n",
    "# batch size of 1 is used\n",
    "\n",
    "\n",
    "model = Sequential()\n",
    "model.add(LSTM(4, input_shape = (1, look_back)))\n",
    "model.add(Dense(1))\n",
    "model.compile(loss = 'mean_squared_error', optimizer = 'adam')\n",
    "model.fit(trainX, trainY, epochs = 100, batch_size = 1, verbose = 2)"
   ]
  },
  {
   "cell_type": "code",
   "execution_count": 53,
   "metadata": {},
   "outputs": [
    {
     "name": "stdout",
     "output_type": "stream",
     "text": [
      "Real values: \n",
      "[[ 377961.01825109  417951.00077191  467563.00898776  529501.01751423\n",
      "   593201.01992485  660540.99107872  719951.97080901  782199.99447343\n",
      "   857319.97397556  932433.96687395 1012980.99211535 1095738.96863146\n",
      "  1197224.93613936]]\n",
      "Predicted values: \n",
      "[[ 382529.47]\n",
      " [ 432117.38]\n",
      " [ 481091.22]\n",
      " [ 541838.25]\n",
      " [ 617247.25]\n",
      " [ 693805.56]\n",
      " [ 773124.5 ]\n",
      " [ 841371.56]\n",
      " [ 910859.1 ]\n",
      " [ 991680.6 ]\n",
      " [1068955.  ]\n",
      " [1147743.4 ]\n",
      " [1224262.  ]]\n",
      "Number of confirmed cases for tomorrow: [1224262.]\n",
      "Train Score: 3152.680167 RMSE\n",
      "Test score: 40681.955680 RMSE\n"
     ]
    }
   ],
   "source": [
    "trainPredict = model.predict(trainX)\n",
    "testPredict = model.predict(testX)\n",
    "\n",
    "#invert predictions to the same units as the original data\n",
    "trainPredict = scaler.inverse_transform(trainPredict)\n",
    "trainY = scaler.inverse_transform([trainY])\n",
    "\n",
    "testPredict = scaler.inverse_transform(testPredict)\n",
    "testY = scaler.inverse_transform([testY])\n",
    "print(\"Real values: \")\n",
    "print(testY)\n",
    "print(\"Predicted values: \")\n",
    "print(testPredict)\n",
    "print(\"Number of confirmed cases for tomorrow:\", testPredict[-1])\n",
    "\n",
    "# calculate root mean squared error\n",
    "# between our predicted values(trainPredict) and given values (trainY)\n",
    "trainScore = math.sqrt(mean_squared_error(trainY[0], trainPredict[:,0]))\n",
    "print('Train Score: %2f RMSE' %(trainScore))\n",
    "\n",
    "testScore = math.sqrt(mean_squared_error(testY[0], testPredict[:,0]))\n",
    "print(\"Test score: %2f RMSE\" % (testScore))"
   ]
  },
  {
   "cell_type": "code",
   "execution_count": 54,
   "metadata": {},
   "outputs": [
    {
     "data": {
      "image/png": "[encoded data removed]",
      "text/plain": [
       "<Figure size 432x288 with 1 Axes>"
      ]
     },
     "metadata": {
      "needs_background": "light"
     },
     "output_type": "display_data"
    }
   ],
   "source": [
    "trainPredictPlot = np.empty_like(dataset)\n",
    "trainPredictPlot[:,:] = np.nan\n",
    "trainPredictPlot[look_back:len(trainPredict)+look_back, :] = trainPredict\n",
    "testPredictPlot = np.empty_like(dataset)\n",
    "testPredictPlot[:,:] = np.nan\n",
    "testPredictPlot[len(trainPredict)+(look_back*2)+1:len(dataset)-1, :] = testPredict\n",
    "plt.plot(scaler.inverse_transform(dataset))\n",
    "plt.plot(trainPredictPlot, color = 'green')\n",
    "plt.plot(testPredictPlot, color = 'red')\n",
    "plt.legend(['Number of realised cases', 'Predicted cases on training model', 'Predicted cases on unknown values'])\n",
    "plt.xlabel(\"Days\")\n",
    "plt.ylabel(\"Number of cases\")\n",
    "plt.show()"
   ]
  },
  {
   "cell_type": "markdown",
   "metadata": {},
   "source": [
    "### Forecasting number of fatal cases globally\n",
    "\n"
   ]
  },
  {
   "cell_type": "code",
   "execution_count": 55,
   "metadata": {},
   "outputs": [
    {
     "name": "stdout",
     "output_type": "stream",
     "text": [
      "60 15\n"
     ]
    }
   ],
   "source": [
    "fatalities = dataframe.groupby(['Date']).agg({'Fatalities':['sum']})\n",
    "#fatalities = fatalities.query(\"Date > '2020-02-29'\")\n",
    "np.random.seed(7)\n",
    "\n",
    "dataset = fatalities.values\n",
    "dataset = dataset.astype('float32')\n",
    "\n",
    "scaler = MinMaxScaler(feature_range=(0,1))\n",
    "dataset = scaler.fit_transform(dataset)\n",
    "\n",
    "\n",
    "train_size = int(len(dataset)*0.80)\n",
    "test_size = len(dataset) - train_size\n",
    "#print(len(dataset))\n",
    "\n",
    "train, test = dataset[0:train_size, :], dataset[train_size:len(dataset), :]\n",
    "print(len(train), len(test))\n",
    "\n",
    "def create_dataset(dataset, look_back = 1):\n",
    "    dataX, dataY = [], []\n",
    "    for i in range(len(dataset) - look_back - 1):\n",
    "        a = dataset[i:(i+look_back), 0]\n",
    "        dataX.append(a)\n",
    "        dataY.append(dataset[i+look_back, 0])\n",
    "    return np.array(dataX), np.array(dataY)\n",
    "\n",
    "look_back = 1\n",
    "\n",
    "trainX, trainY = create_dataset(train, look_back)\n",
    "testX, testY = create_dataset(test, look_back)\n",
    "\n",
    "trainX = np.reshape(trainX, (trainX.shape[0], 1, trainX.shape[1]))\n",
    "testX = np.reshape(testX, (testX.shape[0], 1, testX.shape[1]))"
   ]
  },
  {
   "cell_type": "code",
   "execution_count": 56,
   "metadata": {},
   "outputs": [
    {
     "name": "stdout",
     "output_type": "stream",
     "text": [
      "Epoch 1/100\n",
      " - 1s - loss: 0.0014\n",
      "Epoch 2/100\n",
      " - 0s - loss: 0.0012\n",
      "Epoch 3/100\n",
      " - 0s - loss: 0.0012\n",
      "Epoch 4/100\n",
      " - 0s - loss: 0.0012\n",
      "Epoch 5/100\n",
      " - 0s - loss: 0.0011\n",
      "Epoch 6/100\n",
      " - 0s - loss: 0.0010\n",
      "Epoch 7/100\n",
      " - 0s - loss: 0.0010\n",
      "Epoch 8/100\n",
      " - 0s - loss: 9.4648e-04\n",
      "Epoch 9/100\n",
      " - 0s - loss: 9.1474e-04\n",
      "Epoch 10/100\n",
      " - 0s - loss: 8.2150e-04\n",
      "Epoch 11/100\n",
      " - 0s - loss: 7.6897e-04\n",
      "Epoch 12/100\n",
      " - 0s - loss: 7.1733e-04\n",
      "Epoch 13/100\n",
      " - 0s - loss: 6.3558e-04\n",
      "Epoch 14/100\n",
      " - 0s - loss: 5.6915e-04\n",
      "Epoch 15/100\n",
      " - 0s - loss: 5.0515e-04\n",
      "Epoch 16/100\n",
      " - 0s - loss: 4.4301e-04\n",
      "Epoch 17/100\n",
      " - 0s - loss: 3.8316e-04\n",
      "Epoch 18/100\n",
      " - 0s - loss: 3.3740e-04\n",
      "Epoch 19/100\n",
      " - 0s - loss: 2.7990e-04\n",
      "Epoch 20/100\n",
      " - 0s - loss: 2.4033e-04\n",
      "Epoch 21/100\n",
      " - 0s - loss: 1.9279e-04\n",
      "Epoch 22/100\n",
      " - 0s - loss: 1.5231e-04\n",
      "Epoch 23/100\n",
      " - 0s - loss: 1.1870e-04\n",
      "Epoch 24/100\n",
      " - 0s - loss: 8.7668e-05\n",
      "Epoch 25/100\n",
      " - 0s - loss: 7.2098e-05\n",
      "Epoch 26/100\n",
      " - 0s - loss: 4.9473e-05\n",
      "Epoch 27/100\n",
      " - 0s - loss: 3.6051e-05\n",
      "Epoch 28/100\n",
      " - 0s - loss: 2.7128e-05\n",
      "Epoch 29/100\n",
      " - 0s - loss: 1.7982e-05\n",
      "Epoch 30/100\n",
      " - 0s - loss: 1.2762e-05\n",
      "Epoch 31/100\n",
      " - 0s - loss: 1.0308e-05\n",
      "Epoch 32/100\n",
      " - 0s - loss: 6.7004e-06\n",
      "Epoch 33/100\n",
      " - 0s - loss: 5.2963e-06\n",
      "Epoch 34/100\n",
      " - 0s - loss: 4.5737e-06\n",
      "Epoch 35/100\n",
      " - 0s - loss: 4.1367e-06\n",
      "Epoch 36/100\n",
      " - 0s - loss: 3.2590e-06\n",
      "Epoch 37/100\n",
      " - 0s - loss: 3.1281e-06\n",
      "Epoch 38/100\n",
      " - 0s - loss: 2.7944e-06\n",
      "Epoch 39/100\n",
      " - 0s - loss: 2.6764e-06\n",
      "Epoch 40/100\n",
      " - 0s - loss: 2.6129e-06\n",
      "Epoch 41/100\n",
      " - 0s - loss: 2.7700e-06\n",
      "Epoch 42/100\n",
      " - 0s - loss: 2.6950e-06\n",
      "Epoch 43/100\n",
      " - 0s - loss: 2.7986e-06\n",
      "Epoch 44/100\n",
      " - 0s - loss: 3.1653e-06\n",
      "Epoch 45/100\n",
      " - 0s - loss: 2.6125e-06\n",
      "Epoch 46/100\n",
      " - 0s - loss: 2.6300e-06\n",
      "Epoch 47/100\n",
      " - 0s - loss: 2.8837e-06\n",
      "Epoch 48/100\n",
      " - 0s - loss: 2.8522e-06\n",
      "Epoch 49/100\n",
      " - 0s - loss: 2.7264e-06\n",
      "Epoch 50/100\n",
      " - 0s - loss: 3.0286e-06\n",
      "Epoch 51/100\n",
      " - 0s - loss: 2.9632e-06\n",
      "Epoch 52/100\n",
      " - 0s - loss: 2.7952e-06\n",
      "Epoch 53/100\n",
      " - 0s - loss: 2.6036e-06\n",
      "Epoch 54/100\n",
      " - 0s - loss: 3.0524e-06\n",
      "Epoch 55/100\n",
      " - 0s - loss: 2.6041e-06\n",
      "Epoch 56/100\n",
      " - 0s - loss: 3.2598e-06\n",
      "Epoch 57/100\n",
      " - 0s - loss: 2.7290e-06\n",
      "Epoch 58/100\n",
      " - 0s - loss: 2.5515e-06\n",
      "Epoch 59/100\n",
      " - 0s - loss: 3.1182e-06\n",
      "Epoch 60/100\n",
      " - 0s - loss: 3.1219e-06\n",
      "Epoch 61/100\n",
      " - 0s - loss: 2.7096e-06\n",
      "Epoch 62/100\n",
      " - 0s - loss: 2.5242e-06\n",
      "Epoch 63/100\n",
      " - 0s - loss: 2.8330e-06\n",
      "Epoch 64/100\n",
      " - 0s - loss: 2.7753e-06\n",
      "Epoch 65/100\n",
      " - 0s - loss: 2.8303e-06\n",
      "Epoch 66/100\n",
      " - 0s - loss: 3.5428e-06\n",
      "Epoch 67/100\n",
      " - 0s - loss: 2.9886e-06\n",
      "Epoch 68/100\n",
      " - 0s - loss: 3.7529e-06\n",
      "Epoch 69/100\n",
      " - 0s - loss: 3.2950e-06\n",
      "Epoch 70/100\n",
      " - 0s - loss: 2.7092e-06\n",
      "Epoch 71/100\n",
      " - 0s - loss: 2.7979e-06\n",
      "Epoch 72/100\n",
      " - 0s - loss: 4.8493e-06\n",
      "Epoch 73/100\n",
      " - 0s - loss: 3.0865e-06\n",
      "Epoch 74/100\n",
      " - 0s - loss: 2.8331e-06\n",
      "Epoch 75/100\n",
      " - 0s - loss: 2.9353e-06\n",
      "Epoch 76/100\n",
      " - 0s - loss: 2.6030e-06\n",
      "Epoch 77/100\n",
      " - 0s - loss: 4.3512e-06\n",
      "Epoch 78/100\n",
      " - 0s - loss: 3.1269e-06\n",
      "Epoch 79/100\n",
      " - 0s - loss: 3.0912e-06\n",
      "Epoch 80/100\n",
      " - 0s - loss: 2.8252e-06\n",
      "Epoch 81/100\n",
      " - 0s - loss: 2.7376e-06\n",
      "Epoch 82/100\n",
      " - 0s - loss: 3.2206e-06\n",
      "Epoch 83/100\n",
      " - 0s - loss: 3.4673e-06\n",
      "Epoch 84/100\n",
      " - 0s - loss: 3.8811e-06\n",
      "Epoch 85/100\n",
      " - 0s - loss: 2.9481e-06\n",
      "Epoch 86/100\n",
      " - 0s - loss: 2.6378e-06\n",
      "Epoch 87/100\n",
      " - 0s - loss: 3.1107e-06\n",
      "Epoch 88/100\n",
      " - 0s - loss: 4.2747e-06\n",
      "Epoch 89/100\n",
      " - 0s - loss: 2.8117e-06\n",
      "Epoch 90/100\n",
      " - 0s - loss: 3.2567e-06\n",
      "Epoch 91/100\n",
      " - 0s - loss: 2.7907e-06\n",
      "Epoch 92/100\n",
      " - 0s - loss: 4.2016e-06\n",
      "Epoch 93/100\n",
      " - 0s - loss: 2.4849e-06\n",
      "Epoch 94/100\n",
      " - 0s - loss: 2.9103e-06\n",
      "Epoch 95/100\n",
      " - 0s - loss: 3.1410e-06\n",
      "Epoch 96/100\n",
      " - 0s - loss: 2.6664e-06\n",
      "Epoch 97/100\n",
      " - 0s - loss: 3.1827e-06\n",
      "Epoch 98/100\n",
      " - 0s - loss: 3.8669e-06\n",
      "Epoch 99/100\n",
      " - 0s - loss: 3.2002e-06\n",
      "Epoch 100/100\n",
      " - 0s - loss: 3.9063e-06\n"
     ]
    },
    {
     "data": {
      "text/plain": [
       "<keras.callbacks.callbacks.History at 0x7f23d835a860>"
      ]
     },
     "execution_count": 56,
     "metadata": {},
     "output_type": "execute_result"
    }
   ],
   "source": [
    "model_fatalities = Sequential()\n",
    "model_fatalities.add(LSTM(4, input_shape = (1, look_back)))\n",
    "model_fatalities.add(Dense(1))\n",
    "model_fatalities.compile(loss = 'mean_squared_error', optimizer = 'adam')\n",
    "model_fatalities.fit(trainX, trainY, epochs = 100, batch_size = 1, verbose = 2)"
   ]
  },
  {
   "cell_type": "code",
   "execution_count": 57,
   "metadata": {},
   "outputs": [
    {
     "name": "stdout",
     "output_type": "stream",
     "text": [
      "Real values: \n",
      "[[16498.00040469 18623.00092796 21179.00079677 23968.00088003\n",
      "  27193.99934301 30648.00037542 33921.00109045 37577.99786553\n",
      "  42102.99959985 46803.99780599 52977.9991775  58781.99706826\n",
      "  64600.99616149]]\n",
      "Predicted values: \n",
      "[[16352.04 ]\n",
      " [18562.277]\n",
      " [21139.873]\n",
      " [24261.797]\n",
      " [27678.537]\n",
      " [31620.68 ]\n",
      " [35801.85 ]\n",
      " [39701.76 ]\n",
      " [43963.27 ]\n",
      " [49065.195]\n",
      " [54135.92 ]\n",
      " [60407.582]\n",
      " [65887.04 ]]\n",
      "Number of confirmed cases for tomorrow: [65887.04]\n",
      "Train Score: 147.204967 RMSE\n",
      "Test score: 1346.006295 RMSE\n"
     ]
    }
   ],
   "source": [
    "trainPredict = model.predict(trainX)\n",
    "testPredict = model.predict(testX)\n",
    "\n",
    "trainPredict = scaler.inverse_transform(trainPredict)\n",
    "trainY = scaler.inverse_transform([trainY])\n",
    "\n",
    "testPredict = scaler.inverse_transform(testPredict)\n",
    "testY = scaler.inverse_transform([testY])\n",
    "print(\"Real values: \")\n",
    "print(testY)\n",
    "print(\"Predicted values: \")\n",
    "print(testPredict)\n",
    "print(\"Number of confirmed cases for tomorrow:\", testPredict[-1])\n",
    "\n",
    "trainScore = math.sqrt(mean_squared_error(trainY[0], trainPredict[:,0]))\n",
    "print('Train Score: %2f RMSE' %(trainScore))\n",
    "\n",
    "testScore = math.sqrt(mean_squared_error(testY[0], testPredict[:,0]))\n",
    "print(\"Test score: %2f RMSE\" % (testScore))"
   ]
  },
  {
   "cell_type": "code",
   "execution_count": 58,
   "metadata": {},
   "outputs": [
    {
     "data": {
      "image/png": "[encoded data removed]",
      "text/plain": [
       "<Figure size 432x288 with 1 Axes>"
      ]
     },
     "metadata": {
      "needs_background": "light"
     },
     "output_type": "display_data"
    }
   ],
   "source": [
    "trainPredictPlot = np.empty_like(dataset)\n",
    "trainPredictPlot[:,:] = np.nan\n",
    "trainPredictPlot[look_back:len(trainPredict)+look_back, :] = trainPredict\n",
    "testPredictPlot = np.empty_like(dataset)\n",
    "testPredictPlot[:,:] = np.nan\n",
    "testPredictPlot[len(trainPredict)+(look_back*2)+1:len(dataset)-1, :] = testPredict\n",
    "plt.plot(scaler.inverse_transform(dataset))\n",
    "plt.plot(trainPredictPlot, color = 'green')\n",
    "plt.plot(testPredictPlot, color = 'red')\n",
    "plt.legend(['Number of realised cases', 'Predicted cases on training model', 'Predicted cases on unknown values'])\n",
    "plt.xlabel(\"Days\")\n",
    "plt.ylabel(\"Number of cases\")\n",
    "plt.show()"
   ]
  },
  {
   "cell_type": "code",
   "execution_count": null,
   "metadata": {},
   "outputs": [],
   "source": []
  }
 ],
 "metadata": {
  "kernelspec": {
   "display_name": "Python 3",
   "language": "python",
   "name": "python3"
  },
  "language_info": {
   "codemirror_mode": {
    "name": "ipython",
    "version": 3
   },
   "file_extension": ".py",
   "mimetype": "text/x-python",
   "name": "python",
   "nbconvert_exporter": "python",
   "pygments_lexer": "ipython3",
   "version": "3.6.9"
  }
 },
 "nbformat": 4,
 "nbformat_minor": 4
}
