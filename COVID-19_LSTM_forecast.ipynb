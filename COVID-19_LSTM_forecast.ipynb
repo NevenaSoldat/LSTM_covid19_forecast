{
 "cells": [
  {
   "cell_type": "markdown",
   "metadata": {},
   "source": [
    "# COVID-19 Forecasting using LSTM"
   ]
  },
  {
   "cell_type": "markdown",
   "metadata": {},
   "source": [
    "### What are our goals?\n",
    "We need to predict the number of confirmed and fatal cases of COVID-19. \n",
    "To train our model, we will take data from the past 7 days as input and predict the number of cases on the 8th day."
   ]
  },
  {
   "cell_type": "code",
   "execution_count": 2,
   "metadata": {},
   "outputs": [],
   "source": [
    "import os\n",
    "import multiprocessing\n",
    "import pandas as pd\n",
    "import numpy as np\n",
    "import matplotlib.pylab as plt\n",
    "from plotly.subplots import make_subplots\n",
    "import plotly.graph_objects as go\n",
    "from tqdm import tqdm\n",
    "from sklearn.model_selection import train_test_split\n",
    "from sklearn.preprocessing import MinMaxScaler\n",
    "from sklearn.metrics import mean_squared_error\n",
    "from keras.models import Sequential\n",
    "from keras.layers import LSTM, Dense, BatchNormalization\n",
    "from keras.callbacks import ModelCheckpoint, ReduceLROnPlateau, EarlyStopping\n",
    "from keras.utils import plot_model\n",
    "from keras import Input\n",
    "from dateutil.relativedelta import relativedelta\n",
    "from datetime import datetime\n",
    "import math"
   ]
  },
  {
   "cell_type": "code",
   "execution_count": 3,
   "metadata": {},
   "outputs": [
    {
     "name": "stdout",
     "output_type": "stream",
     "text": [
      "Computer characteristics: \n",
      "RAM: 7.653069 GB\n",
      "CORES: 4\n"
     ]
    }
   ],
   "source": [
    "# Computer characteristics\n",
    "mem_bytes = os.sysconf('SC_PAGE_SIZE') * os.sysconf('SC_PHYS_PAGES')\n",
    "mem_gib = mem_bytes / (1024.**3)\n",
    "print(\"Computer characteristics: \")\n",
    "print(\"RAM: %f GB\" % mem_gib)\n",
    "print(\"CORES: %d\" % multiprocessing.cpu_count())\n"
   ]
  },
  {
   "cell_type": "code",
   "execution_count": 4,
   "metadata": {},
   "outputs": [],
   "source": [
    "train = pd.read_csv(\"train.csv\")"
   ]
  },
  {
   "cell_type": "code",
   "execution_count": 5,
   "metadata": {},
   "outputs": [
    {
     "name": "stdout",
     "output_type": "stream",
     "text": [
      "Null values(train):\n",
      "Id                    0\n",
      "Province_State    13376\n",
      "Country_Region        0\n",
      "Date                  0\n",
      "ConfirmedCases        0\n",
      "Fatalities            0\n",
      "dtype: int64\n",
      "\n",
      "\n",
      "Number of different countries:  180\n",
      "\n",
      "\n",
      "Min date: 2020-01-22\n",
      "Max date: 2020-04-06\n"
     ]
    }
   ],
   "source": [
    "# Check null values\n",
    "print(\"Null values(train):\") \n",
    "print(train.isnull().sum())\n",
    "print(\"\\n\")\n",
    "countries = train['Country_Region'].unique()\n",
    "print(\"Number of different countries: \", len(countries))\n",
    "print(\"\\n\")\n",
    "min_date = train.Date.min()\n",
    "max_date = train.Date.max()\n",
    "print(\"Min date: {0}\\nMax date: {1}\".format(min_date, max_date))"
   ]
  },
  {
   "cell_type": "code",
   "execution_count": 6,
   "metadata": {},
   "outputs": [
    {
     "data": {
      "text/html": [
       "<div>\n",
       "<style scoped>\n",
       "    .dataframe tbody tr th:only-of-type {\n",
       "        vertical-align: middle;\n",
       "    }\n",
       "\n",
       "    .dataframe tbody tr th {\n",
       "        vertical-align: top;\n",
       "    }\n",
       "\n",
       "    .dataframe thead th {\n",
       "        text-align: right;\n",
       "    }\n",
       "</style>\n",
       "<table border=\"1\" class=\"dataframe\">\n",
       "  <thead>\n",
       "    <tr style=\"text-align: right;\">\n",
       "      <th></th>\n",
       "      <th>Id</th>\n",
       "      <th>Province/State</th>\n",
       "      <th>Country/Region</th>\n",
       "      <th>ObservationDate</th>\n",
       "      <th>Confirmed</th>\n",
       "      <th>Deaths</th>\n",
       "    </tr>\n",
       "  </thead>\n",
       "  <tbody>\n",
       "    <tr>\n",
       "      <th>0</th>\n",
       "      <td>1</td>\n",
       "      <td>Afghanistan</td>\n",
       "      <td>Afghanistan</td>\n",
       "      <td>2020-01-22</td>\n",
       "      <td>0</td>\n",
       "      <td>0</td>\n",
       "    </tr>\n",
       "    <tr>\n",
       "      <th>1</th>\n",
       "      <td>2</td>\n",
       "      <td>Afghanistan</td>\n",
       "      <td>Afghanistan</td>\n",
       "      <td>2020-01-23</td>\n",
       "      <td>0</td>\n",
       "      <td>0</td>\n",
       "    </tr>\n",
       "    <tr>\n",
       "      <th>2</th>\n",
       "      <td>3</td>\n",
       "      <td>Afghanistan</td>\n",
       "      <td>Afghanistan</td>\n",
       "      <td>2020-01-24</td>\n",
       "      <td>0</td>\n",
       "      <td>0</td>\n",
       "    </tr>\n",
       "    <tr>\n",
       "      <th>3</th>\n",
       "      <td>4</td>\n",
       "      <td>Afghanistan</td>\n",
       "      <td>Afghanistan</td>\n",
       "      <td>2020-01-25</td>\n",
       "      <td>0</td>\n",
       "      <td>0</td>\n",
       "    </tr>\n",
       "    <tr>\n",
       "      <th>4</th>\n",
       "      <td>5</td>\n",
       "      <td>Afghanistan</td>\n",
       "      <td>Afghanistan</td>\n",
       "      <td>2020-01-26</td>\n",
       "      <td>0</td>\n",
       "      <td>0</td>\n",
       "    </tr>\n",
       "  </tbody>\n",
       "</table>\n",
       "</div>"
      ],
      "text/plain": [
       "   Id Province/State Country/Region ObservationDate  Confirmed  Deaths\n",
       "0   1    Afghanistan    Afghanistan      2020-01-22          0       0\n",
       "1   2    Afghanistan    Afghanistan      2020-01-23          0       0\n",
       "2   3    Afghanistan    Afghanistan      2020-01-24          0       0\n",
       "3   4    Afghanistan    Afghanistan      2020-01-25          0       0\n",
       "4   5    Afghanistan    Afghanistan      2020-01-26          0       0"
      ]
     },
     "execution_count": 6,
     "metadata": {},
     "output_type": "execute_result"
    }
   ],
   "source": [
    "# Filling empty values\n",
    "# where Province_State is null we fill it with Country_Region\n",
    "\n",
    "def fillState(state, country):\n",
    "    if state == \"empty\":\n",
    "        return country\n",
    "    return state\n",
    "\n",
    "train['Province_State'].fillna(\"empty\", inplace = True)\n",
    "train['Province_State'] = train.loc[:,['Province_State', 'Country_Region']].apply(lambda x: fillState(x['Province_State'], x['Country_Region']), axis = 1)\n",
    "\n",
    "train=train.rename(columns={'ConfirmedCases':'Confirmed','Fatalities':'Deaths','Country_Region':'Country/Region',\n",
    "                     'Province_State':'Province/State','Date':'ObservationDate'})\n",
    "\n",
    "num_cols=['Confirmed', 'Deaths']\n",
    "# cast to int\n",
    "for col in num_cols:\n",
    "    temp=[int(i) for i in train[col]]\n",
    "    train[col]=temp \n",
    "    \n",
    "train.head()"
   ]
  },
  {
   "cell_type": "code",
   "execution_count": 7,
   "metadata": {},
   "outputs": [
    {
     "name": "stderr",
     "output_type": "stream",
     "text": [
      "100%|██████████| 180/180 [00:00<00:00, 449.93it/s]"
     ]
    },
    {
     "name": "stdout",
     "output_type": "stream",
     "text": [
      "Number of unique regions: 180\n"
     ]
    },
    {
     "name": "stderr",
     "output_type": "stream",
     "text": [
      "\n"
     ]
    }
   ],
   "source": [
    "# Creating list of all states of each country\n",
    "unique_regions = train['Country/Region'].unique()\n",
    "states_per_regions = list()\n",
    "\n",
    "for reg in tqdm(unique_regions):\n",
    "    states_per_regions.append(train[train['Country/Region']==reg]['Province/State'].unique()) \n",
    "    \n",
    "print('Number of unique regions:', len(unique_regions))   "
   ]
  },
  {
   "cell_type": "code",
   "execution_count": 8,
   "metadata": {},
   "outputs": [],
   "source": [
    "# Creating dataset for supervised learning problem\n",
    "# Basically we prepare input X - values for 7 days and output y - one value for the 8th day\n",
    "# for every Country/Region and every Province/State\n",
    "\n",
    "# target : 'Confirmed'/'Deaths'\n",
    "def create_train_dataset(target, n_steps, train):\n",
    "    train = train.query(\"ObservationDate<'2020-03-31'\")\n",
    "    X, y = list(), list()\n",
    "    # for every Country/Region\n",
    "    for k in tqdm(range(len(unique_regions))):\n",
    "        # for every Province_State in the Country/Region\n",
    "        for state in states_per_regions[k]:\n",
    "            # take the data for every state and every country\n",
    "            temp = train[(train['Country/Region'] == unique_regions[k]) &(train['Province/State'] == state)]\n",
    "            # take the target data (Confirmed or Deaths) and put it in a list\n",
    "            sequence = list(temp[target])\n",
    "            # for the data from the list\n",
    "            for i in range(len(sequence)):\n",
    "                end_ix = i + n_steps\n",
    "                # if we have reached the end of data - break\n",
    "                if end_ix > len(sequence) - 1:\n",
    "                    break\n",
    "                # split into input values X and output values y\n",
    "                seq_x, seq_y = sequence[i:end_ix], sequence[end_ix]\n",
    "                X.append(seq_x)   \n",
    "                y.append(seq_y)\n",
    "                \n",
    "    return np.array(X), np.array(y)      "
   ]
  },
  {
   "cell_type": "code",
   "execution_count": 9,
   "metadata": {},
   "outputs": [],
   "source": [
    "# function to create test dataset\n",
    "# we take the last 7 days data to predict the number of cases for 8th day\n",
    "\n",
    "def create_test_dataset(target, n_steps, train):\n",
    "    train = train.query(\"ObservationDate<'2020-03-31'\")\n",
    "    x, regs = list(), list()\n",
    "    # for every Country/Region\n",
    "    for k in tqdm(range(len(unique_regions))):\n",
    "        # for every Province/State\n",
    "        for state in states_per_regions[k]:\n",
    "            temp = train[(train['Country/Region'] == unique_regions[k]) &(train['Province/State'] == state)]\n",
    "            sequence = temp[target]\n",
    "            # we take the last 7 days and put it in a list\n",
    "            x.append(sequence[len(sequence)-n_steps:len(sequence)+1])\n",
    "            # in regs we keep the (country,state) information\n",
    "            regs.append((unique_regions[k],state))      \n",
    "    return np.array(x), regs"
   ]
  },
  {
   "cell_type": "code",
   "execution_count": 10,
   "metadata": {},
   "outputs": [
    {
     "name": "stderr",
     "output_type": "stream",
     "text": [
      "100%|██████████| 180/180 [00:01<00:00, 161.89it/s]\n",
      "100%|██████████| 180/180 [00:01<00:00, 160.48it/s]\n",
      "100%|██████████| 180/180 [00:01<00:00, 158.74it/s]\n",
      "100%|██████████| 180/180 [00:01<00:00, 157.57it/s]"
     ]
    },
    {
     "name": "stdout",
     "output_type": "stream",
     "text": [
      "(306, 7)\n"
     ]
    },
    {
     "name": "stderr",
     "output_type": "stream",
     "text": [
      "\n"
     ]
    }
   ],
   "source": [
    "n_steps = 7 # timestep is 7 days\n",
    "\n",
    "# creating input and output values for confirmed cases\n",
    "X_confirmed, y_confirmed = create_train_dataset('Confirmed', n_steps, train)\n",
    "test_confirmed, regs = create_test_dataset('Confirmed',n_steps,train)\n",
    "\n",
    "X_deaths, y_deaths = create_train_dataset('Deaths', n_steps, train)\n",
    "test_deaths, regs = create_test_dataset('Deaths', n_steps, train)\n",
    "\n",
    "print(test_confirmed.shape)"
   ]
  },
  {
   "cell_type": "markdown",
   "metadata": {},
   "source": [
    "### Split the data into train and test sets"
   ]
  },
  {
   "cell_type": "code",
   "execution_count": 11,
   "metadata": {},
   "outputs": [],
   "source": [
    "X_train_confirmed, X_val_confirmed, y_train_confirmed, y_val_confirmed = train_test_split(X_confirmed, y_confirmed, test_size=0.30, random_state=42)\n",
    "X_train_deaths, X_val_deaths, y_train_deaths, y_val_deaths = train_test_split(X_deaths, y_deaths, test_size=0.30, random_state=42)\n"
   ]
  },
  {
   "cell_type": "markdown",
   "metadata": {},
   "source": [
    "### Reshape for LSTM"
   ]
  },
  {
   "cell_type": "code",
   "execution_count": 12,
   "metadata": {},
   "outputs": [
    {
     "name": "stdout",
     "output_type": "stream",
     "text": [
      "(13280, 1, 7) (13280,) (5692, 1, 7) (5692,) (306, 1, 7)\n"
     ]
    }
   ],
   "source": [
    "# Confirmed cases\n",
    "\n",
    "X_train_confirmed = X_train_confirmed.reshape((X_train_confirmed.shape[0], 1, X_train_confirmed.shape[1]))\n",
    "X_val_confirmed = X_val_confirmed.reshape(( X_val_confirmed.shape[0], 1,  X_val_confirmed.shape[1]))\n",
    "X_test_c = test_confirmed.reshape(( test_confirmed.shape[0], 1, test_confirmed.shape[1]))\n",
    "print(X_train_confirmed.shape, y_train_confirmed.shape, X_val_confirmed.shape, y_val_confirmed.shape, X_test_c.shape)"
   ]
  },
  {
   "cell_type": "code",
   "execution_count": 13,
   "metadata": {},
   "outputs": [
    {
     "name": "stdout",
     "output_type": "stream",
     "text": [
      "(13280, 1, 7) (13280,) (5692, 1, 7) (5692,) (306, 1, 7)\n"
     ]
    }
   ],
   "source": [
    "# Death cases\n",
    "\n",
    "X_train_deaths = X_train_deaths.reshape((X_train_deaths.shape[0], 1, X_train_deaths.shape[1]))\n",
    "X_val_deaths = X_val_deaths.reshape(( X_val_deaths.shape[0], 1,  X_val_deaths.shape[1]))\n",
    "X_test_d = test_deaths.reshape(( test_deaths.shape[0], 1, test_deaths.shape[1]))\n",
    "print(X_train_deaths.shape, y_train_deaths.shape, X_val_deaths.shape, y_val_deaths.shape, X_test_d.shape)"
   ]
  },
  {
   "cell_type": "code",
   "execution_count": 14,
   "metadata": {},
   "outputs": [
    {
     "name": "stdout",
     "output_type": "stream",
     "text": [
      "[[ 74  84  94 110 110 120 170]]\n",
      "[[1 2 4 4 4 4 4]]\n"
     ]
    }
   ],
   "source": [
    "print(X_test_c[0])\n",
    "print(X_test_d[0])"
   ]
  },
  {
   "cell_type": "markdown",
   "metadata": {},
   "source": [
    "## Preparing the Model"
   ]
  },
  {
   "cell_type": "markdown",
   "metadata": {},
   "source": [
    "### Model for Confirmed cases"
   ]
  },
  {
   "cell_type": "code",
   "execution_count": 15,
   "metadata": {},
   "outputs": [
    {
     "name": "stdout",
     "output_type": "stream",
     "text": [
      "Model: \"sequential_1\"\n",
      "_________________________________________________________________\n",
      "Layer (type)                 Output Shape              Param #   \n",
      "=================================================================\n",
      "lstm_1 (LSTM)                (None, 1, 50)             11600     \n",
      "_________________________________________________________________\n",
      "lstm_2 (LSTM)                (None, 150)               120600    \n",
      "_________________________________________________________________\n",
      "dense_1 (Dense)              (None, 1)                 151       \n",
      "=================================================================\n",
      "Total params: 132,351\n",
      "Trainable params: 132,351\n",
      "Non-trainable params: 0\n",
      "_________________________________________________________________\n"
     ]
    }
   ],
   "source": [
    "# Initializing model components\n",
    "epochs = 20\n",
    "batch_size = 32\n",
    "n_features = 1\n",
    "\n",
    "model_c = Sequential()\n",
    "# Stacked LSTM\n",
    "model_c.add(LSTM(50, activation='relu', input_shape = (n_features, n_steps), return_sequences = True))\n",
    "model_c.add(LSTM(150, activation='relu'))\n",
    "model_c.add(Dense(1,activation='relu'))\n",
    "model_c.summary()"
   ]
  },
  {
   "cell_type": "code",
   "execution_count": 16,
   "metadata": {},
   "outputs": [
    {
     "name": "stdout",
     "output_type": "stream",
     "text": [
      "WARNING:tensorflow:From /home/nemanja/.local/lib/python3.6/site-packages/tensorflow/python/ops/math_grad.py:1250: add_dispatch_support.<locals>.wrapper (from tensorflow.python.ops.array_ops) is deprecated and will be removed in a future version.\n",
      "Instructions for updating:\n",
      "Use tf.where in 2.0, which has the same broadcast rule as np.where\n",
      "WARNING:tensorflow:From /home/nemanja/.local/lib/python3.6/site-packages/keras/backend/tensorflow_backend.py:422: The name tf.global_variables is deprecated. Please use tf.compat.v1.global_variables instead.\n",
      "\n",
      "Train on 13280 samples, validate on 5692 samples\n",
      "Epoch 1/20\n",
      " - 3s - loss: 0.2053 - val_loss: 0.0411\n",
      "Epoch 2/20\n",
      " - 2s - loss: 0.0447 - val_loss: 0.0394\n",
      "Epoch 3/20\n",
      " - 2s - loss: 0.0437 - val_loss: 0.0398\n",
      "Epoch 4/20\n",
      " - 2s - loss: 0.0434 - val_loss: 0.0393\n",
      "Epoch 5/20\n",
      " - 2s - loss: 0.0431 - val_loss: 0.0397\n",
      "Epoch 6/20\n",
      " - 2s - loss: 0.0431 - val_loss: 0.0393\n",
      "Epoch 7/20\n",
      " - 2s - loss: 0.0427 - val_loss: 0.0392\n",
      "Epoch 8/20\n",
      " - 3s - loss: 0.0428 - val_loss: 0.0393\n",
      "Epoch 9/20\n",
      " - 3s - loss: 0.0427 - val_loss: 0.0393\n",
      "Epoch 10/20\n",
      " - 3s - loss: 0.0427 - val_loss: 0.0394\n",
      "Epoch 11/20\n",
      " - 3s - loss: 0.0427 - val_loss: 0.0401\n",
      "Epoch 12/20\n",
      " - 3s - loss: 0.0427 - val_loss: 0.0405\n",
      "Epoch 13/20\n",
      " - 3s - loss: 0.0427 - val_loss: 0.0392\n",
      "Epoch 14/20\n",
      " - 3s - loss: 0.0426 - val_loss: 0.0402\n",
      "Epoch 15/20\n",
      " - 3s - loss: 0.0426 - val_loss: 0.0397\n",
      "Epoch 16/20\n",
      " - 3s - loss: 0.0426 - val_loss: 0.0391\n",
      "Epoch 17/20\n",
      " - 4s - loss: 0.0427 - val_loss: 0.0407\n",
      "Epoch 18/20\n",
      " - 3s - loss: 0.0425 - val_loss: 0.0396\n",
      "Epoch 19/20\n",
      " - 3s - loss: 0.0425 - val_loss: 0.0392\n",
      "Epoch 20/20\n",
      " - 3s - loss: 0.0426 - val_loss: 0.0391\n"
     ]
    }
   ],
   "source": [
    "from keras.losses import MeanSquaredLogarithmicError\n",
    "\n",
    "# Compiling the model\n",
    "model_c.compile(optimizer = 'adam', loss = MeanSquaredLogarithmicError())\n",
    "#callbacks = [ReduceLROnPlateau(monitor='val_loss', patience=5, verbose=1, factor=0.6),\n",
    "#             EarlyStopping(monitor='val_loss', patience=20),\n",
    "#             ModelCheckpoint(filepath='best_model.h5', monitor='val_loss', save_best_only=True)]\n",
    "# fit the model\n",
    "hist = model_c.fit(X_train_confirmed, y_train_confirmed, epochs = epochs, batch_size = batch_size,\n",
    "                   validation_data = (X_val_confirmed, y_val_confirmed), verbose = 2, shuffle=True)\n"
   ]
  },
  {
   "cell_type": "code",
   "execution_count": 17,
   "metadata": {},
   "outputs": [
    {
     "data": {
      "image/png": "[encoded data removed]",
      "text/plain": [
       "<Figure size 432x288 with 1 Axes>"
      ]
     },
     "metadata": {
      "needs_background": "light"
     },
     "output_type": "display_data"
    }
   ],
   "source": [
    "plt.plot(hist.history['loss'])\n",
    "plt.plot(hist.history['val_loss'])\n",
    "plt.title('Epoch vs Loss for Confirmed Cases')\n",
    "plt.ylabel('Loss')\n",
    "plt.xlabel('Epoch')\n",
    "plt.legend(['Train', 'Validation'], loc='best')\n",
    "plt.show()"
   ]
  },
  {
   "cell_type": "markdown",
   "metadata": {},
   "source": [
    "### Model for Death Cases"
   ]
  },
  {
   "cell_type": "code",
   "execution_count": 18,
   "metadata": {},
   "outputs": [
    {
     "name": "stdout",
     "output_type": "stream",
     "text": [
      "Model: \"sequential_2\"\n",
      "_________________________________________________________________\n",
      "Layer (type)                 Output Shape              Param #   \n",
      "=================================================================\n",
      "lstm_3 (LSTM)                (None, 1, 50)             11600     \n",
      "_________________________________________________________________\n",
      "lstm_4 (LSTM)                (None, 60)                26640     \n",
      "_________________________________________________________________\n",
      "dense_2 (Dense)              (None, 1)                 61        \n",
      "=================================================================\n",
      "Total params: 38,301\n",
      "Trainable params: 38,301\n",
      "Non-trainable params: 0\n",
      "_________________________________________________________________\n"
     ]
    }
   ],
   "source": [
    "# Stadked LSTM Model\n",
    "model_d = Sequential()\n",
    "model_d.add(LSTM(50, activation ='relu', input_shape = (n_features, n_steps), return_sequences=True))\n",
    "model_d.add(LSTM(60, activation ='relu'))\n",
    "model_d.add(Dense(1))\n",
    "model_d.summary()"
   ]
  },
  {
   "cell_type": "code",
   "execution_count": 19,
   "metadata": {},
   "outputs": [
    {
     "name": "stdout",
     "output_type": "stream",
     "text": [
      "Train on 13280 samples, validate on 5692 samples\n",
      "Epoch 1/20\n",
      " - 3s - loss: 0.0888 - val_loss: 0.0153\n",
      "Epoch 2/20\n",
      " - 2s - loss: 0.0139 - val_loss: 0.0131\n",
      "Epoch 3/20\n",
      " - 2s - loss: 0.0131 - val_loss: 0.0128\n",
      "Epoch 4/20\n",
      " - 2s - loss: 0.0130 - val_loss: 0.0125\n",
      "Epoch 5/20\n",
      " - 2s - loss: 0.0129 - val_loss: 0.0125\n",
      "Epoch 6/20\n",
      " - 2s - loss: 0.0129 - val_loss: 0.0125\n",
      "Epoch 7/20\n",
      " - 2s - loss: 0.0129 - val_loss: 0.0127\n",
      "Epoch 8/20\n",
      " - 2s - loss: 0.0128 - val_loss: 0.0125\n",
      "Epoch 9/20\n",
      " - 2s - loss: 0.0128 - val_loss: 0.0125\n",
      "Epoch 10/20\n",
      " - 2s - loss: 0.0128 - val_loss: 0.0124\n",
      "Epoch 11/20\n",
      " - 2s - loss: 0.0128 - val_loss: 0.0124\n",
      "Epoch 12/20\n",
      " - 2s - loss: 0.0128 - val_loss: 0.0126\n",
      "Epoch 13/20\n",
      " - 2s - loss: 0.0128 - val_loss: 0.0124\n",
      "Epoch 14/20\n",
      " - 2s - loss: 0.0128 - val_loss: 0.0126\n",
      "Epoch 15/20\n",
      " - 2s - loss: 0.0128 - val_loss: 0.0126\n",
      "Epoch 16/20\n",
      " - 2s - loss: 0.0128 - val_loss: 0.0126\n",
      "Epoch 17/20\n",
      " - 2s - loss: 0.0128 - val_loss: 0.0124\n",
      "Epoch 18/20\n",
      " - 2s - loss: 0.0128 - val_loss: 0.0125\n",
      "Epoch 19/20\n",
      " - 2s - loss: 0.0128 - val_loss: 0.0126\n",
      "Epoch 20/20\n",
      " - 2s - loss: 0.0128 - val_loss: 0.0125\n"
     ]
    }
   ],
   "source": [
    "# Compiling the model\n",
    "model_d.compile(optimizer='adam', loss = MeanSquaredLogarithmicError())\n",
    "#callbacks = [ReduceLROnPlateau(monitor='val_loss', patience=5, verbose=1, factor=0.6),\n",
    "#             EarlyStopping(monitor='val_loss', patience=20),\n",
    "#             ModelCheckpoint(filepath='best_model.h5', monitor='val_loss', save_best_only=True)]\n",
    "# fit the model\n",
    "hist = model_d.fit(X_train_deaths, y_train_deaths, epochs=epochs, batch_size=batch_size, \n",
    "                   validation_data=(X_val_deaths, y_val_deaths), verbose=2, shuffle=True)\n"
   ]
  },
  {
   "cell_type": "code",
   "execution_count": 20,
   "metadata": {},
   "outputs": [
    {
     "data": {
      "image/png": "[encoded data removed]",
      "text/plain": [
       "<Figure size 432x288 with 1 Axes>"
      ]
     },
     "metadata": {
      "needs_background": "light"
     },
     "output_type": "display_data"
    }
   ],
   "source": [
    "plt.plot(hist.history['loss'])\n",
    "plt.plot(hist.history['val_loss'])\n",
    "plt.title('Epoch vs Loss for Deathh Cases')\n",
    "plt.ylabel('Loss')\n",
    "plt.xlabel('Epoch')\n",
    "plt.legend(['Train', 'Validation'], loc='best')\n",
    "plt.show()"
   ]
  },
  {
   "cell_type": "markdown",
   "metadata": {},
   "source": [
    "## Utilities for Prediction and Submission"
   ]
  },
  {
   "cell_type": "code",
   "execution_count": 21,
   "metadata": {},
   "outputs": [],
   "source": [
    "import math\n",
    "def predict(model, data):\n",
    "    y_pred = model.predict(data)\n",
    "    # cast to int - we can't have non-integer values \n",
    "    y_pred = [math.ceil(i) for i in y_pred]\n",
    "    return y_pred"
   ]
  },
  {
   "cell_type": "code",
   "execution_count": 23,
   "metadata": {},
   "outputs": [
    {
     "data": {
      "text/html": [
       "<div>\n",
       "<style scoped>\n",
       "    .dataframe tbody tr th:only-of-type {\n",
       "        vertical-align: middle;\n",
       "    }\n",
       "\n",
       "    .dataframe tbody tr th {\n",
       "        vertical-align: top;\n",
       "    }\n",
       "\n",
       "    .dataframe thead th {\n",
       "        text-align: right;\n",
       "    }\n",
       "</style>\n",
       "<table border=\"1\" class=\"dataframe\">\n",
       "  <thead>\n",
       "    <tr style=\"text-align: right;\">\n",
       "      <th></th>\n",
       "      <th>2020-04-05</th>\n",
       "      <th>2020-04-06</th>\n",
       "      <th>2020-04-07</th>\n",
       "      <th>2020-04-08</th>\n",
       "      <th>2020-04-09</th>\n",
       "      <th>2020-04-10</th>\n",
       "      <th>2020-04-11</th>\n",
       "      <th>2020-04-12</th>\n",
       "      <th>2020-04-13</th>\n",
       "      <th>2020-04-14</th>\n",
       "      <th>...</th>\n",
       "      <th>2020-04-26</th>\n",
       "      <th>2020-04-27</th>\n",
       "      <th>2020-04-28</th>\n",
       "      <th>2020-04-29</th>\n",
       "      <th>2020-04-30</th>\n",
       "      <th>2020-05-01</th>\n",
       "      <th>2020-05-02</th>\n",
       "      <th>2020-05-03</th>\n",
       "      <th>2020-05-04</th>\n",
       "      <th>Country/State</th>\n",
       "    </tr>\n",
       "  </thead>\n",
       "  <tbody>\n",
       "    <tr>\n",
       "      <th>209</th>\n",
       "      <td>785</td>\n",
       "      <td>943</td>\n",
       "      <td>1091</td>\n",
       "      <td>1260</td>\n",
       "      <td>1460</td>\n",
       "      <td>1686</td>\n",
       "      <td>1948</td>\n",
       "      <td>2254</td>\n",
       "      <td>2604</td>\n",
       "      <td>3009</td>\n",
       "      <td>...</td>\n",
       "      <td>16808</td>\n",
       "      <td>19381</td>\n",
       "      <td>22346</td>\n",
       "      <td>25762</td>\n",
       "      <td>29698</td>\n",
       "      <td>34233</td>\n",
       "      <td>39458</td>\n",
       "      <td>45477</td>\n",
       "      <td>52412</td>\n",
       "      <td>(Serbia, Serbia)</td>\n",
       "    </tr>\n",
       "  </tbody>\n",
       "</table>\n",
       "<p>1 rows × 31 columns</p>\n",
       "</div>"
      ],
      "text/plain": [
       "     2020-04-05  2020-04-06  2020-04-07  2020-04-08  2020-04-09  2020-04-10  \\\n",
       "209         785         943        1091        1260        1460        1686   \n",
       "\n",
       "     2020-04-11  2020-04-12  2020-04-13  2020-04-14  ...  2020-04-26  \\\n",
       "209        1948        2254        2604        3009  ...       16808   \n",
       "\n",
       "     2020-04-27  2020-04-28  2020-04-29  2020-04-30  2020-05-01  2020-05-02  \\\n",
       "209       19381       22346       25762       29698       34233       39458   \n",
       "\n",
       "     2020-05-03  2020-05-04     Country/State  \n",
       "209       45477       52412  (Serbia, Serbia)  \n",
       "\n",
       "[1 rows x 31 columns]"
      ]
     },
     "execution_count": 23,
     "metadata": {},
     "output_type": "execute_result"
    }
   ],
   "source": [
    "# Utility method for Forecasting\n",
    "import datetime\n",
    "# model - trained model on Confirmed/Deaths data\n",
    "# start_date - Starting date of forecasting\n",
    "# num_days - Number of days for which forcasting is required\n",
    "# data - the last 7 days of confirmed or death cases\n",
    "\n",
    "def forecast(model, data, start_date, num_days):\n",
    "    # we store result in a map\n",
    "    res_ = dict()\n",
    "    for i in range(len(data)):\n",
    "        # key is index of the data - i\n",
    "        res_[i] = []\n",
    "\n",
    "    y_pred = predict(model, data)\n",
    "    # list of dates to be predicted\n",
    "    dates = []\n",
    "    # cast string from function call to date \n",
    "    date1 = datetime.datetime.strptime(start_date, \"%Y-%m-%d\")\n",
    "    # creating a forecast for the next num_days days\n",
    "    for j in range(1, num_days + 1): # j = 1..num_days\n",
    "        for i in range(len(data)): \n",
    "            cur_window = list(data[i][0][1:n_steps+1])\n",
    "            #print(j, i, cur_window[-1])\n",
    "            res_[i].append(cur_window[-1])\n",
    "            # adding predicted value for 8th day\n",
    "            cur_window.append(y_pred[i])\n",
    "            \n",
    "            data[i][0] = cur_window\n",
    "        \n",
    "        # predict for the next day (j)\n",
    "        y_pred = predict(model,data)\n",
    "        # add date to a list\n",
    "        dates.append(date1.strftime(\"%Y-%m-%d\"))\n",
    "        # increment date\n",
    "        date1 += relativedelta(days = 1)\n",
    "       \n",
    "    # make a dataframe of predictions\n",
    "    res = pd.DataFrame(pd.DataFrame(pd.DataFrame(res_).values.T)) \n",
    "    res.columns = dates\n",
    "    #print(res.head())\n",
    "    res['Country/State'] = regs\n",
    "    return res\n",
    "    \n",
    "    \n",
    "# num_days = Num of days for which forecasting is required\n",
    "res_confirmed = forecast(model_c, X_test_c, '2020-04-5', num_days = 30)\n",
    "res_confirmed[res_confirmed['Country/State'] == ('Serbia', 'Serbia')]\n",
    "\n",
    "#res_deaths = forecast(model_d, X_test_d, '2020-03-31', num_days = 30)"
   ]
  },
  {
   "cell_type": "code",
   "execution_count": null,
   "metadata": {},
   "outputs": [],
   "source": []
  },
  {
   "cell_type": "code",
   "execution_count": null,
   "metadata": {},
   "outputs": [],
   "source": []
  }
 ],
 "metadata": {
  "kernelspec": {
   "display_name": "Python 3",
   "language": "python",
   "name": "python3"
  },
  "language_info": {
   "codemirror_mode": {
    "name": "ipython",
    "version": 3
   },
   "file_extension": ".py",
   "mimetype": "text/x-python",
   "name": "python",
   "nbconvert_exporter": "python",
   "pygments_lexer": "ipython3",
   "version": "3.6.9"
  }
 },
 "nbformat": 4,
 "nbformat_minor": 4
}
