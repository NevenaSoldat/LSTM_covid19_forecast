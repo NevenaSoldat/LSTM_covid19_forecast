{
 "cells": [
  {
   "cell_type": "code",
   "execution_count": 2,
   "metadata": {},
   "outputs": [
    {
     "name": "stdout",
     "output_type": "stream",
     "text": [
      "Computer characteristics: \n",
      "RAM: 7.653069 GB\n",
      "CORES: 4\n"
     ]
    }
   ],
   "source": [
    "import pandas as pd\n",
    "import numpy as np\n",
    "import matplotlib.pyplot as plt\n",
    "import plotly.graph_objects as go\n",
    "import math\n",
    "from keras.models import Sequential\n",
    "from keras.layers import Dense, LSTM\n",
    "from sklearn.preprocessing import MinMaxScaler\n",
    "from sklearn.metrics import mean_squared_error\n",
    "import os\n",
    "import multiprocessing\n",
    "\n",
    "\n",
    "# Computer characteristics\n",
    "mem_bytes = os.sysconf('SC_PAGE_SIZE') * os.sysconf('SC_PHYS_PAGES')\n",
    "mem_gib = mem_bytes / (1024.**3)\n",
    "print(\"Computer characteristics: \")\n",
    "print(\"RAM: %f GB\" % mem_gib)\n",
    "print(\"CORES: %d\" % multiprocessing.cpu_count())\n"
   ]
  },
  {
   "cell_type": "code",
   "execution_count": 3,
   "metadata": {},
   "outputs": [
    {
     "name": "stdout",
     "output_type": "stream",
     "text": [
      "Null values:\n",
      " Id                    0\n",
      "Province_State    12848\n",
      "Country_Region        0\n",
      "Date                  0\n",
      "ConfirmedCases        0\n",
      "Fatalities            0\n",
      "dtype: int64\n",
      "\n",
      "\n",
      "Number of different countries:  180\n",
      "\n",
      "\n",
      "Min date: 2020-01-22\n",
      "Max date: 2020-04-03\n"
     ]
    }
   ],
   "source": [
    "dataframe = pd.read_csv(\"train.csv\")\n",
    "test = pd.read_csv(\"test.csv\")\n",
    "\n",
    "# Check null values\n",
    "print(\"Null values:\\n\", dataframe.isnull().sum())\n",
    "print(\"\\n\")\n",
    "countries = dataframe['Country_Region'].unique()\n",
    "print(\"Number of different countries: \", len(countries))\n",
    "print(\"\\n\")\n",
    "min_date = dataframe.Date.min()\n",
    "max_date = dataframe.Date.max()\n",
    "print(\"Min date: {0}\\nMax date: {1}\".format(min_date, max_date))"
   ]
  },
  {
   "cell_type": "code",
   "execution_count": 4,
   "metadata": {},
   "outputs": [
    {
     "data": {
      "text/html": [
       "<div>\n",
       "<style scoped>\n",
       "    .dataframe tbody tr th:only-of-type {\n",
       "        vertical-align: middle;\n",
       "    }\n",
       "\n",
       "    .dataframe tbody tr th {\n",
       "        vertical-align: top;\n",
       "    }\n",
       "\n",
       "    .dataframe thead th {\n",
       "        text-align: right;\n",
       "    }\n",
       "</style>\n",
       "<table border=\"1\" class=\"dataframe\">\n",
       "  <thead>\n",
       "    <tr style=\"text-align: right;\">\n",
       "      <th></th>\n",
       "      <th>Id</th>\n",
       "      <th>Province_State</th>\n",
       "      <th>Country_Region</th>\n",
       "      <th>Date</th>\n",
       "      <th>ConfirmedCases</th>\n",
       "      <th>Fatalities</th>\n",
       "    </tr>\n",
       "  </thead>\n",
       "  <tbody>\n",
       "    <tr>\n",
       "      <th>0</th>\n",
       "      <td>1</td>\n",
       "      <td>Afghanistan</td>\n",
       "      <td>Afghanistan</td>\n",
       "      <td>2020-01-22</td>\n",
       "      <td>0.0</td>\n",
       "      <td>0.0</td>\n",
       "    </tr>\n",
       "    <tr>\n",
       "      <th>1</th>\n",
       "      <td>2</td>\n",
       "      <td>Afghanistan</td>\n",
       "      <td>Afghanistan</td>\n",
       "      <td>2020-01-23</td>\n",
       "      <td>0.0</td>\n",
       "      <td>0.0</td>\n",
       "    </tr>\n",
       "    <tr>\n",
       "      <th>2</th>\n",
       "      <td>3</td>\n",
       "      <td>Afghanistan</td>\n",
       "      <td>Afghanistan</td>\n",
       "      <td>2020-01-24</td>\n",
       "      <td>0.0</td>\n",
       "      <td>0.0</td>\n",
       "    </tr>\n",
       "    <tr>\n",
       "      <th>3</th>\n",
       "      <td>4</td>\n",
       "      <td>Afghanistan</td>\n",
       "      <td>Afghanistan</td>\n",
       "      <td>2020-01-25</td>\n",
       "      <td>0.0</td>\n",
       "      <td>0.0</td>\n",
       "    </tr>\n",
       "    <tr>\n",
       "      <th>4</th>\n",
       "      <td>5</td>\n",
       "      <td>Afghanistan</td>\n",
       "      <td>Afghanistan</td>\n",
       "      <td>2020-01-26</td>\n",
       "      <td>0.0</td>\n",
       "      <td>0.0</td>\n",
       "    </tr>\n",
       "  </tbody>\n",
       "</table>\n",
       "</div>"
      ],
      "text/plain": [
       "   Id Province_State Country_Region        Date  ConfirmedCases  Fatalities\n",
       "0   1    Afghanistan    Afghanistan  2020-01-22             0.0         0.0\n",
       "1   2    Afghanistan    Afghanistan  2020-01-23             0.0         0.0\n",
       "2   3    Afghanistan    Afghanistan  2020-01-24             0.0         0.0\n",
       "3   4    Afghanistan    Afghanistan  2020-01-25             0.0         0.0\n",
       "4   5    Afghanistan    Afghanistan  2020-01-26             0.0         0.0"
      ]
     },
     "execution_count": 4,
     "metadata": {},
     "output_type": "execute_result"
    }
   ],
   "source": [
    "# where Province_State is null we fill it with Country_Region\n",
    "def fillState(state, country):\n",
    "    if state == \"empty\":\n",
    "        return country\n",
    "    return state\n",
    "\n",
    "dataframe['Province_State'].fillna(\"empty\", inplace = True)\n",
    "dataframe['Province_State'] = dataframe.loc[:,['Province_State', 'Country_Region']].apply(lambda x: fillState(x['Province_State'], x['Country_Region']), axis = 1)\n",
    "\n",
    "test['Province_State'].fillna(\"empty\", inplace = True)\n",
    "test['Province_State'] = test.loc[:,['Province_State', 'Country_Region']].apply(lambda x: fillState(x['Province_State'], x['Country_Region']), axis = 1)\n",
    "\n",
    "dataframe.head()"
   ]
  },
  {
   "cell_type": "code",
   "execution_count": 5,
   "metadata": {},
   "outputs": [
    {
     "name": "stdout",
     "output_type": "stream",
     "text": [
      "Number of confirmed cases:  1095739.0\n",
      "Number of fatal cases:  58782.0\n"
     ]
    }
   ],
   "source": [
    "latest = dataframe['Date'].max()\n",
    "world_confirmed = sum(dataframe[dataframe['Date'] == latest].ConfirmedCases)\n",
    "print(\"Number of confirmed cases: \", world_confirmed)\n",
    "world_fatal = sum(dataframe[dataframe['Date'] == latest].Fatalities)\n",
    "print(\"Number of fatal cases: \", world_fatal)"
   ]
  },
  {
   "cell_type": "code",
   "execution_count": 6,
   "metadata": {},
   "outputs": [
    {
     "name": "stdout",
     "output_type": "stream",
     "text": [
      "First 10 countries by number of confirmed cases:\n",
      "\n",
      "                ConfirmedCases  Fatalities\n",
      "Country_Region                            \n",
      "US                    275426.0      7083.0\n",
      "Italy                 119827.0     14681.0\n",
      "Spain                 119199.0     11198.0\n",
      "Germany                91159.0      1275.0\n",
      "China                  82511.0      3326.0\n",
      "France                 65202.0      6520.0\n",
      "Iran                   53183.0      3294.0\n",
      "United Kingdom         38689.0      3611.0\n",
      "Turkey                 20921.0       425.0\n",
      "Switzerland            19606.0       591.0\n",
      "\n",
      "\n",
      "Confirmed cases in Serbia:  1476.0\n",
      "Fatal cases in Serbia:  39.0\n"
     ]
    }
   ],
   "source": [
    "latest_data = dataframe[dataframe['Date'] == latest]\n",
    "latest_data = latest_data.drop(['Province_State'], axis = 1)\n",
    "\n",
    "confirmed_per_country = latest_data.groupby(['Country_Region']).sum().sort_values(['ConfirmedCases'], ascending = False)\n",
    "confirmed_per_country = confirmed_per_country.drop(['Id'], axis = 1)\n",
    "print(\"First 10 countries by number of confirmed cases:\\n\")\n",
    "print(confirmed_per_country[:10])\n",
    "print(\"\\n\")\n",
    "Serbia = confirmed_per_country.loc[\"Serbia\"]\n",
    "print(\"Confirmed cases in Serbia: \", Serbia.ConfirmedCases)\n",
    "print(\"Fatal cases in Serbia: \", Serbia.Fatalities)"
   ]
  },
  {
   "cell_type": "code",
   "execution_count": 8,
   "metadata": {},
   "outputs": [
    {
     "data": {
      "application/vnd.plotly.v1+json": {
       "config": {
        "plotlyServerURL": "https://plot.ly"
       },
       "data": [
        {
         "name": "Confirmed cases",
         "type": "scatter",
         "x": [
          "2020-01-22",
          "2020-01-23",
          "2020-01-24",
          "2020-01-25",
          "2020-01-26",
          "2020-01-27",
          "2020-01-28",
          "2020-01-29",
          "2020-01-30",
          "2020-01-31",
          "2020-02-01",
          "2020-02-02",
          "2020-02-03",
          "2020-02-04",
          "2020-02-05",
          "2020-02-06",
          "2020-02-07",
          "2020-02-08",
          "2020-02-09",
          "2020-02-10",
          "2020-02-11",
          "2020-02-12",
          "2020-02-13",
          "2020-02-14",
          "2020-02-15",
          "2020-02-16",
          "2020-02-17",
          "2020-02-18",
          "2020-02-19",
          "2020-02-20",
          "2020-02-21",
          "2020-02-22",
          "2020-02-23",
          "2020-02-24",
          "2020-02-25",
          "2020-02-26",
          "2020-02-27",
          "2020-02-28",
          "2020-02-29",
          "2020-03-01",
          "2020-03-02",
          "2020-03-03",
          "2020-03-04",
          "2020-03-05",
          "2020-03-06",
          "2020-03-07",
          "2020-03-08",
          "2020-03-09",
          "2020-03-10",
          "2020-03-11",
          "2020-03-12",
          "2020-03-13",
          "2020-03-14",
          "2020-03-15",
          "2020-03-16",
          "2020-03-17",
          "2020-03-18",
          "2020-03-19",
          "2020-03-20",
          "2020-03-21",
          "2020-03-22",
          "2020-03-23",
          "2020-03-24",
          "2020-03-25",
          "2020-03-26",
          "2020-03-27",
          "2020-03-28",
          "2020-03-29",
          "2020-03-30",
          "2020-03-31",
          "2020-04-01",
          "2020-04-02",
          "2020-04-03"
         ],
         "y": [
          0,
          0,
          0,
          0,
          0,
          0,
          0,
          0,
          0,
          0,
          0,
          0,
          0,
          0,
          0,
          0,
          0,
          0,
          0,
          0,
          0,
          0,
          0,
          0,
          0,
          0,
          0,
          0,
          0,
          0,
          0,
          0,
          0,
          0,
          0,
          0,
          0,
          0,
          0,
          0,
          0,
          0,
          0,
          0,
          1,
          1,
          1,
          1,
          5,
          12,
          19,
          35,
          46,
          48,
          55,
          65,
          83,
          103,
          135,
          171,
          222,
          249,
          303,
          384,
          384,
          457,
          659,
          741,
          785,
          900,
          1060,
          1171,
          1476
         ]
        },
        {
         "name": "Fatal cases",
         "type": "scatter",
         "x": [
          "2020-01-22",
          "2020-01-23",
          "2020-01-24",
          "2020-01-25",
          "2020-01-26",
          "2020-01-27",
          "2020-01-28",
          "2020-01-29",
          "2020-01-30",
          "2020-01-31",
          "2020-02-01",
          "2020-02-02",
          "2020-02-03",
          "2020-02-04",
          "2020-02-05",
          "2020-02-06",
          "2020-02-07",
          "2020-02-08",
          "2020-02-09",
          "2020-02-10",
          "2020-02-11",
          "2020-02-12",
          "2020-02-13",
          "2020-02-14",
          "2020-02-15",
          "2020-02-16",
          "2020-02-17",
          "2020-02-18",
          "2020-02-19",
          "2020-02-20",
          "2020-02-21",
          "2020-02-22",
          "2020-02-23",
          "2020-02-24",
          "2020-02-25",
          "2020-02-26",
          "2020-02-27",
          "2020-02-28",
          "2020-02-29",
          "2020-03-01",
          "2020-03-02",
          "2020-03-03",
          "2020-03-04",
          "2020-03-05",
          "2020-03-06",
          "2020-03-07",
          "2020-03-08",
          "2020-03-09",
          "2020-03-10",
          "2020-03-11",
          "2020-03-12",
          "2020-03-13",
          "2020-03-14",
          "2020-03-15",
          "2020-03-16",
          "2020-03-17",
          "2020-03-18",
          "2020-03-19",
          "2020-03-20",
          "2020-03-21",
          "2020-03-22",
          "2020-03-23",
          "2020-03-24",
          "2020-03-25",
          "2020-03-26",
          "2020-03-27",
          "2020-03-28",
          "2020-03-29",
          "2020-03-30",
          "2020-03-31",
          "2020-04-01",
          "2020-04-02",
          "2020-04-03"
         ],
         "y": [
          0,
          0,
          0,
          0,
          0,
          0,
          0,
          0,
          0,
          0,
          0,
          0,
          0,
          0,
          0,
          0,
          0,
          0,
          0,
          0,
          0,
          0,
          0,
          0,
          0,
          0,
          0,
          0,
          0,
          0,
          0,
          0,
          0,
          0,
          0,
          0,
          0,
          0,
          0,
          0,
          0,
          0,
          0,
          0,
          0,
          0,
          0,
          0,
          0,
          0,
          0,
          0,
          0,
          0,
          0,
          0,
          0,
          0,
          1,
          1,
          2,
          3,
          3,
          4,
          1,
          1,
          10,
          13,
          16,
          16,
          28,
          31,
          39
         ]
        }
       ],
       "layout": {
        "template": {
         "data": {
          "bar": [
           {
            "error_x": {
             "color": "#2a3f5f"
            },
            "error_y": {
             "color": "#2a3f5f"
            },
            "marker": {
             "line": {
              "color": "#E5ECF6",
              "width": 0.5
             }
            },
            "type": "bar"
           }
          ],
          "barpolar": [
           {
            "marker": {
             "line": {
              "color": "#E5ECF6",
              "width": 0.5
             }
            },
            "type": "barpolar"
           }
          ],
          "carpet": [
           {
            "aaxis": {
             "endlinecolor": "#2a3f5f",
             "gridcolor": "white",
             "linecolor": "white",
             "minorgridcolor": "white",
             "startlinecolor": "#2a3f5f"
            },
            "baxis": {
             "endlinecolor": "#2a3f5f",
             "gridcolor": "white",
             "linecolor": "white",
             "minorgridcolor": "white",
             "startlinecolor": "#2a3f5f"
            },
            "type": "carpet"
           }
          ],
          "choropleth": [
           {
            "colorbar": {
             "outlinewidth": 0,
             "ticks": ""
            },
            "type": "choropleth"
           }
          ],
          "contour": [
           {
            "colorbar": {
             "outlinewidth": 0,
             "ticks": ""
            },
            "colorscale": [
             [
              0,
              "#0d0887"
             ],
             [
              0.1111111111111111,
              "#46039f"
             ],
             [
              0.2222222222222222,
              "#7201a8"
             ],
             [
              0.3333333333333333,
              "#9c179e"
             ],
             [
              0.4444444444444444,
              "#bd3786"
             ],
             [
              0.5555555555555556,
              "#d8576b"
             ],
             [
              0.6666666666666666,
              "#ed7953"
             ],
             [
              0.7777777777777778,
              "#fb9f3a"
             ],
             [
              0.8888888888888888,
              "#fdca26"
             ],
             [
              1,
              "#f0f921"
             ]
            ],
            "type": "contour"
           }
          ],
          "contourcarpet": [
           {
            "colorbar": {
             "outlinewidth": 0,
             "ticks": ""
            },
            "type": "contourcarpet"
           }
          ],
          "heatmap": [
           {
            "colorbar": {
             "outlinewidth": 0,
             "ticks": ""
            },
            "colorscale": [
             [
              0,
              "#0d0887"
             ],
             [
              0.1111111111111111,
              "#46039f"
             ],
             [
              0.2222222222222222,
              "#7201a8"
             ],
             [
              0.3333333333333333,
              "#9c179e"
             ],
             [
              0.4444444444444444,
              "#bd3786"
             ],
             [
              0.5555555555555556,
              "#d8576b"
             ],
             [
              0.6666666666666666,
              "#ed7953"
             ],
             [
              0.7777777777777778,
              "#fb9f3a"
             ],
             [
              0.8888888888888888,
              "#fdca26"
             ],
             [
              1,
              "#f0f921"
             ]
            ],
            "type": "heatmap"
           }
          ],
          "heatmapgl": [
           {
            "colorbar": {
             "outlinewidth": 0,
             "ticks": ""
            },
            "colorscale": [
             [
              0,
              "#0d0887"
             ],
             [
              0.1111111111111111,
              "#46039f"
             ],
             [
              0.2222222222222222,
              "#7201a8"
             ],
             [
              0.3333333333333333,
              "#9c179e"
             ],
             [
              0.4444444444444444,
              "#bd3786"
             ],
             [
              0.5555555555555556,
              "#d8576b"
             ],
             [
              0.6666666666666666,
              "#ed7953"
             ],
             [
              0.7777777777777778,
              "#fb9f3a"
             ],
             [
              0.8888888888888888,
              "#fdca26"
             ],
             [
              1,
              "#f0f921"
             ]
            ],
            "type": "heatmapgl"
           }
          ],
          "histogram": [
           {
            "marker": {
             "colorbar": {
              "outlinewidth": 0,
              "ticks": ""
             }
            },
            "type": "histogram"
           }
          ],
          "histogram2d": [
           {
            "colorbar": {
             "outlinewidth": 0,
             "ticks": ""
            },
            "colorscale": [
             [
              0,
              "#0d0887"
             ],
             [
              0.1111111111111111,
              "#46039f"
             ],
             [
              0.2222222222222222,
              "#7201a8"
             ],
             [
              0.3333333333333333,
              "#9c179e"
             ],
             [
              0.4444444444444444,
              "#bd3786"
             ],
             [
              0.5555555555555556,
              "#d8576b"
             ],
             [
              0.6666666666666666,
              "#ed7953"
             ],
             [
              0.7777777777777778,
              "#fb9f3a"
             ],
             [
              0.8888888888888888,
              "#fdca26"
             ],
             [
              1,
              "#f0f921"
             ]
            ],
            "type": "histogram2d"
           }
          ],
          "histogram2dcontour": [
           {
            "colorbar": {
             "outlinewidth": 0,
             "ticks": ""
            },
            "colorscale": [
             [
              0,
              "#0d0887"
             ],
             [
              0.1111111111111111,
              "#46039f"
             ],
             [
              0.2222222222222222,
              "#7201a8"
             ],
             [
              0.3333333333333333,
              "#9c179e"
             ],
             [
              0.4444444444444444,
              "#bd3786"
             ],
             [
              0.5555555555555556,
              "#d8576b"
             ],
             [
              0.6666666666666666,
              "#ed7953"
             ],
             [
              0.7777777777777778,
              "#fb9f3a"
             ],
             [
              0.8888888888888888,
              "#fdca26"
             ],
             [
              1,
              "#f0f921"
             ]
            ],
            "type": "histogram2dcontour"
           }
          ],
          "mesh3d": [
           {
            "colorbar": {
             "outlinewidth": 0,
             "ticks": ""
            },
            "type": "mesh3d"
           }
          ],
          "parcoords": [
           {
            "line": {
             "colorbar": {
              "outlinewidth": 0,
              "ticks": ""
             }
            },
            "type": "parcoords"
           }
          ],
          "pie": [
           {
            "automargin": true,
            "type": "pie"
           }
          ],
          "scatter": [
           {
            "marker": {
             "colorbar": {
              "outlinewidth": 0,
              "ticks": ""
             }
            },
            "type": "scatter"
           }
          ],
          "scatter3d": [
           {
            "line": {
             "colorbar": {
              "outlinewidth": 0,
              "ticks": ""
             }
            },
            "marker": {
             "colorbar": {
              "outlinewidth": 0,
              "ticks": ""
             }
            },
            "type": "scatter3d"
           }
          ],
          "scattercarpet": [
           {
            "marker": {
             "colorbar": {
              "outlinewidth": 0,
              "ticks": ""
             }
            },
            "type": "scattercarpet"
           }
          ],
          "scattergeo": [
           {
            "marker": {
             "colorbar": {
              "outlinewidth": 0,
              "ticks": ""
             }
            },
            "type": "scattergeo"
           }
          ],
          "scattergl": [
           {
            "marker": {
             "colorbar": {
              "outlinewidth": 0,
              "ticks": ""
             }
            },
            "type": "scattergl"
           }
          ],
          "scattermapbox": [
           {
            "marker": {
             "colorbar": {
              "outlinewidth": 0,
              "ticks": ""
             }
            },
            "type": "scattermapbox"
           }
          ],
          "scatterpolar": [
           {
            "marker": {
             "colorbar": {
              "outlinewidth": 0,
              "ticks": ""
             }
            },
            "type": "scatterpolar"
           }
          ],
          "scatterpolargl": [
           {
            "marker": {
             "colorbar": {
              "outlinewidth": 0,
              "ticks": ""
             }
            },
            "type": "scatterpolargl"
           }
          ],
          "scatterternary": [
           {
            "marker": {
             "colorbar": {
              "outlinewidth": 0,
              "ticks": ""
             }
            },
            "type": "scatterternary"
           }
          ],
          "surface": [
           {
            "colorbar": {
             "outlinewidth": 0,
             "ticks": ""
            },
            "colorscale": [
             [
              0,
              "#0d0887"
             ],
             [
              0.1111111111111111,
              "#46039f"
             ],
             [
              0.2222222222222222,
              "#7201a8"
             ],
             [
              0.3333333333333333,
              "#9c179e"
             ],
             [
              0.4444444444444444,
              "#bd3786"
             ],
             [
              0.5555555555555556,
              "#d8576b"
             ],
             [
              0.6666666666666666,
              "#ed7953"
             ],
             [
              0.7777777777777778,
              "#fb9f3a"
             ],
             [
              0.8888888888888888,
              "#fdca26"
             ],
             [
              1,
              "#f0f921"
             ]
            ],
            "type": "surface"
           }
          ],
          "table": [
           {
            "cells": {
             "fill": {
              "color": "#EBF0F8"
             },
             "line": {
              "color": "white"
             }
            },
            "header": {
             "fill": {
              "color": "#C8D4E3"
             },
             "line": {
              "color": "white"
             }
            },
            "type": "table"
           }
          ]
         },
         "layout": {
          "annotationdefaults": {
           "arrowcolor": "#2a3f5f",
           "arrowhead": 0,
           "arrowwidth": 1
          },
          "coloraxis": {
           "colorbar": {
            "outlinewidth": 0,
            "ticks": ""
           }
          },
          "colorscale": {
           "diverging": [
            [
             0,
             "#8e0152"
            ],
            [
             0.1,
             "#c51b7d"
            ],
            [
             0.2,
             "#de77ae"
            ],
            [
             0.3,
             "#f1b6da"
            ],
            [
             0.4,
             "#fde0ef"
            ],
            [
             0.5,
             "#f7f7f7"
            ],
            [
             0.6,
             "#e6f5d0"
            ],
            [
             0.7,
             "#b8e186"
            ],
            [
             0.8,
             "#7fbc41"
            ],
            [
             0.9,
             "#4d9221"
            ],
            [
             1,
             "#276419"
            ]
           ],
           "sequential": [
            [
             0,
             "#0d0887"
            ],
            [
             0.1111111111111111,
             "#46039f"
            ],
            [
             0.2222222222222222,
             "#7201a8"
            ],
            [
             0.3333333333333333,
             "#9c179e"
            ],
            [
             0.4444444444444444,
             "#bd3786"
            ],
            [
             0.5555555555555556,
             "#d8576b"
            ],
            [
             0.6666666666666666,
             "#ed7953"
            ],
            [
             0.7777777777777778,
             "#fb9f3a"
            ],
            [
             0.8888888888888888,
             "#fdca26"
            ],
            [
             1,
             "#f0f921"
            ]
           ],
           "sequentialminus": [
            [
             0,
             "#0d0887"
            ],
            [
             0.1111111111111111,
             "#46039f"
            ],
            [
             0.2222222222222222,
             "#7201a8"
            ],
            [
             0.3333333333333333,
             "#9c179e"
            ],
            [
             0.4444444444444444,
             "#bd3786"
            ],
            [
             0.5555555555555556,
             "#d8576b"
            ],
            [
             0.6666666666666666,
             "#ed7953"
            ],
            [
             0.7777777777777778,
             "#fb9f3a"
            ],
            [
             0.8888888888888888,
             "#fdca26"
            ],
            [
             1,
             "#f0f921"
            ]
           ]
          },
          "colorway": [
           "#636efa",
           "#EF553B",
           "#00cc96",
           "#ab63fa",
           "#FFA15A",
           "#19d3f3",
           "#FF6692",
           "#B6E880",
           "#FF97FF",
           "#FECB52"
          ],
          "font": {
           "color": "#2a3f5f"
          },
          "geo": {
           "bgcolor": "white",
           "lakecolor": "white",
           "landcolor": "#E5ECF6",
           "showlakes": true,
           "showland": true,
           "subunitcolor": "white"
          },
          "hoverlabel": {
           "align": "left"
          },
          "hovermode": "closest",
          "mapbox": {
           "style": "light"
          },
          "paper_bgcolor": "white",
          "plot_bgcolor": "#E5ECF6",
          "polar": {
           "angularaxis": {
            "gridcolor": "white",
            "linecolor": "white",
            "ticks": ""
           },
           "bgcolor": "#E5ECF6",
           "radialaxis": {
            "gridcolor": "white",
            "linecolor": "white",
            "ticks": ""
           }
          },
          "scene": {
           "xaxis": {
            "backgroundcolor": "#E5ECF6",
            "gridcolor": "white",
            "gridwidth": 2,
            "linecolor": "white",
            "showbackground": true,
            "ticks": "",
            "zerolinecolor": "white"
           },
           "yaxis": {
            "backgroundcolor": "#E5ECF6",
            "gridcolor": "white",
            "gridwidth": 2,
            "linecolor": "white",
            "showbackground": true,
            "ticks": "",
            "zerolinecolor": "white"
           },
           "zaxis": {
            "backgroundcolor": "#E5ECF6",
            "gridcolor": "white",
            "gridwidth": 2,
            "linecolor": "white",
            "showbackground": true,
            "ticks": "",
            "zerolinecolor": "white"
           }
          },
          "shapedefaults": {
           "line": {
            "color": "#2a3f5f"
           }
          },
          "ternary": {
           "aaxis": {
            "gridcolor": "white",
            "linecolor": "white",
            "ticks": ""
           },
           "baxis": {
            "gridcolor": "white",
            "linecolor": "white",
            "ticks": ""
           },
           "bgcolor": "#E5ECF6",
           "caxis": {
            "gridcolor": "white",
            "linecolor": "white",
            "ticks": ""
           }
          },
          "title": {
           "x": 0.05
          },
          "xaxis": {
           "automargin": true,
           "gridcolor": "white",
           "linecolor": "white",
           "ticks": "",
           "title": {
            "standoff": 15
           },
           "zerolinecolor": "white",
           "zerolinewidth": 2
          },
          "yaxis": {
           "automargin": true,
           "gridcolor": "white",
           "linecolor": "white",
           "ticks": "",
           "title": {
            "standoff": 15
           },
           "zerolinecolor": "white",
           "zerolinewidth": 2
          }
         }
        },
        "title": {
         "text": "COVID-19 cases in Serbia"
        },
        "xaxis": {
         "title": {
          "text": "Date"
         }
        },
        "yaxis": {
         "title": {
          "text": "Cases"
         }
        }
       }
      },
      "text/html": [
       "<div>\n",
       "        \n",
       "        \n",
       "            <div id=\"2f1528bf-a57b-481f-8f0b-c22f0a09ee33\" class=\"plotly-graph-div\" style=\"height:525px; width:100%;\"></div>\n",
       "            <script type=\"text/javascript\">\n",
       "                require([\"plotly\"], function(Plotly) {\n",
       "                    window.PLOTLYENV=window.PLOTLYENV || {};\n",
       "                    \n",
       "                if (document.getElementById(\"2f1528bf-a57b-481f-8f0b-c22f0a09ee33\")) {\n",
       "                    Plotly.newPlot(\n",
       "                        '2f1528bf-a57b-481f-8f0b-c22f0a09ee33',\n",
       "                        [{\"name\": \"Confirmed cases\", \"type\": \"scatter\", \"x\": [\"2020-01-22\", \"2020-01-23\", \"2020-01-24\", \"2020-01-25\", \"2020-01-26\", \"2020-01-27\", \"2020-01-28\", \"2020-01-29\", \"2020-01-30\", \"2020-01-31\", \"2020-02-01\", \"2020-02-02\", \"2020-02-03\", \"2020-02-04\", \"2020-02-05\", \"2020-02-06\", \"2020-02-07\", \"2020-02-08\", \"2020-02-09\", \"2020-02-10\", \"2020-02-11\", \"2020-02-12\", \"2020-02-13\", \"2020-02-14\", \"2020-02-15\", \"2020-02-16\", \"2020-02-17\", \"2020-02-18\", \"2020-02-19\", \"2020-02-20\", \"2020-02-21\", \"2020-02-22\", \"2020-02-23\", \"2020-02-24\", \"2020-02-25\", \"2020-02-26\", \"2020-02-27\", \"2020-02-28\", \"2020-02-29\", \"2020-03-01\", \"2020-03-02\", \"2020-03-03\", \"2020-03-04\", \"2020-03-05\", \"2020-03-06\", \"2020-03-07\", \"2020-03-08\", \"2020-03-09\", \"2020-03-10\", \"2020-03-11\", \"2020-03-12\", \"2020-03-13\", \"2020-03-14\", \"2020-03-15\", \"2020-03-16\", \"2020-03-17\", \"2020-03-18\", \"2020-03-19\", \"2020-03-20\", \"2020-03-21\", \"2020-03-22\", \"2020-03-23\", \"2020-03-24\", \"2020-03-25\", \"2020-03-26\", \"2020-03-27\", \"2020-03-28\", \"2020-03-29\", \"2020-03-30\", \"2020-03-31\", \"2020-04-01\", \"2020-04-02\", \"2020-04-03\"], \"y\": [0.0, 0.0, 0.0, 0.0, 0.0, 0.0, 0.0, 0.0, 0.0, 0.0, 0.0, 0.0, 0.0, 0.0, 0.0, 0.0, 0.0, 0.0, 0.0, 0.0, 0.0, 0.0, 0.0, 0.0, 0.0, 0.0, 0.0, 0.0, 0.0, 0.0, 0.0, 0.0, 0.0, 0.0, 0.0, 0.0, 0.0, 0.0, 0.0, 0.0, 0.0, 0.0, 0.0, 0.0, 1.0, 1.0, 1.0, 1.0, 5.0, 12.0, 19.0, 35.0, 46.0, 48.0, 55.0, 65.0, 83.0, 103.0, 135.0, 171.0, 222.0, 249.0, 303.0, 384.0, 384.0, 457.0, 659.0, 741.0, 785.0, 900.0, 1060.0, 1171.0, 1476.0]}, {\"name\": \"Fatal cases\", \"type\": \"scatter\", \"x\": [\"2020-01-22\", \"2020-01-23\", \"2020-01-24\", \"2020-01-25\", \"2020-01-26\", \"2020-01-27\", \"2020-01-28\", \"2020-01-29\", \"2020-01-30\", \"2020-01-31\", \"2020-02-01\", \"2020-02-02\", \"2020-02-03\", \"2020-02-04\", \"2020-02-05\", \"2020-02-06\", \"2020-02-07\", \"2020-02-08\", \"2020-02-09\", \"2020-02-10\", \"2020-02-11\", \"2020-02-12\", \"2020-02-13\", \"2020-02-14\", \"2020-02-15\", \"2020-02-16\", \"2020-02-17\", \"2020-02-18\", \"2020-02-19\", \"2020-02-20\", \"2020-02-21\", \"2020-02-22\", \"2020-02-23\", \"2020-02-24\", \"2020-02-25\", \"2020-02-26\", \"2020-02-27\", \"2020-02-28\", \"2020-02-29\", \"2020-03-01\", \"2020-03-02\", \"2020-03-03\", \"2020-03-04\", \"2020-03-05\", \"2020-03-06\", \"2020-03-07\", \"2020-03-08\", \"2020-03-09\", \"2020-03-10\", \"2020-03-11\", \"2020-03-12\", \"2020-03-13\", \"2020-03-14\", \"2020-03-15\", \"2020-03-16\", \"2020-03-17\", \"2020-03-18\", \"2020-03-19\", \"2020-03-20\", \"2020-03-21\", \"2020-03-22\", \"2020-03-23\", \"2020-03-24\", \"2020-03-25\", \"2020-03-26\", \"2020-03-27\", \"2020-03-28\", \"2020-03-29\", \"2020-03-30\", \"2020-03-31\", \"2020-04-01\", \"2020-04-02\", \"2020-04-03\"], \"y\": [0.0, 0.0, 0.0, 0.0, 0.0, 0.0, 0.0, 0.0, 0.0, 0.0, 0.0, 0.0, 0.0, 0.0, 0.0, 0.0, 0.0, 0.0, 0.0, 0.0, 0.0, 0.0, 0.0, 0.0, 0.0, 0.0, 0.0, 0.0, 0.0, 0.0, 0.0, 0.0, 0.0, 0.0, 0.0, 0.0, 0.0, 0.0, 0.0, 0.0, 0.0, 0.0, 0.0, 0.0, 0.0, 0.0, 0.0, 0.0, 0.0, 0.0, 0.0, 0.0, 0.0, 0.0, 0.0, 0.0, 0.0, 0.0, 1.0, 1.0, 2.0, 3.0, 3.0, 4.0, 1.0, 1.0, 10.0, 13.0, 16.0, 16.0, 28.0, 31.0, 39.0]}],\n",
       "                        {\"template\": {\"data\": {\"bar\": [{\"error_x\": {\"color\": \"#2a3f5f\"}, \"error_y\": {\"color\": \"#2a3f5f\"}, \"marker\": {\"line\": {\"color\": \"#E5ECF6\", \"width\": 0.5}}, \"type\": \"bar\"}], \"barpolar\": [{\"marker\": {\"line\": {\"color\": \"#E5ECF6\", \"width\": 0.5}}, \"type\": \"barpolar\"}], \"carpet\": [{\"aaxis\": {\"endlinecolor\": \"#2a3f5f\", \"gridcolor\": \"white\", \"linecolor\": \"white\", \"minorgridcolor\": \"white\", \"startlinecolor\": \"#2a3f5f\"}, \"baxis\": {\"endlinecolor\": \"#2a3f5f\", \"gridcolor\": \"white\", \"linecolor\": \"white\", \"minorgridcolor\": \"white\", \"startlinecolor\": \"#2a3f5f\"}, \"type\": \"carpet\"}], \"choropleth\": [{\"colorbar\": {\"outlinewidth\": 0, \"ticks\": \"\"}, \"type\": \"choropleth\"}], \"contour\": [{\"colorbar\": {\"outlinewidth\": 0, \"ticks\": \"\"}, \"colorscale\": [[0.0, \"#0d0887\"], [0.1111111111111111, \"#46039f\"], [0.2222222222222222, \"#7201a8\"], [0.3333333333333333, \"#9c179e\"], [0.4444444444444444, \"#bd3786\"], [0.5555555555555556, \"#d8576b\"], [0.6666666666666666, \"#ed7953\"], [0.7777777777777778, \"#fb9f3a\"], [0.8888888888888888, \"#fdca26\"], [1.0, \"#f0f921\"]], \"type\": \"contour\"}], \"contourcarpet\": [{\"colorbar\": {\"outlinewidth\": 0, \"ticks\": \"\"}, \"type\": \"contourcarpet\"}], \"heatmap\": [{\"colorbar\": {\"outlinewidth\": 0, \"ticks\": \"\"}, \"colorscale\": [[0.0, \"#0d0887\"], [0.1111111111111111, \"#46039f\"], [0.2222222222222222, \"#7201a8\"], [0.3333333333333333, \"#9c179e\"], [0.4444444444444444, \"#bd3786\"], [0.5555555555555556, \"#d8576b\"], [0.6666666666666666, \"#ed7953\"], [0.7777777777777778, \"#fb9f3a\"], [0.8888888888888888, \"#fdca26\"], [1.0, \"#f0f921\"]], \"type\": \"heatmap\"}], \"heatmapgl\": [{\"colorbar\": {\"outlinewidth\": 0, \"ticks\": \"\"}, \"colorscale\": [[0.0, \"#0d0887\"], [0.1111111111111111, \"#46039f\"], [0.2222222222222222, \"#7201a8\"], [0.3333333333333333, \"#9c179e\"], [0.4444444444444444, \"#bd3786\"], [0.5555555555555556, \"#d8576b\"], [0.6666666666666666, \"#ed7953\"], [0.7777777777777778, \"#fb9f3a\"], [0.8888888888888888, \"#fdca26\"], [1.0, \"#f0f921\"]], \"type\": \"heatmapgl\"}], \"histogram\": [{\"marker\": {\"colorbar\": {\"outlinewidth\": 0, \"ticks\": \"\"}}, \"type\": \"histogram\"}], \"histogram2d\": [{\"colorbar\": {\"outlinewidth\": 0, \"ticks\": \"\"}, \"colorscale\": [[0.0, \"#0d0887\"], [0.1111111111111111, \"#46039f\"], [0.2222222222222222, \"#7201a8\"], [0.3333333333333333, \"#9c179e\"], [0.4444444444444444, \"#bd3786\"], [0.5555555555555556, \"#d8576b\"], [0.6666666666666666, \"#ed7953\"], [0.7777777777777778, \"#fb9f3a\"], [0.8888888888888888, \"#fdca26\"], [1.0, \"#f0f921\"]], \"type\": \"histogram2d\"}], \"histogram2dcontour\": [{\"colorbar\": {\"outlinewidth\": 0, \"ticks\": \"\"}, \"colorscale\": [[0.0, \"#0d0887\"], [0.1111111111111111, \"#46039f\"], [0.2222222222222222, \"#7201a8\"], [0.3333333333333333, \"#9c179e\"], [0.4444444444444444, \"#bd3786\"], [0.5555555555555556, \"#d8576b\"], [0.6666666666666666, \"#ed7953\"], [0.7777777777777778, \"#fb9f3a\"], [0.8888888888888888, \"#fdca26\"], [1.0, \"#f0f921\"]], \"type\": \"histogram2dcontour\"}], \"mesh3d\": [{\"colorbar\": {\"outlinewidth\": 0, \"ticks\": \"\"}, \"type\": \"mesh3d\"}], \"parcoords\": [{\"line\": {\"colorbar\": {\"outlinewidth\": 0, \"ticks\": \"\"}}, \"type\": \"parcoords\"}], \"pie\": [{\"automargin\": true, \"type\": \"pie\"}], \"scatter\": [{\"marker\": {\"colorbar\": {\"outlinewidth\": 0, \"ticks\": \"\"}}, \"type\": \"scatter\"}], \"scatter3d\": [{\"line\": {\"colorbar\": {\"outlinewidth\": 0, \"ticks\": \"\"}}, \"marker\": {\"colorbar\": {\"outlinewidth\": 0, \"ticks\": \"\"}}, \"type\": \"scatter3d\"}], \"scattercarpet\": [{\"marker\": {\"colorbar\": {\"outlinewidth\": 0, \"ticks\": \"\"}}, \"type\": \"scattercarpet\"}], \"scattergeo\": [{\"marker\": {\"colorbar\": {\"outlinewidth\": 0, \"ticks\": \"\"}}, \"type\": \"scattergeo\"}], \"scattergl\": [{\"marker\": {\"colorbar\": {\"outlinewidth\": 0, \"ticks\": \"\"}}, \"type\": \"scattergl\"}], \"scattermapbox\": [{\"marker\": {\"colorbar\": {\"outlinewidth\": 0, \"ticks\": \"\"}}, \"type\": \"scattermapbox\"}], \"scatterpolar\": [{\"marker\": {\"colorbar\": {\"outlinewidth\": 0, \"ticks\": \"\"}}, \"type\": \"scatterpolar\"}], \"scatterpolargl\": [{\"marker\": {\"colorbar\": {\"outlinewidth\": 0, \"ticks\": \"\"}}, \"type\": \"scatterpolargl\"}], \"scatterternary\": [{\"marker\": {\"colorbar\": {\"outlinewidth\": 0, \"ticks\": \"\"}}, \"type\": \"scatterternary\"}], \"surface\": [{\"colorbar\": {\"outlinewidth\": 0, \"ticks\": \"\"}, \"colorscale\": [[0.0, \"#0d0887\"], [0.1111111111111111, \"#46039f\"], [0.2222222222222222, \"#7201a8\"], [0.3333333333333333, \"#9c179e\"], [0.4444444444444444, \"#bd3786\"], [0.5555555555555556, \"#d8576b\"], [0.6666666666666666, \"#ed7953\"], [0.7777777777777778, \"#fb9f3a\"], [0.8888888888888888, \"#fdca26\"], [1.0, \"#f0f921\"]], \"type\": \"surface\"}], \"table\": [{\"cells\": {\"fill\": {\"color\": \"#EBF0F8\"}, \"line\": {\"color\": \"white\"}}, \"header\": {\"fill\": {\"color\": \"#C8D4E3\"}, \"line\": {\"color\": \"white\"}}, \"type\": \"table\"}]}, \"layout\": {\"annotationdefaults\": {\"arrowcolor\": \"#2a3f5f\", \"arrowhead\": 0, \"arrowwidth\": 1}, \"coloraxis\": {\"colorbar\": {\"outlinewidth\": 0, \"ticks\": \"\"}}, \"colorscale\": {\"diverging\": [[0, \"#8e0152\"], [0.1, \"#c51b7d\"], [0.2, \"#de77ae\"], [0.3, \"#f1b6da\"], [0.4, \"#fde0ef\"], [0.5, \"#f7f7f7\"], [0.6, \"#e6f5d0\"], [0.7, \"#b8e186\"], [0.8, \"#7fbc41\"], [0.9, \"#4d9221\"], [1, \"#276419\"]], \"sequential\": [[0.0, \"#0d0887\"], [0.1111111111111111, \"#46039f\"], [0.2222222222222222, \"#7201a8\"], [0.3333333333333333, \"#9c179e\"], [0.4444444444444444, \"#bd3786\"], [0.5555555555555556, \"#d8576b\"], [0.6666666666666666, \"#ed7953\"], [0.7777777777777778, \"#fb9f3a\"], [0.8888888888888888, \"#fdca26\"], [1.0, \"#f0f921\"]], \"sequentialminus\": [[0.0, \"#0d0887\"], [0.1111111111111111, \"#46039f\"], [0.2222222222222222, \"#7201a8\"], [0.3333333333333333, \"#9c179e\"], [0.4444444444444444, \"#bd3786\"], [0.5555555555555556, \"#d8576b\"], [0.6666666666666666, \"#ed7953\"], [0.7777777777777778, \"#fb9f3a\"], [0.8888888888888888, \"#fdca26\"], [1.0, \"#f0f921\"]]}, \"colorway\": [\"#636efa\", \"#EF553B\", \"#00cc96\", \"#ab63fa\", \"#FFA15A\", \"#19d3f3\", \"#FF6692\", \"#B6E880\", \"#FF97FF\", \"#FECB52\"], \"font\": {\"color\": \"#2a3f5f\"}, \"geo\": {\"bgcolor\": \"white\", \"lakecolor\": \"white\", \"landcolor\": \"#E5ECF6\", \"showlakes\": true, \"showland\": true, \"subunitcolor\": \"white\"}, \"hoverlabel\": {\"align\": \"left\"}, \"hovermode\": \"closest\", \"mapbox\": {\"style\": \"light\"}, \"paper_bgcolor\": \"white\", \"plot_bgcolor\": \"#E5ECF6\", \"polar\": {\"angularaxis\": {\"gridcolor\": \"white\", \"linecolor\": \"white\", \"ticks\": \"\"}, \"bgcolor\": \"#E5ECF6\", \"radialaxis\": {\"gridcolor\": \"white\", \"linecolor\": \"white\", \"ticks\": \"\"}}, \"scene\": {\"xaxis\": {\"backgroundcolor\": \"#E5ECF6\", \"gridcolor\": \"white\", \"gridwidth\": 2, \"linecolor\": \"white\", \"showbackground\": true, \"ticks\": \"\", \"zerolinecolor\": \"white\"}, \"yaxis\": {\"backgroundcolor\": \"#E5ECF6\", \"gridcolor\": \"white\", \"gridwidth\": 2, \"linecolor\": \"white\", \"showbackground\": true, \"ticks\": \"\", \"zerolinecolor\": \"white\"}, \"zaxis\": {\"backgroundcolor\": \"#E5ECF6\", \"gridcolor\": \"white\", \"gridwidth\": 2, \"linecolor\": \"white\", \"showbackground\": true, \"ticks\": \"\", \"zerolinecolor\": \"white\"}}, \"shapedefaults\": {\"line\": {\"color\": \"#2a3f5f\"}}, \"ternary\": {\"aaxis\": {\"gridcolor\": \"white\", \"linecolor\": \"white\", \"ticks\": \"\"}, \"baxis\": {\"gridcolor\": \"white\", \"linecolor\": \"white\", \"ticks\": \"\"}, \"bgcolor\": \"#E5ECF6\", \"caxis\": {\"gridcolor\": \"white\", \"linecolor\": \"white\", \"ticks\": \"\"}}, \"title\": {\"x\": 0.05}, \"xaxis\": {\"automargin\": true, \"gridcolor\": \"white\", \"linecolor\": \"white\", \"ticks\": \"\", \"title\": {\"standoff\": 15}, \"zerolinecolor\": \"white\", \"zerolinewidth\": 2}, \"yaxis\": {\"automargin\": true, \"gridcolor\": \"white\", \"linecolor\": \"white\", \"ticks\": \"\", \"title\": {\"standoff\": 15}, \"zerolinecolor\": \"white\", \"zerolinewidth\": 2}}}, \"title\": {\"text\": \"COVID-19 cases in Serbia\"}, \"xaxis\": {\"title\": {\"text\": \"Date\"}}, \"yaxis\": {\"title\": {\"text\": \"Cases\"}}},\n",
       "                        {\"responsive\": true}\n",
       "                    ).then(function(){\n",
       "                            \n",
       "var gd = document.getElementById('2f1528bf-a57b-481f-8f0b-c22f0a09ee33');\n",
       "var x = new MutationObserver(function (mutations, observer) {{\n",
       "        var display = window.getComputedStyle(gd).display;\n",
       "        if (!display || display === 'none') {{\n",
       "            console.log([gd, 'removed!']);\n",
       "            Plotly.purge(gd);\n",
       "            observer.disconnect();\n",
       "        }}\n",
       "}});\n",
       "\n",
       "// Listen for the removal of the full notebook cells\n",
       "var notebookContainer = gd.closest('#notebook-container');\n",
       "if (notebookContainer) {{\n",
       "    x.observe(notebookContainer, {childList: true});\n",
       "}}\n",
       "\n",
       "// Listen for the clearing of the current output cell\n",
       "var outputEl = gd.closest('.output');\n",
       "if (outputEl) {{\n",
       "    x.observe(outputEl, {childList: true});\n",
       "}}\n",
       "\n",
       "                        })\n",
       "                };\n",
       "                });\n",
       "            </script>\n",
       "        </div>"
      ]
     },
     "metadata": {},
     "output_type": "display_data"
    }
   ],
   "source": [
    "fig = go.Figure()\n",
    "date = dataframe['Date'].unique()\n",
    "Serbia_confirmed = dataframe[dataframe['Country_Region'] == 'Serbia'].groupby(['Date']).sum().ConfirmedCases\n",
    "Serbia_confirmed\n",
    "Serbia_fatalities = dataframe[dataframe['Country_Region'] == 'Serbia'].groupby(['Date']).sum().Fatalities\n",
    "fig.add_trace(go.Scatter(x = date, y = Serbia_confirmed, name = \"Confirmed cases\"))\n",
    "fig.add_trace(go.Scatter(x = date, y = Serbia_fatalities, name = \"Fatal cases\"))\n",
    "fig.update_layout(title = \"COVID-19 cases in Serbia\",\n",
    "                 xaxis_title = \"Date\",\n",
    "                 yaxis_title = \"Cases\")\n"
   ]
  },
  {
   "cell_type": "markdown",
   "metadata": {},
   "source": [
    "##  Global forecast"
   ]
  },
  {
   "cell_type": "code",
   "execution_count": 9,
   "metadata": {},
   "outputs": [
    {
     "name": "stdout",
     "output_type": "stream",
     "text": [
      "           ConfirmedCases\n",
      "                      sum\n",
      "Date                     \n",
      "2020-01-22          554.0\n",
      "2020-01-23          653.0\n",
      "2020-01-24          939.0\n",
      "2020-01-25         1432.0\n",
      "2020-01-26         2113.0\n",
      "           Fatalities\n",
      "                  sum\n",
      "Date                 \n",
      "2020-01-22       17.0\n",
      "2020-01-23       18.0\n",
      "2020-01-24       26.0\n",
      "2020-01-25       42.0\n",
      "2020-01-26       56.0\n"
     ]
    }
   ],
   "source": [
    "confirmed = dataframe.groupby(['Date']).agg({'ConfirmedCases': ['sum']})\n",
    "fatalities = dataframe.groupby(['Date']).agg({'Fatalities':['sum']})\n",
    "\n",
    "print(confirmed.head())\n",
    "print(fatalities.head())"
   ]
  },
  {
   "cell_type": "markdown",
   "metadata": {},
   "source": [
    "### Forecasting number of confirmed cases globally"
   ]
  },
  {
   "cell_type": "code",
   "execution_count": 10,
   "metadata": {},
   "outputs": [
    {
     "name": "stdout",
     "output_type": "stream",
     "text": [
      "73\n",
      "58 15\n"
     ]
    }
   ],
   "source": [
    "np.random.seed(7)\n",
    "\n",
    "dataset = confirmed.values\n",
    "dataset = dataset.astype('float32')\n",
    "\n",
    "# LSTMs are sensitive to the scale of the input data, specifically \n",
    "# when sigmoid or tanh activation functions are used.\n",
    "# It's good to rescale the data to the range of [0,1] (to normalize)\n",
    "# we use MinMaxScaler to do that\n",
    "\n",
    "scaler = MinMaxScaler(feature_range=(0,1))\n",
    "dataset = scaler.fit_transform(dataset)\n",
    "\n",
    "# we need to estimate the skill of the model on new unseen data\n",
    "# we can split the ordered dataset into train and test datasets\n",
    "# 80% of the observations to train our model\n",
    "# 20% for testing the model\n",
    "\n",
    "train_size = int(len(dataset)*0.80)\n",
    "test_size = len(dataset) - train_size\n",
    "print(len(dataset))\n",
    "\n",
    "train, test = dataset[0:train_size, :], dataset[train_size:len(dataset), :]\n",
    "print(len(train), len(test))\n",
    "\n",
    "# convert an array of values into a dataset matrix\n",
    "# first column is X at timestep t and second is y at timestep t+1\n",
    "def create_dataset(dataset, look_back = 1):\n",
    "    dataX, dataY = [], []\n",
    "    for i in range(len(dataset) - look_back - 1):\n",
    "        a = dataset[i:(i+look_back), 0]\n",
    "        dataX.append(a)\n",
    "        dataY.append(dataset[i+look_back, 0])\n",
    "    return np.array(dataX), np.array(dataY)\n",
    "\n",
    "look_back = 1\n",
    "\n",
    "trainX, trainY = create_dataset(train, look_back)\n",
    "# we take testX and put it in our model and we get some values\n",
    "# then we compare the values with existing values of testY\n",
    "testX, testY = create_dataset(test, look_back)\n",
    "\n",
    "\n",
    "# the LSTM network expects the input data (X) to be provided with a \n",
    "# specific array structure in from of: [samples, time steps, features]\n",
    "# currently, our data is in the form: [samples, features] and we are\n",
    "# framing the problem as one time step for each sample\n",
    "# we can transform the prepared train and test input data into the expected \n",
    "# structure using numpy.reshape()\n",
    "\n",
    "trainX = np.reshape(trainX, (trainX.shape[0], 1, trainX.shape[1]))\n",
    "testX = np.reshape(testX, (testX.shape[0], 1, testX.shape[1]))"
   ]
  },
  {
   "cell_type": "code",
   "execution_count": 11,
   "metadata": {},
   "outputs": [
    {
     "name": "stdout",
     "output_type": "stream",
     "text": [
      "WARNING:tensorflow:From /home/nemanja/.local/lib/python3.6/site-packages/keras/backend/tensorflow_backend.py:422: The name tf.global_variables is deprecated. Please use tf.compat.v1.global_variables instead.\n",
      "\n",
      "Epoch 1/100\n",
      " - 1s - loss: 0.0031\n",
      "Epoch 2/100\n",
      " - 0s - loss: 0.0020\n",
      "Epoch 3/100\n",
      " - 0s - loss: 0.0019\n",
      "Epoch 4/100\n",
      " - 0s - loss: 0.0018\n",
      "Epoch 5/100\n",
      " - 0s - loss: 0.0017\n",
      "Epoch 6/100\n",
      " - 0s - loss: 0.0017\n",
      "Epoch 7/100\n",
      " - 0s - loss: 0.0016\n",
      "Epoch 8/100\n",
      " - 0s - loss: 0.0015\n",
      "Epoch 9/100\n",
      " - 0s - loss: 0.0014\n",
      "Epoch 10/100\n",
      " - 0s - loss: 0.0013\n",
      "Epoch 11/100\n",
      " - 0s - loss: 0.0011\n",
      "Epoch 12/100\n",
      " - 0s - loss: 0.0010\n",
      "Epoch 13/100\n",
      " - 0s - loss: 9.0841e-04\n",
      "Epoch 14/100\n",
      " - 0s - loss: 8.1362e-04\n",
      "Epoch 15/100\n",
      " - 0s - loss: 7.0793e-04\n",
      "Epoch 16/100\n",
      " - 0s - loss: 5.7039e-04\n",
      "Epoch 17/100\n",
      " - 0s - loss: 4.8108e-04\n",
      "Epoch 18/100\n",
      " - 0s - loss: 3.9610e-04\n",
      "Epoch 19/100\n",
      " - 0s - loss: 3.2061e-04\n",
      "Epoch 20/100\n",
      " - 0s - loss: 2.4876e-04\n",
      "Epoch 21/100\n",
      " - 0s - loss: 1.8567e-04\n",
      "Epoch 22/100\n",
      " - 0s - loss: 1.4305e-04\n",
      "Epoch 23/100\n",
      " - 0s - loss: 1.0267e-04\n",
      "Epoch 24/100\n",
      " - 0s - loss: 7.0364e-05\n",
      "Epoch 25/100\n",
      " - 0s - loss: 5.3438e-05\n",
      "Epoch 26/100\n",
      " - 0s - loss: 3.8152e-05\n",
      "Epoch 27/100\n",
      " - 0s - loss: 2.6761e-05\n",
      "Epoch 28/100\n",
      " - 0s - loss: 1.8473e-05\n",
      "Epoch 29/100\n",
      " - 0s - loss: 1.3908e-05\n",
      "Epoch 30/100\n",
      " - 0s - loss: 1.1304e-05\n",
      "Epoch 31/100\n",
      " - 0s - loss: 9.7809e-06\n",
      "Epoch 32/100\n",
      " - 0s - loss: 9.7324e-06\n",
      "Epoch 33/100\n",
      " - 0s - loss: 8.7121e-06\n",
      "Epoch 34/100\n",
      " - 0s - loss: 8.5027e-06\n",
      "Epoch 35/100\n",
      " - 0s - loss: 7.9578e-06\n",
      "Epoch 36/100\n",
      " - 0s - loss: 7.9246e-06\n",
      "Epoch 37/100\n",
      " - 0s - loss: 7.5270e-06\n",
      "Epoch 38/100\n",
      " - 0s - loss: 8.3991e-06\n",
      "Epoch 39/100\n",
      " - 0s - loss: 7.9543e-06\n",
      "Epoch 40/100\n",
      " - 0s - loss: 7.1820e-06\n",
      "Epoch 41/100\n",
      " - 0s - loss: 7.1436e-06\n",
      "Epoch 42/100\n",
      " - 0s - loss: 7.3026e-06\n",
      "Epoch 43/100\n",
      " - 0s - loss: 8.1276e-06\n",
      "Epoch 44/100\n",
      " - 0s - loss: 7.5477e-06\n",
      "Epoch 45/100\n",
      " - 0s - loss: 7.8268e-06\n",
      "Epoch 46/100\n",
      " - 0s - loss: 7.2086e-06\n",
      "Epoch 47/100\n",
      " - 0s - loss: 8.4084e-06\n",
      "Epoch 48/100\n",
      " - 0s - loss: 7.6148e-06\n",
      "Epoch 49/100\n",
      " - 0s - loss: 8.2044e-06\n",
      "Epoch 50/100\n",
      " - 0s - loss: 8.0325e-06\n",
      "Epoch 51/100\n",
      " - 0s - loss: 8.3416e-06\n",
      "Epoch 52/100\n",
      " - 0s - loss: 9.1776e-06\n",
      "Epoch 53/100\n",
      " - 0s - loss: 8.8959e-06\n",
      "Epoch 54/100\n",
      " - 0s - loss: 8.1845e-06\n",
      "Epoch 55/100\n",
      " - 0s - loss: 6.7010e-06\n",
      "Epoch 56/100\n",
      " - 0s - loss: 7.4899e-06\n",
      "Epoch 57/100\n",
      " - 0s - loss: 8.5261e-06\n",
      "Epoch 58/100\n",
      " - 0s - loss: 8.5447e-06\n",
      "Epoch 59/100\n",
      " - 0s - loss: 9.0343e-06\n",
      "Epoch 60/100\n",
      " - 0s - loss: 8.1370e-06\n",
      "Epoch 61/100\n",
      " - 0s - loss: 8.0833e-06\n",
      "Epoch 62/100\n",
      " - 0s - loss: 9.6565e-06\n",
      "Epoch 63/100\n",
      " - 0s - loss: 8.5645e-06\n",
      "Epoch 64/100\n",
      " - 0s - loss: 7.9176e-06\n",
      "Epoch 65/100\n",
      " - 0s - loss: 7.7142e-06\n",
      "Epoch 66/100\n",
      " - 0s - loss: 8.9664e-06\n",
      "Epoch 67/100\n",
      " - 0s - loss: 9.3400e-06\n",
      "Epoch 68/100\n",
      " - 0s - loss: 8.5400e-06\n",
      "Epoch 69/100\n",
      " - 0s - loss: 8.2186e-06\n",
      "Epoch 70/100\n",
      " - 0s - loss: 9.0351e-06\n",
      "Epoch 71/100\n",
      " - 0s - loss: 8.2598e-06\n",
      "Epoch 72/100\n",
      " - 0s - loss: 7.6227e-06\n",
      "Epoch 73/100\n",
      " - 0s - loss: 9.2582e-06\n",
      "Epoch 74/100\n",
      " - 0s - loss: 8.2217e-06\n",
      "Epoch 75/100\n",
      " - 0s - loss: 1.0151e-05\n",
      "Epoch 76/100\n",
      " - 0s - loss: 9.2906e-06\n",
      "Epoch 77/100\n",
      " - 0s - loss: 9.9331e-06\n",
      "Epoch 78/100\n",
      " - 0s - loss: 8.7395e-06\n",
      "Epoch 79/100\n",
      " - 0s - loss: 7.6146e-06\n",
      "Epoch 80/100\n",
      " - 0s - loss: 9.1339e-06\n",
      "Epoch 81/100\n",
      " - 0s - loss: 9.4058e-06\n",
      "Epoch 82/100\n",
      " - 0s - loss: 8.3233e-06\n",
      "Epoch 83/100\n",
      " - 0s - loss: 9.3343e-06\n",
      "Epoch 84/100\n",
      " - 0s - loss: 7.2900e-06\n",
      "Epoch 85/100\n",
      " - 0s - loss: 8.1175e-06\n",
      "Epoch 86/100\n",
      " - 0s - loss: 9.1707e-06\n",
      "Epoch 87/100\n",
      " - 0s - loss: 1.0419e-05\n",
      "Epoch 88/100\n",
      " - 0s - loss: 8.9139e-06\n",
      "Epoch 89/100\n",
      " - 0s - loss: 9.8359e-06\n",
      "Epoch 90/100\n",
      " - 0s - loss: 1.0438e-05\n",
      "Epoch 91/100\n",
      " - 0s - loss: 9.3839e-06\n",
      "Epoch 92/100\n",
      " - 0s - loss: 8.8218e-06\n",
      "Epoch 93/100\n",
      " - 0s - loss: 9.0073e-06\n",
      "Epoch 94/100\n",
      " - 0s - loss: 8.8790e-06\n",
      "Epoch 95/100\n",
      " - 0s - loss: 8.1458e-06\n",
      "Epoch 96/100\n",
      " - 0s - loss: 8.6726e-06\n",
      "Epoch 97/100\n",
      " - 0s - loss: 8.7958e-06\n",
      "Epoch 98/100\n",
      " - 0s - loss: 9.4431e-06\n",
      "Epoch 99/100\n",
      " - 0s - loss: 7.9774e-06\n",
      "Epoch 100/100\n",
      " - 0s - loss: 9.2894e-06\n"
     ]
    },
    {
     "data": {
      "text/plain": [
       "<keras.callbacks.callbacks.History at 0x7fbde96c9710>"
      ]
     },
     "execution_count": 11,
     "metadata": {},
     "output_type": "execute_result"
    }
   ],
   "source": [
    "# one layer input\n",
    "# hidden later with 4 LSTM neurons\n",
    "# output layer makes a single value prediction\n",
    "# sigmoid activation function (default)\n",
    "# the network is trained for 100 epochs\n",
    "# batch size of 1 is used\n",
    "\n",
    "\n",
    "model = Sequential()\n",
    "model.add(LSTM(4, input_shape = (1, look_back)))\n",
    "model.add(Dense(1))\n",
    "model.compile(loss = 'mean_squared_error', optimizer = 'adam')\n",
    "model.fit(trainX, trainY, epochs = 100, batch_size = 1, verbose = 2)"
   ]
  },
  {
   "cell_type": "code",
   "execution_count": 12,
   "metadata": {},
   "outputs": [
    {
     "name": "stdout",
     "output_type": "stream",
     "text": [
      "Real values: \n",
      "[[ 304310.98666773  337326.99250517  377960.98697041  417950.9801948\n",
      "   467563.00016914  529500.99696169  593201.01326603  660541.00252571\n",
      "   719951.98557997  782199.9555003   857319.98630759  932434.01152833\n",
      "  1012981.00368164]]\n",
      "Predicted values: \n",
      "[[ 297763.2 ]\n",
      " [ 335942.2 ]\n",
      " [ 375055.34]\n",
      " [ 423236.6 ]\n",
      " [ 470504.28]\n",
      " [ 528654.25]\n",
      " [ 600037.5 ]\n",
      " [ 671543.4 ]\n",
      " [ 744560.4 ]\n",
      " [ 806500.56]\n",
      " [ 868724.44]\n",
      " [ 940040.44]\n",
      " [1007186.2 ]]\n",
      "Number of confirmed cases for tomorrow: [1007186.2]\n",
      "Train Score: 3546.845582 RMSE\n",
      "Test score: 11354.162726 RMSE\n"
     ]
    }
   ],
   "source": [
    "trainPredict = model.predict(trainX)\n",
    "testPredict = model.predict(testX)\n",
    "\n",
    "#invert predictions to the same units as the original data\n",
    "trainPredict = scaler.inverse_transform(trainPredict)\n",
    "trainY = scaler.inverse_transform([trainY])\n",
    "\n",
    "testPredict = scaler.inverse_transform(testPredict)\n",
    "testY = scaler.inverse_transform([testY])\n",
    "print(\"Real values: \")\n",
    "print(testY)\n",
    "print(\"Predicted values: \")\n",
    "print(testPredict)\n",
    "print(\"Number of confirmed cases for tomorrow:\", testPredict[-1])\n",
    "\n",
    "# calculate root mean squared error\n",
    "# between our predicted values(trainPredict) and given values (trainY)\n",
    "trainScore = math.sqrt(mean_squared_error(trainY[0], trainPredict[:,0]))\n",
    "print('Train Score: %2f RMSE' %(trainScore))\n",
    "\n",
    "testScore = math.sqrt(mean_squared_error(testY[0], testPredict[:,0]))\n",
    "print(\"Test score: %2f RMSE\" % (testScore))"
   ]
  },
  {
   "cell_type": "code",
   "execution_count": 13,
   "metadata": {},
   "outputs": [
    {
     "data": {
      "image/png": "[encoded data removed]",
      "text/plain": [
       "<Figure size 432x288 with 1 Axes>"
      ]
     },
     "metadata": {
      "needs_background": "light"
     },
     "output_type": "display_data"
    }
   ],
   "source": [
    "trainPredictPlot = np.empty_like(dataset)\n",
    "trainPredictPlot[:,:] = np.nan\n",
    "trainPredictPlot[look_back:len(trainPredict)+look_back, :] = trainPredict\n",
    "testPredictPlot = np.empty_like(dataset)\n",
    "testPredictPlot[:,:] = np.nan\n",
    "testPredictPlot[len(trainPredict)+(look_back*2)+1:len(dataset)-1, :] = testPredict\n",
    "plt.plot(scaler.inverse_transform(dataset))\n",
    "plt.plot(trainPredictPlot, color = 'green')\n",
    "plt.plot(testPredictPlot, color = 'red')\n",
    "plt.legend(['Number of realised cases', 'Predicted cases on training model', 'Predicted cases on unknown values'])\n",
    "plt.xlabel(\"Days\")\n",
    "plt.ylabel(\"Number of cases\")\n",
    "plt.show()"
   ]
  },
  {
   "cell_type": "markdown",
   "metadata": {},
   "source": [
    "### Forecasting number of fatal cases globally\n",
    "\n"
   ]
  },
  {
   "cell_type": "code",
   "execution_count": 31,
   "metadata": {},
   "outputs": [
    {
     "name": "stdout",
     "output_type": "stream",
     "text": [
      "[[ 2995.]\n",
      " [ 3079.]\n",
      " [ 3153.]\n",
      " [ 3243.]\n",
      " [ 3336.]\n",
      " [ 3446.]\n",
      " [ 3541.]\n",
      " [ 3781.]\n",
      " [ 3966.]\n",
      " [ 4262.]\n",
      " [ 4615.]\n",
      " [ 4720.]\n",
      " [ 5404.]\n",
      " [ 5819.]\n",
      " [ 6440.]\n",
      " [ 7126.]\n",
      " [ 7905.]\n",
      " [ 8733.]\n",
      " [ 9867.]\n",
      " [11299.]\n",
      " [12973.]\n",
      " [14659.]\n",
      " [16498.]\n",
      " [18623.]\n",
      " [21179.]\n",
      " [23968.]\n",
      " [27194.]\n",
      " [30648.]\n",
      " [33921.]\n",
      " [37578.]\n",
      " [42103.]\n",
      " [46804.]\n",
      " [52978.]\n",
      " [58782.]]\n",
      "27 7\n"
     ]
    }
   ],
   "source": [
    "fatalities = dataframe.groupby(['Date']).agg({'Fatalities':['sum']})\n",
    "#fatalities = fatalities.query(\"Date > '2020-02-29'\")\n",
    "np.random.seed(7)\n",
    "\n",
    "dataset = fatalities.values\n",
    "dataset = dataset.astype('float32')\n",
    "print(dataset)\n",
    "scaler = MinMaxScaler(feature_range=(0,1))\n",
    "dataset = scaler.fit_transform(dataset)\n",
    "\n",
    "\n",
    "train_size = int(len(dataset)*0.80)\n",
    "test_size = len(dataset) - train_size\n",
    "#print(len(dataset))\n",
    "\n",
    "train, test = dataset[0:train_size, :], dataset[train_size:len(dataset), :]\n",
    "print(len(train), len(test))\n",
    "\n",
    "def create_dataset(dataset, look_back = 1):\n",
    "    dataX, dataY = [], []\n",
    "    for i in range(len(dataset) - look_back - 1):\n",
    "        a = dataset[i:(i+look_back), 0]\n",
    "        dataX.append(a)\n",
    "        dataY.append(dataset[i+look_back, 0])\n",
    "    return np.array(dataX), np.array(dataY)\n",
    "\n",
    "look_back = 1\n",
    "\n",
    "trainX, trainY = create_dataset(train, look_back)\n",
    "testX, testY = create_dataset(test, look_back)\n",
    "\n",
    "trainX = np.reshape(trainX, (trainX.shape[0], 1, trainX.shape[1]))\n",
    "testX = np.reshape(testX, (testX.shape[0], 1, testX.shape[1]))"
   ]
  },
  {
   "cell_type": "code",
   "execution_count": 32,
   "metadata": {},
   "outputs": [
    {
     "name": "stdout",
     "output_type": "stream",
     "text": [
      "Epoch 1/100\n",
      " - 0s - loss: 0.0182\n",
      "Epoch 2/100\n",
      " - 0s - loss: 0.0147\n",
      "Epoch 3/100\n",
      " - 0s - loss: 0.0127\n",
      "Epoch 4/100\n",
      " - 0s - loss: 0.0113\n",
      "Epoch 5/100\n",
      " - 0s - loss: 0.0110\n",
      "Epoch 6/100\n",
      " - 0s - loss: 0.0103\n",
      "Epoch 7/100\n",
      " - 0s - loss: 0.0100\n",
      "Epoch 8/100\n",
      " - 0s - loss: 0.0097\n",
      "Epoch 9/100\n",
      " - 0s - loss: 0.0095\n",
      "Epoch 10/100\n",
      " - 0s - loss: 0.0093\n",
      "Epoch 11/100\n",
      " - 0s - loss: 0.0091\n",
      "Epoch 12/100\n",
      " - 0s - loss: 0.0090\n",
      "Epoch 13/100\n",
      " - 0s - loss: 0.0088\n",
      "Epoch 14/100\n",
      " - 0s - loss: 0.0086\n",
      "Epoch 15/100\n",
      " - 0s - loss: 0.0084\n",
      "Epoch 16/100\n",
      " - 0s - loss: 0.0082\n",
      "Epoch 17/100\n",
      " - 0s - loss: 0.0080\n",
      "Epoch 18/100\n",
      " - 0s - loss: 0.0079\n",
      "Epoch 19/100\n",
      " - 0s - loss: 0.0076\n",
      "Epoch 20/100\n",
      " - 0s - loss: 0.0073\n",
      "Epoch 21/100\n",
      " - 0s - loss: 0.0071\n",
      "Epoch 22/100\n",
      " - 0s - loss: 0.0068\n",
      "Epoch 23/100\n",
      " - 0s - loss: 0.0065\n",
      "Epoch 24/100\n",
      " - 0s - loss: 0.0063\n",
      "Epoch 25/100\n",
      " - 0s - loss: 0.0060\n",
      "Epoch 26/100\n",
      " - 0s - loss: 0.0058\n",
      "Epoch 27/100\n",
      " - 0s - loss: 0.0055\n",
      "Epoch 28/100\n",
      " - 0s - loss: 0.0053\n",
      "Epoch 29/100\n",
      " - 0s - loss: 0.0049\n",
      "Epoch 30/100\n",
      " - 0s - loss: 0.0047\n",
      "Epoch 31/100\n",
      " - 0s - loss: 0.0045\n",
      "Epoch 32/100\n",
      " - 0s - loss: 0.0042\n",
      "Epoch 33/100\n",
      " - 0s - loss: 0.0039\n",
      "Epoch 34/100\n",
      " - 0s - loss: 0.0037\n",
      "Epoch 35/100\n",
      " - 0s - loss: 0.0036\n",
      "Epoch 36/100\n",
      " - 0s - loss: 0.0032\n",
      "Epoch 37/100\n",
      " - 0s - loss: 0.0029\n",
      "Epoch 38/100\n",
      " - 0s - loss: 0.0028\n",
      "Epoch 39/100\n",
      " - 0s - loss: 0.0025\n",
      "Epoch 40/100\n",
      " - 0s - loss: 0.0023\n",
      "Epoch 41/100\n",
      " - 0s - loss: 0.0021\n",
      "Epoch 42/100\n",
      " - 0s - loss: 0.0019\n",
      "Epoch 43/100\n",
      " - 0s - loss: 0.0017\n",
      "Epoch 44/100\n",
      " - 0s - loss: 0.0015\n",
      "Epoch 45/100\n",
      " - 0s - loss: 0.0013\n",
      "Epoch 46/100\n",
      " - 0s - loss: 0.0012\n",
      "Epoch 47/100\n",
      " - 0s - loss: 0.0011\n",
      "Epoch 48/100\n",
      " - 0s - loss: 9.2774e-04\n",
      "Epoch 49/100\n",
      " - 0s - loss: 8.1607e-04\n",
      "Epoch 50/100\n",
      " - 0s - loss: 7.3772e-04\n",
      "Epoch 51/100\n",
      " - 0s - loss: 6.1514e-04\n",
      "Epoch 52/100\n",
      " - 0s - loss: 5.3203e-04\n",
      "Epoch 53/100\n",
      " - 0s - loss: 4.4821e-04\n",
      "Epoch 54/100\n",
      " - 0s - loss: 3.8760e-04\n",
      "Epoch 55/100\n",
      " - 0s - loss: 3.2353e-04\n",
      "Epoch 56/100\n",
      " - 0s - loss: 2.8288e-04\n",
      "Epoch 57/100\n",
      " - 0s - loss: 2.3552e-04\n",
      "Epoch 58/100\n",
      " - 0s - loss: 1.9086e-04\n",
      "Epoch 59/100\n",
      " - 0s - loss: 1.6251e-04\n",
      "Epoch 60/100\n",
      " - 0s - loss: 1.3552e-04\n",
      "Epoch 61/100\n",
      " - 0s - loss: 1.1507e-04\n",
      "Epoch 62/100\n",
      " - 0s - loss: 9.3137e-05\n",
      "Epoch 63/100\n",
      " - 0s - loss: 7.7495e-05\n",
      "Epoch 64/100\n",
      " - 0s - loss: 6.4327e-05\n",
      "Epoch 65/100\n",
      " - 0s - loss: 5.6307e-05\n",
      "Epoch 66/100\n",
      " - 0s - loss: 4.7412e-05\n",
      "Epoch 67/100\n",
      " - 0s - loss: 4.5664e-05\n",
      "Epoch 68/100\n",
      " - 0s - loss: 3.4971e-05\n",
      "Epoch 69/100\n",
      " - 0s - loss: 3.1593e-05\n",
      "Epoch 70/100\n",
      " - 0s - loss: 2.8881e-05\n",
      "Epoch 71/100\n",
      " - 0s - loss: 2.6481e-05\n",
      "Epoch 72/100\n",
      " - 0s - loss: 2.4843e-05\n",
      "Epoch 73/100\n",
      " - 0s - loss: 2.3700e-05\n",
      "Epoch 74/100\n",
      " - 0s - loss: 2.2689e-05\n",
      "Epoch 75/100\n",
      " - 0s - loss: 2.1717e-05\n",
      "Epoch 76/100\n",
      " - 0s - loss: 2.1372e-05\n",
      "Epoch 77/100\n",
      " - 0s - loss: 2.0195e-05\n",
      "Epoch 78/100\n",
      " - 0s - loss: 2.0852e-05\n",
      "Epoch 79/100\n",
      " - 0s - loss: 2.0674e-05\n",
      "Epoch 80/100\n",
      " - 0s - loss: 2.0649e-05\n",
      "Epoch 81/100\n",
      " - 0s - loss: 1.9697e-05\n",
      "Epoch 82/100\n",
      " - 0s - loss: 1.9918e-05\n",
      "Epoch 83/100\n",
      " - 0s - loss: 2.0052e-05\n",
      "Epoch 84/100\n",
      " - 0s - loss: 1.9684e-05\n",
      "Epoch 85/100\n",
      " - 0s - loss: 1.9304e-05\n",
      "Epoch 86/100\n",
      " - 0s - loss: 1.9384e-05\n",
      "Epoch 87/100\n",
      " - 0s - loss: 1.9353e-05\n",
      "Epoch 88/100\n",
      " - 0s - loss: 2.0480e-05\n",
      "Epoch 89/100\n",
      " - 0s - loss: 2.0630e-05\n",
      "Epoch 90/100\n",
      " - 0s - loss: 2.0291e-05\n",
      "Epoch 91/100\n",
      " - 0s - loss: 1.8792e-05\n",
      "Epoch 92/100\n",
      " - 0s - loss: 1.9390e-05\n",
      "Epoch 93/100\n",
      " - 0s - loss: 1.8838e-05\n",
      "Epoch 94/100\n",
      " - 0s - loss: 1.9067e-05\n",
      "Epoch 95/100\n",
      " - 0s - loss: 1.8925e-05\n",
      "Epoch 96/100\n",
      " - 0s - loss: 2.0381e-05\n",
      "Epoch 97/100\n",
      " - 0s - loss: 1.9036e-05\n",
      "Epoch 98/100\n",
      " - 0s - loss: 1.9392e-05\n",
      "Epoch 99/100\n",
      " - 0s - loss: 1.8823e-05\n",
      "Epoch 100/100\n",
      " - 0s - loss: 2.1967e-05\n"
     ]
    },
    {
     "data": {
      "text/plain": [
       "<keras.callbacks.callbacks.History at 0x7fbdd80a9fd0>"
      ]
     },
     "execution_count": 32,
     "metadata": {},
     "output_type": "execute_result"
    }
   ],
   "source": [
    "model_fatalities = Sequential()\n",
    "model_fatalities.add(LSTM(4, input_shape = (1, look_back)))\n",
    "model_fatalities.add(Dense(1))\n",
    "model_fatalities.compile(loss = 'mean_squared_error', optimizer = 'adam')\n",
    "model_fatalities.fit(trainX, trainY, epochs = 100, batch_size = 1, verbose = 2)"
   ]
  },
  {
   "cell_type": "code",
   "execution_count": 35,
   "metadata": {},
   "outputs": [
    {
     "name": "stdout",
     "output_type": "stream",
     "text": [
      "Real values: \n",
      "[[33921.00192652 37578.0008664  42103.00066396 46804.00140159\n",
      "  52977.99999371]]\n",
      "Predicted values: \n",
      "[[34337.19 ]\n",
      " [37985.887]\n",
      " [41912.227]\n",
      " [46523.082]\n",
      " [51004.38 ]]\n",
      "Number of confirmed cases for tomorrow: [51004.38]\n",
      "Train Score: 646.286714 RMSE\n",
      "Test score: 932.745967 RMSE\n"
     ]
    }
   ],
   "source": [
    "trainPredict = model.predict(trainX)\n",
    "testPredict = model.predict(testX)\n",
    "\n",
    "trainPredict = scaler.inverse_transform(trainPredict)\n",
    "trainY = scaler.inverse_transform([trainY])\n",
    "\n",
    "testPredict = scaler.inverse_transform(testPredict)\n",
    "testY = scaler.inverse_transform([testY])\n",
    "print(\"Real values: \")\n",
    "print(testY)\n",
    "print(\"Predicted values: \")\n",
    "print(testPredict)\n",
    "print(\"Number of confirmed cases for tomorrow:\", testPredict[-1])\n",
    "\n",
    "trainScore = math.sqrt(mean_squared_error(trainY[0], trainPredict[:,0]))\n",
    "print('Train Score: %2f RMSE' %(trainScore))\n",
    "\n",
    "testScore = math.sqrt(mean_squared_error(testY[0], testPredict[:,0]))\n",
    "print(\"Test score: %2f RMSE\" % (testScore))"
   ]
  },
  {
   "cell_type": "code",
   "execution_count": 36,
   "metadata": {},
   "outputs": [
    {
     "data": {
      "image/png": "[encoded data removed]",
      "text/plain": [
       "<Figure size 432x288 with 1 Axes>"
      ]
     },
     "metadata": {
      "needs_background": "light"
     },
     "output_type": "display_data"
    }
   ],
   "source": [
    "trainPredictPlot = np.empty_like(dataset)\n",
    "trainPredictPlot[:,:] = np.nan\n",
    "trainPredictPlot[look_back:len(trainPredict)+look_back, :] = trainPredict\n",
    "testPredictPlot = np.empty_like(dataset)\n",
    "testPredictPlot[:,:] = np.nan\n",
    "testPredictPlot[len(trainPredict)+(look_back*2)+1:len(dataset)-1, :] = testPredict\n",
    "plt.plot(scaler.inverse_transform(dataset))\n",
    "plt.plot(trainPredictPlot, color = 'green')\n",
    "plt.plot(testPredictPlot, color = 'red')\n",
    "plt.legend(['Number of realised cases', 'Predicted cases on training model', 'Predicted cases on unknown values'])\n",
    "plt.xlabel(\"Days\")\n",
    "plt.ylabel(\"Number of cases\")\n",
    "plt.show()"
   ]
  },
  {
   "cell_type": "code",
   "execution_count": null,
   "metadata": {},
   "outputs": [],
   "source": []
  }
 ],
 "metadata": {
  "kernelspec": {
   "display_name": "Python 3",
   "language": "python",
   "name": "python3"
  },
  "language_info": {
   "codemirror_mode": {
    "name": "ipython",
    "version": 3
   },
   "file_extension": ".py",
   "mimetype": "text/x-python",
   "name": "python",
   "nbconvert_exporter": "python",
   "pygments_lexer": "ipython3",
   "version": "3.6.9"
  }
 },
 "nbformat": 4,
 "nbformat_minor": 4
}
