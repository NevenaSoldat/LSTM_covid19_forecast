{
 "cells": [
  {
   "cell_type": "code",
   "execution_count": 353,
   "metadata": {},
   "outputs": [],
   "source": [
    "from statsmodels.tsa.arima_model import ARIMA\n",
    "from statsmodels.tsa.stattools import acf, pacf\n",
    "from statsmodels.graphics.tsaplots import plot_acf, plot_pacf\n",
    "import numpy as np\n",
    "import pandas as pd\n",
    "import matplotlib.pyplot as plt\n",
    "from keras.models import Sequential\n",
    "from keras.layers import LSTM, Dense, Dropout\n",
    "from keras.callbacks import ModelCheckpoint, ReduceLROnPlateau, EarlyStopping\n",
    "from tqdm import tqdm\n",
    "from datetime import datetime\n",
    "from sklearn.preprocessing import MinMaxScaler\n",
    "import math\n",
    "from sklearn.model_selection import train_test_split\n",
    "import os, multiprocessing\n",
    "from sklearn.metrics import mean_squared_error"
   ]
  },
  {
   "cell_type": "code",
   "execution_count": 354,
   "metadata": {},
   "outputs": [
    {
     "name": "stdout",
     "output_type": "stream",
     "text": [
      "Computer characteristics: \n",
      "RAM: 7.653069 GB\n",
      "CORES: 4\n"
     ]
    }
   ],
   "source": [
    "mem_bytes = os.sysconf('SC_PAGE_SIZE') * os.sysconf('SC_PHYS_PAGES')\n",
    "mem_gib = mem_bytes / (1024.**3)\n",
    "print(\"Computer characteristics: \")\n",
    "print(\"RAM: %f GB\" % mem_gib)\n",
    "print(\"CORES: %d\" % multiprocessing.cpu_count())\n"
   ]
  },
  {
   "cell_type": "code",
   "execution_count": 355,
   "metadata": {},
   "outputs": [
    {
     "data": {
      "text/html": [
       "<div>\n",
       "<style scoped>\n",
       "    .dataframe tbody tr th:only-of-type {\n",
       "        vertical-align: middle;\n",
       "    }\n",
       "\n",
       "    .dataframe tbody tr th {\n",
       "        vertical-align: top;\n",
       "    }\n",
       "\n",
       "    .dataframe thead th {\n",
       "        text-align: right;\n",
       "    }\n",
       "</style>\n",
       "<table border=\"1\" class=\"dataframe\">\n",
       "  <thead>\n",
       "    <tr style=\"text-align: right;\">\n",
       "      <th></th>\n",
       "      <th>Id</th>\n",
       "      <th>Province_State</th>\n",
       "      <th>Country_Region</th>\n",
       "      <th>Date</th>\n",
       "      <th>ConfirmedCases</th>\n",
       "      <th>Fatalities</th>\n",
       "    </tr>\n",
       "  </thead>\n",
       "  <tbody>\n",
       "    <tr>\n",
       "      <th>0</th>\n",
       "      <td>1</td>\n",
       "      <td>NaN</td>\n",
       "      <td>Afghanistan</td>\n",
       "      <td>2020-01-22</td>\n",
       "      <td>0.0</td>\n",
       "      <td>0.0</td>\n",
       "    </tr>\n",
       "    <tr>\n",
       "      <th>1</th>\n",
       "      <td>2</td>\n",
       "      <td>NaN</td>\n",
       "      <td>Afghanistan</td>\n",
       "      <td>2020-01-23</td>\n",
       "      <td>0.0</td>\n",
       "      <td>0.0</td>\n",
       "    </tr>\n",
       "    <tr>\n",
       "      <th>2</th>\n",
       "      <td>3</td>\n",
       "      <td>NaN</td>\n",
       "      <td>Afghanistan</td>\n",
       "      <td>2020-01-24</td>\n",
       "      <td>0.0</td>\n",
       "      <td>0.0</td>\n",
       "    </tr>\n",
       "    <tr>\n",
       "      <th>3</th>\n",
       "      <td>4</td>\n",
       "      <td>NaN</td>\n",
       "      <td>Afghanistan</td>\n",
       "      <td>2020-01-25</td>\n",
       "      <td>0.0</td>\n",
       "      <td>0.0</td>\n",
       "    </tr>\n",
       "    <tr>\n",
       "      <th>4</th>\n",
       "      <td>5</td>\n",
       "      <td>NaN</td>\n",
       "      <td>Afghanistan</td>\n",
       "      <td>2020-01-26</td>\n",
       "      <td>0.0</td>\n",
       "      <td>0.0</td>\n",
       "    </tr>\n",
       "  </tbody>\n",
       "</table>\n",
       "</div>"
      ],
      "text/plain": [
       "   Id Province_State Country_Region        Date  ConfirmedCases  Fatalities\n",
       "0   1            NaN    Afghanistan  2020-01-22             0.0         0.0\n",
       "1   2            NaN    Afghanistan  2020-01-23             0.0         0.0\n",
       "2   3            NaN    Afghanistan  2020-01-24             0.0         0.0\n",
       "3   4            NaN    Afghanistan  2020-01-25             0.0         0.0\n",
       "4   5            NaN    Afghanistan  2020-01-26             0.0         0.0"
      ]
     },
     "execution_count": 355,
     "metadata": {},
     "output_type": "execute_result"
    }
   ],
   "source": [
    "train = pd.read_csv('train.csv')\n",
    "train.head()"
   ]
  },
  {
   "cell_type": "code",
   "execution_count": 356,
   "metadata": {},
   "outputs": [
    {
     "name": "stdout",
     "output_type": "stream",
     "text": [
      "Number of different countries:  184\n",
      "\n",
      "\n",
      "Min date: 2020-01-22\n",
      "Max date: 2020-04-09\n",
      "\n",
      "\n",
      "Null values:\n",
      "Id                    0\n",
      "Province_State    14220\n",
      "Country_Region        0\n",
      "Date                  0\n",
      "ConfirmedCases        0\n",
      "Fatalities            0\n",
      "dtype: int64\n"
     ]
    }
   ],
   "source": [
    "countries = train['Country_Region'].unique()\n",
    "print(\"Number of different countries: \", len(countries))\n",
    "print(\"\\n\")\n",
    "min_date = train.Date.min()\n",
    "max_date = train.Date.max()\n",
    "print(\"Min date: {0}\\nMax date: {1}\".format(min_date, max_date))\n",
    "print(\"\\n\")\n",
    "print(\"Null values:\") \n",
    "print(train.isnull().sum())"
   ]
  },
  {
   "cell_type": "code",
   "execution_count": 357,
   "metadata": {},
   "outputs": [
    {
     "data": {
      "text/html": [
       "<div>\n",
       "<style scoped>\n",
       "    .dataframe tbody tr th:only-of-type {\n",
       "        vertical-align: middle;\n",
       "    }\n",
       "\n",
       "    .dataframe tbody tr th {\n",
       "        vertical-align: top;\n",
       "    }\n",
       "\n",
       "    .dataframe thead th {\n",
       "        text-align: right;\n",
       "    }\n",
       "</style>\n",
       "<table border=\"1\" class=\"dataframe\">\n",
       "  <thead>\n",
       "    <tr style=\"text-align: right;\">\n",
       "      <th></th>\n",
       "      <th>Id</th>\n",
       "      <th>Province_State</th>\n",
       "      <th>Country_Region</th>\n",
       "      <th>Date</th>\n",
       "      <th>Confirmed</th>\n",
       "      <th>Fatalities</th>\n",
       "    </tr>\n",
       "  </thead>\n",
       "  <tbody>\n",
       "    <tr>\n",
       "      <th>0</th>\n",
       "      <td>1</td>\n",
       "      <td>Afghanistan</td>\n",
       "      <td>Afghanistan</td>\n",
       "      <td>2020-01-22</td>\n",
       "      <td>0.0</td>\n",
       "      <td>0.0</td>\n",
       "    </tr>\n",
       "    <tr>\n",
       "      <th>1</th>\n",
       "      <td>2</td>\n",
       "      <td>Afghanistan</td>\n",
       "      <td>Afghanistan</td>\n",
       "      <td>2020-01-23</td>\n",
       "      <td>0.0</td>\n",
       "      <td>0.0</td>\n",
       "    </tr>\n",
       "    <tr>\n",
       "      <th>2</th>\n",
       "      <td>3</td>\n",
       "      <td>Afghanistan</td>\n",
       "      <td>Afghanistan</td>\n",
       "      <td>2020-01-24</td>\n",
       "      <td>0.0</td>\n",
       "      <td>0.0</td>\n",
       "    </tr>\n",
       "    <tr>\n",
       "      <th>3</th>\n",
       "      <td>4</td>\n",
       "      <td>Afghanistan</td>\n",
       "      <td>Afghanistan</td>\n",
       "      <td>2020-01-25</td>\n",
       "      <td>0.0</td>\n",
       "      <td>0.0</td>\n",
       "    </tr>\n",
       "    <tr>\n",
       "      <th>4</th>\n",
       "      <td>5</td>\n",
       "      <td>Afghanistan</td>\n",
       "      <td>Afghanistan</td>\n",
       "      <td>2020-01-26</td>\n",
       "      <td>0.0</td>\n",
       "      <td>0.0</td>\n",
       "    </tr>\n",
       "  </tbody>\n",
       "</table>\n",
       "</div>"
      ],
      "text/plain": [
       "   Id Province_State Country_Region        Date  Confirmed  Fatalities\n",
       "0   1    Afghanistan    Afghanistan  2020-01-22        0.0         0.0\n",
       "1   2    Afghanistan    Afghanistan  2020-01-23        0.0         0.0\n",
       "2   3    Afghanistan    Afghanistan  2020-01-24        0.0         0.0\n",
       "3   4    Afghanistan    Afghanistan  2020-01-25        0.0         0.0\n",
       "4   5    Afghanistan    Afghanistan  2020-01-26        0.0         0.0"
      ]
     },
     "execution_count": 357,
     "metadata": {},
     "output_type": "execute_result"
    }
   ],
   "source": [
    "def fillState(state, country):\n",
    "    if state == \"empty\":\n",
    "        return country\n",
    "    return state\n",
    "\n",
    "train['Province_State'].fillna(\"empty\", inplace = True)\n",
    "train['Province_State'] = train.loc[:,['Province_State', 'Country_Region']].apply(lambda x: fillState(x['Province_State'], x['Country_Region']), axis = 1)\n",
    "\n",
    "\n",
    "# renaming columns\n",
    "train=train.rename(columns={'ConfirmedCases':'Confirmed'})\n",
    "    \n",
    "train.head()"
   ]
  },
  {
   "cell_type": "code",
   "execution_count": 358,
   "metadata": {},
   "outputs": [
    {
     "name": "stdout",
     "output_type": "stream",
     "text": [
      "Number of confirmed cases:  1595174.0\n",
      "Number of fatal cases:  95449.0\n"
     ]
    }
   ],
   "source": [
    "latest = train['Date'].max()\n",
    "world_confirmed = sum(train[train['Date'] == latest].Confirmed)\n",
    "print(\"Number of confirmed cases: \", world_confirmed)\n",
    "world_fatal = sum(train[train['Date'] == latest].Fatalities)\n",
    "print(\"Number of fatal cases: \", world_fatal)"
   ]
  },
  {
   "cell_type": "code",
   "execution_count": 359,
   "metadata": {},
   "outputs": [
    {
     "name": "stdout",
     "output_type": "stream",
     "text": [
      "First 10 countries by number of confirmed cases:\n",
      "\n",
      "                Confirmed  Fatalities\n",
      "Country_Region                       \n",
      "US               461274.0     16473.0\n",
      "Spain            153222.0     15447.0\n",
      "Italy            143626.0     18279.0\n",
      "France           118781.0     12228.0\n",
      "Germany          118181.0      2607.0\n",
      "China             82883.0      3339.0\n",
      "Iran              66220.0      4110.0\n",
      "United Kingdom    65872.0      7993.0\n",
      "Turkey            42282.0       908.0\n",
      "Belgium           24983.0      2523.0\n",
      "\n",
      "\n",
      "Confirmed cases in Serbia:  2867.0\n",
      "Fatal cases in Serbia:  66.0\n"
     ]
    }
   ],
   "source": [
    "latest_data = train[train['Date'] == latest]\n",
    "latest_data = latest_data.drop(['Province_State'], axis = 1)\n",
    "\n",
    "confirmed_per_country = latest_data.groupby(['Country_Region']).sum().sort_values(['Confirmed'], ascending = False)\n",
    "confirmed_per_country = confirmed_per_country.drop(['Id'], axis = 1)\n",
    "print(\"First 10 countries by number of confirmed cases:\\n\")\n",
    "print(confirmed_per_country[:10])\n",
    "print(\"\\n\")\n",
    "Serbia = confirmed_per_country.loc[\"Serbia\"]\n",
    "print(\"Confirmed cases in Serbia: \", Serbia.Confirmed)\n",
    "print(\"Fatal cases in Serbia: \", Serbia.Fatalities)"
   ]
  },
  {
   "cell_type": "code",
   "execution_count": 360,
   "metadata": {},
   "outputs": [
    {
     "data": {
      "application/vnd.plotly.v1+json": {
       "config": {
        "plotlyServerURL": "https://plot.ly"
       },
       "data": [
        {
         "name": "Confirmed cases",
         "type": "scatter",
         "x": [
          "2020-03-06",
          "2020-03-07",
          "2020-03-08",
          "2020-03-09",
          "2020-03-10",
          "2020-03-11",
          "2020-03-12",
          "2020-03-13",
          "2020-03-14",
          "2020-03-15",
          "2020-03-16",
          "2020-03-17",
          "2020-03-18",
          "2020-03-19",
          "2020-03-20",
          "2020-03-21",
          "2020-03-22",
          "2020-03-23",
          "2020-03-24",
          "2020-03-25",
          "2020-03-26",
          "2020-03-27",
          "2020-03-28",
          "2020-03-29",
          "2020-03-30",
          "2020-03-31",
          "2020-04-01",
          "2020-04-02",
          "2020-04-03",
          "2020-04-04",
          "2020-04-05",
          "2020-04-06",
          "2020-04-07",
          "2020-04-08",
          "2020-04-09"
         ],
         "y": [
          1,
          1,
          1,
          1,
          5,
          12,
          19,
          35,
          46,
          48,
          55,
          65,
          83,
          103,
          135,
          171,
          222,
          249,
          303,
          384,
          384,
          457,
          659,
          741,
          785,
          900,
          1060,
          1171,
          1476,
          1624,
          1908,
          2200,
          2447,
          2666,
          2867
         ]
        },
        {
         "name": "Fatal cases",
         "type": "scatter",
         "x": [
          "2020-03-06",
          "2020-03-07",
          "2020-03-08",
          "2020-03-09",
          "2020-03-10",
          "2020-03-11",
          "2020-03-12",
          "2020-03-13",
          "2020-03-14",
          "2020-03-15",
          "2020-03-16",
          "2020-03-17",
          "2020-03-18",
          "2020-03-19",
          "2020-03-20",
          "2020-03-21",
          "2020-03-22",
          "2020-03-23",
          "2020-03-24",
          "2020-03-25",
          "2020-03-26",
          "2020-03-27",
          "2020-03-28",
          "2020-03-29",
          "2020-03-30",
          "2020-03-31",
          "2020-04-01",
          "2020-04-02",
          "2020-04-03",
          "2020-04-04",
          "2020-04-05",
          "2020-04-06",
          "2020-04-07",
          "2020-04-08",
          "2020-04-09"
         ],
         "y": [
          0,
          0,
          0,
          0,
          0,
          0,
          0,
          0,
          0,
          0,
          0,
          0,
          0,
          0,
          1,
          1,
          2,
          3,
          3,
          4,
          1,
          1,
          10,
          13,
          16,
          16,
          28,
          31,
          39,
          44,
          51,
          58,
          61,
          65,
          66
         ]
        }
       ],
       "layout": {
        "template": {
         "data": {
          "bar": [
           {
            "error_x": {
             "color": "#2a3f5f"
            },
            "error_y": {
             "color": "#2a3f5f"
            },
            "marker": {
             "line": {
              "color": "#E5ECF6",
              "width": 0.5
             }
            },
            "type": "bar"
           }
          ],
          "barpolar": [
           {
            "marker": {
             "line": {
              "color": "#E5ECF6",
              "width": 0.5
             }
            },
            "type": "barpolar"
           }
          ],
          "carpet": [
           {
            "aaxis": {
             "endlinecolor": "#2a3f5f",
             "gridcolor": "white",
             "linecolor": "white",
             "minorgridcolor": "white",
             "startlinecolor": "#2a3f5f"
            },
            "baxis": {
             "endlinecolor": "#2a3f5f",
             "gridcolor": "white",
             "linecolor": "white",
             "minorgridcolor": "white",
             "startlinecolor": "#2a3f5f"
            },
            "type": "carpet"
           }
          ],
          "choropleth": [
           {
            "colorbar": {
             "outlinewidth": 0,
             "ticks": ""
            },
            "type": "choropleth"
           }
          ],
          "contour": [
           {
            "colorbar": {
             "outlinewidth": 0,
             "ticks": ""
            },
            "colorscale": [
             [
              0,
              "#0d0887"
             ],
             [
              0.1111111111111111,
              "#46039f"
             ],
             [
              0.2222222222222222,
              "#7201a8"
             ],
             [
              0.3333333333333333,
              "#9c179e"
             ],
             [
              0.4444444444444444,
              "#bd3786"
             ],
             [
              0.5555555555555556,
              "#d8576b"
             ],
             [
              0.6666666666666666,
              "#ed7953"
             ],
             [
              0.7777777777777778,
              "#fb9f3a"
             ],
             [
              0.8888888888888888,
              "#fdca26"
             ],
             [
              1,
              "#f0f921"
             ]
            ],
            "type": "contour"
           }
          ],
          "contourcarpet": [
           {
            "colorbar": {
             "outlinewidth": 0,
             "ticks": ""
            },
            "type": "contourcarpet"
           }
          ],
          "heatmap": [
           {
            "colorbar": {
             "outlinewidth": 0,
             "ticks": ""
            },
            "colorscale": [
             [
              0,
              "#0d0887"
             ],
             [
              0.1111111111111111,
              "#46039f"
             ],
             [
              0.2222222222222222,
              "#7201a8"
             ],
             [
              0.3333333333333333,
              "#9c179e"
             ],
             [
              0.4444444444444444,
              "#bd3786"
             ],
             [
              0.5555555555555556,
              "#d8576b"
             ],
             [
              0.6666666666666666,
              "#ed7953"
             ],
             [
              0.7777777777777778,
              "#fb9f3a"
             ],
             [
              0.8888888888888888,
              "#fdca26"
             ],
             [
              1,
              "#f0f921"
             ]
            ],
            "type": "heatmap"
           }
          ],
          "heatmapgl": [
           {
            "colorbar": {
             "outlinewidth": 0,
             "ticks": ""
            },
            "colorscale": [
             [
              0,
              "#0d0887"
             ],
             [
              0.1111111111111111,
              "#46039f"
             ],
             [
              0.2222222222222222,
              "#7201a8"
             ],
             [
              0.3333333333333333,
              "#9c179e"
             ],
             [
              0.4444444444444444,
              "#bd3786"
             ],
             [
              0.5555555555555556,
              "#d8576b"
             ],
             [
              0.6666666666666666,
              "#ed7953"
             ],
             [
              0.7777777777777778,
              "#fb9f3a"
             ],
             [
              0.8888888888888888,
              "#fdca26"
             ],
             [
              1,
              "#f0f921"
             ]
            ],
            "type": "heatmapgl"
           }
          ],
          "histogram": [
           {
            "marker": {
             "colorbar": {
              "outlinewidth": 0,
              "ticks": ""
             }
            },
            "type": "histogram"
           }
          ],
          "histogram2d": [
           {
            "colorbar": {
             "outlinewidth": 0,
             "ticks": ""
            },
            "colorscale": [
             [
              0,
              "#0d0887"
             ],
             [
              0.1111111111111111,
              "#46039f"
             ],
             [
              0.2222222222222222,
              "#7201a8"
             ],
             [
              0.3333333333333333,
              "#9c179e"
             ],
             [
              0.4444444444444444,
              "#bd3786"
             ],
             [
              0.5555555555555556,
              "#d8576b"
             ],
             [
              0.6666666666666666,
              "#ed7953"
             ],
             [
              0.7777777777777778,
              "#fb9f3a"
             ],
             [
              0.8888888888888888,
              "#fdca26"
             ],
             [
              1,
              "#f0f921"
             ]
            ],
            "type": "histogram2d"
           }
          ],
          "histogram2dcontour": [
           {
            "colorbar": {
             "outlinewidth": 0,
             "ticks": ""
            },
            "colorscale": [
             [
              0,
              "#0d0887"
             ],
             [
              0.1111111111111111,
              "#46039f"
             ],
             [
              0.2222222222222222,
              "#7201a8"
             ],
             [
              0.3333333333333333,
              "#9c179e"
             ],
             [
              0.4444444444444444,
              "#bd3786"
             ],
             [
              0.5555555555555556,
              "#d8576b"
             ],
             [
              0.6666666666666666,
              "#ed7953"
             ],
             [
              0.7777777777777778,
              "#fb9f3a"
             ],
             [
              0.8888888888888888,
              "#fdca26"
             ],
             [
              1,
              "#f0f921"
             ]
            ],
            "type": "histogram2dcontour"
           }
          ],
          "mesh3d": [
           {
            "colorbar": {
             "outlinewidth": 0,
             "ticks": ""
            },
            "type": "mesh3d"
           }
          ],
          "parcoords": [
           {
            "line": {
             "colorbar": {
              "outlinewidth": 0,
              "ticks": ""
             }
            },
            "type": "parcoords"
           }
          ],
          "pie": [
           {
            "automargin": true,
            "type": "pie"
           }
          ],
          "scatter": [
           {
            "marker": {
             "colorbar": {
              "outlinewidth": 0,
              "ticks": ""
             }
            },
            "type": "scatter"
           }
          ],
          "scatter3d": [
           {
            "line": {
             "colorbar": {
              "outlinewidth": 0,
              "ticks": ""
             }
            },
            "marker": {
             "colorbar": {
              "outlinewidth": 0,
              "ticks": ""
             }
            },
            "type": "scatter3d"
           }
          ],
          "scattercarpet": [
           {
            "marker": {
             "colorbar": {
              "outlinewidth": 0,
              "ticks": ""
             }
            },
            "type": "scattercarpet"
           }
          ],
          "scattergeo": [
           {
            "marker": {
             "colorbar": {
              "outlinewidth": 0,
              "ticks": ""
             }
            },
            "type": "scattergeo"
           }
          ],
          "scattergl": [
           {
            "marker": {
             "colorbar": {
              "outlinewidth": 0,
              "ticks": ""
             }
            },
            "type": "scattergl"
           }
          ],
          "scattermapbox": [
           {
            "marker": {
             "colorbar": {
              "outlinewidth": 0,
              "ticks": ""
             }
            },
            "type": "scattermapbox"
           }
          ],
          "scatterpolar": [
           {
            "marker": {
             "colorbar": {
              "outlinewidth": 0,
              "ticks": ""
             }
            },
            "type": "scatterpolar"
           }
          ],
          "scatterpolargl": [
           {
            "marker": {
             "colorbar": {
              "outlinewidth": 0,
              "ticks": ""
             }
            },
            "type": "scatterpolargl"
           }
          ],
          "scatterternary": [
           {
            "marker": {
             "colorbar": {
              "outlinewidth": 0,
              "ticks": ""
             }
            },
            "type": "scatterternary"
           }
          ],
          "surface": [
           {
            "colorbar": {
             "outlinewidth": 0,
             "ticks": ""
            },
            "colorscale": [
             [
              0,
              "#0d0887"
             ],
             [
              0.1111111111111111,
              "#46039f"
             ],
             [
              0.2222222222222222,
              "#7201a8"
             ],
             [
              0.3333333333333333,
              "#9c179e"
             ],
             [
              0.4444444444444444,
              "#bd3786"
             ],
             [
              0.5555555555555556,
              "#d8576b"
             ],
             [
              0.6666666666666666,
              "#ed7953"
             ],
             [
              0.7777777777777778,
              "#fb9f3a"
             ],
             [
              0.8888888888888888,
              "#fdca26"
             ],
             [
              1,
              "#f0f921"
             ]
            ],
            "type": "surface"
           }
          ],
          "table": [
           {
            "cells": {
             "fill": {
              "color": "#EBF0F8"
             },
             "line": {
              "color": "white"
             }
            },
            "header": {
             "fill": {
              "color": "#C8D4E3"
             },
             "line": {
              "color": "white"
             }
            },
            "type": "table"
           }
          ]
         },
         "layout": {
          "annotationdefaults": {
           "arrowcolor": "#2a3f5f",
           "arrowhead": 0,
           "arrowwidth": 1
          },
          "coloraxis": {
           "colorbar": {
            "outlinewidth": 0,
            "ticks": ""
           }
          },
          "colorscale": {
           "diverging": [
            [
             0,
             "#8e0152"
            ],
            [
             0.1,
             "#c51b7d"
            ],
            [
             0.2,
             "#de77ae"
            ],
            [
             0.3,
             "#f1b6da"
            ],
            [
             0.4,
             "#fde0ef"
            ],
            [
             0.5,
             "#f7f7f7"
            ],
            [
             0.6,
             "#e6f5d0"
            ],
            [
             0.7,
             "#b8e186"
            ],
            [
             0.8,
             "#7fbc41"
            ],
            [
             0.9,
             "#4d9221"
            ],
            [
             1,
             "#276419"
            ]
           ],
           "sequential": [
            [
             0,
             "#0d0887"
            ],
            [
             0.1111111111111111,
             "#46039f"
            ],
            [
             0.2222222222222222,
             "#7201a8"
            ],
            [
             0.3333333333333333,
             "#9c179e"
            ],
            [
             0.4444444444444444,
             "#bd3786"
            ],
            [
             0.5555555555555556,
             "#d8576b"
            ],
            [
             0.6666666666666666,
             "#ed7953"
            ],
            [
             0.7777777777777778,
             "#fb9f3a"
            ],
            [
             0.8888888888888888,
             "#fdca26"
            ],
            [
             1,
             "#f0f921"
            ]
           ],
           "sequentialminus": [
            [
             0,
             "#0d0887"
            ],
            [
             0.1111111111111111,
             "#46039f"
            ],
            [
             0.2222222222222222,
             "#7201a8"
            ],
            [
             0.3333333333333333,
             "#9c179e"
            ],
            [
             0.4444444444444444,
             "#bd3786"
            ],
            [
             0.5555555555555556,
             "#d8576b"
            ],
            [
             0.6666666666666666,
             "#ed7953"
            ],
            [
             0.7777777777777778,
             "#fb9f3a"
            ],
            [
             0.8888888888888888,
             "#fdca26"
            ],
            [
             1,
             "#f0f921"
            ]
           ]
          },
          "colorway": [
           "#636efa",
           "#EF553B",
           "#00cc96",
           "#ab63fa",
           "#FFA15A",
           "#19d3f3",
           "#FF6692",
           "#B6E880",
           "#FF97FF",
           "#FECB52"
          ],
          "font": {
           "color": "#2a3f5f"
          },
          "geo": {
           "bgcolor": "white",
           "lakecolor": "white",
           "landcolor": "#E5ECF6",
           "showlakes": true,
           "showland": true,
           "subunitcolor": "white"
          },
          "hoverlabel": {
           "align": "left"
          },
          "hovermode": "closest",
          "mapbox": {
           "style": "light"
          },
          "paper_bgcolor": "white",
          "plot_bgcolor": "#E5ECF6",
          "polar": {
           "angularaxis": {
            "gridcolor": "white",
            "linecolor": "white",
            "ticks": ""
           },
           "bgcolor": "#E5ECF6",
           "radialaxis": {
            "gridcolor": "white",
            "linecolor": "white",
            "ticks": ""
           }
          },
          "scene": {
           "xaxis": {
            "backgroundcolor": "#E5ECF6",
            "gridcolor": "white",
            "gridwidth": 2,
            "linecolor": "white",
            "showbackground": true,
            "ticks": "",
            "zerolinecolor": "white"
           },
           "yaxis": {
            "backgroundcolor": "#E5ECF6",
            "gridcolor": "white",
            "gridwidth": 2,
            "linecolor": "white",
            "showbackground": true,
            "ticks": "",
            "zerolinecolor": "white"
           },
           "zaxis": {
            "backgroundcolor": "#E5ECF6",
            "gridcolor": "white",
            "gridwidth": 2,
            "linecolor": "white",
            "showbackground": true,
            "ticks": "",
            "zerolinecolor": "white"
           }
          },
          "shapedefaults": {
           "line": {
            "color": "#2a3f5f"
           }
          },
          "ternary": {
           "aaxis": {
            "gridcolor": "white",
            "linecolor": "white",
            "ticks": ""
           },
           "baxis": {
            "gridcolor": "white",
            "linecolor": "white",
            "ticks": ""
           },
           "bgcolor": "#E5ECF6",
           "caxis": {
            "gridcolor": "white",
            "linecolor": "white",
            "ticks": ""
           }
          },
          "title": {
           "x": 0.05
          },
          "xaxis": {
           "automargin": true,
           "gridcolor": "white",
           "linecolor": "white",
           "ticks": "",
           "title": {
            "standoff": 15
           },
           "zerolinecolor": "white",
           "zerolinewidth": 2
          },
          "yaxis": {
           "automargin": true,
           "gridcolor": "white",
           "linecolor": "white",
           "ticks": "",
           "title": {
            "standoff": 15
           },
           "zerolinecolor": "white",
           "zerolinewidth": 2
          }
         }
        },
        "title": {
         "text": "COVID-19 cases in Serbia"
        },
        "xaxis": {
         "title": {
          "text": "Date"
         }
        },
        "yaxis": {
         "title": {
          "text": "Cases"
         }
        }
       }
      },
      "text/html": [
       "<div>\n",
       "        \n",
       "        \n",
       "            <div id=\"810882de-dd0e-40b9-bbc6-a7fe40e8e5ff\" class=\"plotly-graph-div\" style=\"height:525px; width:100%;\"></div>\n",
       "            <script type=\"text/javascript\">\n",
       "                require([\"plotly\"], function(Plotly) {\n",
       "                    window.PLOTLYENV=window.PLOTLYENV || {};\n",
       "                    \n",
       "                if (document.getElementById(\"810882de-dd0e-40b9-bbc6-a7fe40e8e5ff\")) {\n",
       "                    Plotly.newPlot(\n",
       "                        '810882de-dd0e-40b9-bbc6-a7fe40e8e5ff',\n",
       "                        [{\"name\": \"Confirmed cases\", \"type\": \"scatter\", \"x\": [\"2020-03-06\", \"2020-03-07\", \"2020-03-08\", \"2020-03-09\", \"2020-03-10\", \"2020-03-11\", \"2020-03-12\", \"2020-03-13\", \"2020-03-14\", \"2020-03-15\", \"2020-03-16\", \"2020-03-17\", \"2020-03-18\", \"2020-03-19\", \"2020-03-20\", \"2020-03-21\", \"2020-03-22\", \"2020-03-23\", \"2020-03-24\", \"2020-03-25\", \"2020-03-26\", \"2020-03-27\", \"2020-03-28\", \"2020-03-29\", \"2020-03-30\", \"2020-03-31\", \"2020-04-01\", \"2020-04-02\", \"2020-04-03\", \"2020-04-04\", \"2020-04-05\", \"2020-04-06\", \"2020-04-07\", \"2020-04-08\", \"2020-04-09\"], \"y\": [1.0, 1.0, 1.0, 1.0, 5.0, 12.0, 19.0, 35.0, 46.0, 48.0, 55.0, 65.0, 83.0, 103.0, 135.0, 171.0, 222.0, 249.0, 303.0, 384.0, 384.0, 457.0, 659.0, 741.0, 785.0, 900.0, 1060.0, 1171.0, 1476.0, 1624.0, 1908.0, 2200.0, 2447.0, 2666.0, 2867.0]}, {\"name\": \"Fatal cases\", \"type\": \"scatter\", \"x\": [\"2020-03-06\", \"2020-03-07\", \"2020-03-08\", \"2020-03-09\", \"2020-03-10\", \"2020-03-11\", \"2020-03-12\", \"2020-03-13\", \"2020-03-14\", \"2020-03-15\", \"2020-03-16\", \"2020-03-17\", \"2020-03-18\", \"2020-03-19\", \"2020-03-20\", \"2020-03-21\", \"2020-03-22\", \"2020-03-23\", \"2020-03-24\", \"2020-03-25\", \"2020-03-26\", \"2020-03-27\", \"2020-03-28\", \"2020-03-29\", \"2020-03-30\", \"2020-03-31\", \"2020-04-01\", \"2020-04-02\", \"2020-04-03\", \"2020-04-04\", \"2020-04-05\", \"2020-04-06\", \"2020-04-07\", \"2020-04-08\", \"2020-04-09\"], \"y\": [0.0, 0.0, 0.0, 0.0, 0.0, 0.0, 0.0, 0.0, 0.0, 0.0, 0.0, 0.0, 0.0, 0.0, 1.0, 1.0, 2.0, 3.0, 3.0, 4.0, 1.0, 1.0, 10.0, 13.0, 16.0, 16.0, 28.0, 31.0, 39.0, 44.0, 51.0, 58.0, 61.0, 65.0, 66.0]}],\n",
       "                        {\"template\": {\"data\": {\"bar\": [{\"error_x\": {\"color\": \"#2a3f5f\"}, \"error_y\": {\"color\": \"#2a3f5f\"}, \"marker\": {\"line\": {\"color\": \"#E5ECF6\", \"width\": 0.5}}, \"type\": \"bar\"}], \"barpolar\": [{\"marker\": {\"line\": {\"color\": \"#E5ECF6\", \"width\": 0.5}}, \"type\": \"barpolar\"}], \"carpet\": [{\"aaxis\": {\"endlinecolor\": \"#2a3f5f\", \"gridcolor\": \"white\", \"linecolor\": \"white\", \"minorgridcolor\": \"white\", \"startlinecolor\": \"#2a3f5f\"}, \"baxis\": {\"endlinecolor\": \"#2a3f5f\", \"gridcolor\": \"white\", \"linecolor\": \"white\", \"minorgridcolor\": \"white\", \"startlinecolor\": \"#2a3f5f\"}, \"type\": \"carpet\"}], \"choropleth\": [{\"colorbar\": {\"outlinewidth\": 0, \"ticks\": \"\"}, \"type\": \"choropleth\"}], \"contour\": [{\"colorbar\": {\"outlinewidth\": 0, \"ticks\": \"\"}, \"colorscale\": [[0.0, \"#0d0887\"], [0.1111111111111111, \"#46039f\"], [0.2222222222222222, \"#7201a8\"], [0.3333333333333333, \"#9c179e\"], [0.4444444444444444, \"#bd3786\"], [0.5555555555555556, \"#d8576b\"], [0.6666666666666666, \"#ed7953\"], [0.7777777777777778, \"#fb9f3a\"], [0.8888888888888888, \"#fdca26\"], [1.0, \"#f0f921\"]], \"type\": \"contour\"}], \"contourcarpet\": [{\"colorbar\": {\"outlinewidth\": 0, \"ticks\": \"\"}, \"type\": \"contourcarpet\"}], \"heatmap\": [{\"colorbar\": {\"outlinewidth\": 0, \"ticks\": \"\"}, \"colorscale\": [[0.0, \"#0d0887\"], [0.1111111111111111, \"#46039f\"], [0.2222222222222222, \"#7201a8\"], [0.3333333333333333, \"#9c179e\"], [0.4444444444444444, \"#bd3786\"], [0.5555555555555556, \"#d8576b\"], [0.6666666666666666, \"#ed7953\"], [0.7777777777777778, \"#fb9f3a\"], [0.8888888888888888, \"#fdca26\"], [1.0, \"#f0f921\"]], \"type\": \"heatmap\"}], \"heatmapgl\": [{\"colorbar\": {\"outlinewidth\": 0, \"ticks\": \"\"}, \"colorscale\": [[0.0, \"#0d0887\"], [0.1111111111111111, \"#46039f\"], [0.2222222222222222, \"#7201a8\"], [0.3333333333333333, \"#9c179e\"], [0.4444444444444444, \"#bd3786\"], [0.5555555555555556, \"#d8576b\"], [0.6666666666666666, \"#ed7953\"], [0.7777777777777778, \"#fb9f3a\"], [0.8888888888888888, \"#fdca26\"], [1.0, \"#f0f921\"]], \"type\": \"heatmapgl\"}], \"histogram\": [{\"marker\": {\"colorbar\": {\"outlinewidth\": 0, \"ticks\": \"\"}}, \"type\": \"histogram\"}], \"histogram2d\": [{\"colorbar\": {\"outlinewidth\": 0, \"ticks\": \"\"}, \"colorscale\": [[0.0, \"#0d0887\"], [0.1111111111111111, \"#46039f\"], [0.2222222222222222, \"#7201a8\"], [0.3333333333333333, \"#9c179e\"], [0.4444444444444444, \"#bd3786\"], [0.5555555555555556, \"#d8576b\"], [0.6666666666666666, \"#ed7953\"], [0.7777777777777778, \"#fb9f3a\"], [0.8888888888888888, \"#fdca26\"], [1.0, \"#f0f921\"]], \"type\": \"histogram2d\"}], \"histogram2dcontour\": [{\"colorbar\": {\"outlinewidth\": 0, \"ticks\": \"\"}, \"colorscale\": [[0.0, \"#0d0887\"], [0.1111111111111111, \"#46039f\"], [0.2222222222222222, \"#7201a8\"], [0.3333333333333333, \"#9c179e\"], [0.4444444444444444, \"#bd3786\"], [0.5555555555555556, \"#d8576b\"], [0.6666666666666666, \"#ed7953\"], [0.7777777777777778, \"#fb9f3a\"], [0.8888888888888888, \"#fdca26\"], [1.0, \"#f0f921\"]], \"type\": \"histogram2dcontour\"}], \"mesh3d\": [{\"colorbar\": {\"outlinewidth\": 0, \"ticks\": \"\"}, \"type\": \"mesh3d\"}], \"parcoords\": [{\"line\": {\"colorbar\": {\"outlinewidth\": 0, \"ticks\": \"\"}}, \"type\": \"parcoords\"}], \"pie\": [{\"automargin\": true, \"type\": \"pie\"}], \"scatter\": [{\"marker\": {\"colorbar\": {\"outlinewidth\": 0, \"ticks\": \"\"}}, \"type\": \"scatter\"}], \"scatter3d\": [{\"line\": {\"colorbar\": {\"outlinewidth\": 0, \"ticks\": \"\"}}, \"marker\": {\"colorbar\": {\"outlinewidth\": 0, \"ticks\": \"\"}}, \"type\": \"scatter3d\"}], \"scattercarpet\": [{\"marker\": {\"colorbar\": {\"outlinewidth\": 0, \"ticks\": \"\"}}, \"type\": \"scattercarpet\"}], \"scattergeo\": [{\"marker\": {\"colorbar\": {\"outlinewidth\": 0, \"ticks\": \"\"}}, \"type\": \"scattergeo\"}], \"scattergl\": [{\"marker\": {\"colorbar\": {\"outlinewidth\": 0, \"ticks\": \"\"}}, \"type\": \"scattergl\"}], \"scattermapbox\": [{\"marker\": {\"colorbar\": {\"outlinewidth\": 0, \"ticks\": \"\"}}, \"type\": \"scattermapbox\"}], \"scatterpolar\": [{\"marker\": {\"colorbar\": {\"outlinewidth\": 0, \"ticks\": \"\"}}, \"type\": \"scatterpolar\"}], \"scatterpolargl\": [{\"marker\": {\"colorbar\": {\"outlinewidth\": 0, \"ticks\": \"\"}}, \"type\": \"scatterpolargl\"}], \"scatterternary\": [{\"marker\": {\"colorbar\": {\"outlinewidth\": 0, \"ticks\": \"\"}}, \"type\": \"scatterternary\"}], \"surface\": [{\"colorbar\": {\"outlinewidth\": 0, \"ticks\": \"\"}, \"colorscale\": [[0.0, \"#0d0887\"], [0.1111111111111111, \"#46039f\"], [0.2222222222222222, \"#7201a8\"], [0.3333333333333333, \"#9c179e\"], [0.4444444444444444, \"#bd3786\"], [0.5555555555555556, \"#d8576b\"], [0.6666666666666666, \"#ed7953\"], [0.7777777777777778, \"#fb9f3a\"], [0.8888888888888888, \"#fdca26\"], [1.0, \"#f0f921\"]], \"type\": \"surface\"}], \"table\": [{\"cells\": {\"fill\": {\"color\": \"#EBF0F8\"}, \"line\": {\"color\": \"white\"}}, \"header\": {\"fill\": {\"color\": \"#C8D4E3\"}, \"line\": {\"color\": \"white\"}}, \"type\": \"table\"}]}, \"layout\": {\"annotationdefaults\": {\"arrowcolor\": \"#2a3f5f\", \"arrowhead\": 0, \"arrowwidth\": 1}, \"coloraxis\": {\"colorbar\": {\"outlinewidth\": 0, \"ticks\": \"\"}}, \"colorscale\": {\"diverging\": [[0, \"#8e0152\"], [0.1, \"#c51b7d\"], [0.2, \"#de77ae\"], [0.3, \"#f1b6da\"], [0.4, \"#fde0ef\"], [0.5, \"#f7f7f7\"], [0.6, \"#e6f5d0\"], [0.7, \"#b8e186\"], [0.8, \"#7fbc41\"], [0.9, \"#4d9221\"], [1, \"#276419\"]], \"sequential\": [[0.0, \"#0d0887\"], [0.1111111111111111, \"#46039f\"], [0.2222222222222222, \"#7201a8\"], [0.3333333333333333, \"#9c179e\"], [0.4444444444444444, \"#bd3786\"], [0.5555555555555556, \"#d8576b\"], [0.6666666666666666, \"#ed7953\"], [0.7777777777777778, \"#fb9f3a\"], [0.8888888888888888, \"#fdca26\"], [1.0, \"#f0f921\"]], \"sequentialminus\": [[0.0, \"#0d0887\"], [0.1111111111111111, \"#46039f\"], [0.2222222222222222, \"#7201a8\"], [0.3333333333333333, \"#9c179e\"], [0.4444444444444444, \"#bd3786\"], [0.5555555555555556, \"#d8576b\"], [0.6666666666666666, \"#ed7953\"], [0.7777777777777778, \"#fb9f3a\"], [0.8888888888888888, \"#fdca26\"], [1.0, \"#f0f921\"]]}, \"colorway\": [\"#636efa\", \"#EF553B\", \"#00cc96\", \"#ab63fa\", \"#FFA15A\", \"#19d3f3\", \"#FF6692\", \"#B6E880\", \"#FF97FF\", \"#FECB52\"], \"font\": {\"color\": \"#2a3f5f\"}, \"geo\": {\"bgcolor\": \"white\", \"lakecolor\": \"white\", \"landcolor\": \"#E5ECF6\", \"showlakes\": true, \"showland\": true, \"subunitcolor\": \"white\"}, \"hoverlabel\": {\"align\": \"left\"}, \"hovermode\": \"closest\", \"mapbox\": {\"style\": \"light\"}, \"paper_bgcolor\": \"white\", \"plot_bgcolor\": \"#E5ECF6\", \"polar\": {\"angularaxis\": {\"gridcolor\": \"white\", \"linecolor\": \"white\", \"ticks\": \"\"}, \"bgcolor\": \"#E5ECF6\", \"radialaxis\": {\"gridcolor\": \"white\", \"linecolor\": \"white\", \"ticks\": \"\"}}, \"scene\": {\"xaxis\": {\"backgroundcolor\": \"#E5ECF6\", \"gridcolor\": \"white\", \"gridwidth\": 2, \"linecolor\": \"white\", \"showbackground\": true, \"ticks\": \"\", \"zerolinecolor\": \"white\"}, \"yaxis\": {\"backgroundcolor\": \"#E5ECF6\", \"gridcolor\": \"white\", \"gridwidth\": 2, \"linecolor\": \"white\", \"showbackground\": true, \"ticks\": \"\", \"zerolinecolor\": \"white\"}, \"zaxis\": {\"backgroundcolor\": \"#E5ECF6\", \"gridcolor\": \"white\", \"gridwidth\": 2, \"linecolor\": \"white\", \"showbackground\": true, \"ticks\": \"\", \"zerolinecolor\": \"white\"}}, \"shapedefaults\": {\"line\": {\"color\": \"#2a3f5f\"}}, \"ternary\": {\"aaxis\": {\"gridcolor\": \"white\", \"linecolor\": \"white\", \"ticks\": \"\"}, \"baxis\": {\"gridcolor\": \"white\", \"linecolor\": \"white\", \"ticks\": \"\"}, \"bgcolor\": \"#E5ECF6\", \"caxis\": {\"gridcolor\": \"white\", \"linecolor\": \"white\", \"ticks\": \"\"}}, \"title\": {\"x\": 0.05}, \"xaxis\": {\"automargin\": true, \"gridcolor\": \"white\", \"linecolor\": \"white\", \"ticks\": \"\", \"title\": {\"standoff\": 15}, \"zerolinecolor\": \"white\", \"zerolinewidth\": 2}, \"yaxis\": {\"automargin\": true, \"gridcolor\": \"white\", \"linecolor\": \"white\", \"ticks\": \"\", \"title\": {\"standoff\": 15}, \"zerolinecolor\": \"white\", \"zerolinewidth\": 2}}}, \"title\": {\"text\": \"COVID-19 cases in Serbia\"}, \"xaxis\": {\"title\": {\"text\": \"Date\"}}, \"yaxis\": {\"title\": {\"text\": \"Cases\"}}},\n",
       "                        {\"responsive\": true}\n",
       "                    ).then(function(){\n",
       "                            \n",
       "var gd = document.getElementById('810882de-dd0e-40b9-bbc6-a7fe40e8e5ff');\n",
       "var x = new MutationObserver(function (mutations, observer) {{\n",
       "        var display = window.getComputedStyle(gd).display;\n",
       "        if (!display || display === 'none') {{\n",
       "            console.log([gd, 'removed!']);\n",
       "            Plotly.purge(gd);\n",
       "            observer.disconnect();\n",
       "        }}\n",
       "}});\n",
       "\n",
       "// Listen for the removal of the full notebook cells\n",
       "var notebookContainer = gd.closest('#notebook-container');\n",
       "if (notebookContainer) {{\n",
       "    x.observe(notebookContainer, {childList: true});\n",
       "}}\n",
       "\n",
       "// Listen for the clearing of the current output cell\n",
       "var outputEl = gd.closest('.output');\n",
       "if (outputEl) {{\n",
       "    x.observe(outputEl, {childList: true});\n",
       "}}\n",
       "\n",
       "                        })\n",
       "                };\n",
       "                });\n",
       "            </script>\n",
       "        </div>"
      ]
     },
     "metadata": {},
     "output_type": "display_data"
    }
   ],
   "source": [
    "import plotly.graph_objects as go\n",
    "fig = go.Figure()\n",
    "\n",
    "Serbia_confirmed = train[train['Country_Region'] == 'Serbia'].groupby(['Date']).sum().Confirmed\n",
    "# we want to see the progression from the first case in Serbia (for the first 44 days we didn't have any case)\n",
    "Serbia_confirmed = Serbia_confirmed[44:]\n",
    "Serbia_fatalities = train[train['Country_Region'] == 'Serbia'].groupby(['Date']).sum().Fatalities\n",
    "Serbia_fatalities = Serbia_fatalities[44:]\n",
    "date = train['Date'].unique()\n",
    "date = date[44:]\n",
    "fig.add_trace(go.Scatter(x = date, y = Serbia_confirmed, name = \"Confirmed cases\"))\n",
    "fig.add_trace(go.Scatter(x = date, y = Serbia_fatalities, name = \"Fatal cases\"))\n",
    "fig.update_layout(title = \"COVID-19 cases in Serbia\",\n",
    "                 xaxis_title = \"Date\",\n",
    "                 yaxis_title = \"Cases\")\n"
   ]
  },
  {
   "cell_type": "code",
   "execution_count": 361,
   "metadata": {},
   "outputs": [
    {
     "data": {
      "text/html": [
       "<div>\n",
       "<style scoped>\n",
       "    .dataframe tbody tr th:only-of-type {\n",
       "        vertical-align: middle;\n",
       "    }\n",
       "\n",
       "    .dataframe tbody tr th {\n",
       "        vertical-align: top;\n",
       "    }\n",
       "\n",
       "    .dataframe thead th {\n",
       "        text-align: right;\n",
       "    }\n",
       "</style>\n",
       "<table border=\"1\" class=\"dataframe\">\n",
       "  <thead>\n",
       "    <tr style=\"text-align: right;\">\n",
       "      <th></th>\n",
       "      <th>Id</th>\n",
       "      <th>Province_State</th>\n",
       "      <th>Country_Region</th>\n",
       "      <th>Confirmed</th>\n",
       "      <th>Fatalities</th>\n",
       "    </tr>\n",
       "    <tr>\n",
       "      <th>Date</th>\n",
       "      <th></th>\n",
       "      <th></th>\n",
       "      <th></th>\n",
       "      <th></th>\n",
       "      <th></th>\n",
       "    </tr>\n",
       "  </thead>\n",
       "  <tbody>\n",
       "    <tr>\n",
       "      <th>2020-01-22</th>\n",
       "      <td>24283</td>\n",
       "      <td>Serbia</td>\n",
       "      <td>Serbia</td>\n",
       "      <td>0.0</td>\n",
       "      <td>0.0</td>\n",
       "    </tr>\n",
       "    <tr>\n",
       "      <th>2020-01-23</th>\n",
       "      <td>24284</td>\n",
       "      <td>Serbia</td>\n",
       "      <td>Serbia</td>\n",
       "      <td>0.0</td>\n",
       "      <td>0.0</td>\n",
       "    </tr>\n",
       "    <tr>\n",
       "      <th>2020-01-24</th>\n",
       "      <td>24285</td>\n",
       "      <td>Serbia</td>\n",
       "      <td>Serbia</td>\n",
       "      <td>0.0</td>\n",
       "      <td>0.0</td>\n",
       "    </tr>\n",
       "    <tr>\n",
       "      <th>2020-01-25</th>\n",
       "      <td>24286</td>\n",
       "      <td>Serbia</td>\n",
       "      <td>Serbia</td>\n",
       "      <td>0.0</td>\n",
       "      <td>0.0</td>\n",
       "    </tr>\n",
       "    <tr>\n",
       "      <th>2020-01-26</th>\n",
       "      <td>24287</td>\n",
       "      <td>Serbia</td>\n",
       "      <td>Serbia</td>\n",
       "      <td>0.0</td>\n",
       "      <td>0.0</td>\n",
       "    </tr>\n",
       "  </tbody>\n",
       "</table>\n",
       "</div>"
      ],
      "text/plain": [
       "               Id Province_State Country_Region  Confirmed  Fatalities\n",
       "Date                                                                  \n",
       "2020-01-22  24283         Serbia         Serbia        0.0         0.0\n",
       "2020-01-23  24284         Serbia         Serbia        0.0         0.0\n",
       "2020-01-24  24285         Serbia         Serbia        0.0         0.0\n",
       "2020-01-25  24286         Serbia         Serbia        0.0         0.0\n",
       "2020-01-26  24287         Serbia         Serbia        0.0         0.0"
      ]
     },
     "execution_count": 361,
     "metadata": {},
     "output_type": "execute_result"
    }
   ],
   "source": [
    "train['Date'] = pd.to_datetime(train['Date'], infer_datetime_format = True)\n",
    "train_countries = train.groupby(\"Country_Region\")\n",
    "train_countries.get_group('Serbia').set_index(\"Date\").head()"
   ]
  },
  {
   "cell_type": "code",
   "execution_count": 362,
   "metadata": {},
   "outputs": [
    {
     "data": {
      "text/html": [
       "<div>\n",
       "<style scoped>\n",
       "    .dataframe tbody tr th:only-of-type {\n",
       "        vertical-align: middle;\n",
       "    }\n",
       "\n",
       "    .dataframe tbody tr th {\n",
       "        vertical-align: top;\n",
       "    }\n",
       "\n",
       "    .dataframe thead th {\n",
       "        text-align: right;\n",
       "    }\n",
       "</style>\n",
       "<table border=\"1\" class=\"dataframe\">\n",
       "  <thead>\n",
       "    <tr style=\"text-align: right;\">\n",
       "      <th>Country_Region</th>\n",
       "      <th>Afghanistan</th>\n",
       "      <th>Albania</th>\n",
       "      <th>Algeria</th>\n",
       "      <th>Andorra</th>\n",
       "      <th>Angola</th>\n",
       "      <th>Antigua and Barbuda</th>\n",
       "      <th>Argentina</th>\n",
       "      <th>Armenia</th>\n",
       "      <th>Australia</th>\n",
       "      <th>Austria</th>\n",
       "      <th>...</th>\n",
       "      <th>United Arab Emirates</th>\n",
       "      <th>United Kingdom</th>\n",
       "      <th>Uruguay</th>\n",
       "      <th>Uzbekistan</th>\n",
       "      <th>Venezuela</th>\n",
       "      <th>Vietnam</th>\n",
       "      <th>West Bank and Gaza</th>\n",
       "      <th>Western Sahara</th>\n",
       "      <th>Zambia</th>\n",
       "      <th>Zimbabwe</th>\n",
       "    </tr>\n",
       "    <tr>\n",
       "      <th>Date</th>\n",
       "      <th></th>\n",
       "      <th></th>\n",
       "      <th></th>\n",
       "      <th></th>\n",
       "      <th></th>\n",
       "      <th></th>\n",
       "      <th></th>\n",
       "      <th></th>\n",
       "      <th></th>\n",
       "      <th></th>\n",
       "      <th></th>\n",
       "      <th></th>\n",
       "      <th></th>\n",
       "      <th></th>\n",
       "      <th></th>\n",
       "      <th></th>\n",
       "      <th></th>\n",
       "      <th></th>\n",
       "      <th></th>\n",
       "      <th></th>\n",
       "      <th></th>\n",
       "    </tr>\n",
       "  </thead>\n",
       "  <tbody>\n",
       "    <tr>\n",
       "      <th>2020-01-22</th>\n",
       "      <td>0.0</td>\n",
       "      <td>0.0</td>\n",
       "      <td>0.0</td>\n",
       "      <td>0.0</td>\n",
       "      <td>0.0</td>\n",
       "      <td>0.0</td>\n",
       "      <td>0.0</td>\n",
       "      <td>0.0</td>\n",
       "      <td>0.000</td>\n",
       "      <td>0.0</td>\n",
       "      <td>...</td>\n",
       "      <td>0.0</td>\n",
       "      <td>0.000000</td>\n",
       "      <td>0.0</td>\n",
       "      <td>0.0</td>\n",
       "      <td>0.0</td>\n",
       "      <td>0.0</td>\n",
       "      <td>0.0</td>\n",
       "      <td>0.0</td>\n",
       "      <td>0.0</td>\n",
       "      <td>0.0</td>\n",
       "    </tr>\n",
       "    <tr>\n",
       "      <th>2020-01-23</th>\n",
       "      <td>0.0</td>\n",
       "      <td>0.0</td>\n",
       "      <td>0.0</td>\n",
       "      <td>0.0</td>\n",
       "      <td>0.0</td>\n",
       "      <td>0.0</td>\n",
       "      <td>0.0</td>\n",
       "      <td>0.0</td>\n",
       "      <td>0.000</td>\n",
       "      <td>0.0</td>\n",
       "      <td>...</td>\n",
       "      <td>0.0</td>\n",
       "      <td>0.000000</td>\n",
       "      <td>0.0</td>\n",
       "      <td>0.0</td>\n",
       "      <td>0.0</td>\n",
       "      <td>2.0</td>\n",
       "      <td>0.0</td>\n",
       "      <td>0.0</td>\n",
       "      <td>0.0</td>\n",
       "      <td>0.0</td>\n",
       "    </tr>\n",
       "    <tr>\n",
       "      <th>2020-01-24</th>\n",
       "      <td>0.0</td>\n",
       "      <td>0.0</td>\n",
       "      <td>0.0</td>\n",
       "      <td>0.0</td>\n",
       "      <td>0.0</td>\n",
       "      <td>0.0</td>\n",
       "      <td>0.0</td>\n",
       "      <td>0.0</td>\n",
       "      <td>0.000</td>\n",
       "      <td>0.0</td>\n",
       "      <td>...</td>\n",
       "      <td>0.0</td>\n",
       "      <td>0.000000</td>\n",
       "      <td>0.0</td>\n",
       "      <td>0.0</td>\n",
       "      <td>0.0</td>\n",
       "      <td>2.0</td>\n",
       "      <td>0.0</td>\n",
       "      <td>0.0</td>\n",
       "      <td>0.0</td>\n",
       "      <td>0.0</td>\n",
       "    </tr>\n",
       "    <tr>\n",
       "      <th>2020-01-25</th>\n",
       "      <td>0.0</td>\n",
       "      <td>0.0</td>\n",
       "      <td>0.0</td>\n",
       "      <td>0.0</td>\n",
       "      <td>0.0</td>\n",
       "      <td>0.0</td>\n",
       "      <td>0.0</td>\n",
       "      <td>0.0</td>\n",
       "      <td>0.000</td>\n",
       "      <td>0.0</td>\n",
       "      <td>...</td>\n",
       "      <td>0.0</td>\n",
       "      <td>0.000000</td>\n",
       "      <td>0.0</td>\n",
       "      <td>0.0</td>\n",
       "      <td>0.0</td>\n",
       "      <td>2.0</td>\n",
       "      <td>0.0</td>\n",
       "      <td>0.0</td>\n",
       "      <td>0.0</td>\n",
       "      <td>0.0</td>\n",
       "    </tr>\n",
       "    <tr>\n",
       "      <th>2020-01-26</th>\n",
       "      <td>0.0</td>\n",
       "      <td>0.0</td>\n",
       "      <td>0.0</td>\n",
       "      <td>0.0</td>\n",
       "      <td>0.0</td>\n",
       "      <td>0.0</td>\n",
       "      <td>0.0</td>\n",
       "      <td>0.0</td>\n",
       "      <td>0.500</td>\n",
       "      <td>0.0</td>\n",
       "      <td>...</td>\n",
       "      <td>0.0</td>\n",
       "      <td>0.000000</td>\n",
       "      <td>0.0</td>\n",
       "      <td>0.0</td>\n",
       "      <td>0.0</td>\n",
       "      <td>2.0</td>\n",
       "      <td>0.0</td>\n",
       "      <td>0.0</td>\n",
       "      <td>0.0</td>\n",
       "      <td>0.0</td>\n",
       "    </tr>\n",
       "    <tr>\n",
       "      <th>...</th>\n",
       "      <td>...</td>\n",
       "      <td>...</td>\n",
       "      <td>...</td>\n",
       "      <td>...</td>\n",
       "      <td>...</td>\n",
       "      <td>...</td>\n",
       "      <td>...</td>\n",
       "      <td>...</td>\n",
       "      <td>...</td>\n",
       "      <td>...</td>\n",
       "      <td>...</td>\n",
       "      <td>...</td>\n",
       "      <td>...</td>\n",
       "      <td>...</td>\n",
       "      <td>...</td>\n",
       "      <td>...</td>\n",
       "      <td>...</td>\n",
       "      <td>...</td>\n",
       "      <td>...</td>\n",
       "      <td>...</td>\n",
       "      <td>...</td>\n",
       "    </tr>\n",
       "    <tr>\n",
       "      <th>2020-04-05</th>\n",
       "      <td>349.0</td>\n",
       "      <td>361.0</td>\n",
       "      <td>1320.0</td>\n",
       "      <td>501.0</td>\n",
       "      <td>14.0</td>\n",
       "      <td>15.0</td>\n",
       "      <td>1451.0</td>\n",
       "      <td>822.0</td>\n",
       "      <td>710.875</td>\n",
       "      <td>12051.0</td>\n",
       "      <td>...</td>\n",
       "      <td>1799.0</td>\n",
       "      <td>4403.272727</td>\n",
       "      <td>400.0</td>\n",
       "      <td>342.0</td>\n",
       "      <td>159.0</td>\n",
       "      <td>241.0</td>\n",
       "      <td>237.0</td>\n",
       "      <td>4.0</td>\n",
       "      <td>39.0</td>\n",
       "      <td>9.0</td>\n",
       "    </tr>\n",
       "    <tr>\n",
       "      <th>2020-04-06</th>\n",
       "      <td>367.0</td>\n",
       "      <td>377.0</td>\n",
       "      <td>1423.0</td>\n",
       "      <td>525.0</td>\n",
       "      <td>16.0</td>\n",
       "      <td>15.0</td>\n",
       "      <td>1554.0</td>\n",
       "      <td>833.0</td>\n",
       "      <td>724.625</td>\n",
       "      <td>12297.0</td>\n",
       "      <td>...</td>\n",
       "      <td>2076.0</td>\n",
       "      <td>4752.636364</td>\n",
       "      <td>406.0</td>\n",
       "      <td>457.0</td>\n",
       "      <td>165.0</td>\n",
       "      <td>245.0</td>\n",
       "      <td>254.0</td>\n",
       "      <td>4.0</td>\n",
       "      <td>39.0</td>\n",
       "      <td>10.0</td>\n",
       "    </tr>\n",
       "    <tr>\n",
       "      <th>2020-04-07</th>\n",
       "      <td>423.0</td>\n",
       "      <td>383.0</td>\n",
       "      <td>1468.0</td>\n",
       "      <td>545.0</td>\n",
       "      <td>17.0</td>\n",
       "      <td>19.0</td>\n",
       "      <td>1628.0</td>\n",
       "      <td>853.0</td>\n",
       "      <td>736.875</td>\n",
       "      <td>12639.0</td>\n",
       "      <td>...</td>\n",
       "      <td>2359.0</td>\n",
       "      <td>5086.272727</td>\n",
       "      <td>424.0</td>\n",
       "      <td>520.0</td>\n",
       "      <td>165.0</td>\n",
       "      <td>249.0</td>\n",
       "      <td>261.0</td>\n",
       "      <td>4.0</td>\n",
       "      <td>39.0</td>\n",
       "      <td>11.0</td>\n",
       "    </tr>\n",
       "    <tr>\n",
       "      <th>2020-04-08</th>\n",
       "      <td>444.0</td>\n",
       "      <td>400.0</td>\n",
       "      <td>1572.0</td>\n",
       "      <td>564.0</td>\n",
       "      <td>19.0</td>\n",
       "      <td>19.0</td>\n",
       "      <td>1715.0</td>\n",
       "      <td>881.0</td>\n",
       "      <td>751.250</td>\n",
       "      <td>12942.0</td>\n",
       "      <td>...</td>\n",
       "      <td>2659.0</td>\n",
       "      <td>5588.545455</td>\n",
       "      <td>424.0</td>\n",
       "      <td>545.0</td>\n",
       "      <td>167.0</td>\n",
       "      <td>251.0</td>\n",
       "      <td>263.0</td>\n",
       "      <td>4.0</td>\n",
       "      <td>39.0</td>\n",
       "      <td>11.0</td>\n",
       "    </tr>\n",
       "    <tr>\n",
       "      <th>2020-04-09</th>\n",
       "      <td>484.0</td>\n",
       "      <td>409.0</td>\n",
       "      <td>1666.0</td>\n",
       "      <td>583.0</td>\n",
       "      <td>19.0</td>\n",
       "      <td>19.0</td>\n",
       "      <td>1795.0</td>\n",
       "      <td>921.0</td>\n",
       "      <td>763.500</td>\n",
       "      <td>13244.0</td>\n",
       "      <td>...</td>\n",
       "      <td>2990.0</td>\n",
       "      <td>5988.363636</td>\n",
       "      <td>456.0</td>\n",
       "      <td>582.0</td>\n",
       "      <td>171.0</td>\n",
       "      <td>255.0</td>\n",
       "      <td>263.0</td>\n",
       "      <td>4.0</td>\n",
       "      <td>39.0</td>\n",
       "      <td>11.0</td>\n",
       "    </tr>\n",
       "  </tbody>\n",
       "</table>\n",
       "<p>79 rows × 184 columns</p>\n",
       "</div>"
      ],
      "text/plain": [
       "Country_Region  Afghanistan  Albania  Algeria  Andorra  Angola  \\\n",
       "Date                                                             \n",
       "2020-01-22              0.0      0.0      0.0      0.0     0.0   \n",
       "2020-01-23              0.0      0.0      0.0      0.0     0.0   \n",
       "2020-01-24              0.0      0.0      0.0      0.0     0.0   \n",
       "2020-01-25              0.0      0.0      0.0      0.0     0.0   \n",
       "2020-01-26              0.0      0.0      0.0      0.0     0.0   \n",
       "...                     ...      ...      ...      ...     ...   \n",
       "2020-04-05            349.0    361.0   1320.0    501.0    14.0   \n",
       "2020-04-06            367.0    377.0   1423.0    525.0    16.0   \n",
       "2020-04-07            423.0    383.0   1468.0    545.0    17.0   \n",
       "2020-04-08            444.0    400.0   1572.0    564.0    19.0   \n",
       "2020-04-09            484.0    409.0   1666.0    583.0    19.0   \n",
       "\n",
       "Country_Region  Antigua and Barbuda  Argentina  Armenia  Australia  Austria  \\\n",
       "Date                                                                          \n",
       "2020-01-22                      0.0        0.0      0.0      0.000      0.0   \n",
       "2020-01-23                      0.0        0.0      0.0      0.000      0.0   \n",
       "2020-01-24                      0.0        0.0      0.0      0.000      0.0   \n",
       "2020-01-25                      0.0        0.0      0.0      0.000      0.0   \n",
       "2020-01-26                      0.0        0.0      0.0      0.500      0.0   \n",
       "...                             ...        ...      ...        ...      ...   \n",
       "2020-04-05                     15.0     1451.0    822.0    710.875  12051.0   \n",
       "2020-04-06                     15.0     1554.0    833.0    724.625  12297.0   \n",
       "2020-04-07                     19.0     1628.0    853.0    736.875  12639.0   \n",
       "2020-04-08                     19.0     1715.0    881.0    751.250  12942.0   \n",
       "2020-04-09                     19.0     1795.0    921.0    763.500  13244.0   \n",
       "\n",
       "Country_Region  ...  United Arab Emirates  United Kingdom  Uruguay  \\\n",
       "Date            ...                                                  \n",
       "2020-01-22      ...                   0.0        0.000000      0.0   \n",
       "2020-01-23      ...                   0.0        0.000000      0.0   \n",
       "2020-01-24      ...                   0.0        0.000000      0.0   \n",
       "2020-01-25      ...                   0.0        0.000000      0.0   \n",
       "2020-01-26      ...                   0.0        0.000000      0.0   \n",
       "...             ...                   ...             ...      ...   \n",
       "2020-04-05      ...                1799.0     4403.272727    400.0   \n",
       "2020-04-06      ...                2076.0     4752.636364    406.0   \n",
       "2020-04-07      ...                2359.0     5086.272727    424.0   \n",
       "2020-04-08      ...                2659.0     5588.545455    424.0   \n",
       "2020-04-09      ...                2990.0     5988.363636    456.0   \n",
       "\n",
       "Country_Region  Uzbekistan  Venezuela  Vietnam  West Bank and Gaza  \\\n",
       "Date                                                                 \n",
       "2020-01-22             0.0        0.0      0.0                 0.0   \n",
       "2020-01-23             0.0        0.0      2.0                 0.0   \n",
       "2020-01-24             0.0        0.0      2.0                 0.0   \n",
       "2020-01-25             0.0        0.0      2.0                 0.0   \n",
       "2020-01-26             0.0        0.0      2.0                 0.0   \n",
       "...                    ...        ...      ...                 ...   \n",
       "2020-04-05           342.0      159.0    241.0               237.0   \n",
       "2020-04-06           457.0      165.0    245.0               254.0   \n",
       "2020-04-07           520.0      165.0    249.0               261.0   \n",
       "2020-04-08           545.0      167.0    251.0               263.0   \n",
       "2020-04-09           582.0      171.0    255.0               263.0   \n",
       "\n",
       "Country_Region  Western Sahara  Zambia  Zimbabwe  \n",
       "Date                                              \n",
       "2020-01-22                 0.0     0.0       0.0  \n",
       "2020-01-23                 0.0     0.0       0.0  \n",
       "2020-01-24                 0.0     0.0       0.0  \n",
       "2020-01-25                 0.0     0.0       0.0  \n",
       "2020-01-26                 0.0     0.0       0.0  \n",
       "...                        ...     ...       ...  \n",
       "2020-04-05                 4.0    39.0       9.0  \n",
       "2020-04-06                 4.0    39.0      10.0  \n",
       "2020-04-07                 4.0    39.0      11.0  \n",
       "2020-04-08                 4.0    39.0      11.0  \n",
       "2020-04-09                 4.0    39.0      11.0  \n",
       "\n",
       "[79 rows x 184 columns]"
      ]
     },
     "execution_count": 362,
     "metadata": {},
     "output_type": "execute_result"
    }
   ],
   "source": [
    "Confirmed = pd.pivot_table(train, values = \"Confirmed\", index = \"Date\", columns = \"Country_Region\")\n",
    "Fatalities = pd.pivot_table(train, values = \"Fatalities\", index = \"Date\", columns = \"Country_Region\")\n",
    "\n",
    "#used for ARIMA model\n",
    "#arima_train = Confirmed['Serbia'].to_frame()\n",
    "arima_train = Confirmed\n",
    "\n",
    "Confirmed"
   ]
  },
  {
   "cell_type": "markdown",
   "metadata": {},
   "source": [
    "### Normalize data"
   ]
  },
  {
   "cell_type": "code",
   "execution_count": 363,
   "metadata": {},
   "outputs": [],
   "source": [
    "Confirmed = Confirmed.values\n",
    "Fatalities = Fatalities.values\n",
    "\n",
    "Confirmed = Confirmed.astype('float32')\n",
    "Fatalities = Fatalities.astype('float32')\n",
    "\n",
    "scaler_c = MinMaxScaler(feature_range = (0,1))\n",
    "scaler_f = MinMaxScaler(feature_range = (0,1))\n",
    "\n",
    "Confirmed = scaler_c.fit_transform(Confirmed)\n",
    "Fatalities = scaler_f.fit_transform(Fatalities)\n",
    "#print(Confirmed)"
   ]
  },
  {
   "cell_type": "code",
   "execution_count": 364,
   "metadata": {},
   "outputs": [],
   "source": [
    "def split_sequences(sequences, n_steps):\n",
    "    X, y = list(), list()\n",
    "    for i in range(len(sequences)):\n",
    "        end_ix = i + n_steps\n",
    "        if end_ix > len(sequences)-1:\n",
    "            break\n",
    "            \n",
    "        seq_x, seq_y = sequences[i:end_ix, :], sequences[end_ix, :]\n",
    "        X.append(seq_x)\n",
    "        y.append(seq_y)\n",
    "        \n",
    "    return np.array(X), np.array(y)\n"
   ]
  },
  {
   "cell_type": "code",
   "execution_count": 365,
   "metadata": {},
   "outputs": [
    {
     "name": "stdout",
     "output_type": "stream",
     "text": [
      "(76, 3, 184) (76, 184)\n",
      "(76, 3, 184) (76, 184)\n"
     ]
    }
   ],
   "source": [
    "n_steps = 3\n",
    "X_confirmed, y_confirmed = split_sequences(Confirmed, n_steps)\n",
    "X_fatalities, y_fatalities = split_sequences(Fatalities, n_steps)\n",
    "print(X_confirmed.shape, y_confirmed.shape)\n",
    "print(X_fatalities.shape, y_fatalities.shape)\n"
   ]
  },
  {
   "cell_type": "markdown",
   "metadata": {},
   "source": [
    "### Split the data into train and test sets"
   ]
  },
  {
   "cell_type": "markdown",
   "metadata": {},
   "source": [
    "We can't use train_test_split function, since observations in our time series dataset are not independent, and this function does a random split"
   ]
  },
  {
   "cell_type": "markdown",
   "metadata": {},
   "source": [
    "### Confirmed cases"
   ]
  },
  {
   "cell_type": "code",
   "execution_count": 366,
   "metadata": {},
   "outputs": [
    {
     "name": "stdout",
     "output_type": "stream",
     "text": [
      "(60, 3, 184) (16, 3, 184) (60, 184) (16, 184)\n"
     ]
    }
   ],
   "source": [
    "n_c = int(X_confirmed.shape[0]*0.8)\n",
    "\n",
    "X_train_confirmed = X_confirmed[:n_c]\n",
    "X_val_confirmed = X_confirmed[n_c:]\n",
    "y_train_confirmed = y_confirmed[:n_c]\n",
    "y_val_confirmed = y_confirmed[n_c:]\n",
    "\n",
    "print(X_train_confirmed.shape, X_val_confirmed.shape, y_train_confirmed.shape, y_val_confirmed.shape)"
   ]
  },
  {
   "cell_type": "markdown",
   "metadata": {},
   "source": [
    "### Fatal cases"
   ]
  },
  {
   "cell_type": "code",
   "execution_count": 367,
   "metadata": {},
   "outputs": [
    {
     "name": "stdout",
     "output_type": "stream",
     "text": [
      "(60, 3, 184) (16, 3, 184) (60, 184) (16, 184)\n"
     ]
    }
   ],
   "source": [
    "n_f = int(X_fatalities.shape[0]*0.8)\n",
    "\n",
    "X_train_fatal = X_fatalities[:n_f]\n",
    "X_val_fatal = X_fatalities[n_f:]\n",
    "y_train_fatal = y_fatalities[:n_f]\n",
    "y_val_fatal = y_fatalities[n_f:]\n",
    "\n",
    "print(X_train_fatal.shape, X_val_fatal.shape, y_train_fatal.shape, y_val_fatal.shape)"
   ]
  },
  {
   "cell_type": "markdown",
   "metadata": {},
   "source": [
    "### Model for confirmed cases"
   ]
  },
  {
   "cell_type": "code",
   "execution_count": 368,
   "metadata": {},
   "outputs": [
    {
     "name": "stdout",
     "output_type": "stream",
     "text": [
      "Model: \"sequential_27\"\n",
      "_________________________________________________________________\n",
      "Layer (type)                 Output Shape              Param #   \n",
      "=================================================================\n",
      "lstm_53 (LSTM)               (None, 3, 150)            201000    \n",
      "_________________________________________________________________\n",
      "lstm_54 (LSTM)               (None, 200)               280800    \n",
      "_________________________________________________________________\n",
      "dense_27 (Dense)             (None, 184)               36984     \n",
      "=================================================================\n",
      "Total params: 518,784\n",
      "Trainable params: 518,784\n",
      "Non-trainable params: 0\n",
      "_________________________________________________________________\n"
     ]
    }
   ],
   "source": [
    "from keras.layers import LeakyReLU\n",
    "\n",
    "n_features = X_confirmed.shape[2]\n",
    "epochs = 100\n",
    "batch_size = 38\n",
    "\n",
    "from keras.layers import RepeatVector, TimeDistributed\n",
    "\n",
    "model_confirmed = Sequential()\n",
    "model_confirmed.add(LSTM(150, activation = 'relu', input_shape =(n_steps, n_features), return_sequences = True))\n",
    "model_confirmed.add(LSTM(200, activation = 'relu'))\n",
    "# adding relu to output layer so we don't get negative numbers\n",
    "model_confirmed.add(Dense(n_features, activation = 'relu'))\n",
    "\n",
    "model_confirmed.summary()"
   ]
  },
  {
   "cell_type": "code",
   "execution_count": 369,
   "metadata": {},
   "outputs": [
    {
     "name": "stdout",
     "output_type": "stream",
     "text": [
      "Epoch 1/100\n",
      "60/60 [==============================] - 1s 21ms/step - loss: 0.0085 - acc: 0.0333\n",
      "Epoch 2/100\n",
      "60/60 [==============================] - 0s 1ms/step - loss: 0.0083 - acc: 0.0000e+00\n",
      "Epoch 3/100\n",
      "60/60 [==============================] - 0s 1ms/step - loss: 0.0078 - acc: 0.0000e+00\n",
      "Epoch 4/100\n",
      "60/60 [==============================] - 0s 1ms/step - loss: 0.0074 - acc: 0.0000e+00\n",
      "Epoch 5/100\n",
      "60/60 [==============================] - 0s 1ms/step - loss: 0.0067 - acc: 0.0000e+00\n",
      "Epoch 6/100\n",
      "60/60 [==============================] - 0s 1ms/step - loss: 0.0061 - acc: 0.0000e+00\n",
      "Epoch 7/100\n",
      "60/60 [==============================] - 0s 1ms/step - loss: 0.0055 - acc: 0.0000e+00\n",
      "Epoch 8/100\n",
      "60/60 [==============================] - 0s 2ms/step - loss: 0.0051 - acc: 0.0000e+00\n",
      "Epoch 9/100\n",
      "60/60 [==============================] - 0s 2ms/step - loss: 0.0048 - acc: 0.3333\n",
      "Epoch 10/100\n",
      "60/60 [==============================] - 0s 1ms/step - loss: 0.0045 - acc: 0.3833\n",
      "Epoch 11/100\n",
      "60/60 [==============================] - 0s 1ms/step - loss: 0.0043 - acc: 0.3833\n",
      "Epoch 12/100\n",
      "60/60 [==============================] - 0s 2ms/step - loss: 0.0041 - acc: 0.3833\n",
      "Epoch 13/100\n",
      "60/60 [==============================] - 0s 2ms/step - loss: 0.0040 - acc: 0.3833\n",
      "Epoch 14/100\n",
      "60/60 [==============================] - 0s 1ms/step - loss: 0.0039 - acc: 0.3833\n",
      "Epoch 15/100\n",
      "60/60 [==============================] - 0s 2ms/step - loss: 0.0038 - acc: 0.3833\n",
      "Epoch 16/100\n",
      "60/60 [==============================] - 0s 2ms/step - loss: 0.0037 - acc: 0.3833\n",
      "Epoch 17/100\n",
      "60/60 [==============================] - 0s 1ms/step - loss: 0.0036 - acc: 0.3833\n",
      "Epoch 18/100\n",
      "60/60 [==============================] - 0s 2ms/step - loss: 0.0035 - acc: 0.3833\n",
      "Epoch 19/100\n",
      "60/60 [==============================] - 0s 1ms/step - loss: 0.0035 - acc: 0.3833\n",
      "Epoch 20/100\n",
      "60/60 [==============================] - 0s 2ms/step - loss: 0.0034 - acc: 0.3833\n",
      "Epoch 21/100\n",
      "60/60 [==============================] - 0s 1ms/step - loss: 0.0033 - acc: 0.3833\n",
      "Epoch 22/100\n",
      "60/60 [==============================] - 0s 1ms/step - loss: 0.0033 - acc: 0.3833\n",
      "Epoch 23/100\n",
      "60/60 [==============================] - 0s 1ms/step - loss: 0.0032 - acc: 0.3833\n",
      "Epoch 24/100\n",
      "60/60 [==============================] - 0s 1ms/step - loss: 0.0031 - acc: 0.3833\n",
      "Epoch 25/100\n",
      "60/60 [==============================] - 0s 2ms/step - loss: 0.0031 - acc: 0.3833\n",
      "Epoch 26/100\n",
      "60/60 [==============================] - 0s 2ms/step - loss: 0.0031 - acc: 0.3833\n",
      "Epoch 27/100\n",
      "60/60 [==============================] - 0s 1ms/step - loss: 0.0030 - acc: 0.3833\n",
      "Epoch 28/100\n",
      "60/60 [==============================] - 0s 1ms/step - loss: 0.0030 - acc: 0.3833\n",
      "Epoch 29/100\n",
      "60/60 [==============================] - 0s 2ms/step - loss: 0.0030 - acc: 0.3833\n",
      "Epoch 30/100\n",
      "60/60 [==============================] - 0s 1ms/step - loss: 0.0030 - acc: 0.3833\n",
      "Epoch 31/100\n",
      "60/60 [==============================] - 0s 2ms/step - loss: 0.0029 - acc: 0.3833\n",
      "Epoch 32/100\n",
      "60/60 [==============================] - 0s 2ms/step - loss: 0.0029 - acc: 0.3833\n",
      "Epoch 33/100\n",
      "60/60 [==============================] - 0s 2ms/step - loss: 0.0029 - acc: 0.3833\n",
      "Epoch 34/100\n",
      "60/60 [==============================] - 0s 1ms/step - loss: 0.0029 - acc: 0.3833\n",
      "Epoch 35/100\n",
      "60/60 [==============================] - 0s 1ms/step - loss: 0.0029 - acc: 0.3833\n",
      "Epoch 36/100\n",
      "60/60 [==============================] - 0s 2ms/step - loss: 0.0029 - acc: 0.3833\n",
      "Epoch 37/100\n",
      "60/60 [==============================] - 0s 1ms/step - loss: 0.0029 - acc: 0.3833\n",
      "Epoch 38/100\n",
      "60/60 [==============================] - 0s 1ms/step - loss: 0.0028 - acc: 0.3833\n",
      "Epoch 39/100\n",
      "60/60 [==============================] - 0s 1ms/step - loss: 0.0028 - acc: 0.3833\n",
      "Epoch 40/100\n",
      "60/60 [==============================] - 0s 1ms/step - loss: 0.0028 - acc: 0.3833\n",
      "Epoch 41/100\n",
      "60/60 [==============================] - 0s 1ms/step - loss: 0.0028 - acc: 0.3833\n",
      "Epoch 42/100\n",
      "60/60 [==============================] - 0s 2ms/step - loss: 0.0028 - acc: 0.3833\n",
      "Epoch 43/100\n",
      "60/60 [==============================] - 0s 2ms/step - loss: 0.0028 - acc: 0.3833\n",
      "Epoch 44/100\n",
      "60/60 [==============================] - 0s 1ms/step - loss: 0.0028 - acc: 0.3833\n",
      "Epoch 45/100\n",
      "60/60 [==============================] - 0s 2ms/step - loss: 0.0028 - acc: 0.3833\n",
      "Epoch 46/100\n",
      "60/60 [==============================] - 0s 1ms/step - loss: 0.0028 - acc: 0.3833\n",
      "Epoch 47/100\n",
      "60/60 [==============================] - 0s 2ms/step - loss: 0.0028 - acc: 0.3833\n",
      "Epoch 48/100\n",
      "60/60 [==============================] - 0s 2ms/step - loss: 0.0028 - acc: 0.3833\n",
      "Epoch 49/100\n",
      "60/60 [==============================] - 0s 2ms/step - loss: 0.0028 - acc: 0.3833\n",
      "Epoch 50/100\n",
      "60/60 [==============================] - 0s 1ms/step - loss: 0.0028 - acc: 0.3833\n",
      "Epoch 51/100\n",
      "60/60 [==============================] - 0s 1ms/step - loss: 0.0028 - acc: 0.3833\n",
      "Epoch 52/100\n",
      "60/60 [==============================] - 0s 1ms/step - loss: 0.0028 - acc: 0.3833\n",
      "Epoch 53/100\n",
      "60/60 [==============================] - 0s 2ms/step - loss: 0.0028 - acc: 0.3833\n",
      "Epoch 54/100\n",
      "60/60 [==============================] - 0s 1ms/step - loss: 0.0028 - acc: 0.3833\n",
      "Epoch 55/100\n",
      "60/60 [==============================] - 0s 1ms/step - loss: 0.0028 - acc: 0.3833\n",
      "Epoch 56/100\n",
      "60/60 [==============================] - 0s 1ms/step - loss: 0.0028 - acc: 0.3833\n",
      "Epoch 57/100\n",
      "60/60 [==============================] - 0s 1ms/step - loss: 0.0027 - acc: 0.3833\n",
      "Epoch 58/100\n",
      "60/60 [==============================] - 0s 1ms/step - loss: 0.0027 - acc: 0.3833\n",
      "Epoch 59/100\n",
      "60/60 [==============================] - 0s 1ms/step - loss: 0.0027 - acc: 0.3833\n",
      "Epoch 60/100\n",
      "60/60 [==============================] - 0s 1ms/step - loss: 0.0027 - acc: 0.3833\n",
      "Epoch 61/100\n",
      "60/60 [==============================] - 0s 1ms/step - loss: 0.0027 - acc: 0.3833\n",
      "Epoch 62/100\n",
      "60/60 [==============================] - 0s 1ms/step - loss: 0.0027 - acc: 0.3833\n",
      "Epoch 63/100\n",
      "60/60 [==============================] - 0s 1ms/step - loss: 0.0027 - acc: 0.3833\n",
      "Epoch 64/100\n",
      "60/60 [==============================] - 0s 1ms/step - loss: 0.0027 - acc: 0.3833\n",
      "Epoch 65/100\n",
      "60/60 [==============================] - 0s 1ms/step - loss: 0.0027 - acc: 0.3833\n",
      "Epoch 66/100\n",
      "60/60 [==============================] - 0s 1ms/step - loss: 0.0027 - acc: 0.3833\n",
      "Epoch 67/100\n",
      "60/60 [==============================] - 0s 2ms/step - loss: 0.0027 - acc: 0.3833\n",
      "Epoch 68/100\n",
      "60/60 [==============================] - 0s 2ms/step - loss: 0.0027 - acc: 0.3833\n",
      "Epoch 69/100\n",
      "60/60 [==============================] - 0s 2ms/step - loss: 0.0027 - acc: 0.3833\n",
      "Epoch 70/100\n",
      "60/60 [==============================] - 0s 1ms/step - loss: 0.0027 - acc: 0.3833\n",
      "Epoch 71/100\n",
      "60/60 [==============================] - 0s 1ms/step - loss: 0.0027 - acc: 0.3833\n",
      "Epoch 72/100\n",
      "60/60 [==============================] - 0s 2ms/step - loss: 0.0027 - acc: 0.3833\n",
      "Epoch 73/100\n",
      "60/60 [==============================] - 0s 2ms/step - loss: 0.0027 - acc: 0.3833\n",
      "Epoch 74/100\n",
      "60/60 [==============================] - 0s 2ms/step - loss: 0.0027 - acc: 0.3833\n",
      "Epoch 75/100\n",
      "60/60 [==============================] - 0s 2ms/step - loss: 0.0027 - acc: 0.3833\n",
      "Epoch 76/100\n",
      "60/60 [==============================] - 0s 1ms/step - loss: 0.0027 - acc: 0.3833\n",
      "Epoch 77/100\n",
      "60/60 [==============================] - 0s 2ms/step - loss: 0.0027 - acc: 0.3833\n",
      "Epoch 78/100\n",
      "60/60 [==============================] - 0s 2ms/step - loss: 0.0027 - acc: 0.3833\n",
      "Epoch 79/100\n",
      "60/60 [==============================] - 0s 1ms/step - loss: 0.0027 - acc: 0.3833\n",
      "Epoch 80/100\n",
      "60/60 [==============================] - 0s 2ms/step - loss: 0.0027 - acc: 0.3833\n",
      "Epoch 81/100\n",
      "60/60 [==============================] - 0s 2ms/step - loss: 0.0027 - acc: 0.3833\n",
      "Epoch 82/100\n",
      "60/60 [==============================] - 0s 2ms/step - loss: 0.0027 - acc: 0.3833\n",
      "Epoch 83/100\n",
      "60/60 [==============================] - 0s 2ms/step - loss: 0.0027 - acc: 0.4000\n",
      "Epoch 84/100\n",
      "60/60 [==============================] - 0s 2ms/step - loss: 0.0027 - acc: 0.4167\n",
      "Epoch 85/100\n",
      "60/60 [==============================] - 0s 1ms/step - loss: 0.0027 - acc: 0.4167\n",
      "Epoch 86/100\n",
      "60/60 [==============================] - 0s 2ms/step - loss: 0.0027 - acc: 0.4167\n",
      "Epoch 87/100\n"
     ]
    },
    {
     "name": "stdout",
     "output_type": "stream",
     "text": [
      "60/60 [==============================] - 0s 2ms/step - loss: 0.0027 - acc: 0.4333\n",
      "Epoch 88/100\n",
      "60/60 [==============================] - 0s 1ms/step - loss: 0.0027 - acc: 0.4333\n",
      "Epoch 89/100\n",
      "60/60 [==============================] - 0s 2ms/step - loss: 0.0027 - acc: 0.4333\n",
      "Epoch 90/100\n",
      "60/60 [==============================] - 0s 2ms/step - loss: 0.0027 - acc: 0.4333\n",
      "Epoch 91/100\n",
      "60/60 [==============================] - 0s 2ms/step - loss: 0.0027 - acc: 0.4333\n",
      "Epoch 92/100\n",
      "60/60 [==============================] - 0s 1ms/step - loss: 0.0027 - acc: 0.4500\n",
      "Epoch 93/100\n",
      "60/60 [==============================] - 0s 2ms/step - loss: 0.0027 - acc: 0.4500\n",
      "Epoch 94/100\n",
      "60/60 [==============================] - 0s 2ms/step - loss: 0.0027 - acc: 0.4500\n",
      "Epoch 95/100\n",
      "60/60 [==============================] - 0s 1ms/step - loss: 0.0026 - acc: 0.4500\n",
      "Epoch 96/100\n",
      "60/60 [==============================] - 0s 1ms/step - loss: 0.0022 - acc: 0.4500\n",
      "Epoch 97/100\n",
      "60/60 [==============================] - 0s 1ms/step - loss: 0.0017 - acc: 0.4500\n",
      "Epoch 98/100\n",
      "60/60 [==============================] - 0s 2ms/step - loss: 0.0014 - acc: 0.4333\n",
      "Epoch 99/100\n",
      "60/60 [==============================] - 0s 2ms/step - loss: 0.0012 - acc: 0.4167\n",
      "Epoch 100/100\n",
      "60/60 [==============================] - 0s 2ms/step - loss: 0.0012 - acc: 0.5500\n"
     ]
    }
   ],
   "source": [
    "# msle error penalizes underestimates more than overestimates\n",
    "# msle only cares about relative difference between true and predicted value\n",
    "\n",
    "model_confirmed.compile(optimizer='adam', loss = 'msle', metrics = ['acc'])\n",
    "# fit the model\n",
    "hist = model_confirmed.fit(X_train_confirmed, y_train_confirmed, epochs = epochs)"
   ]
  },
  {
   "cell_type": "code",
   "execution_count": 370,
   "metadata": {},
   "outputs": [
    {
     "name": "stdout",
     "output_type": "stream",
     "text": [
      "60/60 [==============================] - 1s 13ms/step\n",
      "Model accuracy: 58.33 %\n"
     ]
    }
   ],
   "source": [
    "scores = model_confirmed.evaluate(X_train_confirmed, y_train_confirmed)\n",
    "print(\"Model accuracy: %.2f\"%(scores[1]*100),\"%\")"
   ]
  },
  {
   "cell_type": "code",
   "execution_count": 371,
   "metadata": {},
   "outputs": [
    {
     "data": {
      "image/png": "[encoded data removed]",
      "text/plain": [
       "<Figure size 432x288 with 1 Axes>"
      ]
     },
     "metadata": {
      "needs_background": "light"
     },
     "output_type": "display_data"
    }
   ],
   "source": [
    "# OVERFITTING - val_loss >> train_loss\n",
    "# just right would be val_loss ~ train_loss\n",
    "\n",
    "plt.plot(hist.history['loss'])\n",
    "plt.title('Model train loss')\n",
    "plt.ylabel('Loss')\n",
    "plt.xlabel('Epoch')\n",
    "plt.legend(['Train', 'Validation'], loc='upper right')\n",
    "plt.show()"
   ]
  },
  {
   "cell_type": "markdown",
   "metadata": {},
   "source": [
    "### Model for fatal cases"
   ]
  },
  {
   "cell_type": "code",
   "execution_count": 341,
   "metadata": {},
   "outputs": [
    {
     "name": "stdout",
     "output_type": "stream",
     "text": [
      "Model: \"sequential_26\"\n",
      "_________________________________________________________________\n",
      "Layer (type)                 Output Shape              Param #   \n",
      "=================================================================\n",
      "lstm_51 (LSTM)               (None, 3, 100)            114000    \n",
      "_________________________________________________________________\n",
      "lstm_52 (LSTM)               (None, 200)               240800    \n",
      "_________________________________________________________________\n",
      "dense_26 (Dense)             (None, 184)               36984     \n",
      "=================================================================\n",
      "Total params: 391,784\n",
      "Trainable params: 391,784\n",
      "Non-trainable params: 0\n",
      "_________________________________________________________________\n"
     ]
    }
   ],
   "source": [
    "n_features = X_fatalities.shape[2]\n",
    "epochs = 200\n",
    "batch_size = 38\n",
    "\n",
    "\n",
    "model_fatalities = Sequential()\n",
    "model_fatalities.add(LSTM(100, activation='relu', input_shape =(n_steps, n_features), return_sequences = True))\n",
    "model_fatalities.add(LSTM(200, activation ='relu'))\n",
    "model_fatalities.add(Dense(n_features, activation = 'relu'))\n",
    "\n",
    "model_fatalities.summary()"
   ]
  },
  {
   "cell_type": "code",
   "execution_count": 342,
   "metadata": {},
   "outputs": [
    {
     "name": "stdout",
     "output_type": "stream",
     "text": [
      "Epoch 1/200\n",
      "60/60 [==============================] - 1s 25ms/step - loss: 0.0040 - acc: 0.2500\n",
      "Epoch 2/200\n",
      "60/60 [==============================] - 0s 1ms/step - loss: 0.0039 - acc: 0.8500\n",
      "Epoch 3/200\n",
      "60/60 [==============================] - 0s 1ms/step - loss: 0.0037 - acc: 0.9167\n",
      "Epoch 4/200\n",
      "60/60 [==============================] - 0s 1ms/step - loss: 0.0036 - acc: 0.9167\n",
      "Epoch 5/200\n",
      "60/60 [==============================] - 0s 2ms/step - loss: 0.0034 - acc: 0.9167\n",
      "Epoch 6/200\n",
      "60/60 [==============================] - 0s 1ms/step - loss: 0.0032 - acc: 0.9167\n",
      "Epoch 7/200\n",
      "60/60 [==============================] - 0s 1ms/step - loss: 0.0030 - acc: 0.9167\n",
      "Epoch 8/200\n",
      "60/60 [==============================] - 0s 2ms/step - loss: 0.0028 - acc: 0.9167\n",
      "Epoch 9/200\n",
      "60/60 [==============================] - 0s 1ms/step - loss: 0.0026 - acc: 0.9167\n",
      "Epoch 10/200\n",
      "60/60 [==============================] - 0s 1ms/step - loss: 0.0024 - acc: 0.9167\n",
      "Epoch 11/200\n",
      "60/60 [==============================] - 0s 1ms/step - loss: 0.0021 - acc: 0.9167\n",
      "Epoch 12/200\n",
      "60/60 [==============================] - 0s 1ms/step - loss: 0.0019 - acc: 0.9167\n",
      "Epoch 13/200\n",
      "60/60 [==============================] - 0s 1ms/step - loss: 0.0017 - acc: 0.9167\n",
      "Epoch 14/200\n",
      "60/60 [==============================] - 0s 2ms/step - loss: 0.0016 - acc: 0.9167\n",
      "Epoch 15/200\n",
      "60/60 [==============================] - 0s 1ms/step - loss: 0.0015 - acc: 0.9167\n",
      "Epoch 16/200\n",
      "60/60 [==============================] - 0s 1ms/step - loss: 0.0014 - acc: 0.9167\n",
      "Epoch 17/200\n",
      "60/60 [==============================] - 0s 2ms/step - loss: 0.0014 - acc: 0.9167\n",
      "Epoch 18/200\n",
      "60/60 [==============================] - 0s 1ms/step - loss: 0.0014 - acc: 0.9167\n",
      "Epoch 19/200\n",
      "60/60 [==============================] - 0s 1ms/step - loss: 0.0013 - acc: 0.9167\n",
      "Epoch 20/200\n",
      "60/60 [==============================] - 0s 1ms/step - loss: 0.0013 - acc: 0.9167\n",
      "Epoch 21/200\n",
      "60/60 [==============================] - 0s 1ms/step - loss: 0.0013 - acc: 0.9167\n",
      "Epoch 22/200\n",
      "60/60 [==============================] - 0s 1ms/step - loss: 0.0012 - acc: 0.9167\n",
      "Epoch 23/200\n",
      "60/60 [==============================] - 0s 1ms/step - loss: 0.0012 - acc: 0.9167\n",
      "Epoch 24/200\n",
      "60/60 [==============================] - 0s 1ms/step - loss: 0.0012 - acc: 0.9167\n",
      "Epoch 25/200\n",
      "60/60 [==============================] - 0s 1ms/step - loss: 0.0012 - acc: 0.9167\n",
      "Epoch 26/200\n",
      "60/60 [==============================] - 0s 1ms/step - loss: 0.0011 - acc: 0.9167\n",
      "Epoch 27/200\n",
      "60/60 [==============================] - 0s 1ms/step - loss: 0.0011 - acc: 0.9167\n",
      "Epoch 28/200\n",
      "60/60 [==============================] - 0s 1ms/step - loss: 0.0011 - acc: 0.9167\n",
      "Epoch 29/200\n",
      "60/60 [==============================] - 0s 1ms/step - loss: 0.0011 - acc: 0.9167\n",
      "Epoch 30/200\n",
      "60/60 [==============================] - 0s 1ms/step - loss: 0.0011 - acc: 0.9167\n",
      "Epoch 31/200\n",
      "60/60 [==============================] - 0s 1ms/step - loss: 0.0010 - acc: 0.9167\n",
      "Epoch 32/200\n",
      "60/60 [==============================] - 0s 1ms/step - loss: 0.0010 - acc: 0.9167\n",
      "Epoch 33/200\n",
      "60/60 [==============================] - 0s 2ms/step - loss: 0.0010 - acc: 0.9167\n",
      "Epoch 34/200\n",
      "60/60 [==============================] - 0s 1ms/step - loss: 0.0010 - acc: 0.9167\n",
      "Epoch 35/200\n",
      "60/60 [==============================] - 0s 1ms/step - loss: 9.9515e-04 - acc: 0.9167\n",
      "Epoch 36/200\n",
      "60/60 [==============================] - 0s 1ms/step - loss: 9.8573e-04 - acc: 0.9167\n",
      "Epoch 37/200\n",
      "60/60 [==============================] - 0s 1ms/step - loss: 9.7474e-04 - acc: 0.9167\n",
      "Epoch 38/200\n",
      "60/60 [==============================] - 0s 1ms/step - loss: 9.6607e-04 - acc: 0.9167\n",
      "Epoch 39/200\n",
      "60/60 [==============================] - 0s 1ms/step - loss: 9.5884e-04 - acc: 0.9167\n",
      "Epoch 40/200\n",
      "60/60 [==============================] - 0s 1ms/step - loss: 9.5103e-04 - acc: 0.9167\n",
      "Epoch 41/200\n",
      "60/60 [==============================] - 0s 1ms/step - loss: 9.4522e-04 - acc: 0.9167\n",
      "Epoch 42/200\n",
      "60/60 [==============================] - 0s 1ms/step - loss: 9.3927e-04 - acc: 0.9167\n",
      "Epoch 43/200\n",
      "60/60 [==============================] - 0s 1ms/step - loss: 9.3397e-04 - acc: 0.9167\n",
      "Epoch 44/200\n",
      "60/60 [==============================] - 0s 1ms/step - loss: 9.2903e-04 - acc: 0.9167\n",
      "Epoch 45/200\n",
      "60/60 [==============================] - 0s 1ms/step - loss: 9.2478e-04 - acc: 0.9167\n",
      "Epoch 46/200\n",
      "60/60 [==============================] - 0s 1ms/step - loss: 9.2144e-04 - acc: 0.9167\n",
      "Epoch 47/200\n",
      "60/60 [==============================] - 0s 1ms/step - loss: 9.1770e-04 - acc: 0.9167\n",
      "Epoch 48/200\n",
      "60/60 [==============================] - 0s 1ms/step - loss: 9.1386e-04 - acc: 0.9167\n",
      "Epoch 49/200\n",
      "60/60 [==============================] - 0s 1ms/step - loss: 9.1142e-04 - acc: 0.9167\n",
      "Epoch 50/200\n",
      "60/60 [==============================] - 0s 1ms/step - loss: 9.0759e-04 - acc: 0.9167\n",
      "Epoch 51/200\n",
      "60/60 [==============================] - 0s 1ms/step - loss: 9.0371e-04 - acc: 0.9167\n",
      "Epoch 52/200\n",
      "60/60 [==============================] - 0s 1ms/step - loss: 9.0119e-04 - acc: 0.9167\n",
      "Epoch 53/200\n",
      "60/60 [==============================] - 0s 1ms/step - loss: 8.9737e-04 - acc: 0.9167\n",
      "Epoch 54/200\n",
      "60/60 [==============================] - 0s 1ms/step - loss: 8.9411e-04 - acc: 0.9167\n",
      "Epoch 55/200\n",
      "60/60 [==============================] - 0s 2ms/step - loss: 8.9190e-04 - acc: 0.9167\n",
      "Epoch 56/200\n",
      "60/60 [==============================] - 0s 1ms/step - loss: 8.8839e-04 - acc: 0.9167\n",
      "Epoch 57/200\n",
      "60/60 [==============================] - 0s 1ms/step - loss: 8.8570e-04 - acc: 0.9167\n",
      "Epoch 58/200\n",
      "60/60 [==============================] - 0s 937us/step - loss: 8.8238e-04 - acc: 0.9167\n",
      "Epoch 59/200\n",
      "60/60 [==============================] - 0s 1ms/step - loss: 8.8020e-04 - acc: 0.9167\n",
      "Epoch 60/200\n",
      "60/60 [==============================] - 0s 1ms/step - loss: 8.7753e-04 - acc: 0.9167\n",
      "Epoch 61/200\n",
      "60/60 [==============================] - 0s 1ms/step - loss: 8.7537e-04 - acc: 0.9167\n",
      "Epoch 62/200\n",
      "60/60 [==============================] - 0s 1ms/step - loss: 8.7295e-04 - acc: 0.9167\n",
      "Epoch 63/200\n",
      "60/60 [==============================] - 0s 1ms/step - loss: 8.7027e-04 - acc: 0.9167\n",
      "Epoch 64/200\n",
      "60/60 [==============================] - 0s 1ms/step - loss: 8.6913e-04 - acc: 0.9167\n",
      "Epoch 65/200\n",
      "60/60 [==============================] - 0s 1ms/step - loss: 8.6723e-04 - acc: 0.9167\n",
      "Epoch 66/200\n",
      "60/60 [==============================] - 0s 1ms/step - loss: 8.6513e-04 - acc: 0.9167\n",
      "Epoch 67/200\n",
      "60/60 [==============================] - 0s 1ms/step - loss: 8.6307e-04 - acc: 0.9167\n",
      "Epoch 68/200\n",
      "60/60 [==============================] - 0s 1ms/step - loss: 8.6110e-04 - acc: 0.9167\n",
      "Epoch 69/200\n",
      "60/60 [==============================] - 0s 1ms/step - loss: 8.6029e-04 - acc: 0.9167\n",
      "Epoch 70/200\n",
      "60/60 [==============================] - 0s 1ms/step - loss: 8.5821e-04 - acc: 0.9167\n",
      "Epoch 71/200\n",
      "60/60 [==============================] - 0s 1ms/step - loss: 8.5692e-04 - acc: 0.9167\n",
      "Epoch 72/200\n",
      "60/60 [==============================] - 0s 1ms/step - loss: 8.5525e-04 - acc: 0.9167\n",
      "Epoch 73/200\n",
      "60/60 [==============================] - 0s 1ms/step - loss: 8.5371e-04 - acc: 0.9167\n",
      "Epoch 74/200\n",
      "60/60 [==============================] - 0s 1ms/step - loss: 8.5257e-04 - acc: 0.9167\n",
      "Epoch 75/200\n",
      "60/60 [==============================] - 0s 1ms/step - loss: 8.5102e-04 - acc: 0.9167\n",
      "Epoch 76/200\n",
      "60/60 [==============================] - 0s 1ms/step - loss: 8.4990e-04 - acc: 0.9167\n",
      "Epoch 77/200\n",
      "60/60 [==============================] - 0s 1ms/step - loss: 8.4826e-04 - acc: 0.9167\n",
      "Epoch 78/200\n",
      "60/60 [==============================] - 0s 983us/step - loss: 8.4756e-04 - acc: 0.9167\n",
      "Epoch 79/200\n",
      "60/60 [==============================] - 0s 1ms/step - loss: 8.4623e-04 - acc: 0.9167\n",
      "Epoch 80/200\n",
      "60/60 [==============================] - 0s 1ms/step - loss: 8.4319e-04 - acc: 0.9167\n",
      "Epoch 81/200\n",
      "60/60 [==============================] - 0s 1ms/step - loss: 8.3519e-04 - acc: 0.9167\n",
      "Epoch 82/200\n",
      "60/60 [==============================] - 0s 1ms/step - loss: 8.2908e-04 - acc: 0.9167\n",
      "Epoch 83/200\n",
      "60/60 [==============================] - 0s 2ms/step - loss: 8.2523e-04 - acc: 0.9167\n",
      "Epoch 84/200\n",
      "60/60 [==============================] - 0s 1ms/step - loss: 8.2216e-04 - acc: 0.9167\n",
      "Epoch 85/200\n"
     ]
    },
    {
     "name": "stdout",
     "output_type": "stream",
     "text": [
      "60/60 [==============================] - 0s 1ms/step - loss: 8.2093e-04 - acc: 0.9167\n",
      "Epoch 86/200\n",
      "60/60 [==============================] - 0s 1ms/step - loss: 8.1932e-04 - acc: 0.9167\n",
      "Epoch 87/200\n",
      "60/60 [==============================] - 0s 1ms/step - loss: 8.1779e-04 - acc: 0.9167\n",
      "Epoch 88/200\n",
      "60/60 [==============================] - 0s 1ms/step - loss: 8.1599e-04 - acc: 0.9167\n",
      "Epoch 89/200\n",
      "60/60 [==============================] - 0s 966us/step - loss: 8.1343e-04 - acc: 0.9167\n",
      "Epoch 90/200\n",
      "60/60 [==============================] - 0s 1ms/step - loss: 8.1323e-04 - acc: 0.9167\n",
      "Epoch 91/200\n",
      "60/60 [==============================] - 0s 1ms/step - loss: 8.1118e-04 - acc: 0.9167\n",
      "Epoch 92/200\n",
      "60/60 [==============================] - 0s 1ms/step - loss: 8.0950e-04 - acc: 0.9167\n",
      "Epoch 93/200\n",
      "60/60 [==============================] - 0s 1ms/step - loss: 8.0792e-04 - acc: 0.9167\n",
      "Epoch 94/200\n",
      "60/60 [==============================] - 0s 1ms/step - loss: 8.0660e-04 - acc: 0.9167\n",
      "Epoch 95/200\n",
      "60/60 [==============================] - 0s 1ms/step - loss: 8.0565e-04 - acc: 0.9167\n",
      "Epoch 96/200\n",
      "60/60 [==============================] - 0s 978us/step - loss: 8.0394e-04 - acc: 0.9167\n",
      "Epoch 97/200\n",
      "60/60 [==============================] - 0s 1ms/step - loss: 8.0280e-04 - acc: 0.9167\n",
      "Epoch 98/200\n",
      "60/60 [==============================] - 0s 1ms/step - loss: 8.0182e-04 - acc: 0.9167\n",
      "Epoch 99/200\n",
      "60/60 [==============================] - 0s 1ms/step - loss: 8.0105e-04 - acc: 0.9167\n",
      "Epoch 100/200\n",
      "60/60 [==============================] - 0s 1ms/step - loss: 7.9959e-04 - acc: 0.9167\n",
      "Epoch 101/200\n",
      "60/60 [==============================] - ETA: 0s - loss: 9.2904e-04 - acc: 0.875 - 0s 1ms/step - loss: 7.9905e-04 - acc: 0.9167\n",
      "Epoch 102/200\n",
      "60/60 [==============================] - 0s 1ms/step - loss: 7.9758e-04 - acc: 0.9167\n",
      "Epoch 103/200\n",
      "60/60 [==============================] - 0s 958us/step - loss: 7.9754e-04 - acc: 0.9167\n",
      "Epoch 104/200\n",
      "60/60 [==============================] - 0s 1ms/step - loss: 7.9570e-04 - acc: 0.9167\n",
      "Epoch 105/200\n",
      "60/60 [==============================] - 0s 942us/step - loss: 7.9471e-04 - acc: 0.9167\n",
      "Epoch 106/200\n",
      "60/60 [==============================] - 0s 1ms/step - loss: 7.9359e-04 - acc: 0.9167\n",
      "Epoch 107/200\n",
      "60/60 [==============================] - 0s 1ms/step - loss: 7.9290e-04 - acc: 0.9167\n",
      "Epoch 108/200\n",
      "60/60 [==============================] - 0s 1ms/step - loss: 7.9166e-04 - acc: 0.9167\n",
      "Epoch 109/200\n",
      "60/60 [==============================] - 0s 971us/step - loss: 7.9179e-04 - acc: 0.9167\n",
      "Epoch 110/200\n",
      "60/60 [==============================] - 0s 918us/step - loss: 7.9007e-04 - acc: 0.9167\n",
      "Epoch 111/200\n",
      "60/60 [==============================] - 0s 1ms/step - loss: 7.9001e-04 - acc: 0.9167\n",
      "Epoch 112/200\n",
      "60/60 [==============================] - 0s 1ms/step - loss: 7.8924e-04 - acc: 0.9167\n",
      "Epoch 113/200\n",
      "60/60 [==============================] - 0s 1ms/step - loss: 7.8753e-04 - acc: 0.9167\n",
      "Epoch 114/200\n",
      "60/60 [==============================] - 0s 965us/step - loss: 7.8797e-04 - acc: 0.9167\n",
      "Epoch 115/200\n",
      "60/60 [==============================] - 0s 1ms/step - loss: 7.8712e-04 - acc: 0.9167\n",
      "Epoch 116/200\n",
      "60/60 [==============================] - 0s 1ms/step - loss: 7.8547e-04 - acc: 0.9167\n",
      "Epoch 117/200\n",
      "60/60 [==============================] - 0s 1ms/step - loss: 7.8498e-04 - acc: 0.9167\n",
      "Epoch 118/200\n",
      "60/60 [==============================] - 0s 1ms/step - loss: 7.8440e-04 - acc: 0.9167\n",
      "Epoch 119/200\n",
      "60/60 [==============================] - 0s 1ms/step - loss: 7.8366e-04 - acc: 0.9167\n",
      "Epoch 120/200\n",
      "60/60 [==============================] - 0s 1ms/step - loss: 7.8287e-04 - acc: 0.9167\n",
      "Epoch 121/200\n",
      "60/60 [==============================] - 0s 1ms/step - loss: 7.8229e-04 - acc: 0.9167\n",
      "Epoch 122/200\n",
      "60/60 [==============================] - 0s 1ms/step - loss: 7.8208e-04 - acc: 0.9167\n",
      "Epoch 123/200\n",
      "60/60 [==============================] - 0s 1ms/step - loss: 7.8110e-04 - acc: 0.9167\n",
      "Epoch 124/200\n",
      "60/60 [==============================] - 0s 1ms/step - loss: 7.8034e-04 - acc: 0.9167\n",
      "Epoch 125/200\n",
      "60/60 [==============================] - 0s 975us/step - loss: 7.7929e-04 - acc: 0.9167\n",
      "Epoch 126/200\n",
      "60/60 [==============================] - 0s 899us/step - loss: 7.7689e-04 - acc: 0.9167\n",
      "Epoch 127/200\n",
      "60/60 [==============================] - 0s 1ms/step - loss: 7.3064e-04 - acc: 0.9167\n",
      "Epoch 128/200\n",
      "60/60 [==============================] - 0s 1ms/step - loss: 6.7668e-04 - acc: 0.8667\n",
      "Epoch 129/200\n",
      "60/60 [==============================] - 0s 1ms/step - loss: 6.7915e-04 - acc: 0.8167\n",
      "Epoch 130/200\n",
      "60/60 [==============================] - 0s 1ms/step - loss: 6.9225e-04 - acc: 0.8167\n",
      "Epoch 131/200\n",
      "60/60 [==============================] - 0s 1ms/step - loss: 6.7425e-04 - acc: 0.8333\n",
      "Epoch 132/200\n",
      "60/60 [==============================] - 0s 1ms/step - loss: 6.4841e-04 - acc: 0.8667\n",
      "Epoch 133/200\n",
      "60/60 [==============================] - 0s 1ms/step - loss: 6.4336e-04 - acc: 0.9167\n",
      "Epoch 134/200\n",
      "60/60 [==============================] - 0s 1ms/step - loss: 6.4773e-04 - acc: 0.9167\n",
      "Epoch 135/200\n",
      "60/60 [==============================] - 0s 1ms/step - loss: 6.4782e-04 - acc: 0.9167\n",
      "Epoch 136/200\n",
      "60/60 [==============================] - 0s 1ms/step - loss: 6.4211e-04 - acc: 0.9167\n",
      "Epoch 137/200\n",
      "60/60 [==============================] - 0s 968us/step - loss: 6.3876e-04 - acc: 0.9167\n",
      "Epoch 138/200\n",
      "60/60 [==============================] - 0s 1ms/step - loss: 6.3938e-04 - acc: 0.9167\n",
      "Epoch 139/200\n",
      "60/60 [==============================] - 0s 1ms/step - loss: 6.3907e-04 - acc: 0.9167\n",
      "Epoch 140/200\n",
      "60/60 [==============================] - 0s 1ms/step - loss: 6.3602e-04 - acc: 0.9167\n",
      "Epoch 141/200\n",
      "60/60 [==============================] - 0s 1ms/step - loss: 6.3398e-04 - acc: 0.9167\n",
      "Epoch 142/200\n",
      "60/60 [==============================] - 0s 1ms/step - loss: 6.3233e-04 - acc: 0.9167\n",
      "Epoch 143/200\n",
      "60/60 [==============================] - 0s 1ms/step - loss: 6.3259e-04 - acc: 0.9167\n",
      "Epoch 144/200\n",
      "60/60 [==============================] - 0s 1ms/step - loss: 6.3191e-04 - acc: 0.9167\n",
      "Epoch 145/200\n",
      "60/60 [==============================] - 0s 923us/step - loss: 6.2994e-04 - acc: 0.9167\n",
      "Epoch 146/200\n",
      "60/60 [==============================] - 0s 1ms/step - loss: 6.2979e-04 - acc: 0.9167\n",
      "Epoch 147/200\n",
      "60/60 [==============================] - 0s 1ms/step - loss: 6.2955e-04 - acc: 0.9167\n",
      "Epoch 148/200\n",
      "60/60 [==============================] - 0s 1ms/step - loss: 6.2862e-04 - acc: 0.9167\n",
      "Epoch 149/200\n",
      "60/60 [==============================] - 0s 1ms/step - loss: 6.2834e-04 - acc: 0.9167\n",
      "Epoch 150/200\n",
      "60/60 [==============================] - 0s 1ms/step - loss: 6.2738e-04 - acc: 0.9167\n",
      "Epoch 151/200\n",
      "60/60 [==============================] - 0s 1ms/step - loss: 6.2733e-04 - acc: 0.9167\n",
      "Epoch 152/200\n",
      "60/60 [==============================] - 0s 1ms/step - loss: 6.2626e-04 - acc: 0.9167\n",
      "Epoch 153/200\n",
      "60/60 [==============================] - 0s 1ms/step - loss: 6.2605e-04 - acc: 0.9167\n",
      "Epoch 154/200\n",
      "60/60 [==============================] - 0s 1ms/step - loss: 6.2537e-04 - acc: 0.9167\n",
      "Epoch 155/200\n",
      "60/60 [==============================] - 0s 1ms/step - loss: 6.2610e-04 - acc: 0.9167\n",
      "Epoch 156/200\n",
      "60/60 [==============================] - 0s 2ms/step - loss: 6.2462e-04 - acc: 0.9167\n",
      "Epoch 157/200\n",
      "60/60 [==============================] - 0s 1ms/step - loss: 6.2588e-04 - acc: 0.9167\n",
      "Epoch 158/200\n",
      "60/60 [==============================] - 0s 1ms/step - loss: 6.2459e-04 - acc: 0.9167\n",
      "Epoch 159/200\n",
      "60/60 [==============================] - 0s 1ms/step - loss: 6.2468e-04 - acc: 0.9167\n",
      "Epoch 160/200\n",
      "60/60 [==============================] - 0s 1ms/step - loss: 6.2569e-04 - acc: 0.9167\n",
      "Epoch 161/200\n",
      "60/60 [==============================] - 0s 2ms/step - loss: 6.2427e-04 - acc: 0.9167\n",
      "Epoch 162/200\n",
      "60/60 [==============================] - 0s 1ms/step - loss: 6.2519e-04 - acc: 0.9167\n",
      "Epoch 163/200\n",
      "60/60 [==============================] - 0s 1ms/step - loss: 6.2521e-04 - acc: 0.9167\n",
      "Epoch 164/200\n",
      "60/60 [==============================] - 0s 1ms/step - loss: 6.2418e-04 - acc: 0.9167\n",
      "Epoch 165/200\n",
      "60/60 [==============================] - 0s 1ms/step - loss: 6.2399e-04 - acc: 0.9167\n",
      "Epoch 166/200\n"
     ]
    },
    {
     "name": "stdout",
     "output_type": "stream",
     "text": [
      "60/60 [==============================] - 0s 1ms/step - loss: 6.2270e-04 - acc: 0.9167\n",
      "Epoch 167/200\n",
      "60/60 [==============================] - 0s 1ms/step - loss: 6.2411e-04 - acc: 0.9167\n",
      "Epoch 168/200\n",
      "60/60 [==============================] - 0s 2ms/step - loss: 6.2349e-04 - acc: 0.9167\n",
      "Epoch 169/200\n",
      "60/60 [==============================] - 0s 1ms/step - loss: 6.2250e-04 - acc: 0.9167\n",
      "Epoch 170/200\n",
      "60/60 [==============================] - 0s 1ms/step - loss: 6.2256e-04 - acc: 0.9167\n",
      "Epoch 171/200\n",
      "60/60 [==============================] - 0s 914us/step - loss: 6.2256e-04 - acc: 0.9167\n",
      "Epoch 172/200\n",
      "60/60 [==============================] - 0s 2ms/step - loss: 6.2111e-04 - acc: 0.9167\n",
      "Epoch 173/200\n",
      "60/60 [==============================] - 0s 1ms/step - loss: 6.2152e-04 - acc: 0.9167\n",
      "Epoch 174/200\n",
      "60/60 [==============================] - 0s 2ms/step - loss: 6.2020e-04 - acc: 0.9167\n",
      "Epoch 175/200\n",
      "60/60 [==============================] - 0s 1ms/step - loss: 6.2113e-04 - acc: 0.9167\n",
      "Epoch 176/200\n",
      "60/60 [==============================] - 0s 1ms/step - loss: 6.1984e-04 - acc: 0.9167\n",
      "Epoch 177/200\n",
      "60/60 [==============================] - 0s 1ms/step - loss: 6.2030e-04 - acc: 0.9167\n",
      "Epoch 178/200\n",
      "60/60 [==============================] - 0s 2ms/step - loss: 6.1886e-04 - acc: 0.9167\n",
      "Epoch 179/200\n",
      "60/60 [==============================] - 0s 1ms/step - loss: 6.1964e-04 - acc: 0.9167\n",
      "Epoch 180/200\n",
      "60/60 [==============================] - 0s 1ms/step - loss: 6.1905e-04 - acc: 0.9167\n",
      "Epoch 181/200\n",
      "60/60 [==============================] - 0s 996us/step - loss: 6.1830e-04 - acc: 0.9167\n",
      "Epoch 182/200\n",
      "60/60 [==============================] - 0s 1ms/step - loss: 6.1835e-04 - acc: 0.9167\n",
      "Epoch 183/200\n",
      "60/60 [==============================] - 0s 1ms/step - loss: 6.1741e-04 - acc: 0.9167\n",
      "Epoch 184/200\n",
      "60/60 [==============================] - 0s 1ms/step - loss: 6.1801e-04 - acc: 0.9167\n",
      "Epoch 185/200\n",
      "60/60 [==============================] - 0s 2ms/step - loss: 6.1700e-04 - acc: 0.9167\n",
      "Epoch 186/200\n",
      "60/60 [==============================] - 0s 2ms/step - loss: 6.1715e-04 - acc: 0.9167\n",
      "Epoch 187/200\n",
      "60/60 [==============================] - 0s 1ms/step - loss: 6.1628e-04 - acc: 0.9167\n",
      "Epoch 188/200\n",
      "60/60 [==============================] - 0s 1ms/step - loss: 6.1625e-04 - acc: 0.9167\n",
      "Epoch 189/200\n",
      "60/60 [==============================] - 0s 2ms/step - loss: 6.1658e-04 - acc: 0.9167\n",
      "Epoch 190/200\n",
      "60/60 [==============================] - 0s 2ms/step - loss: 6.1596e-04 - acc: 0.9167\n",
      "Epoch 191/200\n",
      "60/60 [==============================] - 0s 1ms/step - loss: 6.1550e-04 - acc: 0.9167\n",
      "Epoch 192/200\n",
      "60/60 [==============================] - 0s 1ms/step - loss: 6.1502e-04 - acc: 0.9167\n",
      "Epoch 193/200\n",
      "60/60 [==============================] - 0s 1ms/step - loss: 6.1587e-04 - acc: 0.9167\n",
      "Epoch 194/200\n",
      "60/60 [==============================] - 0s 1ms/step - loss: 6.1533e-04 - acc: 0.9167\n",
      "Epoch 195/200\n",
      "60/60 [==============================] - 0s 1ms/step - loss: 6.1436e-04 - acc: 0.9167\n",
      "Epoch 196/200\n",
      "60/60 [==============================] - 0s 2ms/step - loss: 6.1506e-04 - acc: 0.9167\n",
      "Epoch 197/200\n",
      "60/60 [==============================] - 0s 2ms/step - loss: 6.1491e-04 - acc: 0.9167\n",
      "Epoch 198/200\n",
      "60/60 [==============================] - 0s 1ms/step - loss: 6.1494e-04 - acc: 0.9167\n",
      "Epoch 199/200\n",
      "60/60 [==============================] - 0s 1ms/step - loss: 6.1495e-04 - acc: 0.9167\n",
      "Epoch 200/200\n",
      "60/60 [==============================] - 0s 2ms/step - loss: 6.1456e-04 - acc: 0.9167\n"
     ]
    }
   ],
   "source": [
    "\n",
    "model_fatalities.compile(optimizer='adam', loss = 'msle', metrics = ['acc'])\n",
    "\n",
    "# fit the model\n",
    "hist = model_fatalities.fit(X_train_fatal, y_train_fatal, epochs = epochs)"
   ]
  },
  {
   "cell_type": "code",
   "execution_count": 343,
   "metadata": {},
   "outputs": [
    {
     "name": "stdout",
     "output_type": "stream",
     "text": [
      "60/60 [==============================] - 1s 13ms/step\n",
      "Model accuracy: 91.67 %\n"
     ]
    }
   ],
   "source": [
    "scores = model_fatalities.evaluate(X_train_fatal, y_train_fatal)\n",
    "print(\"Model accuracy: %.2f\"%(scores[1]*100),\"%\")"
   ]
  },
  {
   "cell_type": "code",
   "execution_count": 344,
   "metadata": {},
   "outputs": [
    {
     "data": {
      "image/png": "[encoded data removed]",
      "text/plain": [
       "<Figure size 432x288 with 1 Axes>"
      ]
     },
     "metadata": {
      "needs_background": "light"
     },
     "output_type": "display_data"
    }
   ],
   "source": [
    "# OVERFITTING - val loss > train loss\n",
    "plt.plot(hist.history['loss'])\n",
    "plt.title('Epoch vs Loss for Confirmed Cases')\n",
    "plt.ylabel('Loss')\n",
    "plt.xlabel('Epoch')\n",
    "plt.legend(['Train', 'Validation'], loc='upper right')\n",
    "plt.show()"
   ]
  },
  {
   "cell_type": "code",
   "execution_count": 188,
   "metadata": {},
   "outputs": [],
   "source": [
    "#last_confirmed = list()\n",
    "#last_confirmed.append(Confirmed[len(Confirmed)-n_steps_in:len(Confirmed)+1])\n",
    "#last_confirmed = np.array(last_confirmed)\n",
    "#print(last_confirmed.shape)\n"
   ]
  },
  {
   "cell_type": "markdown",
   "metadata": {},
   "source": [
    "## Predicting confirmed cases"
   ]
  },
  {
   "cell_type": "code",
   "execution_count": 372,
   "metadata": {},
   "outputs": [
    {
     "name": "stdout",
     "output_type": "stream",
     "text": [
      "(16, 184)\n"
     ]
    }
   ],
   "source": [
    "#trainPredict = model_confirmed.predict(X_train_confirmed)\n",
    "testPredict = model_confirmed.predict(X_val_confirmed)\n",
    "\n",
    "print(testPredict.shape)\n",
    "testPredict = scaler_c.inverse_transform(testPredict)\n",
    "y_val_confirmed = scaler_c.inverse_transform(y_val_confirmed)\n"
   ]
  },
  {
   "cell_type": "code",
   "execution_count": 373,
   "metadata": {},
   "outputs": [
    {
     "name": "stdout",
     "output_type": "stream",
     "text": [
      "Predicted test values: \n"
     ]
    },
    {
     "data": {
      "text/plain": [
       "Date\n",
       "2020-03-26     216.035110\n",
       "2020-03-27     303.073334\n",
       "2020-03-28     386.282623\n",
       "2020-03-29     455.780334\n",
       "2020-03-30     565.810181\n",
       "2020-03-31     713.285156\n",
       "2020-04-01     876.411621\n",
       "2020-04-02    1052.439209\n",
       "2020-04-03    1287.014160\n",
       "2020-04-04    1570.760742\n",
       "2020-04-05    1858.003540\n",
       "2020-04-06    2197.777832\n",
       "2020-04-07    2584.950195\n",
       "2020-04-08    3026.156006\n",
       "2020-04-09    3427.607422\n",
       "2020-04-10    3817.525391\n",
       "Name: Serbia, dtype: float32"
      ]
     },
     "execution_count": 373,
     "metadata": {},
     "output_type": "execute_result"
    }
   ],
   "source": [
    "import datetime\n",
    "from dateutil.relativedelta import relativedelta\n",
    "\n",
    "res_ = dict()   \n",
    "countries = train['Country_Region'].unique()\n",
    "#len(countries)\n",
    "dates = []\n",
    "start_date = \"2020-3-25\"\n",
    "date1 = datetime.datetime.strptime(start_date, \"%Y-%m-%d\")\n",
    "for i in range(len(testPredict)):\n",
    "    res_[i] = testPredict[i]\n",
    "    dates.append(date1.strftime(\"%Y-%m-%d\"))\n",
    "    date1 += relativedelta(days = 1)\n",
    "    \n",
    "res = pd.DataFrame(pd.DataFrame(pd.DataFrame(res_).values.T))\n",
    "res.columns = countries\n",
    "\n",
    "res['Date'] = dates\n",
    "res = pd.pivot_table(res, index = 'Date')\n",
    "print(\"Predicted test values: \")\n",
    "res[11:]\n",
    "res['Serbia']"
   ]
  },
  {
   "cell_type": "code",
   "execution_count": 374,
   "metadata": {},
   "outputs": [
    {
     "name": "stdout",
     "output_type": "stream",
     "text": [
      "Real test values: \n"
     ]
    },
    {
     "data": {
      "text/plain": [
       "Date\n",
       "2020-03-26     384.000031\n",
       "2020-03-27     384.000031\n",
       "2020-03-28     457.000000\n",
       "2020-03-29     659.000000\n",
       "2020-03-30     741.000000\n",
       "2020-03-31     785.000000\n",
       "2020-04-01     899.999939\n",
       "2020-04-02    1060.000000\n",
       "2020-04-03    1171.000000\n",
       "2020-04-04    1476.000000\n",
       "2020-04-05    1624.000000\n",
       "2020-04-06    1908.000000\n",
       "2020-04-07    2200.000000\n",
       "2020-04-08    2447.000000\n",
       "2020-04-09    2666.000000\n",
       "2020-04-10    2867.000000\n",
       "Name: Serbia, dtype: float32"
      ]
     },
     "execution_count": 374,
     "metadata": {},
     "output_type": "execute_result"
    }
   ],
   "source": [
    "print(\"Real test values: \")\n",
    "\n",
    "real = dict()   \n",
    "for i in range(len(y_val_confirmed)):\n",
    "    real[i] = y_val_confirmed[i]\n",
    " \n",
    "    \n",
    "real = pd.DataFrame(pd.DataFrame(pd.DataFrame(real).values.T))\n",
    "real.columns = countries\n",
    "\n",
    "real['Date'] = dates\n",
    "real = pd.pivot_table(real, index = 'Date')\n",
    "real[11:]\n",
    "real['Serbia']"
   ]
  },
  {
   "cell_type": "code",
   "execution_count": 348,
   "metadata": {},
   "outputs": [
    {
     "data": {
      "application/vnd.plotly.v1+json": {
       "config": {
        "plotlyServerURL": "https://plot.ly"
       },
       "data": [
        {
         "name": "Predicted cases",
         "type": "scatter",
         "x": [
          "2020-03-26",
          "2020-03-27",
          "2020-03-28",
          "2020-03-29",
          "2020-03-30",
          "2020-03-31",
          "2020-04-01",
          "2020-04-02",
          "2020-04-03",
          "2020-04-04",
          "2020-04-05",
          "2020-04-06",
          "2020-04-07",
          "2020-04-08",
          "2020-04-09",
          "2020-04-10"
         ],
         "y": [
          329.72930908203125,
          351.867431640625,
          355.7173767089844,
          349.57513427734375,
          310.3101806640625,
          250.8113555908203,
          150.47235107421875,
          34.85113525390625,
          0,
          0,
          0,
          0,
          0,
          0,
          0,
          0
         ]
        },
        {
         "name": "Realised cases",
         "type": "scatter",
         "x": [
          "2020-03-26",
          "2020-03-27",
          "2020-03-28",
          "2020-03-29",
          "2020-03-30",
          "2020-03-31",
          "2020-04-01",
          "2020-04-02",
          "2020-04-03",
          "2020-04-04",
          "2020-04-05",
          "2020-04-06",
          "2020-04-07",
          "2020-04-08",
          "2020-04-09",
          "2020-04-10"
         ],
         "y": [
          384.0000305175781,
          384.0000305175781,
          457,
          659,
          741,
          785,
          899.9999389648438,
          1060,
          1171,
          1476,
          1624,
          1908,
          2200,
          2447,
          2666,
          2867
         ]
        }
       ],
       "layout": {
        "template": {
         "data": {
          "bar": [
           {
            "error_x": {
             "color": "#2a3f5f"
            },
            "error_y": {
             "color": "#2a3f5f"
            },
            "marker": {
             "line": {
              "color": "white",
              "width": 0.5
             }
            },
            "type": "bar"
           }
          ],
          "barpolar": [
           {
            "marker": {
             "line": {
              "color": "white",
              "width": 0.5
             }
            },
            "type": "barpolar"
           }
          ],
          "carpet": [
           {
            "aaxis": {
             "endlinecolor": "#2a3f5f",
             "gridcolor": "#C8D4E3",
             "linecolor": "#C8D4E3",
             "minorgridcolor": "#C8D4E3",
             "startlinecolor": "#2a3f5f"
            },
            "baxis": {
             "endlinecolor": "#2a3f5f",
             "gridcolor": "#C8D4E3",
             "linecolor": "#C8D4E3",
             "minorgridcolor": "#C8D4E3",
             "startlinecolor": "#2a3f5f"
            },
            "type": "carpet"
           }
          ],
          "choropleth": [
           {
            "colorbar": {
             "outlinewidth": 0,
             "ticks": ""
            },
            "type": "choropleth"
           }
          ],
          "contour": [
           {
            "colorbar": {
             "outlinewidth": 0,
             "ticks": ""
            },
            "colorscale": [
             [
              0,
              "#0d0887"
             ],
             [
              0.1111111111111111,
              "#46039f"
             ],
             [
              0.2222222222222222,
              "#7201a8"
             ],
             [
              0.3333333333333333,
              "#9c179e"
             ],
             [
              0.4444444444444444,
              "#bd3786"
             ],
             [
              0.5555555555555556,
              "#d8576b"
             ],
             [
              0.6666666666666666,
              "#ed7953"
             ],
             [
              0.7777777777777778,
              "#fb9f3a"
             ],
             [
              0.8888888888888888,
              "#fdca26"
             ],
             [
              1,
              "#f0f921"
             ]
            ],
            "type": "contour"
           }
          ],
          "contourcarpet": [
           {
            "colorbar": {
             "outlinewidth": 0,
             "ticks": ""
            },
            "type": "contourcarpet"
           }
          ],
          "heatmap": [
           {
            "colorbar": {
             "outlinewidth": 0,
             "ticks": ""
            },
            "colorscale": [
             [
              0,
              "#0d0887"
             ],
             [
              0.1111111111111111,
              "#46039f"
             ],
             [
              0.2222222222222222,
              "#7201a8"
             ],
             [
              0.3333333333333333,
              "#9c179e"
             ],
             [
              0.4444444444444444,
              "#bd3786"
             ],
             [
              0.5555555555555556,
              "#d8576b"
             ],
             [
              0.6666666666666666,
              "#ed7953"
             ],
             [
              0.7777777777777778,
              "#fb9f3a"
             ],
             [
              0.8888888888888888,
              "#fdca26"
             ],
             [
              1,
              "#f0f921"
             ]
            ],
            "type": "heatmap"
           }
          ],
          "heatmapgl": [
           {
            "colorbar": {
             "outlinewidth": 0,
             "ticks": ""
            },
            "colorscale": [
             [
              0,
              "#0d0887"
             ],
             [
              0.1111111111111111,
              "#46039f"
             ],
             [
              0.2222222222222222,
              "#7201a8"
             ],
             [
              0.3333333333333333,
              "#9c179e"
             ],
             [
              0.4444444444444444,
              "#bd3786"
             ],
             [
              0.5555555555555556,
              "#d8576b"
             ],
             [
              0.6666666666666666,
              "#ed7953"
             ],
             [
              0.7777777777777778,
              "#fb9f3a"
             ],
             [
              0.8888888888888888,
              "#fdca26"
             ],
             [
              1,
              "#f0f921"
             ]
            ],
            "type": "heatmapgl"
           }
          ],
          "histogram": [
           {
            "marker": {
             "colorbar": {
              "outlinewidth": 0,
              "ticks": ""
             }
            },
            "type": "histogram"
           }
          ],
          "histogram2d": [
           {
            "colorbar": {
             "outlinewidth": 0,
             "ticks": ""
            },
            "colorscale": [
             [
              0,
              "#0d0887"
             ],
             [
              0.1111111111111111,
              "#46039f"
             ],
             [
              0.2222222222222222,
              "#7201a8"
             ],
             [
              0.3333333333333333,
              "#9c179e"
             ],
             [
              0.4444444444444444,
              "#bd3786"
             ],
             [
              0.5555555555555556,
              "#d8576b"
             ],
             [
              0.6666666666666666,
              "#ed7953"
             ],
             [
              0.7777777777777778,
              "#fb9f3a"
             ],
             [
              0.8888888888888888,
              "#fdca26"
             ],
             [
              1,
              "#f0f921"
             ]
            ],
            "type": "histogram2d"
           }
          ],
          "histogram2dcontour": [
           {
            "colorbar": {
             "outlinewidth": 0,
             "ticks": ""
            },
            "colorscale": [
             [
              0,
              "#0d0887"
             ],
             [
              0.1111111111111111,
              "#46039f"
             ],
             [
              0.2222222222222222,
              "#7201a8"
             ],
             [
              0.3333333333333333,
              "#9c179e"
             ],
             [
              0.4444444444444444,
              "#bd3786"
             ],
             [
              0.5555555555555556,
              "#d8576b"
             ],
             [
              0.6666666666666666,
              "#ed7953"
             ],
             [
              0.7777777777777778,
              "#fb9f3a"
             ],
             [
              0.8888888888888888,
              "#fdca26"
             ],
             [
              1,
              "#f0f921"
             ]
            ],
            "type": "histogram2dcontour"
           }
          ],
          "mesh3d": [
           {
            "colorbar": {
             "outlinewidth": 0,
             "ticks": ""
            },
            "type": "mesh3d"
           }
          ],
          "parcoords": [
           {
            "line": {
             "colorbar": {
              "outlinewidth": 0,
              "ticks": ""
             }
            },
            "type": "parcoords"
           }
          ],
          "pie": [
           {
            "automargin": true,
            "type": "pie"
           }
          ],
          "scatter": [
           {
            "marker": {
             "colorbar": {
              "outlinewidth": 0,
              "ticks": ""
             }
            },
            "type": "scatter"
           }
          ],
          "scatter3d": [
           {
            "line": {
             "colorbar": {
              "outlinewidth": 0,
              "ticks": ""
             }
            },
            "marker": {
             "colorbar": {
              "outlinewidth": 0,
              "ticks": ""
             }
            },
            "type": "scatter3d"
           }
          ],
          "scattercarpet": [
           {
            "marker": {
             "colorbar": {
              "outlinewidth": 0,
              "ticks": ""
             }
            },
            "type": "scattercarpet"
           }
          ],
          "scattergeo": [
           {
            "marker": {
             "colorbar": {
              "outlinewidth": 0,
              "ticks": ""
             }
            },
            "type": "scattergeo"
           }
          ],
          "scattergl": [
           {
            "marker": {
             "colorbar": {
              "outlinewidth": 0,
              "ticks": ""
             }
            },
            "type": "scattergl"
           }
          ],
          "scattermapbox": [
           {
            "marker": {
             "colorbar": {
              "outlinewidth": 0,
              "ticks": ""
             }
            },
            "type": "scattermapbox"
           }
          ],
          "scatterpolar": [
           {
            "marker": {
             "colorbar": {
              "outlinewidth": 0,
              "ticks": ""
             }
            },
            "type": "scatterpolar"
           }
          ],
          "scatterpolargl": [
           {
            "marker": {
             "colorbar": {
              "outlinewidth": 0,
              "ticks": ""
             }
            },
            "type": "scatterpolargl"
           }
          ],
          "scatterternary": [
           {
            "marker": {
             "colorbar": {
              "outlinewidth": 0,
              "ticks": ""
             }
            },
            "type": "scatterternary"
           }
          ],
          "surface": [
           {
            "colorbar": {
             "outlinewidth": 0,
             "ticks": ""
            },
            "colorscale": [
             [
              0,
              "#0d0887"
             ],
             [
              0.1111111111111111,
              "#46039f"
             ],
             [
              0.2222222222222222,
              "#7201a8"
             ],
             [
              0.3333333333333333,
              "#9c179e"
             ],
             [
              0.4444444444444444,
              "#bd3786"
             ],
             [
              0.5555555555555556,
              "#d8576b"
             ],
             [
              0.6666666666666666,
              "#ed7953"
             ],
             [
              0.7777777777777778,
              "#fb9f3a"
             ],
             [
              0.8888888888888888,
              "#fdca26"
             ],
             [
              1,
              "#f0f921"
             ]
            ],
            "type": "surface"
           }
          ],
          "table": [
           {
            "cells": {
             "fill": {
              "color": "#EBF0F8"
             },
             "line": {
              "color": "white"
             }
            },
            "header": {
             "fill": {
              "color": "#C8D4E3"
             },
             "line": {
              "color": "white"
             }
            },
            "type": "table"
           }
          ]
         },
         "layout": {
          "annotationdefaults": {
           "arrowcolor": "#2a3f5f",
           "arrowhead": 0,
           "arrowwidth": 1
          },
          "coloraxis": {
           "colorbar": {
            "outlinewidth": 0,
            "ticks": ""
           }
          },
          "colorscale": {
           "diverging": [
            [
             0,
             "#8e0152"
            ],
            [
             0.1,
             "#c51b7d"
            ],
            [
             0.2,
             "#de77ae"
            ],
            [
             0.3,
             "#f1b6da"
            ],
            [
             0.4,
             "#fde0ef"
            ],
            [
             0.5,
             "#f7f7f7"
            ],
            [
             0.6,
             "#e6f5d0"
            ],
            [
             0.7,
             "#b8e186"
            ],
            [
             0.8,
             "#7fbc41"
            ],
            [
             0.9,
             "#4d9221"
            ],
            [
             1,
             "#276419"
            ]
           ],
           "sequential": [
            [
             0,
             "#0d0887"
            ],
            [
             0.1111111111111111,
             "#46039f"
            ],
            [
             0.2222222222222222,
             "#7201a8"
            ],
            [
             0.3333333333333333,
             "#9c179e"
            ],
            [
             0.4444444444444444,
             "#bd3786"
            ],
            [
             0.5555555555555556,
             "#d8576b"
            ],
            [
             0.6666666666666666,
             "#ed7953"
            ],
            [
             0.7777777777777778,
             "#fb9f3a"
            ],
            [
             0.8888888888888888,
             "#fdca26"
            ],
            [
             1,
             "#f0f921"
            ]
           ],
           "sequentialminus": [
            [
             0,
             "#0d0887"
            ],
            [
             0.1111111111111111,
             "#46039f"
            ],
            [
             0.2222222222222222,
             "#7201a8"
            ],
            [
             0.3333333333333333,
             "#9c179e"
            ],
            [
             0.4444444444444444,
             "#bd3786"
            ],
            [
             0.5555555555555556,
             "#d8576b"
            ],
            [
             0.6666666666666666,
             "#ed7953"
            ],
            [
             0.7777777777777778,
             "#fb9f3a"
            ],
            [
             0.8888888888888888,
             "#fdca26"
            ],
            [
             1,
             "#f0f921"
            ]
           ]
          },
          "colorway": [
           "#636efa",
           "#EF553B",
           "#00cc96",
           "#ab63fa",
           "#FFA15A",
           "#19d3f3",
           "#FF6692",
           "#B6E880",
           "#FF97FF",
           "#FECB52"
          ],
          "font": {
           "color": "#2a3f5f"
          },
          "geo": {
           "bgcolor": "white",
           "lakecolor": "white",
           "landcolor": "white",
           "showlakes": true,
           "showland": true,
           "subunitcolor": "#C8D4E3"
          },
          "hoverlabel": {
           "align": "left"
          },
          "hovermode": "closest",
          "mapbox": {
           "style": "light"
          },
          "paper_bgcolor": "white",
          "plot_bgcolor": "white",
          "polar": {
           "angularaxis": {
            "gridcolor": "#EBF0F8",
            "linecolor": "#EBF0F8",
            "ticks": ""
           },
           "bgcolor": "white",
           "radialaxis": {
            "gridcolor": "#EBF0F8",
            "linecolor": "#EBF0F8",
            "ticks": ""
           }
          },
          "scene": {
           "xaxis": {
            "backgroundcolor": "white",
            "gridcolor": "#DFE8F3",
            "gridwidth": 2,
            "linecolor": "#EBF0F8",
            "showbackground": true,
            "ticks": "",
            "zerolinecolor": "#EBF0F8"
           },
           "yaxis": {
            "backgroundcolor": "white",
            "gridcolor": "#DFE8F3",
            "gridwidth": 2,
            "linecolor": "#EBF0F8",
            "showbackground": true,
            "ticks": "",
            "zerolinecolor": "#EBF0F8"
           },
           "zaxis": {
            "backgroundcolor": "white",
            "gridcolor": "#DFE8F3",
            "gridwidth": 2,
            "linecolor": "#EBF0F8",
            "showbackground": true,
            "ticks": "",
            "zerolinecolor": "#EBF0F8"
           }
          },
          "shapedefaults": {
           "line": {
            "color": "#2a3f5f"
           }
          },
          "ternary": {
           "aaxis": {
            "gridcolor": "#DFE8F3",
            "linecolor": "#A2B1C6",
            "ticks": ""
           },
           "baxis": {
            "gridcolor": "#DFE8F3",
            "linecolor": "#A2B1C6",
            "ticks": ""
           },
           "bgcolor": "white",
           "caxis": {
            "gridcolor": "#DFE8F3",
            "linecolor": "#A2B1C6",
            "ticks": ""
           }
          },
          "title": {
           "x": 0.05
          },
          "xaxis": {
           "automargin": true,
           "gridcolor": "#EBF0F8",
           "linecolor": "#EBF0F8",
           "ticks": "",
           "title": {
            "standoff": 15
           },
           "zerolinecolor": "#EBF0F8",
           "zerolinewidth": 2
          },
          "yaxis": {
           "automargin": true,
           "gridcolor": "#EBF0F8",
           "linecolor": "#EBF0F8",
           "ticks": "",
           "title": {
            "standoff": 15
           },
           "zerolinecolor": "#EBF0F8",
           "zerolinewidth": 2
          }
         }
        },
        "title": {
         "text": "Confirmed COVID-19 cases in Serbia"
        },
        "xaxis": {
         "title": {
          "text": "Date"
         }
        },
        "yaxis": {
         "title": {
          "text": "Cases"
         }
        }
       }
      },
      "text/html": [
       "<div>\n",
       "        \n",
       "        \n",
       "            <div id=\"6b87c554-d0ef-45d0-9df7-5e7399eb0c7a\" class=\"plotly-graph-div\" style=\"height:525px; width:100%;\"></div>\n",
       "            <script type=\"text/javascript\">\n",
       "                require([\"plotly\"], function(Plotly) {\n",
       "                    window.PLOTLYENV=window.PLOTLYENV || {};\n",
       "                    \n",
       "                if (document.getElementById(\"6b87c554-d0ef-45d0-9df7-5e7399eb0c7a\")) {\n",
       "                    Plotly.newPlot(\n",
       "                        '6b87c554-d0ef-45d0-9df7-5e7399eb0c7a',\n",
       "                        [{\"name\": \"Predicted cases\", \"type\": \"scatter\", \"x\": [\"2020-03-26\", \"2020-03-27\", \"2020-03-28\", \"2020-03-29\", \"2020-03-30\", \"2020-03-31\", \"2020-04-01\", \"2020-04-02\", \"2020-04-03\", \"2020-04-04\", \"2020-04-05\", \"2020-04-06\", \"2020-04-07\", \"2020-04-08\", \"2020-04-09\", \"2020-04-10\"], \"y\": [329.72930908203125, 351.867431640625, 355.7173767089844, 349.57513427734375, 310.3101806640625, 250.8113555908203, 150.47235107421875, 34.85113525390625, 0.0, 0.0, 0.0, 0.0, 0.0, 0.0, 0.0, 0.0]}, {\"name\": \"Realised cases\", \"type\": \"scatter\", \"x\": [\"2020-03-26\", \"2020-03-27\", \"2020-03-28\", \"2020-03-29\", \"2020-03-30\", \"2020-03-31\", \"2020-04-01\", \"2020-04-02\", \"2020-04-03\", \"2020-04-04\", \"2020-04-05\", \"2020-04-06\", \"2020-04-07\", \"2020-04-08\", \"2020-04-09\", \"2020-04-10\"], \"y\": [384.0000305175781, 384.0000305175781, 457.0, 659.0, 741.0, 785.0, 899.9999389648438, 1060.0, 1171.0, 1476.0, 1624.0, 1908.0, 2200.0, 2447.0, 2666.0, 2867.0]}],\n",
       "                        {\"template\": {\"data\": {\"bar\": [{\"error_x\": {\"color\": \"#2a3f5f\"}, \"error_y\": {\"color\": \"#2a3f5f\"}, \"marker\": {\"line\": {\"color\": \"white\", \"width\": 0.5}}, \"type\": \"bar\"}], \"barpolar\": [{\"marker\": {\"line\": {\"color\": \"white\", \"width\": 0.5}}, \"type\": \"barpolar\"}], \"carpet\": [{\"aaxis\": {\"endlinecolor\": \"#2a3f5f\", \"gridcolor\": \"#C8D4E3\", \"linecolor\": \"#C8D4E3\", \"minorgridcolor\": \"#C8D4E3\", \"startlinecolor\": \"#2a3f5f\"}, \"baxis\": {\"endlinecolor\": \"#2a3f5f\", \"gridcolor\": \"#C8D4E3\", \"linecolor\": \"#C8D4E3\", \"minorgridcolor\": \"#C8D4E3\", \"startlinecolor\": \"#2a3f5f\"}, \"type\": \"carpet\"}], \"choropleth\": [{\"colorbar\": {\"outlinewidth\": 0, \"ticks\": \"\"}, \"type\": \"choropleth\"}], \"contour\": [{\"colorbar\": {\"outlinewidth\": 0, \"ticks\": \"\"}, \"colorscale\": [[0.0, \"#0d0887\"], [0.1111111111111111, \"#46039f\"], [0.2222222222222222, \"#7201a8\"], [0.3333333333333333, \"#9c179e\"], [0.4444444444444444, \"#bd3786\"], [0.5555555555555556, \"#d8576b\"], [0.6666666666666666, \"#ed7953\"], [0.7777777777777778, \"#fb9f3a\"], [0.8888888888888888, \"#fdca26\"], [1.0, \"#f0f921\"]], \"type\": \"contour\"}], \"contourcarpet\": [{\"colorbar\": {\"outlinewidth\": 0, \"ticks\": \"\"}, \"type\": \"contourcarpet\"}], \"heatmap\": [{\"colorbar\": {\"outlinewidth\": 0, \"ticks\": \"\"}, \"colorscale\": [[0.0, \"#0d0887\"], [0.1111111111111111, \"#46039f\"], [0.2222222222222222, \"#7201a8\"], [0.3333333333333333, \"#9c179e\"], [0.4444444444444444, \"#bd3786\"], [0.5555555555555556, \"#d8576b\"], [0.6666666666666666, \"#ed7953\"], [0.7777777777777778, \"#fb9f3a\"], [0.8888888888888888, \"#fdca26\"], [1.0, \"#f0f921\"]], \"type\": \"heatmap\"}], \"heatmapgl\": [{\"colorbar\": {\"outlinewidth\": 0, \"ticks\": \"\"}, \"colorscale\": [[0.0, \"#0d0887\"], [0.1111111111111111, \"#46039f\"], [0.2222222222222222, \"#7201a8\"], [0.3333333333333333, \"#9c179e\"], [0.4444444444444444, \"#bd3786\"], [0.5555555555555556, \"#d8576b\"], [0.6666666666666666, \"#ed7953\"], [0.7777777777777778, \"#fb9f3a\"], [0.8888888888888888, \"#fdca26\"], [1.0, \"#f0f921\"]], \"type\": \"heatmapgl\"}], \"histogram\": [{\"marker\": {\"colorbar\": {\"outlinewidth\": 0, \"ticks\": \"\"}}, \"type\": \"histogram\"}], \"histogram2d\": [{\"colorbar\": {\"outlinewidth\": 0, \"ticks\": \"\"}, \"colorscale\": [[0.0, \"#0d0887\"], [0.1111111111111111, \"#46039f\"], [0.2222222222222222, \"#7201a8\"], [0.3333333333333333, \"#9c179e\"], [0.4444444444444444, \"#bd3786\"], [0.5555555555555556, \"#d8576b\"], [0.6666666666666666, \"#ed7953\"], [0.7777777777777778, \"#fb9f3a\"], [0.8888888888888888, \"#fdca26\"], [1.0, \"#f0f921\"]], \"type\": \"histogram2d\"}], \"histogram2dcontour\": [{\"colorbar\": {\"outlinewidth\": 0, \"ticks\": \"\"}, \"colorscale\": [[0.0, \"#0d0887\"], [0.1111111111111111, \"#46039f\"], [0.2222222222222222, \"#7201a8\"], [0.3333333333333333, \"#9c179e\"], [0.4444444444444444, \"#bd3786\"], [0.5555555555555556, \"#d8576b\"], [0.6666666666666666, \"#ed7953\"], [0.7777777777777778, \"#fb9f3a\"], [0.8888888888888888, \"#fdca26\"], [1.0, \"#f0f921\"]], \"type\": \"histogram2dcontour\"}], \"mesh3d\": [{\"colorbar\": {\"outlinewidth\": 0, \"ticks\": \"\"}, \"type\": \"mesh3d\"}], \"parcoords\": [{\"line\": {\"colorbar\": {\"outlinewidth\": 0, \"ticks\": \"\"}}, \"type\": \"parcoords\"}], \"pie\": [{\"automargin\": true, \"type\": \"pie\"}], \"scatter\": [{\"marker\": {\"colorbar\": {\"outlinewidth\": 0, \"ticks\": \"\"}}, \"type\": \"scatter\"}], \"scatter3d\": [{\"line\": {\"colorbar\": {\"outlinewidth\": 0, \"ticks\": \"\"}}, \"marker\": {\"colorbar\": {\"outlinewidth\": 0, \"ticks\": \"\"}}, \"type\": \"scatter3d\"}], \"scattercarpet\": [{\"marker\": {\"colorbar\": {\"outlinewidth\": 0, \"ticks\": \"\"}}, \"type\": \"scattercarpet\"}], \"scattergeo\": [{\"marker\": {\"colorbar\": {\"outlinewidth\": 0, \"ticks\": \"\"}}, \"type\": \"scattergeo\"}], \"scattergl\": [{\"marker\": {\"colorbar\": {\"outlinewidth\": 0, \"ticks\": \"\"}}, \"type\": \"scattergl\"}], \"scattermapbox\": [{\"marker\": {\"colorbar\": {\"outlinewidth\": 0, \"ticks\": \"\"}}, \"type\": \"scattermapbox\"}], \"scatterpolar\": [{\"marker\": {\"colorbar\": {\"outlinewidth\": 0, \"ticks\": \"\"}}, \"type\": \"scatterpolar\"}], \"scatterpolargl\": [{\"marker\": {\"colorbar\": {\"outlinewidth\": 0, \"ticks\": \"\"}}, \"type\": \"scatterpolargl\"}], \"scatterternary\": [{\"marker\": {\"colorbar\": {\"outlinewidth\": 0, \"ticks\": \"\"}}, \"type\": \"scatterternary\"}], \"surface\": [{\"colorbar\": {\"outlinewidth\": 0, \"ticks\": \"\"}, \"colorscale\": [[0.0, \"#0d0887\"], [0.1111111111111111, \"#46039f\"], [0.2222222222222222, \"#7201a8\"], [0.3333333333333333, \"#9c179e\"], [0.4444444444444444, \"#bd3786\"], [0.5555555555555556, \"#d8576b\"], [0.6666666666666666, \"#ed7953\"], [0.7777777777777778, \"#fb9f3a\"], [0.8888888888888888, \"#fdca26\"], [1.0, \"#f0f921\"]], \"type\": \"surface\"}], \"table\": [{\"cells\": {\"fill\": {\"color\": \"#EBF0F8\"}, \"line\": {\"color\": \"white\"}}, \"header\": {\"fill\": {\"color\": \"#C8D4E3\"}, \"line\": {\"color\": \"white\"}}, \"type\": \"table\"}]}, \"layout\": {\"annotationdefaults\": {\"arrowcolor\": \"#2a3f5f\", \"arrowhead\": 0, \"arrowwidth\": 1}, \"coloraxis\": {\"colorbar\": {\"outlinewidth\": 0, \"ticks\": \"\"}}, \"colorscale\": {\"diverging\": [[0, \"#8e0152\"], [0.1, \"#c51b7d\"], [0.2, \"#de77ae\"], [0.3, \"#f1b6da\"], [0.4, \"#fde0ef\"], [0.5, \"#f7f7f7\"], [0.6, \"#e6f5d0\"], [0.7, \"#b8e186\"], [0.8, \"#7fbc41\"], [0.9, \"#4d9221\"], [1, \"#276419\"]], \"sequential\": [[0.0, \"#0d0887\"], [0.1111111111111111, \"#46039f\"], [0.2222222222222222, \"#7201a8\"], [0.3333333333333333, \"#9c179e\"], [0.4444444444444444, \"#bd3786\"], [0.5555555555555556, \"#d8576b\"], [0.6666666666666666, \"#ed7953\"], [0.7777777777777778, \"#fb9f3a\"], [0.8888888888888888, \"#fdca26\"], [1.0, \"#f0f921\"]], \"sequentialminus\": [[0.0, \"#0d0887\"], [0.1111111111111111, \"#46039f\"], [0.2222222222222222, \"#7201a8\"], [0.3333333333333333, \"#9c179e\"], [0.4444444444444444, \"#bd3786\"], [0.5555555555555556, \"#d8576b\"], [0.6666666666666666, \"#ed7953\"], [0.7777777777777778, \"#fb9f3a\"], [0.8888888888888888, \"#fdca26\"], [1.0, \"#f0f921\"]]}, \"colorway\": [\"#636efa\", \"#EF553B\", \"#00cc96\", \"#ab63fa\", \"#FFA15A\", \"#19d3f3\", \"#FF6692\", \"#B6E880\", \"#FF97FF\", \"#FECB52\"], \"font\": {\"color\": \"#2a3f5f\"}, \"geo\": {\"bgcolor\": \"white\", \"lakecolor\": \"white\", \"landcolor\": \"white\", \"showlakes\": true, \"showland\": true, \"subunitcolor\": \"#C8D4E3\"}, \"hoverlabel\": {\"align\": \"left\"}, \"hovermode\": \"closest\", \"mapbox\": {\"style\": \"light\"}, \"paper_bgcolor\": \"white\", \"plot_bgcolor\": \"white\", \"polar\": {\"angularaxis\": {\"gridcolor\": \"#EBF0F8\", \"linecolor\": \"#EBF0F8\", \"ticks\": \"\"}, \"bgcolor\": \"white\", \"radialaxis\": {\"gridcolor\": \"#EBF0F8\", \"linecolor\": \"#EBF0F8\", \"ticks\": \"\"}}, \"scene\": {\"xaxis\": {\"backgroundcolor\": \"white\", \"gridcolor\": \"#DFE8F3\", \"gridwidth\": 2, \"linecolor\": \"#EBF0F8\", \"showbackground\": true, \"ticks\": \"\", \"zerolinecolor\": \"#EBF0F8\"}, \"yaxis\": {\"backgroundcolor\": \"white\", \"gridcolor\": \"#DFE8F3\", \"gridwidth\": 2, \"linecolor\": \"#EBF0F8\", \"showbackground\": true, \"ticks\": \"\", \"zerolinecolor\": \"#EBF0F8\"}, \"zaxis\": {\"backgroundcolor\": \"white\", \"gridcolor\": \"#DFE8F3\", \"gridwidth\": 2, \"linecolor\": \"#EBF0F8\", \"showbackground\": true, \"ticks\": \"\", \"zerolinecolor\": \"#EBF0F8\"}}, \"shapedefaults\": {\"line\": {\"color\": \"#2a3f5f\"}}, \"ternary\": {\"aaxis\": {\"gridcolor\": \"#DFE8F3\", \"linecolor\": \"#A2B1C6\", \"ticks\": \"\"}, \"baxis\": {\"gridcolor\": \"#DFE8F3\", \"linecolor\": \"#A2B1C6\", \"ticks\": \"\"}, \"bgcolor\": \"white\", \"caxis\": {\"gridcolor\": \"#DFE8F3\", \"linecolor\": \"#A2B1C6\", \"ticks\": \"\"}}, \"title\": {\"x\": 0.05}, \"xaxis\": {\"automargin\": true, \"gridcolor\": \"#EBF0F8\", \"linecolor\": \"#EBF0F8\", \"ticks\": \"\", \"title\": {\"standoff\": 15}, \"zerolinecolor\": \"#EBF0F8\", \"zerolinewidth\": 2}, \"yaxis\": {\"automargin\": true, \"gridcolor\": \"#EBF0F8\", \"linecolor\": \"#EBF0F8\", \"ticks\": \"\", \"title\": {\"standoff\": 15}, \"zerolinecolor\": \"#EBF0F8\", \"zerolinewidth\": 2}}}, \"title\": {\"text\": \"Confirmed COVID-19 cases in Serbia\"}, \"xaxis\": {\"title\": {\"text\": \"Date\"}}, \"yaxis\": {\"title\": {\"text\": \"Cases\"}}},\n",
       "                        {\"responsive\": true}\n",
       "                    ).then(function(){\n",
       "                            \n",
       "var gd = document.getElementById('6b87c554-d0ef-45d0-9df7-5e7399eb0c7a');\n",
       "var x = new MutationObserver(function (mutations, observer) {{\n",
       "        var display = window.getComputedStyle(gd).display;\n",
       "        if (!display || display === 'none') {{\n",
       "            console.log([gd, 'removed!']);\n",
       "            Plotly.purge(gd);\n",
       "            observer.disconnect();\n",
       "        }}\n",
       "}});\n",
       "\n",
       "// Listen for the removal of the full notebook cells\n",
       "var notebookContainer = gd.closest('#notebook-container');\n",
       "if (notebookContainer) {{\n",
       "    x.observe(notebookContainer, {childList: true});\n",
       "}}\n",
       "\n",
       "// Listen for the clearing of the current output cell\n",
       "var outputEl = gd.closest('.output');\n",
       "if (outputEl) {{\n",
       "    x.observe(outputEl, {childList: true});\n",
       "}}\n",
       "\n",
       "                        })\n",
       "                };\n",
       "                });\n",
       "            </script>\n",
       "        </div>"
      ]
     },
     "metadata": {},
     "output_type": "display_data"
    }
   ],
   "source": [
    "fig = go.Figure()\n",
    "\n",
    "Serbia_predicted = res['Serbia']\n",
    "Serbia_real = real['Serbia']\n",
    "\n",
    "Serbia_predicted.values\n",
    "fig.add_trace(go.Scatter(x = dates, y = Serbia_predicted.values, name = \"Predicted cases\"))\n",
    "fig.add_trace(go.Scatter(x = dates, y = Serbia_real.values, name = \"Realised cases\"))\n",
    "fig.update_layout(title = \"Confirmed COVID-19 cases in Serbia\",\n",
    "                  xaxis_title = \"Date\",\n",
    "                  yaxis_title = \"Cases\")\n",
    "fig.layout.template = 'plotly_white'\n",
    "fig.show()"
   ]
  },
  {
   "cell_type": "markdown",
   "metadata": {},
   "source": [
    "## Predicting fatal cases"
   ]
  },
  {
   "cell_type": "code",
   "execution_count": 349,
   "metadata": {},
   "outputs": [
    {
     "name": "stdout",
     "output_type": "stream",
     "text": [
      "(16, 184)\n"
     ]
    }
   ],
   "source": [
    "testPredict_f = model_fatalities.predict(X_val_fatal)\n",
    "\n",
    "print(testPredict_f.shape)\n",
    "\n",
    "testPredict_f = scaler_f.inverse_transform(testPredict_f)\n",
    "y_val_fatal = scaler_f.inverse_transform(y_val_fatal)\n"
   ]
  },
  {
   "cell_type": "code",
   "execution_count": 350,
   "metadata": {},
   "outputs": [
    {
     "name": "stdout",
     "output_type": "stream",
     "text": [
      "Predicted test values: \n"
     ]
    },
    {
     "data": {
      "text/plain": [
       "Date\n",
       "2020-03-26     3.140423\n",
       "2020-03-27     3.415076\n",
       "2020-03-28     3.916911\n",
       "2020-03-29     4.115644\n",
       "2020-03-30     4.338777\n",
       "2020-03-31     4.806445\n",
       "2020-04-01     4.901105\n",
       "2020-04-02     4.647502\n",
       "2020-04-03     4.557843\n",
       "2020-04-04     4.472929\n",
       "2020-04-05     5.863278\n",
       "2020-04-06     7.848846\n",
       "2020-04-07     8.101792\n",
       "2020-04-08     8.419137\n",
       "2020-04-09     9.789627\n",
       "2020-04-10    11.704228\n",
       "Name: Serbia, dtype: float32"
      ]
     },
     "execution_count": 350,
     "metadata": {},
     "output_type": "execute_result"
    }
   ],
   "source": [
    "res_ = dict()   \n",
    "countries = train['Country_Region'].unique()\n",
    "dates = []\n",
    "start_date = \"2020-3-26\"\n",
    "date1 = datetime.datetime.strptime(start_date, \"%Y-%m-%d\")\n",
    "for i in range(len(testPredict_f)):\n",
    "    res_[i] = testPredict_f[i]\n",
    "    dates.append(date1.strftime(\"%Y-%m-%d\"))\n",
    "    date1 += relativedelta(days = 1)\n",
    "    \n",
    "res = pd.DataFrame(pd.DataFrame(pd.DataFrame(res_).values.T))\n",
    "res.columns = countries\n",
    "\n",
    "res['Date'] = dates\n",
    "res = pd.pivot_table(res, index = 'Date')\n",
    "print(\"Predicted test values: \")\n",
    "res[11:]\n",
    "res['Serbia']"
   ]
  },
  {
   "cell_type": "code",
   "execution_count": 351,
   "metadata": {},
   "outputs": [
    {
     "name": "stdout",
     "output_type": "stream",
     "text": [
      "Real test values: \n"
     ]
    },
    {
     "data": {
      "text/plain": [
       "Date\n",
       "2020-03-26     4.000000\n",
       "2020-03-27     1.000000\n",
       "2020-03-28     1.000000\n",
       "2020-03-29    10.000000\n",
       "2020-03-30    13.000000\n",
       "2020-03-31    16.000000\n",
       "2020-04-01    16.000000\n",
       "2020-04-02    28.000000\n",
       "2020-04-03    31.000002\n",
       "2020-04-04    39.000000\n",
       "2020-04-05    44.000000\n",
       "2020-04-06    51.000000\n",
       "2020-04-07    57.999996\n",
       "2020-04-08    61.000000\n",
       "2020-04-09    65.000000\n",
       "2020-04-10    66.000000\n",
       "Name: Serbia, dtype: float32"
      ]
     },
     "execution_count": 351,
     "metadata": {},
     "output_type": "execute_result"
    }
   ],
   "source": [
    "print(\"Real test values: \")\n",
    "\n",
    "real = dict()   \n",
    "for i in range(len(y_val_fatal)):\n",
    "    real[i] = y_val_fatal[i]\n",
    " \n",
    "    \n",
    "real = pd.DataFrame(pd.DataFrame(pd.DataFrame(real).values.T))\n",
    "real.columns = countries\n",
    "\n",
    "real['Date'] = dates\n",
    "real = pd.pivot_table(real, index = 'Date')\n",
    "real[11:]\n",
    "real['Serbia']"
   ]
  },
  {
   "cell_type": "code",
   "execution_count": 352,
   "metadata": {},
   "outputs": [
    {
     "data": {
      "application/vnd.plotly.v1+json": {
       "config": {
        "plotlyServerURL": "https://plot.ly"
       },
       "data": [
        {
         "name": "Predicted cases",
         "type": "scatter",
         "x": [
          "2020-03-26",
          "2020-03-27",
          "2020-03-28",
          "2020-03-29",
          "2020-03-30",
          "2020-03-31",
          "2020-04-01",
          "2020-04-02",
          "2020-04-03",
          "2020-04-04",
          "2020-04-05",
          "2020-04-06",
          "2020-04-07",
          "2020-04-08",
          "2020-04-09",
          "2020-04-10"
         ],
         "y": [
          3.140423059463501,
          3.415076494216919,
          3.9169111251831055,
          4.115644454956055,
          4.3387770652771,
          4.806445121765137,
          4.9011054039001465,
          4.647502422332764,
          4.55784273147583,
          4.47292947769165,
          5.863277912139893,
          7.848846435546875,
          8.101792335510254,
          8.419137001037598,
          9.789627075195312,
          11.704228401184082
         ]
        },
        {
         "name": "Realized cases",
         "type": "scatter",
         "x": [
          "2020-03-26",
          "2020-03-27",
          "2020-03-28",
          "2020-03-29",
          "2020-03-30",
          "2020-03-31",
          "2020-04-01",
          "2020-04-02",
          "2020-04-03",
          "2020-04-04",
          "2020-04-05",
          "2020-04-06",
          "2020-04-07",
          "2020-04-08",
          "2020-04-09",
          "2020-04-10"
         ],
         "y": [
          4,
          1,
          1,
          10,
          13,
          16,
          16,
          28,
          31.000001907348633,
          39,
          44,
          51,
          57.999996185302734,
          61,
          65,
          66
         ]
        }
       ],
       "layout": {
        "template": {
         "data": {
          "bar": [
           {
            "error_x": {
             "color": "#2a3f5f"
            },
            "error_y": {
             "color": "#2a3f5f"
            },
            "marker": {
             "line": {
              "color": "white",
              "width": 0.5
             }
            },
            "type": "bar"
           }
          ],
          "barpolar": [
           {
            "marker": {
             "line": {
              "color": "white",
              "width": 0.5
             }
            },
            "type": "barpolar"
           }
          ],
          "carpet": [
           {
            "aaxis": {
             "endlinecolor": "#2a3f5f",
             "gridcolor": "#C8D4E3",
             "linecolor": "#C8D4E3",
             "minorgridcolor": "#C8D4E3",
             "startlinecolor": "#2a3f5f"
            },
            "baxis": {
             "endlinecolor": "#2a3f5f",
             "gridcolor": "#C8D4E3",
             "linecolor": "#C8D4E3",
             "minorgridcolor": "#C8D4E3",
             "startlinecolor": "#2a3f5f"
            },
            "type": "carpet"
           }
          ],
          "choropleth": [
           {
            "colorbar": {
             "outlinewidth": 0,
             "ticks": ""
            },
            "type": "choropleth"
           }
          ],
          "contour": [
           {
            "colorbar": {
             "outlinewidth": 0,
             "ticks": ""
            },
            "colorscale": [
             [
              0,
              "#0d0887"
             ],
             [
              0.1111111111111111,
              "#46039f"
             ],
             [
              0.2222222222222222,
              "#7201a8"
             ],
             [
              0.3333333333333333,
              "#9c179e"
             ],
             [
              0.4444444444444444,
              "#bd3786"
             ],
             [
              0.5555555555555556,
              "#d8576b"
             ],
             [
              0.6666666666666666,
              "#ed7953"
             ],
             [
              0.7777777777777778,
              "#fb9f3a"
             ],
             [
              0.8888888888888888,
              "#fdca26"
             ],
             [
              1,
              "#f0f921"
             ]
            ],
            "type": "contour"
           }
          ],
          "contourcarpet": [
           {
            "colorbar": {
             "outlinewidth": 0,
             "ticks": ""
            },
            "type": "contourcarpet"
           }
          ],
          "heatmap": [
           {
            "colorbar": {
             "outlinewidth": 0,
             "ticks": ""
            },
            "colorscale": [
             [
              0,
              "#0d0887"
             ],
             [
              0.1111111111111111,
              "#46039f"
             ],
             [
              0.2222222222222222,
              "#7201a8"
             ],
             [
              0.3333333333333333,
              "#9c179e"
             ],
             [
              0.4444444444444444,
              "#bd3786"
             ],
             [
              0.5555555555555556,
              "#d8576b"
             ],
             [
              0.6666666666666666,
              "#ed7953"
             ],
             [
              0.7777777777777778,
              "#fb9f3a"
             ],
             [
              0.8888888888888888,
              "#fdca26"
             ],
             [
              1,
              "#f0f921"
             ]
            ],
            "type": "heatmap"
           }
          ],
          "heatmapgl": [
           {
            "colorbar": {
             "outlinewidth": 0,
             "ticks": ""
            },
            "colorscale": [
             [
              0,
              "#0d0887"
             ],
             [
              0.1111111111111111,
              "#46039f"
             ],
             [
              0.2222222222222222,
              "#7201a8"
             ],
             [
              0.3333333333333333,
              "#9c179e"
             ],
             [
              0.4444444444444444,
              "#bd3786"
             ],
             [
              0.5555555555555556,
              "#d8576b"
             ],
             [
              0.6666666666666666,
              "#ed7953"
             ],
             [
              0.7777777777777778,
              "#fb9f3a"
             ],
             [
              0.8888888888888888,
              "#fdca26"
             ],
             [
              1,
              "#f0f921"
             ]
            ],
            "type": "heatmapgl"
           }
          ],
          "histogram": [
           {
            "marker": {
             "colorbar": {
              "outlinewidth": 0,
              "ticks": ""
             }
            },
            "type": "histogram"
           }
          ],
          "histogram2d": [
           {
            "colorbar": {
             "outlinewidth": 0,
             "ticks": ""
            },
            "colorscale": [
             [
              0,
              "#0d0887"
             ],
             [
              0.1111111111111111,
              "#46039f"
             ],
             [
              0.2222222222222222,
              "#7201a8"
             ],
             [
              0.3333333333333333,
              "#9c179e"
             ],
             [
              0.4444444444444444,
              "#bd3786"
             ],
             [
              0.5555555555555556,
              "#d8576b"
             ],
             [
              0.6666666666666666,
              "#ed7953"
             ],
             [
              0.7777777777777778,
              "#fb9f3a"
             ],
             [
              0.8888888888888888,
              "#fdca26"
             ],
             [
              1,
              "#f0f921"
             ]
            ],
            "type": "histogram2d"
           }
          ],
          "histogram2dcontour": [
           {
            "colorbar": {
             "outlinewidth": 0,
             "ticks": ""
            },
            "colorscale": [
             [
              0,
              "#0d0887"
             ],
             [
              0.1111111111111111,
              "#46039f"
             ],
             [
              0.2222222222222222,
              "#7201a8"
             ],
             [
              0.3333333333333333,
              "#9c179e"
             ],
             [
              0.4444444444444444,
              "#bd3786"
             ],
             [
              0.5555555555555556,
              "#d8576b"
             ],
             [
              0.6666666666666666,
              "#ed7953"
             ],
             [
              0.7777777777777778,
              "#fb9f3a"
             ],
             [
              0.8888888888888888,
              "#fdca26"
             ],
             [
              1,
              "#f0f921"
             ]
            ],
            "type": "histogram2dcontour"
           }
          ],
          "mesh3d": [
           {
            "colorbar": {
             "outlinewidth": 0,
             "ticks": ""
            },
            "type": "mesh3d"
           }
          ],
          "parcoords": [
           {
            "line": {
             "colorbar": {
              "outlinewidth": 0,
              "ticks": ""
             }
            },
            "type": "parcoords"
           }
          ],
          "pie": [
           {
            "automargin": true,
            "type": "pie"
           }
          ],
          "scatter": [
           {
            "marker": {
             "colorbar": {
              "outlinewidth": 0,
              "ticks": ""
             }
            },
            "type": "scatter"
           }
          ],
          "scatter3d": [
           {
            "line": {
             "colorbar": {
              "outlinewidth": 0,
              "ticks": ""
             }
            },
            "marker": {
             "colorbar": {
              "outlinewidth": 0,
              "ticks": ""
             }
            },
            "type": "scatter3d"
           }
          ],
          "scattercarpet": [
           {
            "marker": {
             "colorbar": {
              "outlinewidth": 0,
              "ticks": ""
             }
            },
            "type": "scattercarpet"
           }
          ],
          "scattergeo": [
           {
            "marker": {
             "colorbar": {
              "outlinewidth": 0,
              "ticks": ""
             }
            },
            "type": "scattergeo"
           }
          ],
          "scattergl": [
           {
            "marker": {
             "colorbar": {
              "outlinewidth": 0,
              "ticks": ""
             }
            },
            "type": "scattergl"
           }
          ],
          "scattermapbox": [
           {
            "marker": {
             "colorbar": {
              "outlinewidth": 0,
              "ticks": ""
             }
            },
            "type": "scattermapbox"
           }
          ],
          "scatterpolar": [
           {
            "marker": {
             "colorbar": {
              "outlinewidth": 0,
              "ticks": ""
             }
            },
            "type": "scatterpolar"
           }
          ],
          "scatterpolargl": [
           {
            "marker": {
             "colorbar": {
              "outlinewidth": 0,
              "ticks": ""
             }
            },
            "type": "scatterpolargl"
           }
          ],
          "scatterternary": [
           {
            "marker": {
             "colorbar": {
              "outlinewidth": 0,
              "ticks": ""
             }
            },
            "type": "scatterternary"
           }
          ],
          "surface": [
           {
            "colorbar": {
             "outlinewidth": 0,
             "ticks": ""
            },
            "colorscale": [
             [
              0,
              "#0d0887"
             ],
             [
              0.1111111111111111,
              "#46039f"
             ],
             [
              0.2222222222222222,
              "#7201a8"
             ],
             [
              0.3333333333333333,
              "#9c179e"
             ],
             [
              0.4444444444444444,
              "#bd3786"
             ],
             [
              0.5555555555555556,
              "#d8576b"
             ],
             [
              0.6666666666666666,
              "#ed7953"
             ],
             [
              0.7777777777777778,
              "#fb9f3a"
             ],
             [
              0.8888888888888888,
              "#fdca26"
             ],
             [
              1,
              "#f0f921"
             ]
            ],
            "type": "surface"
           }
          ],
          "table": [
           {
            "cells": {
             "fill": {
              "color": "#EBF0F8"
             },
             "line": {
              "color": "white"
             }
            },
            "header": {
             "fill": {
              "color": "#C8D4E3"
             },
             "line": {
              "color": "white"
             }
            },
            "type": "table"
           }
          ]
         },
         "layout": {
          "annotationdefaults": {
           "arrowcolor": "#2a3f5f",
           "arrowhead": 0,
           "arrowwidth": 1
          },
          "coloraxis": {
           "colorbar": {
            "outlinewidth": 0,
            "ticks": ""
           }
          },
          "colorscale": {
           "diverging": [
            [
             0,
             "#8e0152"
            ],
            [
             0.1,
             "#c51b7d"
            ],
            [
             0.2,
             "#de77ae"
            ],
            [
             0.3,
             "#f1b6da"
            ],
            [
             0.4,
             "#fde0ef"
            ],
            [
             0.5,
             "#f7f7f7"
            ],
            [
             0.6,
             "#e6f5d0"
            ],
            [
             0.7,
             "#b8e186"
            ],
            [
             0.8,
             "#7fbc41"
            ],
            [
             0.9,
             "#4d9221"
            ],
            [
             1,
             "#276419"
            ]
           ],
           "sequential": [
            [
             0,
             "#0d0887"
            ],
            [
             0.1111111111111111,
             "#46039f"
            ],
            [
             0.2222222222222222,
             "#7201a8"
            ],
            [
             0.3333333333333333,
             "#9c179e"
            ],
            [
             0.4444444444444444,
             "#bd3786"
            ],
            [
             0.5555555555555556,
             "#d8576b"
            ],
            [
             0.6666666666666666,
             "#ed7953"
            ],
            [
             0.7777777777777778,
             "#fb9f3a"
            ],
            [
             0.8888888888888888,
             "#fdca26"
            ],
            [
             1,
             "#f0f921"
            ]
           ],
           "sequentialminus": [
            [
             0,
             "#0d0887"
            ],
            [
             0.1111111111111111,
             "#46039f"
            ],
            [
             0.2222222222222222,
             "#7201a8"
            ],
            [
             0.3333333333333333,
             "#9c179e"
            ],
            [
             0.4444444444444444,
             "#bd3786"
            ],
            [
             0.5555555555555556,
             "#d8576b"
            ],
            [
             0.6666666666666666,
             "#ed7953"
            ],
            [
             0.7777777777777778,
             "#fb9f3a"
            ],
            [
             0.8888888888888888,
             "#fdca26"
            ],
            [
             1,
             "#f0f921"
            ]
           ]
          },
          "colorway": [
           "#636efa",
           "#EF553B",
           "#00cc96",
           "#ab63fa",
           "#FFA15A",
           "#19d3f3",
           "#FF6692",
           "#B6E880",
           "#FF97FF",
           "#FECB52"
          ],
          "font": {
           "color": "#2a3f5f"
          },
          "geo": {
           "bgcolor": "white",
           "lakecolor": "white",
           "landcolor": "white",
           "showlakes": true,
           "showland": true,
           "subunitcolor": "#C8D4E3"
          },
          "hoverlabel": {
           "align": "left"
          },
          "hovermode": "closest",
          "mapbox": {
           "style": "light"
          },
          "paper_bgcolor": "white",
          "plot_bgcolor": "white",
          "polar": {
           "angularaxis": {
            "gridcolor": "#EBF0F8",
            "linecolor": "#EBF0F8",
            "ticks": ""
           },
           "bgcolor": "white",
           "radialaxis": {
            "gridcolor": "#EBF0F8",
            "linecolor": "#EBF0F8",
            "ticks": ""
           }
          },
          "scene": {
           "xaxis": {
            "backgroundcolor": "white",
            "gridcolor": "#DFE8F3",
            "gridwidth": 2,
            "linecolor": "#EBF0F8",
            "showbackground": true,
            "ticks": "",
            "zerolinecolor": "#EBF0F8"
           },
           "yaxis": {
            "backgroundcolor": "white",
            "gridcolor": "#DFE8F3",
            "gridwidth": 2,
            "linecolor": "#EBF0F8",
            "showbackground": true,
            "ticks": "",
            "zerolinecolor": "#EBF0F8"
           },
           "zaxis": {
            "backgroundcolor": "white",
            "gridcolor": "#DFE8F3",
            "gridwidth": 2,
            "linecolor": "#EBF0F8",
            "showbackground": true,
            "ticks": "",
            "zerolinecolor": "#EBF0F8"
           }
          },
          "shapedefaults": {
           "line": {
            "color": "#2a3f5f"
           }
          },
          "ternary": {
           "aaxis": {
            "gridcolor": "#DFE8F3",
            "linecolor": "#A2B1C6",
            "ticks": ""
           },
           "baxis": {
            "gridcolor": "#DFE8F3",
            "linecolor": "#A2B1C6",
            "ticks": ""
           },
           "bgcolor": "white",
           "caxis": {
            "gridcolor": "#DFE8F3",
            "linecolor": "#A2B1C6",
            "ticks": ""
           }
          },
          "title": {
           "x": 0.05
          },
          "xaxis": {
           "automargin": true,
           "gridcolor": "#EBF0F8",
           "linecolor": "#EBF0F8",
           "ticks": "",
           "title": {
            "standoff": 15
           },
           "zerolinecolor": "#EBF0F8",
           "zerolinewidth": 2
          },
          "yaxis": {
           "automargin": true,
           "gridcolor": "#EBF0F8",
           "linecolor": "#EBF0F8",
           "ticks": "",
           "title": {
            "standoff": 15
           },
           "zerolinecolor": "#EBF0F8",
           "zerolinewidth": 2
          }
         }
        },
        "title": {
         "text": "Fatal COVID-19 cases in Serbia"
        },
        "xaxis": {
         "title": {
          "text": "Date"
         }
        },
        "yaxis": {
         "title": {
          "text": "Cases"
         }
        }
       }
      },
      "text/html": [
       "<div>\n",
       "        \n",
       "        \n",
       "            <div id=\"471cd8e5-7fb7-437f-823b-cb36c73cde6a\" class=\"plotly-graph-div\" style=\"height:525px; width:100%;\"></div>\n",
       "            <script type=\"text/javascript\">\n",
       "                require([\"plotly\"], function(Plotly) {\n",
       "                    window.PLOTLYENV=window.PLOTLYENV || {};\n",
       "                    \n",
       "                if (document.getElementById(\"471cd8e5-7fb7-437f-823b-cb36c73cde6a\")) {\n",
       "                    Plotly.newPlot(\n",
       "                        '471cd8e5-7fb7-437f-823b-cb36c73cde6a',\n",
       "                        [{\"name\": \"Predicted cases\", \"type\": \"scatter\", \"x\": [\"2020-03-26\", \"2020-03-27\", \"2020-03-28\", \"2020-03-29\", \"2020-03-30\", \"2020-03-31\", \"2020-04-01\", \"2020-04-02\", \"2020-04-03\", \"2020-04-04\", \"2020-04-05\", \"2020-04-06\", \"2020-04-07\", \"2020-04-08\", \"2020-04-09\", \"2020-04-10\"], \"y\": [3.140423059463501, 3.415076494216919, 3.9169111251831055, 4.115644454956055, 4.3387770652771, 4.806445121765137, 4.9011054039001465, 4.647502422332764, 4.55784273147583, 4.47292947769165, 5.863277912139893, 7.848846435546875, 8.101792335510254, 8.419137001037598, 9.789627075195312, 11.704228401184082]}, {\"name\": \"Realized cases\", \"type\": \"scatter\", \"x\": [\"2020-03-26\", \"2020-03-27\", \"2020-03-28\", \"2020-03-29\", \"2020-03-30\", \"2020-03-31\", \"2020-04-01\", \"2020-04-02\", \"2020-04-03\", \"2020-04-04\", \"2020-04-05\", \"2020-04-06\", \"2020-04-07\", \"2020-04-08\", \"2020-04-09\", \"2020-04-10\"], \"y\": [4.0, 1.0, 1.0, 10.0, 13.0, 16.0, 16.0, 28.0, 31.000001907348633, 39.0, 44.0, 51.0, 57.999996185302734, 61.0, 65.0, 66.0]}],\n",
       "                        {\"template\": {\"data\": {\"bar\": [{\"error_x\": {\"color\": \"#2a3f5f\"}, \"error_y\": {\"color\": \"#2a3f5f\"}, \"marker\": {\"line\": {\"color\": \"white\", \"width\": 0.5}}, \"type\": \"bar\"}], \"barpolar\": [{\"marker\": {\"line\": {\"color\": \"white\", \"width\": 0.5}}, \"type\": \"barpolar\"}], \"carpet\": [{\"aaxis\": {\"endlinecolor\": \"#2a3f5f\", \"gridcolor\": \"#C8D4E3\", \"linecolor\": \"#C8D4E3\", \"minorgridcolor\": \"#C8D4E3\", \"startlinecolor\": \"#2a3f5f\"}, \"baxis\": {\"endlinecolor\": \"#2a3f5f\", \"gridcolor\": \"#C8D4E3\", \"linecolor\": \"#C8D4E3\", \"minorgridcolor\": \"#C8D4E3\", \"startlinecolor\": \"#2a3f5f\"}, \"type\": \"carpet\"}], \"choropleth\": [{\"colorbar\": {\"outlinewidth\": 0, \"ticks\": \"\"}, \"type\": \"choropleth\"}], \"contour\": [{\"colorbar\": {\"outlinewidth\": 0, \"ticks\": \"\"}, \"colorscale\": [[0.0, \"#0d0887\"], [0.1111111111111111, \"#46039f\"], [0.2222222222222222, \"#7201a8\"], [0.3333333333333333, \"#9c179e\"], [0.4444444444444444, \"#bd3786\"], [0.5555555555555556, \"#d8576b\"], [0.6666666666666666, \"#ed7953\"], [0.7777777777777778, \"#fb9f3a\"], [0.8888888888888888, \"#fdca26\"], [1.0, \"#f0f921\"]], \"type\": \"contour\"}], \"contourcarpet\": [{\"colorbar\": {\"outlinewidth\": 0, \"ticks\": \"\"}, \"type\": \"contourcarpet\"}], \"heatmap\": [{\"colorbar\": {\"outlinewidth\": 0, \"ticks\": \"\"}, \"colorscale\": [[0.0, \"#0d0887\"], [0.1111111111111111, \"#46039f\"], [0.2222222222222222, \"#7201a8\"], [0.3333333333333333, \"#9c179e\"], [0.4444444444444444, \"#bd3786\"], [0.5555555555555556, \"#d8576b\"], [0.6666666666666666, \"#ed7953\"], [0.7777777777777778, \"#fb9f3a\"], [0.8888888888888888, \"#fdca26\"], [1.0, \"#f0f921\"]], \"type\": \"heatmap\"}], \"heatmapgl\": [{\"colorbar\": {\"outlinewidth\": 0, \"ticks\": \"\"}, \"colorscale\": [[0.0, \"#0d0887\"], [0.1111111111111111, \"#46039f\"], [0.2222222222222222, \"#7201a8\"], [0.3333333333333333, \"#9c179e\"], [0.4444444444444444, \"#bd3786\"], [0.5555555555555556, \"#d8576b\"], [0.6666666666666666, \"#ed7953\"], [0.7777777777777778, \"#fb9f3a\"], [0.8888888888888888, \"#fdca26\"], [1.0, \"#f0f921\"]], \"type\": \"heatmapgl\"}], \"histogram\": [{\"marker\": {\"colorbar\": {\"outlinewidth\": 0, \"ticks\": \"\"}}, \"type\": \"histogram\"}], \"histogram2d\": [{\"colorbar\": {\"outlinewidth\": 0, \"ticks\": \"\"}, \"colorscale\": [[0.0, \"#0d0887\"], [0.1111111111111111, \"#46039f\"], [0.2222222222222222, \"#7201a8\"], [0.3333333333333333, \"#9c179e\"], [0.4444444444444444, \"#bd3786\"], [0.5555555555555556, \"#d8576b\"], [0.6666666666666666, \"#ed7953\"], [0.7777777777777778, \"#fb9f3a\"], [0.8888888888888888, \"#fdca26\"], [1.0, \"#f0f921\"]], \"type\": \"histogram2d\"}], \"histogram2dcontour\": [{\"colorbar\": {\"outlinewidth\": 0, \"ticks\": \"\"}, \"colorscale\": [[0.0, \"#0d0887\"], [0.1111111111111111, \"#46039f\"], [0.2222222222222222, \"#7201a8\"], [0.3333333333333333, \"#9c179e\"], [0.4444444444444444, \"#bd3786\"], [0.5555555555555556, \"#d8576b\"], [0.6666666666666666, \"#ed7953\"], [0.7777777777777778, \"#fb9f3a\"], [0.8888888888888888, \"#fdca26\"], [1.0, \"#f0f921\"]], \"type\": \"histogram2dcontour\"}], \"mesh3d\": [{\"colorbar\": {\"outlinewidth\": 0, \"ticks\": \"\"}, \"type\": \"mesh3d\"}], \"parcoords\": [{\"line\": {\"colorbar\": {\"outlinewidth\": 0, \"ticks\": \"\"}}, \"type\": \"parcoords\"}], \"pie\": [{\"automargin\": true, \"type\": \"pie\"}], \"scatter\": [{\"marker\": {\"colorbar\": {\"outlinewidth\": 0, \"ticks\": \"\"}}, \"type\": \"scatter\"}], \"scatter3d\": [{\"line\": {\"colorbar\": {\"outlinewidth\": 0, \"ticks\": \"\"}}, \"marker\": {\"colorbar\": {\"outlinewidth\": 0, \"ticks\": \"\"}}, \"type\": \"scatter3d\"}], \"scattercarpet\": [{\"marker\": {\"colorbar\": {\"outlinewidth\": 0, \"ticks\": \"\"}}, \"type\": \"scattercarpet\"}], \"scattergeo\": [{\"marker\": {\"colorbar\": {\"outlinewidth\": 0, \"ticks\": \"\"}}, \"type\": \"scattergeo\"}], \"scattergl\": [{\"marker\": {\"colorbar\": {\"outlinewidth\": 0, \"ticks\": \"\"}}, \"type\": \"scattergl\"}], \"scattermapbox\": [{\"marker\": {\"colorbar\": {\"outlinewidth\": 0, \"ticks\": \"\"}}, \"type\": \"scattermapbox\"}], \"scatterpolar\": [{\"marker\": {\"colorbar\": {\"outlinewidth\": 0, \"ticks\": \"\"}}, \"type\": \"scatterpolar\"}], \"scatterpolargl\": [{\"marker\": {\"colorbar\": {\"outlinewidth\": 0, \"ticks\": \"\"}}, \"type\": \"scatterpolargl\"}], \"scatterternary\": [{\"marker\": {\"colorbar\": {\"outlinewidth\": 0, \"ticks\": \"\"}}, \"type\": \"scatterternary\"}], \"surface\": [{\"colorbar\": {\"outlinewidth\": 0, \"ticks\": \"\"}, \"colorscale\": [[0.0, \"#0d0887\"], [0.1111111111111111, \"#46039f\"], [0.2222222222222222, \"#7201a8\"], [0.3333333333333333, \"#9c179e\"], [0.4444444444444444, \"#bd3786\"], [0.5555555555555556, \"#d8576b\"], [0.6666666666666666, \"#ed7953\"], [0.7777777777777778, \"#fb9f3a\"], [0.8888888888888888, \"#fdca26\"], [1.0, \"#f0f921\"]], \"type\": \"surface\"}], \"table\": [{\"cells\": {\"fill\": {\"color\": \"#EBF0F8\"}, \"line\": {\"color\": \"white\"}}, \"header\": {\"fill\": {\"color\": \"#C8D4E3\"}, \"line\": {\"color\": \"white\"}}, \"type\": \"table\"}]}, \"layout\": {\"annotationdefaults\": {\"arrowcolor\": \"#2a3f5f\", \"arrowhead\": 0, \"arrowwidth\": 1}, \"coloraxis\": {\"colorbar\": {\"outlinewidth\": 0, \"ticks\": \"\"}}, \"colorscale\": {\"diverging\": [[0, \"#8e0152\"], [0.1, \"#c51b7d\"], [0.2, \"#de77ae\"], [0.3, \"#f1b6da\"], [0.4, \"#fde0ef\"], [0.5, \"#f7f7f7\"], [0.6, \"#e6f5d0\"], [0.7, \"#b8e186\"], [0.8, \"#7fbc41\"], [0.9, \"#4d9221\"], [1, \"#276419\"]], \"sequential\": [[0.0, \"#0d0887\"], [0.1111111111111111, \"#46039f\"], [0.2222222222222222, \"#7201a8\"], [0.3333333333333333, \"#9c179e\"], [0.4444444444444444, \"#bd3786\"], [0.5555555555555556, \"#d8576b\"], [0.6666666666666666, \"#ed7953\"], [0.7777777777777778, \"#fb9f3a\"], [0.8888888888888888, \"#fdca26\"], [1.0, \"#f0f921\"]], \"sequentialminus\": [[0.0, \"#0d0887\"], [0.1111111111111111, \"#46039f\"], [0.2222222222222222, \"#7201a8\"], [0.3333333333333333, \"#9c179e\"], [0.4444444444444444, \"#bd3786\"], [0.5555555555555556, \"#d8576b\"], [0.6666666666666666, \"#ed7953\"], [0.7777777777777778, \"#fb9f3a\"], [0.8888888888888888, \"#fdca26\"], [1.0, \"#f0f921\"]]}, \"colorway\": [\"#636efa\", \"#EF553B\", \"#00cc96\", \"#ab63fa\", \"#FFA15A\", \"#19d3f3\", \"#FF6692\", \"#B6E880\", \"#FF97FF\", \"#FECB52\"], \"font\": {\"color\": \"#2a3f5f\"}, \"geo\": {\"bgcolor\": \"white\", \"lakecolor\": \"white\", \"landcolor\": \"white\", \"showlakes\": true, \"showland\": true, \"subunitcolor\": \"#C8D4E3\"}, \"hoverlabel\": {\"align\": \"left\"}, \"hovermode\": \"closest\", \"mapbox\": {\"style\": \"light\"}, \"paper_bgcolor\": \"white\", \"plot_bgcolor\": \"white\", \"polar\": {\"angularaxis\": {\"gridcolor\": \"#EBF0F8\", \"linecolor\": \"#EBF0F8\", \"ticks\": \"\"}, \"bgcolor\": \"white\", \"radialaxis\": {\"gridcolor\": \"#EBF0F8\", \"linecolor\": \"#EBF0F8\", \"ticks\": \"\"}}, \"scene\": {\"xaxis\": {\"backgroundcolor\": \"white\", \"gridcolor\": \"#DFE8F3\", \"gridwidth\": 2, \"linecolor\": \"#EBF0F8\", \"showbackground\": true, \"ticks\": \"\", \"zerolinecolor\": \"#EBF0F8\"}, \"yaxis\": {\"backgroundcolor\": \"white\", \"gridcolor\": \"#DFE8F3\", \"gridwidth\": 2, \"linecolor\": \"#EBF0F8\", \"showbackground\": true, \"ticks\": \"\", \"zerolinecolor\": \"#EBF0F8\"}, \"zaxis\": {\"backgroundcolor\": \"white\", \"gridcolor\": \"#DFE8F3\", \"gridwidth\": 2, \"linecolor\": \"#EBF0F8\", \"showbackground\": true, \"ticks\": \"\", \"zerolinecolor\": \"#EBF0F8\"}}, \"shapedefaults\": {\"line\": {\"color\": \"#2a3f5f\"}}, \"ternary\": {\"aaxis\": {\"gridcolor\": \"#DFE8F3\", \"linecolor\": \"#A2B1C6\", \"ticks\": \"\"}, \"baxis\": {\"gridcolor\": \"#DFE8F3\", \"linecolor\": \"#A2B1C6\", \"ticks\": \"\"}, \"bgcolor\": \"white\", \"caxis\": {\"gridcolor\": \"#DFE8F3\", \"linecolor\": \"#A2B1C6\", \"ticks\": \"\"}}, \"title\": {\"x\": 0.05}, \"xaxis\": {\"automargin\": true, \"gridcolor\": \"#EBF0F8\", \"linecolor\": \"#EBF0F8\", \"ticks\": \"\", \"title\": {\"standoff\": 15}, \"zerolinecolor\": \"#EBF0F8\", \"zerolinewidth\": 2}, \"yaxis\": {\"automargin\": true, \"gridcolor\": \"#EBF0F8\", \"linecolor\": \"#EBF0F8\", \"ticks\": \"\", \"title\": {\"standoff\": 15}, \"zerolinecolor\": \"#EBF0F8\", \"zerolinewidth\": 2}}}, \"title\": {\"text\": \"Fatal COVID-19 cases in Serbia\"}, \"xaxis\": {\"title\": {\"text\": \"Date\"}}, \"yaxis\": {\"title\": {\"text\": \"Cases\"}}},\n",
       "                        {\"responsive\": true}\n",
       "                    ).then(function(){\n",
       "                            \n",
       "var gd = document.getElementById('471cd8e5-7fb7-437f-823b-cb36c73cde6a');\n",
       "var x = new MutationObserver(function (mutations, observer) {{\n",
       "        var display = window.getComputedStyle(gd).display;\n",
       "        if (!display || display === 'none') {{\n",
       "            console.log([gd, 'removed!']);\n",
       "            Plotly.purge(gd);\n",
       "            observer.disconnect();\n",
       "        }}\n",
       "}});\n",
       "\n",
       "// Listen for the removal of the full notebook cells\n",
       "var notebookContainer = gd.closest('#notebook-container');\n",
       "if (notebookContainer) {{\n",
       "    x.observe(notebookContainer, {childList: true});\n",
       "}}\n",
       "\n",
       "// Listen for the clearing of the current output cell\n",
       "var outputEl = gd.closest('.output');\n",
       "if (outputEl) {{\n",
       "    x.observe(outputEl, {childList: true});\n",
       "}}\n",
       "\n",
       "                        })\n",
       "                };\n",
       "                });\n",
       "            </script>\n",
       "        </div>"
      ]
     },
     "metadata": {},
     "output_type": "display_data"
    }
   ],
   "source": [
    "fig = go.Figure()\n",
    "\n",
    "Serbia_predicted = res['Serbia']\n",
    "Serbia_real = real['Serbia']\n",
    "\n",
    "Serbia_predicted.values\n",
    "fig.add_trace(go.Scatter(x = dates, y = Serbia_predicted.values, name = \"Predicted cases\"))\n",
    "fig.add_trace(go.Scatter(x = dates, y = Serbia_real.values, name = \"Realized cases\"))\n",
    "fig.update_layout(title = \"Fatal COVID-19 cases in Serbia\",\n",
    "                  xaxis_title = \"Date\",\n",
    "                  yaxis_title = \"Cases\")\n",
    "fig.layout.template = 'plotly_white'\n",
    "fig.show()"
   ]
  },
  {
   "cell_type": "code",
   "execution_count": 197,
   "metadata": {},
   "outputs": [
    {
     "name": "stdout",
     "output_type": "stream",
     "text": [
      "<class 'pandas.core.frame.DataFrame'>\n",
      "ISPIS\n",
      "predicted=141.165736, expected=146.000000\n",
      "predicted=168.460440, expected=174.000000\n",
      "predicted=201.594521, expected=186.000000\n",
      "predicted=204.568878, expected=197.000000\n",
      "predicted=208.392108, expected=212.000000\n",
      "predicted=226.484097, expected=223.000000\n",
      "predicted=235.074225, expected=243.000000\n",
      "predicted=260.943886, expected=259.000000\n",
      "predicted=276.476352, expected=277.000000\n",
      "predicted=294.740816, expected=304.000000\n",
      "predicted=329.016159, expected=333.000000\n",
      "predicted=362.033672, expected=361.000000\n",
      "predicted=389.708428, expected=377.000000\n",
      "predicted=395.802200, expected=383.000000\n",
      "predicted=389.574565, expected=400.000000\n",
      "predicted=415.634588, expected=409.000000\n",
      "Test MSE: 8.013\n"
     ]
    },
    {
     "data": {
      "image/png": "[encoded data removed]",
      "text/plain": [
       "<Figure size 432x288 with 1 Axes>"
      ]
     },
     "metadata": {
      "needs_background": "light"
     },
     "output_type": "display_data"
    },
    {
     "name": "stdout",
     "output_type": "stream",
     "text": [
      "ISPIS\n",
      "predicted=297.850821, expected=302.000000\n",
      "predicted=340.091026, expected=367.000000\n",
      "predicted=429.648003, expected=409.000000\n",
      "predicted=457.547335, expected=454.000000\n",
      "predicted=499.158482, expected=511.000000\n",
      "predicted=566.339253, expected=584.000000\n",
      "predicted=655.273545, expected=716.000000\n",
      "predicted=848.665982, expected=847.000000\n",
      "predicted=979.995809, expected=986.000000\n",
      "predicted=1126.774680, expected=1171.000000\n",
      "predicted=1358.384111, expected=1251.000000\n",
      "predicted=1378.110798, expected=1320.000000\n",
      "predicted=1391.799229, expected=1423.000000\n",
      "predicted=1521.796062, expected=1468.000000\n",
      "predicted=1528.039820, expected=1572.000000\n",
      "predicted=1657.669492, expected=1666.000000\n",
      "Test MSE: 41.902\n"
     ]
    },
    {
     "data": {
      "image/png": "[encoded data removed]",
      "text/plain": [
       "<Figure size 432x288 with 1 Axes>"
      ]
     },
     "metadata": {
      "needs_background": "light"
     },
     "output_type": "display_data"
    },
    {
     "name": "stdout",
     "output_type": "stream",
     "text": [
      "ISPIS\n",
      "predicted=188.871266, expected=188.000000\n",
      "predicted=217.087775, expected=224.000000\n",
      "predicted=253.142309, expected=267.000000\n",
      "predicted=306.849748, expected=308.000000\n",
      "predicted=351.222794, expected=334.000000\n",
      "predicted=369.466253, expected=370.000000\n",
      "predicted=400.947070, expected=376.000000\n",
      "predicted=401.616185, expected=390.000000\n",
      "predicted=399.708139, expected=428.000000\n",
      "predicted=454.117525, expected=439.000000\n",
      "predicted=466.294089, expected=466.000000\n",
      "predicted=484.112329, expected=501.000000\n",
      "predicted=532.333838, expected=525.000000\n",
      "predicted=555.669407, expected=545.000000\n",
      "predicted=567.579909, expected=564.000000\n",
      "predicted=583.926012, expected=583.000000\n",
      "Test MSE: 13.209\n"
     ]
    },
    {
     "data": {
      "image/png": "[encoded data removed]",
      "text/plain": [
       "<Figure size 432x288 with 1 Axes>"
      ]
     },
     "metadata": {
      "needs_background": "light"
     },
     "output_type": "display_data"
    },
    {
     "name": "stdout",
     "output_type": "stream",
     "text": [
      "ISPIS\n",
      "predicted=3.664564, expected=3.000000\n",
      "predicted=3.000000, expected=4.000000\n",
      "predicted=4.526201, expected=4.000000\n",
      "predicted=4.599334, expected=5.000000\n",
      "predicted=5.361549, expected=7.000000\n",
      "predicted=8.610608, expected=7.000000\n",
      "predicted=8.245326, expected=7.000000\n",
      "predicted=7.000000, expected=8.000000\n",
      "predicted=8.604434, expected=8.000000\n",
      "predicted=8.461524, expected=8.000000\n",
      "predicted=8.000000, expected=10.000000\n",
      "predicted=11.186407, expected=14.000000\n",
      "predicted=17.826537, expected=16.000000\n",
      "predicted=18.594195, expected=17.000000\n",
      "predicted=18.170558, expected=19.000000\n",
      "predicted=20.845080, expected=19.000000\n",
      "Test MSE: 1.418\n"
     ]
    },
    {
     "data": {
      "image/png": "[encoded data removed]",
      "text/plain": [
       "<Figure size 432x288 with 1 Axes>"
      ]
     },
     "metadata": {
      "needs_background": "light"
     },
     "output_type": "display_data"
    },
    {
     "name": "stdout",
     "output_type": "stream",
     "text": [
      "ISPIS\n",
      "predicted=4.638629, expected=3.000000\n",
      "predicted=3.000000, expected=7.000000\n",
      "predicted=9.154658, expected=7.000000\n",
      "predicted=10.188944, expected=7.000000\n",
      "predicted=7.000000, expected=7.000000\n",
      "predicted=7.000000, expected=7.000000\n",
      "predicted=7.000000, expected=7.000000\n",
      "predicted=7.000000, expected=7.000000\n",
      "predicted=7.000000, expected=9.000000\n",
      "predicted=10.044487, expected=15.000000\n",
      "predicted=19.967539, expected=15.000000\n",
      "predicted=18.567784, expected=15.000000\n",
      "predicted=15.000000, expected=15.000000\n",
      "predicted=15.000000, expected=19.000000\n",
      "predicted=21.566885, expected=19.000000\n",
      "predicted=20.859172, expected=19.000000\n",
      "Test MSE: 2.801\n"
     ]
    },
    {
     "data": {
      "image/png": "[encoded data removed]",
      "text/plain": [
       "<Figure size 432x288 with 1 Axes>"
      ]
     },
     "metadata": {
      "needs_background": "light"
     },
     "output_type": "display_data"
    },
    {
     "name": "stdout",
     "output_type": "stream",
     "text": [
      "ISPIS\n",
      "predicted=434.571386, expected=387.000000\n",
      "predicted=467.052220, expected=502.000000\n",
      "predicted=507.126599, expected=589.000000\n",
      "predicted=700.272402, expected=690.000000\n",
      "predicted=782.967608, expected=745.000000\n",
      "predicted=837.521605, expected=820.000000\n"
     ]
    },
    {
     "name": "stderr",
     "output_type": "stream",
     "text": [
      "/home/nemanja/.local/lib/python3.6/site-packages/statsmodels/tsa/kalmanf/kalmanfilter.py:220: RuntimeWarning:\n",
      "\n",
      "divide by zero encountered in true_divide\n",
      "\n"
     ]
    },
    {
     "name": "stdout",
     "output_type": "stream",
     "text": [
      "predicted=881.738390, expected=1054.000000\n",
      "predicted=1187.622439, expected=1054.000000\n",
      "predicted=1272.669970, expected=1133.000000\n",
      "predicted=1159.666238, expected=1265.000000\n",
      "predicted=1367.115019, expected=1451.000000\n",
      "predicted=1609.410492, expected=1451.000000\n",
      "predicted=1571.157494, expected=1554.000000\n",
      "predicted=1594.687917, expected=1628.000000\n",
      "predicted=1721.227565, expected=1715.000000\n",
      "predicted=1795.957893, expected=1795.000000\n",
      "Test MSE: 87.945\n"
     ]
    },
    {
     "data": {
      "image/png": "[encoded data removed]",
      "text/plain": [
       "<Figure size 432x288 with 1 Axes>"
      ]
     },
     "metadata": {
      "needs_background": "light"
     },
     "output_type": "display_data"
    },
    {
     "name": "stdout",
     "output_type": "stream",
     "text": [
      "ISPIS\n",
      "predicted=278.414404, expected=265.000000\n",
      "predicted=280.553472, expected=290.000000\n",
      "predicted=311.972294, expected=329.000000\n",
      "predicted=364.079974, expected=407.000000\n",
      "predicted=481.650138, expected=424.000000\n",
      "predicted=480.362865, expected=482.000000\n",
      "predicted=514.759321, expected=532.000000\n",
      "predicted=587.800132, expected=571.000000\n",
      "predicted=617.088816, expected=663.000000\n",
      "predicted=724.563449, expected=736.000000\n",
      "predicted=821.407600, expected=770.000000\n",
      "predicted=823.687063, expected=822.000000\n",
      "predicted=866.381932, expected=833.000000\n",
      "predicted=865.555833, expected=853.000000\n",
      "predicted=868.997455, expected=881.000000\n",
      "predicted=905.687126, expected=921.000000\n",
      "Test MSE: 28.330\n"
     ]
    },
    {
     "data": {
      "image/png": "[encoded data removed]",
      "text/plain": [
       "<Figure size 432x288 with 1 Axes>"
      ]
     },
     "metadata": {
      "needs_background": "light"
     },
     "output_type": "display_data"
    },
    {
     "name": "stdout",
     "output_type": "stream",
     "text": [
      "ISPIS\n",
      "predicted=284.712976, expected=295.500000\n",
      "predicted=339.245023, expected=351.250000\n",
      "predicted=399.828288, expected=392.875000\n",
      "predicted=443.535429, expected=455.000000\n",
      "predicted=506.261896, expected=498.000000\n",
      "predicted=554.284521, expected=545.125000\n",
      "predicted=590.894766, expected=569.875000\n",
      "predicted=609.000678, expected=607.750000\n",
      "predicted=638.493413, expected=639.500000\n",
      "predicted=675.713591, expected=666.250000\n",
      "predicted=696.596784, expected=693.750000\n",
      "predicted=721.415841, expected=710.875000\n",
      "predicted=734.561018, expected=724.625000\n",
      "predicted=740.622535, expected=736.875000\n",
      "predicted=750.248291, expected=751.250000\n",
      "predicted=764.699273, expected=763.500000\n",
      "Test MSE: 9.222\n"
     ]
    },
    {
     "data": {
      "image/png": "[encoded data removed]",
      "text/plain": [
       "<Figure size 432x288 with 1 Axes>"
      ]
     },
     "metadata": {
      "needs_background": "light"
     },
     "output_type": "display_data"
    },
    {
     "name": "stdout",
     "output_type": "stream",
     "text": [
      "ISPIS\n",
      "predicted=6095.856641, expected=5588.000000\n",
      "predicted=5720.679317, expected=6909.000000\n",
      "predicted=7375.422119, expected=7657.000000\n",
      "predicted=8830.881584, expected=8271.000000\n",
      "predicted=8970.299721, expected=8788.000000\n",
      "predicted=9366.765676, expected=9618.000000\n",
      "predicted=10301.841228, expected=10180.000000\n",
      "predicted=10901.288046, expected=10711.000000\n",
      "predicted=11269.885985, expected=11129.000000\n",
      "predicted=11614.583605, expected=11524.000000\n",
      "predicted=11939.232253, expected=11781.000000\n",
      "predicted=12113.770943, expected=12051.000000\n",
      "predicted=12320.021995, expected=12297.000000\n",
      "predicted=12560.161968, expected=12639.000000\n",
      "predicted=12939.266015, expected=12942.000000\n",
      "predicted=13270.785491, expected=13244.000000\n",
      "Test MSE: 377.052\n"
     ]
    },
    {
     "data": {
      "image/png": "[encoded data removed]",
      "text/plain": [
       "<Figure size 432x288 with 1 Axes>"
      ]
     },
     "metadata": {
      "needs_background": "light"
     },
     "output_type": "display_data"
    },
    {
     "name": "stdout",
     "output_type": "stream",
     "text": [
      "ISPIS\n",
      "predicted=97.263114, expected=93.000000\n",
      "predicted=105.276631, expected=122.000000\n",
      "predicted=132.986814, expected=165.000000\n",
      "predicted=204.162343, expected=182.000000\n",
      "predicted=212.717785, expected=209.000000\n",
      "predicted=231.891468, expected=273.000000\n",
      "predicted=326.852383, expected=298.000000\n",
      "predicted=346.164454, expected=359.000000\n",
      "predicted=397.332058, expected=400.000000\n",
      "predicted=455.117438, expected=443.000000\n",
      "predicted=485.743771, expected=521.000000\n",
      "predicted=579.309000, expected=584.000000\n",
      "predicted=657.287063, expected=641.000000\n",
      "predicted=702.588330, expected=717.000000\n",
      "predicted=783.693364, expected=822.000000\n",
      "predicted=914.705477, expected=926.000000\n",
      "Test MSE: 22.363\n"
     ]
    },
    {
     "data": {
      "image/png": "[encoded data removed]",
      "text/plain": [
       "<Figure size 432x288 with 1 Axes>"
      ]
     },
     "metadata": {
      "needs_background": "light"
     },
     "output_type": "display_data"
    },
    {
     "name": "stdout",
     "output_type": "stream",
     "text": [
      "ISPIS\n",
      "predicted=5.361912, expected=5.000000\n",
      "predicted=5.692066, expected=9.000000\n",
      "predicted=9.618514, expected=10.000000\n",
      "predicted=13.525430, expected=10.000000\n",
      "predicted=10.564222, expected=11.000000\n",
      "predicted=11.449082, expected=14.000000\n",
      "predicted=16.042632, expected=14.000000\n",
      "predicted=15.798060, expected=21.000000\n",
      "predicted=22.205809, expected=24.000000\n",
      "predicted=30.046791, expected=24.000000\n",
      "predicted=25.613286, expected=28.000000\n",
      "predicted=29.719078, expected=28.000000\n",
      "predicted=30.554146, expected=29.000000\n",
      "predicted=29.421611, expected=33.000000\n",
      "predicted=35.351762, expected=40.000000\n",
      "predicted=45.648508, expected=41.000000\n",
      "Test MSE: 3.245\n"
     ]
    },
    {
     "data": {
      "image/png": "[encoded data removed]",
      "text/plain": [
       "<Figure size 432x288 with 1 Axes>"
      ]
     },
     "metadata": {
      "needs_background": "light"
     },
     "output_type": "display_data"
    },
    {
     "name": "stdout",
     "output_type": "stream",
     "text": [
      "ISPIS\n",
      "predicted=419.542074, expected=419.000000\n",
      "predicted=441.415755, expected=458.000000\n",
      "predicted=492.813966, expected=466.000000\n",
      "predicted=487.838253, expected=476.000000\n",
      "predicted=485.380234, expected=499.000000\n",
      "predicted=517.061504, expected=515.000000\n",
      "predicted=534.277183, expected=567.000000\n",
      "predicted=604.534554, expected=569.000000\n",
      "predicted=595.904980, expected=643.000000\n",
      "predicted=675.216362, expected=672.000000\n",
      "predicted=729.221240, expected=688.000000\n",
      "predicted=711.462430, expected=700.000000\n",
      "predicted=714.423562, expected=756.000000\n",
      "predicted=789.084932, expected=811.000000\n",
      "predicted=867.634398, expected=823.000000\n",
      "predicted=857.336514, expected=887.000000\n",
      "Test MSE: 28.282\n"
     ]
    },
    {
     "data": {
      "image/png": "[encoded data removed]",
      "text/plain": [
       "<Figure size 432x288 with 1 Axes>"
      ]
     },
     "metadata": {
      "needs_background": "light"
     },
     "output_type": "display_data"
    },
    {
     "name": "stdout",
     "output_type": "stream",
     "text": [
      "ISPIS\n",
      "predicted=45.151681, expected=39.000000\n",
      "predicted=42.094685, expected=44.000000\n",
      "predicted=45.958137, expected=48.000000\n",
      "predicted=52.648292, expected=48.000000\n",
      "predicted=50.032686, expected=48.000000\n",
      "predicted=48.000000, expected=49.000000\n",
      "predicted=49.573140, expected=51.000000\n",
      "predicted=52.604220, expected=54.000000\n",
      "predicted=56.633967, expected=56.000000\n",
      "predicted=58.473833, expected=61.000000\n",
      "predicted=64.750103, expected=70.000000\n",
      "predicted=77.781331, expected=88.000000\n",
      "predicted=105.329859, expected=123.000000\n",
      "predicted=167.124540, expected=164.000000\n",
      "predicted=207.862099, expected=218.000000\n",
      "predicted=279.134627, expected=330.000000\n",
      "Test MSE: 14.202\n"
     ]
    },
    {
     "data": {
      "image/png": "[encoded data removed]",
      "text/plain": [
       "<Figure size 432x288 with 1 Axes>"
      ]
     },
     "metadata": {
      "needs_background": "light"
     },
     "output_type": "display_data"
    },
    {
     "name": "stdout",
     "output_type": "stream",
     "text": [
      "ISPIS\n",
      "predicted=19.816831, expected=18.000000\n",
      "predicted=18.361974, expected=18.000000\n",
      "predicted=18.000000, expected=24.000000\n",
      "predicted=27.988550, expected=26.000000\n",
      "predicted=29.799849, expected=33.000000\n",
      "predicted=37.566193, expected=33.000000\n",
      "predicted=37.466598, expected=34.000000\n",
      "predicted=34.488079, expected=34.000000\n",
      "predicted=34.536632, expected=46.000000\n",
      "predicted=51.330072, expected=51.000000\n",
      "predicted=60.233409, expected=52.000000\n",
      "predicted=54.829578, expected=56.000000\n",
      "predicted=58.691980, expected=60.000000\n",
      "predicted=64.078943, expected=63.000000\n",
      "predicted=66.512597, expected=63.000000\n",
      "predicted=64.337921, expected=66.000000\n",
      "Test MSE: 4.369\n"
     ]
    },
    {
     "data": {
      "image/png": "[encoded data removed]",
      "text/plain": [
       "<Figure size 432x288 with 1 Axes>"
      ]
     },
     "metadata": {
      "needs_background": "light"
     },
     "output_type": "display_data"
    },
    {
     "name": "stdout",
     "output_type": "stream",
     "text": [
      "ISPIS\n",
      "predicted=84.421404, expected=86.000000\n",
      "predicted=87.691914, expected=86.000000\n",
      "predicted=89.469874, expected=94.000000\n",
      "predicted=96.558355, expected=94.000000\n",
      "predicted=99.746894, expected=94.000000\n",
      "predicted=94.000000, expected=152.000000\n",
      "predicted=173.043452, expected=152.000000\n",
      "predicted=202.654043, expected=163.000000\n",
      "predicted=167.490316, expected=304.000000\n",
      "predicted=392.009607, expected=351.000000\n",
      "predicted=458.653842, expected=440.000000\n",
      "predicted=506.477692, expected=562.000000\n",
      "predicted=669.388005, expected=700.000000\n",
      "predicted=832.891116, expected=861.000000\n",
      "predicted=1014.078103, expected=1066.000000\n",
      "predicted=1254.943662, expected=1486.000000\n",
      "Test MSE: 73.740\n"
     ]
    },
    {
     "data": {
      "image/png": "[encoded data removed]",
      "text/plain": [
       "<Figure size 432x288 with 1 Axes>"
      ]
     },
     "metadata": {
      "needs_background": "light"
     },
     "output_type": "display_data"
    },
    {
     "name": "stdout",
     "output_type": "stream",
     "text": [
      "ISPIS\n",
      "predicted=4733.728365, expected=4937.000000\n",
      "predicted=5585.403828, expected=6235.000000\n",
      "predicted=7634.618586, expected=7284.000000\n",
      "predicted=8407.266320, expected=9134.000000\n",
      "predicted=10631.410875, expected=10836.000000\n",
      "predicted=12628.486558, expected=11899.000000\n",
      "predicted=13157.042998, expected=12775.000000\n",
      "predicted=13690.021051, expected=13964.000000\n",
      "predicted=15122.616235, expected=15348.000000\n",
      "predicted=16729.781041, expected=16770.000000\n",
      "predicted=18209.869675, expected=18431.000000\n",
      "predicted=20089.211009, expected=19691.000000\n",
      "predicted=21036.706663, expected=20814.000000\n",
      "predicted=21970.449866, expected=22194.000000\n",
      "predicted=23560.067216, expected=23403.000000\n",
      "predicted=24656.441303, expected=24983.000000\n",
      "Test MSE: 387.312\n"
     ]
    },
    {
     "data": {
      "image/png": "[encoded data removed]",
      "text/plain": [
       "<Figure size 432x288 with 1 Axes>"
      ]
     },
     "metadata": {
      "needs_background": "light"
     },
     "output_type": "display_data"
    },
    {
     "name": "stdout",
     "output_type": "stream",
     "text": [
      "ISPIS\n",
      "predicted=1.934386, expected=2.000000\n"
     ]
    },
    {
     "name": "stderr",
     "output_type": "stream",
     "text": [
      "/home/nemanja/.local/lib/python3.6/site-packages/statsmodels/tsa/kalmanf/kalmanfilter.py:220: RuntimeWarning:\n",
      "\n",
      "divide by zero encountered in true_divide\n",
      "\n"
     ]
    },
    {
     "name": "stdout",
     "output_type": "stream",
     "text": [
      "predicted=2.078569, expected=2.000000\n",
      "predicted=2.967248, expected=2.000000\n",
      "predicted=2.000000, expected=2.000000\n",
      "predicted=2.000000, expected=2.000000\n",
      "predicted=2.000000, expected=3.000000\n",
      "predicted=3.281327, expected=3.000000\n",
      "predicted=3.797210, expected=3.000000\n",
      "predicted=3.000000, expected=3.000000\n",
      "predicted=3.000000, expected=4.000000\n",
      "predicted=4.359199, expected=4.000000\n",
      "predicted=4.713366, expected=5.000000\n",
      "predicted=5.276281, expected=7.000000\n",
      "predicted=8.483803, expected=7.000000\n",
      "predicted=8.394382, expected=8.000000\n",
      "predicted=8.379590, expected=9.000000\n",
      "Test MSE: 0.774\n"
     ]
    },
    {
     "data": {
      "image/png": "[encoded data removed]",
      "text/plain": [
       "<Figure size 432x288 with 1 Axes>"
      ]
     },
     "metadata": {
      "needs_background": "light"
     },
     "output_type": "display_data"
    },
    {
     "name": "stdout",
     "output_type": "stream",
     "text": [
      "ISPIS\n",
      "predicted=8.424279, expected=6.000000\n",
      "predicted=6.411798, expected=6.000000\n",
      "predicted=6.000000, expected=6.000000\n",
      "predicted=6.000000, expected=6.000000\n",
      "predicted=6.000000, expected=6.000000\n",
      "predicted=6.000000, expected=6.000000\n",
      "predicted=6.000000, expected=9.000000\n",
      "predicted=10.903939, expected=13.000000\n",
      "predicted=16.911690, expected=13.000000\n",
      "predicted=14.142301, expected=16.000000\n",
      "predicted=17.702396, expected=16.000000\n",
      "predicted=17.640507, expected=22.000000\n",
      "predicted=23.666408, expected=26.000000\n",
      "predicted=31.303640, expected=26.000000\n",
      "predicted=27.999209, expected=26.000000\n",
      "predicted=26.000000, expected=26.000000\n",
      "Test MSE: 2.471\n"
     ]
    },
    {
     "data": {
      "image/png": "[encoded data removed]",
      "text/plain": [
       "<Figure size 432x288 with 1 Axes>"
      ]
     },
     "metadata": {
      "needs_background": "light"
     },
     "output_type": "display_data"
    },
    {
     "name": "stdout",
     "output_type": "stream",
     "text": [
      "ISPIS\n",
      "predicted=2.000000, expected=2.000000\n",
      "predicted=2.000000, expected=2.000000\n",
      "predicted=2.000000, expected=3.000000\n",
      "predicted=3.525795, expected=3.000000\n",
      "predicted=3.599339, expected=4.000000\n",
      "predicted=4.361128, expected=4.000000\n",
      "predicted=4.713338, expected=4.000000\n",
      "predicted=4.000000, expected=4.000000\n",
      "predicted=4.000000, expected=5.000000\n",
      "predicted=5.399773, expected=5.000000\n",
      "predicted=5.666227, expected=5.000000\n",
      "predicted=5.000000, expected=5.000000\n",
      "predicted=5.000000, expected=5.000000\n",
      "predicted=5.000000, expected=5.000000\n",
      "predicted=5.000000, expected=5.000000\n",
      "predicted=5.000000, expected=5.000000\n",
      "Test MSE: 0.480\n"
     ]
    },
    {
     "data": {
      "image/png": "[encoded data removed]",
      "text/plain": [
       "<Figure size 432x288 with 1 Axes>"
      ]
     },
     "metadata": {
      "needs_background": "light"
     },
     "output_type": "display_data"
    },
    {
     "name": "stdout",
     "output_type": "stream",
     "text": [
      "ISPIS\n",
      "predicted=31.500740, expected=32.000000\n",
      "predicted=34.613535, expected=43.000000\n",
      "predicted=51.169355, expected=61.000000\n",
      "predicted=79.614632, expected=74.000000\n",
      "predicted=87.820786, expected=81.000000\n",
      "predicted=87.969523, expected=97.000000\n",
      "predicted=111.764351, expected=107.000000\n",
      "predicted=118.880607, expected=115.000000\n",
      "predicted=123.587963, expected=123.000000\n",
      "predicted=131.139768, expected=132.000000\n",
      "predicted=140.934952, expected=139.000000\n",
      "predicted=146.567674, expected=157.000000\n",
      "predicted=172.280321, expected=183.000000\n",
      "predicted=208.899755, expected=194.000000\n",
      "predicted=208.942352, expected=210.000000\n",
      "predicted=224.918201, expected=264.000000\n",
      "Test MSE: 12.103\n"
     ]
    },
    {
     "data": {
      "image/png": "[encoded data removed]",
      "text/plain": [
       "<Figure size 432x288 with 1 Axes>"
      ]
     },
     "metadata": {
      "needs_background": "light"
     },
     "output_type": "display_data"
    },
    {
     "name": "stdout",
     "output_type": "stream",
     "text": [
      "ISPIS\n",
      "predicted=181.898443, expected=176.000000\n",
      "predicted=202.095092, expected=191.000000\n",
      "predicted=202.823096, expected=237.000000\n",
      "predicted=263.781854, expected=258.000000\n",
      "predicted=297.088398, expected=323.000000\n",
      "predicted=353.240328, expected=368.000000\n",
      "predicted=428.942120, expected=420.000000\n",
      "predicted=468.332069, expected=459.000000\n",
      "predicted=508.338692, expected=533.000000\n",
      "predicted=582.157795, expected=579.000000\n",
      "predicted=647.876610, expected=624.000000\n",
      "predicted=670.771820, expected=654.000000\n",
      "predicted=695.179859, expected=674.000000\n",
      "predicted=701.089374, expected=764.000000\n",
      "predicted=805.504607, expected=804.000000\n",
      "predicted=881.389131, expected=858.000000\n",
      "Test MSE: 23.506\n"
     ]
    },
    {
     "data": {
      "image/png": "[encoded data removed]",
      "text/plain": [
       "<Figure size 432x288 with 1 Axes>"
      ]
     },
     "metadata": {
      "needs_background": "light"
     },
     "output_type": "display_data"
    },
    {
     "name": "stdout",
     "output_type": "stream",
     "text": [
      "ISPIS\n"
     ]
    },
    {
     "ename": "LinAlgError",
     "evalue": "Singular matrix",
     "output_type": "error",
     "traceback": [
      "\u001b[0;31m---------------------------------------------------------------------------\u001b[0m",
      "\u001b[0;31mLinAlgError\u001b[0m                               Traceback (most recent call last)",
      "\u001b[0;32m<ipython-input-197-f5c5fba8b561>\u001b[0m in \u001b[0;36m<module>\u001b[0;34m\u001b[0m\n\u001b[1;32m     43\u001b[0m \u001b[0;32mfor\u001b[0m \u001b[0mi\u001b[0m \u001b[0;32min\u001b[0m \u001b[0mrange\u001b[0m\u001b[0;34m(\u001b[0m\u001b[0;36m1\u001b[0m\u001b[0;34m,\u001b[0m \u001b[0mlen\u001b[0m\u001b[0;34m(\u001b[0m\u001b[0marima_train\u001b[0m\u001b[0;34m.\u001b[0m\u001b[0mcolumns\u001b[0m\u001b[0;34m)\u001b[0m\u001b[0;34m)\u001b[0m\u001b[0;34m:\u001b[0m\u001b[0;34m\u001b[0m\u001b[0;34m\u001b[0m\u001b[0m\n\u001b[1;32m     44\u001b[0m     \u001b[0mprint\u001b[0m\u001b[0;34m(\u001b[0m\u001b[0;34m\"ISPIS\"\u001b[0m\u001b[0;34m)\u001b[0m\u001b[0;34m\u001b[0m\u001b[0;34m\u001b[0m\u001b[0m\n\u001b[0;32m---> 45\u001b[0;31m     \u001b[0mpredictValuesARIMA\u001b[0m\u001b[0;34m(\u001b[0m\u001b[0marima_train\u001b[0m\u001b[0;34m.\u001b[0m\u001b[0miloc\u001b[0m\u001b[0;34m[\u001b[0m\u001b[0;34m:\u001b[0m\u001b[0;34m,\u001b[0m\u001b[0mi\u001b[0m\u001b[0;34m]\u001b[0m\u001b[0;34m.\u001b[0m\u001b[0mvalues\u001b[0m\u001b[0;34m)\u001b[0m\u001b[0;34m\u001b[0m\u001b[0;34m\u001b[0m\u001b[0m\n\u001b[0m",
      "\u001b[0;32m<ipython-input-197-f5c5fba8b561>\u001b[0m in \u001b[0;36mpredictValuesARIMA\u001b[0;34m(X)\u001b[0m\n\u001b[1;32m     24\u001b[0m     \u001b[0;32mfor\u001b[0m \u001b[0mt\u001b[0m \u001b[0;32min\u001b[0m \u001b[0mrange\u001b[0m\u001b[0;34m(\u001b[0m\u001b[0mlen\u001b[0m\u001b[0;34m(\u001b[0m\u001b[0mAtest\u001b[0m\u001b[0;34m)\u001b[0m\u001b[0;34m)\u001b[0m\u001b[0;34m:\u001b[0m\u001b[0;34m\u001b[0m\u001b[0;34m\u001b[0m\u001b[0m\n\u001b[1;32m     25\u001b[0m         \u001b[0mmodel\u001b[0m \u001b[0;34m=\u001b[0m \u001b[0mARIMA\u001b[0m\u001b[0;34m(\u001b[0m\u001b[0mhistory\u001b[0m\u001b[0;34m,\u001b[0m \u001b[0morder\u001b[0m\u001b[0;34m=\u001b[0m\u001b[0;34m(\u001b[0m\u001b[0;36m1\u001b[0m\u001b[0;34m,\u001b[0m\u001b[0;36m2\u001b[0m\u001b[0;34m,\u001b[0m\u001b[0;36m0\u001b[0m\u001b[0;34m)\u001b[0m\u001b[0;34m)\u001b[0m\u001b[0;34m\u001b[0m\u001b[0;34m\u001b[0m\u001b[0m\n\u001b[0;32m---> 26\u001b[0;31m         \u001b[0mmodel_fit\u001b[0m \u001b[0;34m=\u001b[0m \u001b[0mmodel\u001b[0m\u001b[0;34m.\u001b[0m\u001b[0mfit\u001b[0m\u001b[0;34m(\u001b[0m\u001b[0mdisp\u001b[0m\u001b[0;34m=\u001b[0m\u001b[0;36m0\u001b[0m\u001b[0;34m)\u001b[0m\u001b[0;34m\u001b[0m\u001b[0;34m\u001b[0m\u001b[0m\n\u001b[0m\u001b[1;32m     27\u001b[0m         \u001b[0moutput\u001b[0m \u001b[0;34m=\u001b[0m \u001b[0mmodel_fit\u001b[0m\u001b[0;34m.\u001b[0m\u001b[0mforecast\u001b[0m\u001b[0;34m(\u001b[0m\u001b[0;34m)\u001b[0m\u001b[0;34m\u001b[0m\u001b[0;34m\u001b[0m\u001b[0m\n\u001b[1;32m     28\u001b[0m         \u001b[0myhat\u001b[0m \u001b[0;34m=\u001b[0m \u001b[0moutput\u001b[0m\u001b[0;34m[\u001b[0m\u001b[0;36m0\u001b[0m\u001b[0;34m]\u001b[0m\u001b[0;34m\u001b[0m\u001b[0;34m\u001b[0m\u001b[0m\n",
      "\u001b[0;32m~/.local/lib/python3.6/site-packages/statsmodels/tsa/arima_model.py\u001b[0m in \u001b[0;36mfit\u001b[0;34m(self, start_params, trend, method, transparams, solver, maxiter, full_output, disp, callback, start_ar_lags, **kwargs)\u001b[0m\n\u001b[1;32m   1198\u001b[0m                                         \u001b[0mmethod\u001b[0m\u001b[0;34m,\u001b[0m \u001b[0mtransparams\u001b[0m\u001b[0;34m,\u001b[0m \u001b[0msolver\u001b[0m\u001b[0;34m,\u001b[0m\u001b[0;34m\u001b[0m\u001b[0;34m\u001b[0m\u001b[0m\n\u001b[1;32m   1199\u001b[0m                                         \u001b[0mmaxiter\u001b[0m\u001b[0;34m,\u001b[0m \u001b[0mfull_output\u001b[0m\u001b[0;34m,\u001b[0m \u001b[0mdisp\u001b[0m\u001b[0;34m,\u001b[0m\u001b[0;34m\u001b[0m\u001b[0;34m\u001b[0m\u001b[0m\n\u001b[0;32m-> 1200\u001b[0;31m                                         callback, start_ar_lags, **kwargs)\n\u001b[0m\u001b[1;32m   1201\u001b[0m         \u001b[0mnormalized_cov_params\u001b[0m \u001b[0;34m=\u001b[0m \u001b[0;32mNone\u001b[0m  \u001b[0;31m# TODO: fix this?\u001b[0m\u001b[0;34m\u001b[0m\u001b[0;34m\u001b[0m\u001b[0m\n\u001b[1;32m   1202\u001b[0m         arima_fit = ARIMAResults(self, mlefit._results.params,\n",
      "\u001b[0;32m~/.local/lib/python3.6/site-packages/statsmodels/tsa/arima_model.py\u001b[0m in \u001b[0;36mfit\u001b[0;34m(self, start_params, trend, method, transparams, solver, maxiter, full_output, disp, callback, start_ar_lags, **kwargs)\u001b[0m\n\u001b[1;32m    984\u001b[0m         \u001b[0;32melse\u001b[0m\u001b[0;34m:\u001b[0m  \u001b[0;31m# estimate starting parameters\u001b[0m\u001b[0;34m\u001b[0m\u001b[0;34m\u001b[0m\u001b[0m\n\u001b[1;32m    985\u001b[0m             start_params = self._fit_start_params((k_ar, k_ma, k), method,\n\u001b[0;32m--> 986\u001b[0;31m                                                   start_ar_lags)\n\u001b[0m\u001b[1;32m    987\u001b[0m \u001b[0;34m\u001b[0m\u001b[0m\n\u001b[1;32m    988\u001b[0m         \u001b[0;32mif\u001b[0m \u001b[0mtransparams\u001b[0m\u001b[0;34m:\u001b[0m  \u001b[0;31m# transform initial parameters to ensure invertibility\u001b[0m\u001b[0;34m\u001b[0m\u001b[0;34m\u001b[0m\u001b[0m\n",
      "\u001b[0;32m~/.local/lib/python3.6/site-packages/statsmodels/tsa/arima_model.py\u001b[0m in \u001b[0;36m_fit_start_params\u001b[0;34m(self, order, method, start_ar_lags)\u001b[0m\n\u001b[1;32m    575\u001b[0m                 \u001b[0;32mreturn\u001b[0m \u001b[0;34m-\u001b[0m\u001b[0mself\u001b[0m\u001b[0;34m.\u001b[0m\u001b[0mloglike_css\u001b[0m\u001b[0;34m(\u001b[0m\u001b[0mparams\u001b[0m\u001b[0;34m)\u001b[0m\u001b[0;34m\u001b[0m\u001b[0;34m\u001b[0m\u001b[0m\n\u001b[1;32m    576\u001b[0m \u001b[0;34m\u001b[0m\u001b[0m\n\u001b[0;32m--> 577\u001b[0;31m             \u001b[0mstart_params\u001b[0m \u001b[0;34m=\u001b[0m \u001b[0mself\u001b[0m\u001b[0;34m.\u001b[0m\u001b[0m_fit_start_params_hr\u001b[0m\u001b[0;34m(\u001b[0m\u001b[0morder\u001b[0m\u001b[0;34m,\u001b[0m \u001b[0mstart_ar_lags\u001b[0m\u001b[0;34m)\u001b[0m\u001b[0;34m\u001b[0m\u001b[0;34m\u001b[0m\u001b[0m\n\u001b[0m\u001b[1;32m    578\u001b[0m             \u001b[0;32mif\u001b[0m \u001b[0mself\u001b[0m\u001b[0;34m.\u001b[0m\u001b[0mtransparams\u001b[0m\u001b[0;34m:\u001b[0m\u001b[0;34m\u001b[0m\u001b[0;34m\u001b[0m\u001b[0m\n\u001b[1;32m    579\u001b[0m                 \u001b[0mstart_params\u001b[0m \u001b[0;34m=\u001b[0m \u001b[0mself\u001b[0m\u001b[0;34m.\u001b[0m\u001b[0m_invtransparams\u001b[0m\u001b[0;34m(\u001b[0m\u001b[0mstart_params\u001b[0m\u001b[0;34m)\u001b[0m\u001b[0;34m\u001b[0m\u001b[0;34m\u001b[0m\u001b[0m\n",
      "\u001b[0;32m~/.local/lib/python3.6/site-packages/statsmodels/tsa/arima_model.py\u001b[0m in \u001b[0;36m_fit_start_params_hr\u001b[0;34m(self, order, start_ar_lags)\u001b[0m\n\u001b[1;32m    547\u001b[0m                 \u001b[0mstart_params\u001b[0m\u001b[0;34m[\u001b[0m\u001b[0mk\u001b[0m \u001b[0;34m+\u001b[0m \u001b[0mp\u001b[0m\u001b[0;34m:\u001b[0m\u001b[0mk\u001b[0m \u001b[0;34m+\u001b[0m \u001b[0mp\u001b[0m \u001b[0;34m+\u001b[0m \u001b[0mq\u001b[0m\u001b[0;34m]\u001b[0m \u001b[0;34m=\u001b[0m \u001b[0marma2ma\u001b[0m\u001b[0;34m(\u001b[0m\u001b[0mar\u001b[0m\u001b[0;34m,\u001b[0m \u001b[0;34m[\u001b[0m\u001b[0;36m1\u001b[0m\u001b[0;34m]\u001b[0m\u001b[0;34m,\u001b[0m \u001b[0mlags\u001b[0m\u001b[0;34m=\u001b[0m\u001b[0mq\u001b[0m\u001b[0;34m+\u001b[0m\u001b[0;36m1\u001b[0m\u001b[0;34m)\u001b[0m\u001b[0;34m[\u001b[0m\u001b[0;36m1\u001b[0m\u001b[0;34m:\u001b[0m\u001b[0;34m]\u001b[0m\u001b[0;34m\u001b[0m\u001b[0;34m\u001b[0m\u001b[0m\n\u001b[1;32m    548\u001b[0m         \u001b[0;32mif\u001b[0m \u001b[0mq\u001b[0m \u001b[0;34m==\u001b[0m \u001b[0;36m0\u001b[0m \u001b[0;32mand\u001b[0m \u001b[0mp\u001b[0m \u001b[0;34m!=\u001b[0m \u001b[0;36m0\u001b[0m\u001b[0;34m:\u001b[0m\u001b[0;34m\u001b[0m\u001b[0;34m\u001b[0m\u001b[0m\n\u001b[0;32m--> 549\u001b[0;31m             \u001b[0marcoefs\u001b[0m \u001b[0;34m=\u001b[0m \u001b[0myule_walker\u001b[0m\u001b[0;34m(\u001b[0m\u001b[0mendog\u001b[0m\u001b[0;34m,\u001b[0m \u001b[0morder\u001b[0m\u001b[0;34m=\u001b[0m\u001b[0mp\u001b[0m\u001b[0;34m)\u001b[0m\u001b[0;34m[\u001b[0m\u001b[0;36m0\u001b[0m\u001b[0;34m]\u001b[0m\u001b[0;34m\u001b[0m\u001b[0;34m\u001b[0m\u001b[0m\n\u001b[0m\u001b[1;32m    550\u001b[0m             \u001b[0mstart_params\u001b[0m\u001b[0;34m[\u001b[0m\u001b[0mk\u001b[0m\u001b[0;34m:\u001b[0m\u001b[0mk\u001b[0m \u001b[0;34m+\u001b[0m \u001b[0mp\u001b[0m\u001b[0;34m]\u001b[0m \u001b[0;34m=\u001b[0m \u001b[0marcoefs\u001b[0m\u001b[0;34m\u001b[0m\u001b[0;34m\u001b[0m\u001b[0m\n\u001b[1;32m    551\u001b[0m \u001b[0;34m\u001b[0m\u001b[0m\n",
      "\u001b[0;32m~/.local/lib/python3.6/site-packages/statsmodels/regression/linear_model.py\u001b[0m in \u001b[0;36myule_walker\u001b[0;34m(x, order, method, df, inv, demean)\u001b[0m\n\u001b[1;32m   1399\u001b[0m     \u001b[0mR\u001b[0m \u001b[0;34m=\u001b[0m \u001b[0mtoeplitz\u001b[0m\u001b[0;34m(\u001b[0m\u001b[0mr\u001b[0m\u001b[0;34m[\u001b[0m\u001b[0;34m:\u001b[0m\u001b[0;34m-\u001b[0m\u001b[0;36m1\u001b[0m\u001b[0;34m]\u001b[0m\u001b[0;34m)\u001b[0m\u001b[0;34m\u001b[0m\u001b[0;34m\u001b[0m\u001b[0m\n\u001b[1;32m   1400\u001b[0m \u001b[0;34m\u001b[0m\u001b[0m\n\u001b[0;32m-> 1401\u001b[0;31m     \u001b[0mrho\u001b[0m \u001b[0;34m=\u001b[0m \u001b[0mnp\u001b[0m\u001b[0;34m.\u001b[0m\u001b[0mlinalg\u001b[0m\u001b[0;34m.\u001b[0m\u001b[0msolve\u001b[0m\u001b[0;34m(\u001b[0m\u001b[0mR\u001b[0m\u001b[0;34m,\u001b[0m \u001b[0mr\u001b[0m\u001b[0;34m[\u001b[0m\u001b[0;36m1\u001b[0m\u001b[0;34m:\u001b[0m\u001b[0;34m]\u001b[0m\u001b[0;34m)\u001b[0m\u001b[0;34m\u001b[0m\u001b[0;34m\u001b[0m\u001b[0m\n\u001b[0m\u001b[1;32m   1402\u001b[0m     \u001b[0msigmasq\u001b[0m \u001b[0;34m=\u001b[0m \u001b[0mr\u001b[0m\u001b[0;34m[\u001b[0m\u001b[0;36m0\u001b[0m\u001b[0;34m]\u001b[0m \u001b[0;34m-\u001b[0m \u001b[0;34m(\u001b[0m\u001b[0mr\u001b[0m\u001b[0;34m[\u001b[0m\u001b[0;36m1\u001b[0m\u001b[0;34m:\u001b[0m\u001b[0;34m]\u001b[0m\u001b[0;34m*\u001b[0m\u001b[0mrho\u001b[0m\u001b[0;34m)\u001b[0m\u001b[0;34m.\u001b[0m\u001b[0msum\u001b[0m\u001b[0;34m(\u001b[0m\u001b[0;34m)\u001b[0m\u001b[0;34m\u001b[0m\u001b[0;34m\u001b[0m\u001b[0m\n\u001b[1;32m   1403\u001b[0m     \u001b[0;32mif\u001b[0m \u001b[0minv\u001b[0m\u001b[0;34m:\u001b[0m\u001b[0;34m\u001b[0m\u001b[0;34m\u001b[0m\u001b[0m\n",
      "\u001b[0;32m<__array_function__ internals>\u001b[0m in \u001b[0;36msolve\u001b[0;34m(*args, **kwargs)\u001b[0m\n",
      "\u001b[0;32m~/.local/lib/python3.6/site-packages/numpy/linalg/linalg.py\u001b[0m in \u001b[0;36msolve\u001b[0;34m(a, b)\u001b[0m\n\u001b[1;32m    397\u001b[0m     \u001b[0msignature\u001b[0m \u001b[0;34m=\u001b[0m \u001b[0;34m'DD->D'\u001b[0m \u001b[0;32mif\u001b[0m \u001b[0misComplexType\u001b[0m\u001b[0;34m(\u001b[0m\u001b[0mt\u001b[0m\u001b[0;34m)\u001b[0m \u001b[0;32melse\u001b[0m \u001b[0;34m'dd->d'\u001b[0m\u001b[0;34m\u001b[0m\u001b[0;34m\u001b[0m\u001b[0m\n\u001b[1;32m    398\u001b[0m     \u001b[0mextobj\u001b[0m \u001b[0;34m=\u001b[0m \u001b[0mget_linalg_error_extobj\u001b[0m\u001b[0;34m(\u001b[0m\u001b[0m_raise_linalgerror_singular\u001b[0m\u001b[0;34m)\u001b[0m\u001b[0;34m\u001b[0m\u001b[0;34m\u001b[0m\u001b[0m\n\u001b[0;32m--> 399\u001b[0;31m     \u001b[0mr\u001b[0m \u001b[0;34m=\u001b[0m \u001b[0mgufunc\u001b[0m\u001b[0;34m(\u001b[0m\u001b[0ma\u001b[0m\u001b[0;34m,\u001b[0m \u001b[0mb\u001b[0m\u001b[0;34m,\u001b[0m \u001b[0msignature\u001b[0m\u001b[0;34m=\u001b[0m\u001b[0msignature\u001b[0m\u001b[0;34m,\u001b[0m \u001b[0mextobj\u001b[0m\u001b[0;34m=\u001b[0m\u001b[0mextobj\u001b[0m\u001b[0;34m)\u001b[0m\u001b[0;34m\u001b[0m\u001b[0;34m\u001b[0m\u001b[0m\n\u001b[0m\u001b[1;32m    400\u001b[0m \u001b[0;34m\u001b[0m\u001b[0m\n\u001b[1;32m    401\u001b[0m     \u001b[0;32mreturn\u001b[0m \u001b[0mwrap\u001b[0m\u001b[0;34m(\u001b[0m\u001b[0mr\u001b[0m\u001b[0;34m.\u001b[0m\u001b[0mastype\u001b[0m\u001b[0;34m(\u001b[0m\u001b[0mresult_t\u001b[0m\u001b[0;34m,\u001b[0m \u001b[0mcopy\u001b[0m\u001b[0;34m=\u001b[0m\u001b[0;32mFalse\u001b[0m\u001b[0;34m)\u001b[0m\u001b[0;34m)\u001b[0m\u001b[0;34m\u001b[0m\u001b[0;34m\u001b[0m\u001b[0m\n",
      "\u001b[0;32m~/.local/lib/python3.6/site-packages/numpy/linalg/linalg.py\u001b[0m in \u001b[0;36m_raise_linalgerror_singular\u001b[0;34m(err, flag)\u001b[0m\n\u001b[1;32m     95\u001b[0m \u001b[0;34m\u001b[0m\u001b[0m\n\u001b[1;32m     96\u001b[0m \u001b[0;32mdef\u001b[0m \u001b[0m_raise_linalgerror_singular\u001b[0m\u001b[0;34m(\u001b[0m\u001b[0merr\u001b[0m\u001b[0;34m,\u001b[0m \u001b[0mflag\u001b[0m\u001b[0;34m)\u001b[0m\u001b[0;34m:\u001b[0m\u001b[0;34m\u001b[0m\u001b[0;34m\u001b[0m\u001b[0m\n\u001b[0;32m---> 97\u001b[0;31m     \u001b[0;32mraise\u001b[0m \u001b[0mLinAlgError\u001b[0m\u001b[0;34m(\u001b[0m\u001b[0;34m\"Singular matrix\"\u001b[0m\u001b[0;34m)\u001b[0m\u001b[0;34m\u001b[0m\u001b[0;34m\u001b[0m\u001b[0m\n\u001b[0m\u001b[1;32m     98\u001b[0m \u001b[0;34m\u001b[0m\u001b[0m\n\u001b[1;32m     99\u001b[0m \u001b[0;32mdef\u001b[0m \u001b[0m_raise_linalgerror_nonposdef\u001b[0m\u001b[0;34m(\u001b[0m\u001b[0merr\u001b[0m\u001b[0;34m,\u001b[0m \u001b[0mflag\u001b[0m\u001b[0;34m)\u001b[0m\u001b[0;34m:\u001b[0m\u001b[0;34m\u001b[0m\u001b[0;34m\u001b[0m\u001b[0m\n",
      "\u001b[0;31mLinAlgError\u001b[0m: Singular matrix"
     ]
    }
   ],
   "source": [
    "#arima_train.plot()\n",
    "#arima_train.describe()\n",
    "#arima_train\n",
    "\n",
    "#ARIMA(p,d,q)\n",
    "#We use plot_acf to identify parameter q for ARIMA\n",
    "#plot_acf(arima_train)\n",
    "# p -> 0  \n",
    "\n",
    "#We use plot_pacf to identify p parameter\n",
    "#plot_pacf(arima_train)\n",
    "# p -> 1,2\n",
    "\n",
    "def predictValuesARIMA(X):\n",
    "    \n",
    "    size = int(len(X) * 0.80)\n",
    "    Atrain, Atest = X[0:size], X[size:len(X)]\n",
    "\n",
    "    #In every iteration append predected value \n",
    "\n",
    "    history = [x for x in Atrain]\n",
    "    predictions = list()\n",
    "\n",
    "    for t in range(len(Atest)):\n",
    "        model = ARIMA(history, order=(1,2,0))\n",
    "        model_fit = model.fit(disp=0)\n",
    "        output = model_fit.forecast()\n",
    "        yhat = output[0]\n",
    "        predictions.append(yhat)\n",
    "        obs = Atest[t]\n",
    "        history.append(obs)\n",
    "        print('predicted=%f, expected=%f' % (yhat, obs))\n",
    "\n",
    "    error = mean_squared_error(Atest, predictions)\n",
    "    print('Test MSE: %.3f' % np.sqrt(error))\n",
    "    # plot\n",
    "    plt.plot(Atest)\n",
    "    plt.plot(predictions, color='red')\n",
    "    plt.show()\n",
    "    return history\n",
    "print(type(arima_train))\n",
    "\n",
    "for i in range(1, len(arima_train.columns)):\n",
    "    print(\"ISPIS\")\n",
    "    predictValuesARIMA(arima_train.iloc[:,i].values) \n"
   ]
  },
  {
   "cell_type": "code",
   "execution_count": null,
   "metadata": {},
   "outputs": [],
   "source": []
  },
  {
   "cell_type": "code",
   "execution_count": null,
   "metadata": {},
   "outputs": [],
   "source": []
  }
 ],
 "metadata": {
  "kernelspec": {
   "display_name": "Python 3",
   "language": "python",
   "name": "python3"
  },
  "language_info": {
   "codemirror_mode": {
    "name": "ipython",
    "version": 3
   },
   "file_extension": ".py",
   "mimetype": "text/x-python",
   "name": "python",
   "nbconvert_exporter": "python",
   "pygments_lexer": "ipython3",
   "version": "3.6.9"
  }
 },
 "nbformat": 4,
 "nbformat_minor": 4
}
